{
 "cells": [
  {
   "cell_type": "markdown",
   "metadata": {},
   "source": [
    "# Invert models using GA"
   ]
  },
  {
   "cell_type": "markdown",
   "metadata": {},
   "source": [
    "Let's see if GA can work better with the ints and constraints than the PSO"
   ]
  },
  {
   "cell_type": "code",
   "execution_count": 1,
   "metadata": {},
   "outputs": [],
   "source": [
    "import numpy as np \n",
    "from geneticalgorithm import geneticalgorithm as ga\n",
    "import pandas as pd\n",
    "import os \n",
    "from lightgbm import LGBMRegressor\n",
    "from sklearn.model_selection import train_test_split\n",
    "DATADIR = '../data'\n",
    "import sys \n",
    "sys.path.append('../')\n",
    "\n",
    "from dispersant_screener.utils import plot_parity\n",
    "from dispersant_screener.smiles2feat import get_smiles\n",
    "# Some more magic so that the notebook will reload external python modules;\n",
    "# see http://stackoverflow.com/questions/1907993/autoreload-of-modules-in-ipython\n",
    "%load_ext autoreload\n",
    "%autoreload 2"
   ]
  },
  {
   "cell_type": "code",
   "execution_count": 2,
   "metadata": {},
   "outputs": [],
   "source": [
    "FEATURES = [\n",
    "     'max_[Ta]',  'max_[W]', 'max_[R]', 'max_[Tr]', '[W]', '[Tr]', '[Ta]', '[R]',  'length'\n",
    "]"
   ]
  },
  {
   "cell_type": "code",
   "execution_count": 3,
   "metadata": {},
   "outputs": [],
   "source": [
    "FEAT_DICT = dict(zip(FEATURES, range(len(FEATURES))))"
   ]
  },
  {
   "cell_type": "code",
   "execution_count": 4,
   "metadata": {},
   "outputs": [],
   "source": [
    "BEAD_INDICES = [\n",
    "    FEAT_DICT['[W]'], FEAT_DICT['[Ta]'], FEAT_DICT['[Tr]'], FEAT_DICT['[R]'], FEAT_DICT['length']\n",
    "]"
   ]
  },
  {
   "cell_type": "code",
   "execution_count": 5,
   "metadata": {},
   "outputs": [],
   "source": [
    "df_full_factorial_feat = pd.read_csv(os.path.join(DATADIR, 'new_features_full_random.csv'))[FEATURES].values\n",
    "a2 = pd.read_csv(os.path.join(DATADIR, 'b1-b21_random_virial_large_new.csv'))['A2_normalized'].values\n",
    "deltaGMax = pd.read_csv(os.path.join(DATADIR, 'b1-b21_random_virial_large_new.csv'))['A2_normalized'].values\n",
    "gibbs = pd.read_csv(os.path.join(DATADIR, 'b1-b21_random_deltaG.csv'))['deltaGmin'].values\n",
    "gibbs_max = pd.read_csv(os.path.join(DATADIR, 'b1-b21_random_virial_large_new.csv'))['deltaGmax'].values\n",
    "force_max = pd.read_csv(os.path.join(DATADIR, 'b1-b21_random_virial_large_fit2.csv'))['F_repel_max'].values\n",
    "rg = pd.read_csv(os.path.join(DATADIR, 'rg_results.csv'))['Rg'].values\n",
    "y = np.hstack([\n",
    "    rg.reshape(-1, 1),\n",
    "    gibbs.reshape(-1, 1),\n",
    "    gibbs_max.reshape(-1, 1),\n",
    "    force_max.reshape(-1, 1),\n",
    "    deltaGMax.reshape(-1, 1),\n",
    "    a2.reshape(-1, 1)\n",
    "])\n",
    "assert len(df_full_factorial_feat) == len(a2) == len(gibbs) == len(y)"
   ]
  },
  {
   "cell_type": "code",
   "execution_count": 6,
   "metadata": {},
   "outputs": [
    {
     "name": "stdout",
     "output_type": "stream",
     "text": [
      "max_[Ta]\n",
      "max_[W]\n",
      "max_[R]\n",
      "max_[Tr]\n",
      "[W]\n",
      "[Tr]\n",
      "[Ta]\n",
      "[R]\n",
      "length\n"
     ]
    }
   ],
   "source": [
    "lb = []\n",
    "ub = []\n",
    "vartype = []\n",
    "\n",
    "for feat in FEATURES: \n",
    "    print(feat)\n",
    "    if 'head' in feat:\n",
    "        lb.append(0)\n",
    "        ub.append(2)\n",
    "        vartype.append(['int'])\n",
    "    elif feat == 'length': \n",
    "        lb.append(16)\n",
    "        ub.append(48)\n",
    "        vartype.append(['int'])\n",
    "    elif 'max' in feat: \n",
    "        lb.append(0)\n",
    "        ub.append(32)\n",
    "        vartype.append(['int'])\n",
    "    else: \n",
    "        lb.append(0)\n",
    "        ub.append(1)\n",
    "        vartype.append(['real'])"
   ]
  },
  {
   "cell_type": "code",
   "execution_count": 7,
   "metadata": {},
   "outputs": [],
   "source": [
    "target = y[:,1] * -1"
   ]
  },
  {
   "cell_type": "code",
   "execution_count": 8,
   "metadata": {},
   "outputs": [
    {
     "data": {
      "text/plain": [
       "[['int'],\n",
       " ['int'],\n",
       " ['int'],\n",
       " ['int'],\n",
       " ['real'],\n",
       " ['real'],\n",
       " ['real'],\n",
       " ['real'],\n",
       " ['int']]"
      ]
     },
     "execution_count": 8,
     "metadata": {},
     "output_type": "execute_result"
    }
   ],
   "source": [
    "vartype"
   ]
  },
  {
   "cell_type": "code",
   "execution_count": 9,
   "metadata": {},
   "outputs": [],
   "source": [
    "bounds = list(zip(lb, ub))"
   ]
  },
  {
   "cell_type": "code",
   "execution_count": 10,
   "metadata": {},
   "outputs": [],
   "source": [
    "def constrain_cluster(x): \n",
    "    pentalty = 0\n",
    "    if x[FEAT_DICT['max_[W]']] > x[FEAT_DICT['[W]']] * x[FEAT_DICT['length']]: \n",
    "        pentalty += 30\n",
    "    if x[FEAT_DICT['max_[Ta]']] > x[FEAT_DICT['[Ta]']] * x[FEAT_DICT['length']]: \n",
    "        pentalty += 30\n",
    "    if x[FEAT_DICT['max_[Tr]']] > x[FEAT_DICT['[Tr]']] * x[FEAT_DICT['length']]: \n",
    "        pentalty += 30\n",
    "    if x[FEAT_DICT['max_[R]']] > x[FEAT_DICT['[R]']] * x[FEAT_DICT['length']]: \n",
    "        pentalty += 30\n",
    "    \n",
    "    return pentalty"
   ]
  },
  {
   "cell_type": "code",
   "execution_count": 11,
   "metadata": {},
   "outputs": [],
   "source": [
    "def constrain_validity(x): \n",
    "    smiles = get_smiles(dict(zip(FEATURES, x)), 1, 10)\n",
    "    if smiles: \n",
    "        return -5\n",
    "    else: \n",
    "        return 50"
   ]
  },
  {
   "cell_type": "code",
   "execution_count": 12,
   "metadata": {},
   "outputs": [],
   "source": [
    "def constrain_length(x): \n",
    "    w = x[FEAT_DICT['[W]']]\n",
    "    tr =x[FEAT_DICT['[Tr]']] \n",
    "    ta = x[FEAT_DICT['[Ta]']]\n",
    "    r = x[FEAT_DICT['[R]']] \n",
    "\n",
    "    feat_length = x[FEAT_DICT['length']]\n",
    "    length = round(w*feat_length) + round(tr*feat_length) + round(ta*feat_length) + round(r*feat_length)\n",
    "    if length != feat_length:\n",
    "        return 100\n",
    "\n",
    "    return 0"
   ]
  },
  {
   "cell_type": "code",
   "execution_count": 13,
   "metadata": {},
   "outputs": [],
   "source": [
    "def objective(x):\n",
    "    y = MODEL.predict(x.reshape(1,-1))\n",
    "    \n",
    "    regularize_cluster = constrain_cluster(x)\n",
    "#     regularize_length = constrain_length(x)\n",
    "    regularize_validity = constrain_validity(x)\n",
    "    regularizer_noverly = 1/ (np.min(np.linalg.norm(x - X_train, axis=1)))**2\n",
    "    \n",
    "    return - y +  regularizer_noverly + regularize_validity + regularize_cluster"
   ]
  },
  {
   "cell_type": "code",
   "execution_count": 14,
   "metadata": {},
   "outputs": [],
   "source": [
    "# https://app.wandb.ai/kjappelbaum/dispersant_screener/runs/wog4qfb2/overview?workspace=user-kjappelbaum\n",
    "config_1 ={\n",
    "    \"max_depth\":  73,\n",
    "    \"reg_alpha\": 1.392732983015451,\n",
    "    \"subsample\":  0.5009306968568509,\n",
    "    \"num_leaves\":  6,\n",
    "    \"reg_lambda\": 1.0595847294980203,\n",
    "    \"n_estimators\":  461,\n",
    "    \"colsample_bytree\": 0.966043658485258,\n",
    "    \"min_child_weight\": 0.0039362945584385705\n",
    "}"
   ]
  },
  {
   "cell_type": "code",
   "execution_count": 15,
   "metadata": {},
   "outputs": [],
   "source": [
    "X_train, X_test, y_train, y_test = train_test_split(df_full_factorial_feat, target, train_size=0.8)\n"
   ]
  },
  {
   "cell_type": "code",
   "execution_count": 16,
   "metadata": {},
   "outputs": [],
   "source": [
    "lgbm_1 = LGBMRegressor(**config_1)"
   ]
  },
  {
   "cell_type": "code",
   "execution_count": 17,
   "metadata": {},
   "outputs": [
    {
     "data": {
      "text/plain": [
       "LGBMRegressor(boosting_type='gbdt', class_weight=None,\n",
       "              colsample_bytree=0.966043658485258, importance_type='split',\n",
       "              learning_rate=0.1, max_depth=73, min_child_samples=20,\n",
       "              min_child_weight=0.0039362945584385705, min_split_gain=0.0,\n",
       "              n_estimators=461, n_jobs=-1, num_leaves=6, objective=None,\n",
       "              random_state=None, reg_alpha=1.392732983015451,\n",
       "              reg_lambda=1.0595847294980203, silent=True,\n",
       "              subsample=0.5009306968568509, subsample_for_bin=200000,\n",
       "              subsample_freq=0)"
      ]
     },
     "execution_count": 17,
     "metadata": {},
     "output_type": "execute_result"
    }
   ],
   "source": [
    "lgbm_1.fit(X_train, y_train)"
   ]
  },
  {
   "cell_type": "code",
   "execution_count": 18,
   "metadata": {},
   "outputs": [],
   "source": [
    "MODEL = lgbm_1 "
   ]
  },
  {
   "cell_type": "code",
   "execution_count": 23,
   "metadata": {},
   "outputs": [
    {
     "name": "stdout",
     "output_type": "stream",
     "text": [
      " The best solution found:                                                                           \n",
      " [1.70000000e+01 1.70000000e+01 2.00000000e+00 0.00000000e+00\n",
      " 3.55031646e-01 1.04375125e-02 4.26872775e-01 2.12398823e-01\n",
      " 4.80000000e+01]\n",
      "\n",
      " Objective function:\n",
      " -19.57645441118771\n"
     ]
    },
    {
     "data": {
      "image/png": "[encoded data removed]",
      "text/plain": [
       "<Figure size 432x288 with 1 Axes>"
      ]
     },
     "metadata": {
      "needs_background": "light"
     },
     "output_type": "display_data"
    },
    {
     "name": "stdout",
     "output_type": "stream",
     "text": [
      " The best solution found:                                                                           \n",
      " [5.00000000e+00 5.00000000e+00 2.30000000e+01 0.00000000e+00\n",
      " 1.04315643e-01 2.81851565e-04 3.43740595e-01 5.72171782e-01\n",
      " 4.80000000e+01]\n",
      "\n",
      " Objective function:\n",
      " -26.429673719338705\n"
     ]
    },
    {
     "data": {
      "image/png": "[encoded data removed]",
      "text/plain": [
       "<Figure size 432x288 with 1 Axes>"
      ]
     },
     "metadata": {
      "needs_background": "light"
     },
     "output_type": "display_data"
    },
    {
     "name": "stdout",
     "output_type": "stream",
     "text": [
      " The best solution found:                                                                           \n",
      " [4.00000000e+00 4.00000000e+00 2.00000000e+01 2.00000000e+00\n",
      " 8.33942922e-02 4.20007653e-02 3.43536588e-01 5.51830713e-01\n",
      " 4.80000000e+01]\n",
      "\n",
      " Objective function:\n",
      " -26.197577663909282\n"
     ]
    },
    {
     "data": {
      "image/png": "[encoded data removed]",
      "text/plain": [
       "<Figure size 432x288 with 1 Axes>"
      ]
     },
     "metadata": {
      "needs_background": "light"
     },
     "output_type": "display_data"
    },
    {
     "name": "stdout",
     "output_type": "stream",
     "text": [
      " The best solution found:                                                                           \n",
      " [5.00000000e+00 5.00000000e+00 2.10000000e+01 0.00000000e+00\n",
      " 1.04221955e-01 1.06913623e-02 3.85379688e-01 5.10413731e-01\n",
      " 4.80000000e+01]\n",
      "\n",
      " Objective function:\n",
      " -26.488788756688308\n"
     ]
    },
    {
     "data": {
      "image/png": "[encoded data removed]",
      "text/plain": [
       "<Figure size 432x288 with 1 Axes>"
      ]
     },
     "metadata": {
      "needs_background": "light"
     },
     "output_type": "display_data"
    },
    {
     "name": "stdout",
     "output_type": "stream",
     "text": [
      " The best solution found:                                                                           \n",
      " [5.00000000e+00 5.00000000e+00 1.80000000e+01 0.00000000e+00\n",
      " 1.04284039e-01 1.04281144e-02 4.47784365e-01 4.47878825e-01\n",
      " 4.80000000e+01]\n",
      "\n",
      " Objective function:\n",
      " -26.559841822508567\n"
     ]
    },
    {
     "data": {
      "image/png": "[encoded data removed]",
      "text/plain": [
       "<Figure size 432x288 with 1 Axes>"
      ]
     },
     "metadata": {
      "needs_background": "light"
     },
     "output_type": "display_data"
    }
   ],
   "source": [
    "ga_models = []\n",
    "\n",
    "for i in range(5):\n",
    "\n",
    "    model=ga(function=objective,dimension=len(FEATURES),\n",
    "             variable_type_mixed=np.array(vartype),\n",
    "             variable_boundaries=np.array(bounds), algorithm_parameters={'max_num_iteration': 5000, \n",
    "                                                                         'elit_ratio': 0.02,\n",
    "                                                                        'population_size':100,\n",
    "                                                                       'mutation_probability':0.1,\n",
    "                                                                       'crossover_probability': 0.5,\n",
    "                                                                       'parents_portion': 0.3,\n",
    "                                                                       'crossover_type':'uniform',\n",
    "                                                                       'max_iteration_without_improv':None\n",
    "                                                                        })\n",
    "    model.run()\n",
    "    ga_models.append(model)"
   ]
  },
  {
   "cell_type": "code",
   "execution_count": 20,
   "metadata": {},
   "outputs": [
    {
     "name": "stdout",
     "output_type": "stream",
     "text": [
      " The best solution found:                                                                           \n",
      " [7.00000000e+00 7.00000000e+00 3.00000000e+00 0.00000000e+00\n",
      " 1.45871058e-01 5.84188600e-05 4.68162567e-01 4.05339592e-01\n",
      " 4.80000000e+01]\n",
      "\n",
      " Objective function:\n",
      " -26.16851874961442\n"
     ]
    },
    {
     "data": {
      "image/png": "[encoded data removed]",
      "text/plain": [
       "<Figure size 432x288 with 1 Axes>"
      ]
     },
     "metadata": {
      "needs_background": "light"
     },
     "output_type": "display_data"
    }
   ],
   "source": [
    "model.run()"
   ]
  },
  {
   "cell_type": "code",
   "execution_count": 228,
   "metadata": {},
   "outputs": [
    {
     "data": {
      "text/plain": [
       "array([21.01596672])"
      ]
     },
     "execution_count": 228,
     "metadata": {},
     "output_type": "execute_result"
    }
   ],
   "source": [
    "MODEL.predict(model.best_variable.reshape(1,-1))"
   ]
  },
  {
   "cell_type": "code",
   "execution_count": 229,
   "metadata": {},
   "outputs": [
    {
     "data": {
      "text/plain": [
       "{'max_[Ta]': 3.0,\n",
       " 'max_[W]': 8.0,\n",
       " 'max_[R]': 19.0,\n",
       " 'max_[Tr]': 0.0,\n",
       " '[W]': 0.17738129610910447,\n",
       " '[Tr]': 0.031299539613836136,\n",
       " '[Ta]': 0.3853168047195254,\n",
       " '[R]': 0.40574151862335894,\n",
       " 'length': 48.0}"
      ]
     },
     "execution_count": 229,
     "metadata": {},
     "output_type": "execute_result"
    }
   ],
   "source": [
    "dict(zip(FEATURES, model.best_variable))"
   ]
  },
  {
   "cell_type": "code",
   "execution_count": 22,
   "metadata": {},
   "outputs": [
    {
     "ename": "AttributeError",
     "evalue": "'geneticalgorithm' object has no attribute 'pop'",
     "output_type": "error",
     "traceback": [
      "\u001b[0;31m---------------------------------------------------------------------------\u001b[0m",
      "\u001b[0;31mAttributeError\u001b[0m                            Traceback (most recent call last)",
      "\u001b[0;32m<ipython-input-22-b3ba941dac1e>\u001b[0m in \u001b[0;36m<module>\u001b[0;34m\u001b[0m\n\u001b[0;32m----> 1\u001b[0;31m \u001b[0mmodel\u001b[0m\u001b[0;34m.\u001b[0m\u001b[0mpop\u001b[0m\u001b[0;34m\u001b[0m\u001b[0m\n\u001b[0m",
      "\u001b[0;31mAttributeError\u001b[0m: 'geneticalgorithm' object has no attribute 'pop'"
     ]
    }
   ],
   "source": [
    "model."
   ]
  },
  {
   "cell_type": "code",
   "execution_count": null,
   "metadata": {},
   "outputs": [],
   "source": []
  }
 ],
 "metadata": {
  "kernelspec": {
   "display_name": "Python 3",
   "language": "python",
   "name": "python3"
  },
  "language_info": {
   "codemirror_mode": {
    "name": "ipython",
    "version": 3
   },
   "file_extension": ".py",
   "mimetype": "text/x-python",
   "name": "python",
   "nbconvert_exporter": "python",
   "pygments_lexer": "ipython3",
   "version": "3.7.0"
  }
 },
 "nbformat": 4,
 "nbformat_minor": 4
}
