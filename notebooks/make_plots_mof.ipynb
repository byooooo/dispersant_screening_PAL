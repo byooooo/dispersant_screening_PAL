{
 "cells": [
  {
   "cell_type": "code",
   "execution_count": 2,
   "metadata": {},
   "outputs": [],
   "source": [
    "import matplotlib.pyplot as plt \n",
    "%matplotlib inline\n",
    "\n",
    "from dispersant_screener.utils import read_pickle, get_random_exploration_bl\n",
    "from pypal.pal.utils import get_hypervolume\n",
    "import numpy as np \n",
    "from functools import partial\n",
    "from matplotlib import animation, rc\n",
    "import pandas as pd\n",
    "\n",
    "COLORS = [\n",
    "    \"#ffbe0b\", \n",
    "    \"#fb5607\", \n",
    "    \"#ff006e\",\n",
    "    \"#3a86ff\", \n",
    "]"
   ]
  },
  {
   "cell_type": "code",
   "execution_count": 3,
   "metadata": {},
   "outputs": [],
   "source": [
    "pmof_test = pd.read_csv('../data/PMOF20K_traindata_7000_test.csv')\n",
    "pmof_train = pd.read_csv('../data/PMOF20K_traindata_7000_train.csv')\n",
    "pmof = pd.concat([pmof_test, pmof_train])\n",
    "pmof['CO2_DC'] = pmof['pure_uptake_CO2_298.00_1600000'] - pmof['pure_uptake_CO2_298.00_15000']\n",
    "y = pmof[['CO2_DC', 'CH4DC']].values"
   ]
  },
  {
   "cell_type": "code",
   "execution_count": 14,
   "metadata": {},
   "outputs": [],
   "source": [
    "discarded = np.load('../work/20201021-160549_MOF_0.05_0.05_0.05_300-discarded.npy', allow_pickle=True)\n",
    "unclassified = np.load('../work/20201021-160549_MOF_0.05_0.05_0.05_300-unclassified.npy', allow_pickle=True)\n",
    "pareto_optimal = np.load('../work/20201021-160549_MOF_0.05_0.05_0.05_300-pareto_optimal_indices.npy', allow_pickle=True)\n",
    "selected = np.load('../work/20201021-160549_MOF_0.05_0.05_0.05_300-selected.npy', allow_pickle=True)\n",
    "\n",
    "greedy_indices = np.load('../work/20201021-160549_MOF_0.05_0.05_0.05_300-greedy_indices.npy', allow_pickle=True)\n",
    "\n",
    "hvs = list(np.load('../work/20201021-160549_MOF_0.05_0.05_0.05_300-hypervolumes.npy', allow_pickle=True))"
   ]
  },
  {
   "cell_type": "code",
   "execution_count": 5,
   "metadata": {},
   "outputs": [],
   "source": [
    "def get_summary_stats_time(): \n",
    "    pareto_points = []\n",
    "    non_pareto_points = []\n",
    "    sampled_points = []\n",
    "    unclassified_points = []\n",
    "    \n",
    "    for array in pareto_optimal:\n",
    "        pareto_points.append(len(array))\n",
    "        \n",
    "    for array in discarded:\n",
    "        non_pareto_points.append(len(array))\n",
    "    \n",
    "    for array in selected:\n",
    "        sampled_points.append(len(array))\n",
    "        \n",
    "    for array in unclassified: \n",
    "        unclassified_points.append(len(array))\n",
    "    \n",
    "    return pareto_points, non_pareto_points, sampled_points, unclassified_points"
   ]
  },
  {
   "cell_type": "code",
   "execution_count": 6,
   "metadata": {},
   "outputs": [],
   "source": [
    "pareto_points, non_pareto_points, sampled_points, unclassified_points = get_summary_stats_time()"
   ]
  },
  {
   "cell_type": "code",
   "execution_count": 7,
   "metadata": {},
   "outputs": [],
   "source": [
    "REFERENCE_HV = get_hypervolume(y, [5,5])"
   ]
  },
  {
   "cell_type": "code",
   "execution_count": 10,
   "metadata": {},
   "outputs": [],
   "source": [
    "random_explorations = np.load('random_exploration_mof_case_study_300_init.npy')\n",
    "random_exploration_median = np.median(random_explorations, axis=0)\n",
    "random_exploration_std = np.std(random_explorations, axis=0)"
   ]
  },
  {
   "cell_type": "code",
   "execution_count": 11,
   "metadata": {},
   "outputs": [],
   "source": [
    "hvs_padded = np.array([hvs[0]] * 300 + hvs)"
   ]
  },
  {
   "cell_type": "code",
   "execution_count": 16,
   "metadata": {},
   "outputs": [
    {
     "name": "stderr",
     "output_type": "stream",
     "text": [
      " /Users/kevinmaikjablonka/opt/miniconda3/envs/dispersant_basf/lib/python3.7/site-packages/ipykernel_launcher.py:12: MatplotlibDeprecationWarning:\n",
      "The set_smart_bounds function was deprecated in Matplotlib 3.2 and will be removed two minor releases later.\n",
      " /Users/kevinmaikjablonka/opt/miniconda3/envs/dispersant_basf/lib/python3.7/site-packages/ipykernel_launcher.py:13: MatplotlibDeprecationWarning:\n",
      "The set_smart_bounds function was deprecated in Matplotlib 3.2 and will be removed two minor releases later.\n",
      " /Users/kevinmaikjablonka/opt/miniconda3/envs/dispersant_basf/lib/python3.7/site-packages/ipykernel_launcher.py:17: MatplotlibDeprecationWarning:\n",
      "The set_smart_bounds function was deprecated in Matplotlib 3.2 and will be removed two minor releases later.\n",
      " /Users/kevinmaikjablonka/opt/miniconda3/envs/dispersant_basf/lib/python3.7/site-packages/ipykernel_launcher.py:18: MatplotlibDeprecationWarning:\n",
      "The set_smart_bounds function was deprecated in Matplotlib 3.2 and will be removed two minor releases later.\n"
     ]
    },
    {
     "data": {
      "image/png": "[encoded data removed]",
      "text/plain": [
       "<Figure size 432x288 with 2 Axes>"
      ]
     },
     "metadata": {
      "needs_background": "light"
     },
     "output_type": "display_data"
    }
   ],
   "source": [
    "fig, ax = plt.subplots(1,2, gridspec_kw={'width_ratios': [1, 1]})\n",
    "ax[0].bar(range(len(pareto_optimal)), \n",
    "          pareto_points, \n",
    "          label='Pareto optimal', color=COLORS[3])\n",
    "ax[0].bar(range(len(pareto_optimal)), unclassified_points, bottom=pareto_points, label='unclassified', color=COLORS[0])\n",
    "ax[0].bar(range(len(pareto_optimal)), non_pareto_points, bottom=np.array(unclassified_points) + np.array(pareto_points), label='discarded', color=COLORS[1])\n",
    "ax[0].set_xlabel('iteration')\n",
    "ax[1].set_xlabel('iteration')\n",
    "ax[0].set_ylabel('number of MOFs')\n",
    "ax[1].set_ylabel('hypervolume error / %')\n",
    "\n",
    "ax[0].spines['left'].set_smart_bounds(True)\n",
    "ax[0].spines['bottom'].set_smart_bounds(True)\n",
    "ax[0].spines['right'].set_visible(False)\n",
    "ax[0].spines['top'].set_visible(False)\n",
    "\n",
    "ax[1].spines['left'].set_smart_bounds(True)\n",
    "ax[1].spines['bottom'].set_smart_bounds(True)\n",
    "ax[1].spines['right'].set_visible(False)\n",
    "ax[1].spines['top'].set_visible(False)\n",
    "\n",
    "ax[1].plot((REFERENCE_HV-hvs)/REFERENCE_HV * 100, label=r'$\\epsilon=0.05$-PAL', c='black')\n",
    "#ax[1].plot((REFERENCE_HV-hvs_b_padded)/REFERENCE_HV * 100, label=r'$\\epsilon=0.1$-PAL', c='black', ls='dotted')\n",
    "\n",
    "ax[1].plot((REFERENCE_HV-np.array(random_exploration_median))/REFERENCE_HV * 100, \n",
    "           label='random (median)', c=COLORS[1])\n",
    "ax[1].fill_between(np.arange(len(y)),\n",
    "                   (REFERENCE_HV-np.array(random_exploration_median + random_exploration_std))/REFERENCE_HV * 100, (REFERENCE_HV-np.array(random_exploration_median - random_exploration_std))/REFERENCE_HV * 100, \n",
    "                   label=r'random (1 $\\sigma$)', color=COLORS[1], alpha=.5)\n",
    "#ax[1].plot(ratios)\n",
    "ax[1].legend(loc='lower left')\n",
    "\n",
    "fig.tight_layout()\n",
    "\n",
    "ax[0].set_yscale('log')\n",
    "ax[1].set_xscale('log')\n",
    "\n",
    "ax[0].legend(loc='right', bbox_to_anchor=(0.9,0.8))\n",
    "\n",
    "fig.savefig('mof_case_study.pdf', bbox_inches='tight')"
   ]
  },
  {
   "cell_type": "code",
   "execution_count": 38,
   "metadata": {},
   "outputs": [
    {
     "data": {
      "text/plain": [
       "<matplotlib.collections.PathCollection at 0x7feb67c970f0>"
      ]
     },
     "execution_count": 38,
     "metadata": {},
     "output_type": "execute_result"
    },
    {
     "data": {
      "image/png": "[encoded data removed]",
      "text/plain": [
       "<Figure size 432x288 with 1 Axes>"
      ]
     },
     "metadata": {
      "needs_background": "light"
     },
     "output_type": "display_data"
    }
   ],
   "source": [
    "plt.scatter(y[:,0], y[:,1])\n",
    "plt.scatter(y[pareto_optimal[-1],0], y[pareto_optimal[-1],1])"
   ]
  },
  {
   "cell_type": "code",
   "execution_count": 40,
   "metadata": {},
   "outputs": [
    {
     "data": {
      "text/plain": [
       "array([  378,  5726,  8180, 13349, 13567])"
      ]
     },
     "execution_count": 40,
     "metadata": {},
     "output_type": "execute_result"
    }
   ],
   "source": [
    "pareto_optimal[-1]"
   ]
  },
  {
   "cell_type": "code",
   "execution_count": null,
   "metadata": {},
   "outputs": [],
   "source": []
  }
 ],
 "metadata": {
  "kernelspec": {
   "display_name": "Python 3",
   "language": "python",
   "name": "python3"
  },
  "language_info": {
   "codemirror_mode": {
    "name": "ipython",
    "version": 3
   },
   "file_extension": ".py",
   "mimetype": "text/x-python",
   "name": "python",
   "nbconvert_exporter": "python",
   "pygments_lexer": "ipython3",
   "version": "3.7.0"
  }
 },
 "nbformat": 4,
 "nbformat_minor": 4
}
