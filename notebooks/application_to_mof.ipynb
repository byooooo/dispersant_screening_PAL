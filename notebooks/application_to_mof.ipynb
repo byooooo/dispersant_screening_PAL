{
 "cells": [
  {
   "cell_type": "markdown",
   "metadata": {},
   "source": [
    "# Find the CO2 capture Pareto front"
   ]
  },
  {
   "cell_type": "code",
   "execution_count": 36,
   "metadata": {},
   "outputs": [],
   "source": [
    "import pandas as pd \n",
    "from sklearn.preprocessing import StandardScaler\n",
    "from sklearn.feature_selection import VarianceThreshold\n",
    "import GPy\n",
    "import matplotlib.pyplot as plt \n",
    "%matplotlib inline\n",
    "\n",
    "from dispersant_screener.gp import build_model, build_coregionalized_model, predict_coregionalized, set_xy_coregionalized\n",
    "from dispersant_screener.pal import pal\n",
    "from dispersant_screener.utils import get_kmeans_samples, get_maxmin_samples\n",
    "\n",
    "import numpy as np"
   ]
  },
  {
   "cell_type": "code",
   "execution_count": 37,
   "metadata": {},
   "outputs": [],
   "source": [
    "other_descriptors = ['CellV [A^3]']\n",
    "\n",
    "geometric_descirptors = [\n",
    " 'Di',\n",
    " 'Df',\n",
    " 'Dif',\n",
    " 'density [g/cm^3]',\n",
    " 'total_SA_volumetric',\n",
    " 'total_SA_gravimetric',\n",
    " 'total_POV_volumetric',\n",
    " 'total_POV_gravimetric'\n",
    " ]\n",
    "\n",
    "linker_descriptors = [\n",
    " 'f-lig-chi-0',\n",
    " 'f-lig-chi-1',\n",
    " 'f-lig-chi-2',\n",
    " 'f-lig-chi-3',\n",
    " 'f-lig-Z-0',\n",
    " 'f-lig-Z-1',\n",
    " 'f-lig-Z-2',\n",
    " 'f-lig-Z-3',\n",
    " 'f-lig-I-0',\n",
    " 'f-lig-I-1',\n",
    " 'f-lig-I-2',\n",
    " 'f-lig-I-3',\n",
    " 'f-lig-T-0',\n",
    " 'f-lig-T-1',\n",
    " 'f-lig-T-2',\n",
    " 'f-lig-T-3',\n",
    " 'f-lig-S-0',\n",
    " 'f-lig-S-1',\n",
    " 'f-lig-S-2',\n",
    " 'f-lig-S-3',\n",
    " 'lc-chi-0-all',\n",
    " 'lc-chi-1-all',\n",
    " 'lc-chi-2-all',\n",
    " 'lc-chi-3-all',\n",
    " 'lc-Z-0-all',\n",
    " 'lc-Z-1-all',\n",
    " 'lc-Z-2-all',\n",
    " 'lc-Z-3-all',\n",
    " 'lc-I-0-all',\n",
    " 'lc-I-1-all',\n",
    " 'lc-I-2-all',\n",
    " 'lc-I-3-all',\n",
    " 'lc-T-0-all',\n",
    " 'lc-T-1-all',\n",
    " 'lc-T-2-all',\n",
    " 'lc-T-3-all',\n",
    " 'lc-S-0-all',\n",
    " 'lc-S-1-all',\n",
    " 'lc-S-2-all',\n",
    " 'lc-S-3-all',\n",
    " 'lc-alpha-0-all',\n",
    " 'lc-alpha-1-all',\n",
    " 'lc-alpha-2-all',\n",
    " 'lc-alpha-3-all',\n",
    " 'D_lc-chi-0-all',\n",
    " 'D_lc-chi-1-all',\n",
    " 'D_lc-chi-2-all',\n",
    " 'D_lc-chi-3-all',\n",
    " 'D_lc-Z-0-all',\n",
    " 'D_lc-Z-1-all',\n",
    " 'D_lc-Z-2-all',\n",
    " 'D_lc-Z-3-all',\n",
    " 'D_lc-I-0-all',\n",
    " 'D_lc-I-1-all',\n",
    " 'D_lc-I-2-all',\n",
    " 'D_lc-I-3-all',\n",
    " 'D_lc-T-0-all',\n",
    " 'D_lc-T-1-all',\n",
    " 'D_lc-T-2-all',\n",
    " 'D_lc-T-3-all',\n",
    " 'D_lc-S-0-all',\n",
    " 'D_lc-S-1-all',\n",
    " 'D_lc-S-2-all',\n",
    " 'D_lc-S-3-all',\n",
    " 'D_lc-alpha-0-all',\n",
    " 'D_lc-alpha-1-all',\n",
    " 'D_lc-alpha-2-all',\n",
    " 'D_lc-alpha-3-all']\n",
    "\n",
    "metalcenter_descriptors =[\n",
    " 'mc_CRY-chi-0-all',\n",
    " 'mc_CRY-chi-1-all',\n",
    " 'mc_CRY-chi-2-all',\n",
    " 'mc_CRY-chi-3-all',\n",
    " 'mc_CRY-Z-0-all',\n",
    " 'mc_CRY-Z-1-all',\n",
    " 'mc_CRY-Z-2-all',\n",
    " 'mc_CRY-Z-3-all',\n",
    " 'mc_CRY-I-0-all',\n",
    " 'mc_CRY-I-1-all',\n",
    " 'mc_CRY-I-2-all',\n",
    " 'mc_CRY-I-3-all',\n",
    " 'mc_CRY-T-0-all',\n",
    " 'mc_CRY-T-1-all',\n",
    " 'mc_CRY-T-2-all',\n",
    " 'mc_CRY-T-3-all',\n",
    " 'mc_CRY-S-0-all',\n",
    " 'mc_CRY-S-1-all',\n",
    " 'mc_CRY-S-2-all',\n",
    " 'mc_CRY-S-3-all',\n",
    " 'D_mc_CRY-chi-0-all',\n",
    " 'D_mc_CRY-chi-1-all',\n",
    " 'D_mc_CRY-chi-2-all',\n",
    " 'D_mc_CRY-chi-3-all',\n",
    " 'D_mc_CRY-Z-0-all',\n",
    " 'D_mc_CRY-Z-1-all',\n",
    " 'D_mc_CRY-Z-2-all',\n",
    " 'D_mc_CRY-Z-3-all',\n",
    " 'D_mc_CRY-I-0-all',\n",
    " 'D_mc_CRY-I-1-all',\n",
    " 'D_mc_CRY-I-2-all',\n",
    " 'D_mc_CRY-I-3-all',\n",
    " 'D_mc_CRY-T-0-all',\n",
    " 'D_mc_CRY-T-1-all',\n",
    " 'D_mc_CRY-T-2-all',\n",
    " 'D_mc_CRY-T-3-all',\n",
    " 'D_mc_CRY-S-0-all',\n",
    " 'D_mc_CRY-S-1-all',\n",
    " 'D_mc_CRY-S-2-all',\n",
    " 'D_mc_CRY-S-3-all']\n",
    "\n",
    "functionalgroup_descriptors = [\n",
    " 'func-chi-0-all',\n",
    " 'func-chi-1-all',\n",
    " 'func-chi-2-all',\n",
    " 'func-chi-3-all',\n",
    " 'func-Z-0-all',\n",
    " 'func-Z-1-all',\n",
    " 'func-Z-2-all',\n",
    " 'func-Z-3-all',\n",
    " 'func-I-0-all',\n",
    " 'func-I-1-all',\n",
    " 'func-I-2-all',\n",
    " 'func-I-3-all',\n",
    " 'func-T-0-all',\n",
    " 'func-T-1-all',\n",
    " 'func-T-2-all',\n",
    " 'func-T-3-all',\n",
    " 'func-S-0-all',\n",
    " 'func-S-1-all',\n",
    " 'func-S-2-all',\n",
    " 'func-S-3-all',\n",
    " 'func-alpha-0-all',\n",
    " 'func-alpha-1-all',\n",
    " 'func-alpha-2-all',\n",
    " 'func-alpha-3-all',\n",
    " 'D_func-chi-0-all',\n",
    " 'D_func-chi-1-all',\n",
    " 'D_func-chi-2-all',\n",
    " 'D_func-chi-3-all',\n",
    " 'D_func-Z-0-all',\n",
    " 'D_func-Z-1-all',\n",
    " 'D_func-Z-2-all',\n",
    " 'D_func-Z-3-all',\n",
    " 'D_func-I-0-all',\n",
    " 'D_func-I-1-all',\n",
    " 'D_func-I-2-all',\n",
    " 'D_func-I-3-all',\n",
    " 'D_func-T-0-all',\n",
    " 'D_func-T-1-all',\n",
    " 'D_func-T-2-all',\n",
    " 'D_func-T-3-all',\n",
    " 'D_func-S-0-all',\n",
    " 'D_func-S-1-all',\n",
    " 'D_func-S-2-all',\n",
    " 'D_func-S-3-all',\n",
    " 'D_func-alpha-0-all',\n",
    " 'D_func-alpha-1-all',\n",
    " 'D_func-alpha-2-all',\n",
    " 'D_func-alpha-3-all']\n",
    "\n",
    "\n",
    "summed_linker_descriptors = [\n",
    " 'sum-f-lig-chi-0',\n",
    " 'sum-f-lig-chi-1',\n",
    " 'sum-f-lig-chi-2',\n",
    " 'sum-f-lig-chi-3',\n",
    " 'sum-f-lig-Z-0',\n",
    " 'sum-f-lig-Z-1',\n",
    " 'sum-f-lig-Z-2',\n",
    " 'sum-f-lig-Z-3',\n",
    " 'sum-f-lig-I-0',\n",
    " 'sum-f-lig-I-1',\n",
    " 'sum-f-lig-I-2',\n",
    " 'sum-f-lig-I-3',\n",
    " 'sum-f-lig-T-0',\n",
    " 'sum-f-lig-T-1',\n",
    " 'sum-f-lig-T-2',\n",
    " 'sum-f-lig-T-3',\n",
    " 'sum-f-lig-S-0',\n",
    " 'sum-f-lig-S-1',\n",
    " 'sum-f-lig-S-2',\n",
    " 'sum-f-lig-S-3',\n",
    " 'sum-lc-chi-0-all',\n",
    " 'sum-lc-chi-1-all',\n",
    " 'sum-lc-chi-2-all',\n",
    " 'sum-lc-chi-3-all',\n",
    " 'sum-lc-Z-0-all',\n",
    " 'sum-lc-Z-1-all',\n",
    " 'sum-lc-Z-2-all',\n",
    " 'sum-lc-Z-3-all',\n",
    " 'sum-lc-I-0-all',\n",
    " 'sum-lc-I-1-all',\n",
    " 'sum-lc-I-2-all',\n",
    " 'sum-lc-I-3-all',\n",
    " 'sum-lc-T-0-all',\n",
    " 'sum-lc-T-1-all',\n",
    " 'sum-lc-T-2-all',\n",
    " 'sum-lc-T-3-all',\n",
    " 'sum-lc-S-0-all',\n",
    " 'sum-lc-S-1-all',\n",
    " 'sum-lc-S-2-all',\n",
    " 'sum-lc-S-3-all',\n",
    " 'sum-lc-alpha-0-all',\n",
    " 'sum-lc-alpha-1-all',\n",
    " 'sum-lc-alpha-2-all',\n",
    " 'sum-lc-alpha-3-all',\n",
    " 'sum-D_lc-chi-0-all',\n",
    " 'sum-D_lc-chi-1-all',\n",
    " 'sum-D_lc-chi-2-all',\n",
    " 'sum-D_lc-chi-3-all',\n",
    " 'sum-D_lc-Z-0-all',\n",
    " 'sum-D_lc-Z-1-all',\n",
    " 'sum-D_lc-Z-2-all',\n",
    " 'sum-D_lc-Z-3-all',\n",
    " 'sum-D_lc-I-0-all',\n",
    " 'sum-D_lc-I-1-all',\n",
    " 'sum-D_lc-I-2-all',\n",
    " 'sum-D_lc-I-3-all',\n",
    " 'sum-D_lc-T-0-all',\n",
    " 'sum-D_lc-T-1-all',\n",
    " 'sum-D_lc-T-2-all',\n",
    " 'sum-D_lc-T-3-all',\n",
    " 'sum-D_lc-S-0-all',\n",
    " 'sum-D_lc-S-1-all',\n",
    " 'sum-D_lc-S-2-all',\n",
    " 'sum-D_lc-S-3-all',\n",
    " 'sum-D_lc-alpha-0-all',\n",
    " 'sum-D_lc-alpha-1-all',\n",
    " 'sum-D_lc-alpha-2-all',\n",
    " 'sum-D_lc-alpha-3-all']\n",
    "\n",
    "summed_metalcenter_descriptors =[\n",
    " 'sum-mc_CRY-chi-0-all',\n",
    " 'sum-mc_CRY-chi-1-all',\n",
    " 'sum-mc_CRY-chi-2-all',\n",
    " 'sum-mc_CRY-chi-3-all',\n",
    " 'sum-mc_CRY-Z-0-all',\n",
    " 'sum-mc_CRY-Z-1-all',\n",
    " 'sum-mc_CRY-Z-2-all',\n",
    " 'sum-mc_CRY-Z-3-all',\n",
    " 'sum-mc_CRY-I-0-all',\n",
    " 'sum-mc_CRY-I-1-all',\n",
    " 'sum-mc_CRY-I-2-all',\n",
    " 'sum-mc_CRY-I-3-all',\n",
    " 'sum-mc_CRY-T-0-all',\n",
    " 'sum-mc_CRY-T-1-all',\n",
    " 'sum-mc_CRY-T-2-all',\n",
    " 'sum-mc_CRY-T-3-all',\n",
    " 'sum-mc_CRY-S-0-all',\n",
    " 'sum-mc_CRY-S-1-all',\n",
    " 'sum-mc_CRY-S-2-all',\n",
    " 'sum-mc_CRY-S-3-all',\n",
    " 'sum-D_mc_CRY-chi-0-all',\n",
    " 'sum-D_mc_CRY-chi-1-all',\n",
    " 'sum-D_mc_CRY-chi-2-all',\n",
    " 'sum-D_mc_CRY-chi-3-all',\n",
    " 'sum-D_mc_CRY-Z-0-all',\n",
    " 'sum-D_mc_CRY-Z-1-all',\n",
    " 'sum-D_mc_CRY-Z-2-all',\n",
    " 'sum-D_mc_CRY-Z-3-all',\n",
    " 'sum-D_mc_CRY-I-0-all',\n",
    " 'sum-D_mc_CRY-I-1-all',\n",
    " 'sum-D_mc_CRY-I-2-all',\n",
    " 'sum-D_mc_CRY-I-3-all',\n",
    " 'sum-D_mc_CRY-T-0-all',\n",
    " 'sum-D_mc_CRY-T-1-all',\n",
    " 'sum-D_mc_CRY-T-2-all',\n",
    " 'sum-D_mc_CRY-T-3-all',\n",
    " 'sum-D_mc_CRY-S-0-all',\n",
    " 'sum-D_mc_CRY-S-1-all',\n",
    " 'sum-D_mc_CRY-S-2-all',\n",
    " 'sum-D_mc_CRY-S-3-all']\n",
    "\n",
    "summed_functionalgroup_descriptors = [\n",
    " 'sum-func-chi-0-all',\n",
    " 'sum-func-chi-1-all',\n",
    " 'sum-func-chi-2-all',\n",
    " 'sum-func-chi-3-all',\n",
    " 'sum-func-Z-0-all',\n",
    " 'sum-func-Z-1-all',\n",
    " 'sum-func-Z-2-all',\n",
    " 'sum-func-Z-3-all',\n",
    " 'sum-func-I-0-all',\n",
    " 'sum-func-I-1-all',\n",
    " 'sum-func-I-2-all',\n",
    " 'sum-func-I-3-all',\n",
    " 'sum-func-T-0-all',\n",
    " 'sum-func-T-1-all',\n",
    " 'sum-func-T-2-all',\n",
    " 'sum-func-T-3-all',\n",
    " 'sum-func-S-0-all',\n",
    " 'sum-func-S-1-all',\n",
    " 'sum-func-S-2-all',\n",
    " 'sum-func-S-3-all',\n",
    " 'sum-func-alpha-0-all',\n",
    " 'sum-func-alpha-1-all',\n",
    " 'sum-func-alpha-2-all',\n",
    " 'sum-func-alpha-3-all',\n",
    " 'sum-D_func-chi-0-all',\n",
    " 'sum-D_func-chi-1-all',\n",
    " 'sum-D_func-chi-2-all',\n",
    " 'sum-D_func-chi-3-all',\n",
    " 'sum-D_func-Z-0-all',\n",
    " 'sum-D_func-Z-1-all',\n",
    " 'sum-D_func-Z-2-all',\n",
    " 'sum-D_func-Z-3-all',\n",
    " 'sum-D_func-I-0-all',\n",
    " 'sum-D_func-I-1-all',\n",
    " 'sum-D_func-I-2-all',\n",
    " 'sum-D_func-I-3-all',\n",
    " 'sum-D_func-T-0-all',\n",
    " 'sum-D_func-T-1-all',\n",
    " 'sum-D_func-T-2-all',\n",
    " 'sum-D_func-T-3-all',\n",
    " 'sum-D_func-S-0-all',\n",
    " 'sum-D_func-S-1-all',\n",
    " 'sum-D_func-S-2-all',\n",
    " 'sum-D_func-S-3-all',\n",
    " 'sum-D_func-alpha-0-all',\n",
    " 'sum-D_func-alpha-1-all',\n",
    " 'sum-D_func-alpha-2-all',\n",
    " 'sum-D_func-alpha-3-all']\n"
   ]
  },
  {
   "cell_type": "code",
   "execution_count": 38,
   "metadata": {},
   "outputs": [],
   "source": [
    "pmof_test = pd.read_csv('/Users/kevinmaikjablonka/Dropbox (LSMO)/proj70_diversity_mohamad/PMOF20K_traindata_7000_test.csv')"
   ]
  },
  {
   "cell_type": "code",
   "execution_count": 39,
   "metadata": {},
   "outputs": [],
   "source": [
    "pmof_train = pd.read_csv('/Users/kevinmaikjablonka/Dropbox (LSMO)/proj70_diversity_mohamad/PMOF20K_traindata_7000_train.csv')"
   ]
  },
  {
   "cell_type": "code",
   "execution_count": 40,
   "metadata": {},
   "outputs": [],
   "source": [
    "pmof = pd.concat([pmof_test, pmof_train])"
   ]
  },
  {
   "cell_type": "code",
   "execution_count": 41,
   "metadata": {},
   "outputs": [],
   "source": [
    "pmof['CO2_DC'] = pmof['pure_uptake_CO2_298.00_1600000'] - pmof['pure_uptake_CO2_298.00_15000']"
   ]
  },
  {
   "cell_type": "code",
   "execution_count": 42,
   "metadata": {},
   "outputs": [],
   "source": [
    "y = pmof[['CO2_DC', 'CH4DC']].values"
   ]
  },
  {
   "cell_type": "code",
   "execution_count": 170,
   "metadata": {},
   "outputs": [],
   "source": [
    "feat = set(\n",
    "[\"func-chi-0-all\" ,\"D_func-S-3-all\", \"total_SA_volumetric\", \n",
    " \"Di\", \"Dif\", \"mc_CRY-Z-0-all\",\"total_POV_volumetric\",\"density [g/cm^3]\", \"total_SA_gravimetric\",\n",
    " \"D_func-S-1-all\",\"Df\", \"mc_CRY-S-0-all\" ,\"total_POV_gravimetric\",\"D_func-alpha-1-all\",\"func-S-0-all\",\n",
    " \"D_mc_CRY-chi-3-all\",\"D_mc_CRY-chi-1-all\",\"func-alpha-0-all\",\n",
    " \"D_mc_CRY-T-2-all\",\"mc_CRY-Z-2-all\",\"D_mc_CRY-chi-2-all\",\n",
    "\"total_SA_gravimetric\",\"total_POV_gravimetric\",\"Di\",\"density [g/cm^3]\",\n",
    " \"func-S-0-all\",\n",
    " \"func-chi-2-all\",\"func-alpha-0-all\",\n",
    " \"total_POV_volumetric\",\"D_func-alpha-1-all\",\"total_SA_volumetric\",\n",
    " \"func-alpha-1-all\",\n",
    " \"func-alpha-3-all\",\n",
    " \"Dif\",\n",
    " \"Df\",\n",
    " \"func-chi-3-all\", \n",
    "  'Di',\n",
    " 'Df',\n",
    " 'Dif',\n",
    " 'density [g/cm^3]',\n",
    " 'total_SA_volumetric',\n",
    " 'total_SA_gravimetric',\n",
    " 'total_POV_volumetric',\n",
    " 'total_POV_gravimetric'\n",
    "])"
   ]
  },
  {
   "cell_type": "code",
   "execution_count": 171,
   "metadata": {},
   "outputs": [
    {
     "data": {
      "text/plain": [
       "<matplotlib.collections.PathCollection at 0x7ff1a6a03710>"
      ]
     },
     "execution_count": 171,
     "metadata": {},
     "output_type": "execute_result"
    },
    {
     "data": {
      "image/png": "[encoded data removed]",
      "text/plain": [
       "<Figure size 432x288 with 1 Axes>"
      ]
     },
     "metadata": {
      "needs_background": "light"
     },
     "output_type": "display_data"
    }
   ],
   "source": [
    "plt.scatter(pmof[ 'total_POV_gravimetric'], pmof[\"CH4DC\"])"
   ]
  },
  {
   "cell_type": "code",
   "execution_count": 44,
   "metadata": {},
   "outputs": [],
   "source": [
    "X = pmof[feat]"
   ]
  },
  {
   "cell_type": "code",
   "execution_count": 172,
   "metadata": {},
   "outputs": [],
   "source": [
    "X = StandardScaler().fit_transform(X)\n",
    "X = VarianceThreshold(0.1).fit_transform(X)"
   ]
  },
  {
   "cell_type": "code",
   "execution_count": 222,
   "metadata": {},
   "outputs": [
    {
     "name": "stderr",
     "output_type": "stream",
     "text": [
      "100%|█████████▉| 249/250 [00:13<00:00, 18.04it/s]\n"
     ]
    }
   ],
   "source": [
    "X_train, y_train, indices = get_maxmin_samples(X, y, 250, metric='correlation')"
   ]
  },
  {
   "cell_type": "code",
   "execution_count": 223,
   "metadata": {},
   "outputs": [],
   "source": [
    "model = build_coregionalized_model(X_train, y_train, kernel=GPy.kern.RBF(X_train.shape[1], ARD=True)\n",
    "                                   + GPy.kern.Linear(X_train.shape[1], ARD=True))"
   ]
  },
  {
   "cell_type": "code",
   "execution_count": 224,
   "metadata": {},
   "outputs": [
    {
     "data": {
      "text/html": [
       "<style type=\"text/css\">\n",
       ".pd{\n",
       "    font-family: \"Courier New\", Courier, monospace !important;\n",
       "    width: 100%;\n",
       "    padding: 3px;\n",
       "}\n",
       "</style>\n",
       "\n",
       "<p class=pd>\n",
       "<b>Model</b>: gp<br>\n",
       "<b>Objective</b>: 692.5752900146002<br>\n",
       "<b>Number of Parameters</b>: 57<br>\n",
       "<b>Number of Optimization Parameters</b>: 31<br>\n",
       "<b>Updates</b>: True<br>\n",
       "</p>\n",
       "<style type=\"text/css\">\n",
       ".tg  {font-family:\"Courier New\", Courier, monospace !important;padding:2px 3px;word-break:normal;border-collapse:collapse;border-spacing:0;border-color:#DCDCDC;margin:0px auto;width:100%;}\n",
       ".tg td{font-family:\"Courier New\", Courier, monospace !important;font-weight:bold;color:#444;background-color:#F7FDFA;border-style:solid;border-width:1px;overflow:hidden;word-break:normal;border-color:#DCDCDC;}\n",
       ".tg th{font-family:\"Courier New\", Courier, monospace !important;font-weight:normal;color:#fff;background-color:#26ADE4;border-style:solid;border-width:1px;overflow:hidden;word-break:normal;border-color:#DCDCDC;}\n",
       ".tg .tg-left{font-family:\"Courier New\", Courier, monospace !important;font-weight:normal;text-align:left;}\n",
       ".tg .tg-center{font-family:\"Courier New\", Courier, monospace !important;font-weight:normal;text-align:center;}\n",
       ".tg .tg-right{font-family:\"Courier New\", Courier, monospace !important;font-weight:normal;text-align:right;}\n",
       "</style>\n",
       "<table class=\"tg\"><tr><th><b>  gp.                                  </b></th><th><b> value</b></th><th><b>constraints</b></th><th><b>priors</b></th></tr>\n",
       "<tr><td class=tg-left>  ICM.sum.rbf.variance                 </td><td class=tg-right>   1.0</td><td class=tg-center> +ve fixed </td><td class=tg-center>      </td></tr>\n",
       "<tr><td class=tg-left>  ICM.sum.rbf.lengthscale              </td><td class=tg-right> (25,)</td><td class=tg-center>    +ve    </td><td class=tg-center>      </td></tr>\n",
       "<tr><td class=tg-left>  ICM.sum.linear.variances             </td><td class=tg-right> (25,)</td><td class=tg-center> +ve fixed </td><td class=tg-center>      </td></tr>\n",
       "<tr><td class=tg-left>  ICM.B.W                              </td><td class=tg-right>(2, 1)</td><td class=tg-center>           </td><td class=tg-center>      </td></tr>\n",
       "<tr><td class=tg-left>  ICM.B.kappa                          </td><td class=tg-right>  (2,)</td><td class=tg-center>    +ve    </td><td class=tg-center>      </td></tr>\n",
       "<tr><td class=tg-left>  mixed_noise.Gaussian_noise_0.variance</td><td class=tg-right>   1.0</td><td class=tg-center>    +ve    </td><td class=tg-center>      </td></tr>\n",
       "<tr><td class=tg-left>  mixed_noise.Gaussian_noise_1.variance</td><td class=tg-right>   1.0</td><td class=tg-center>    +ve    </td><td class=tg-center>      </td></tr>\n",
       "</table>"
      ],
      "text/plain": [
       "<GPy.models.gp_coregionalized_regression.GPCoregionalizedRegression at 0x7ff21a29c4a8>"
      ]
     },
     "execution_count": 224,
     "metadata": {},
     "output_type": "execute_result"
    }
   ],
   "source": [
    "model"
   ]
  },
  {
   "cell_type": "code",
   "execution_count": 225,
   "metadata": {},
   "outputs": [],
   "source": [
    "model['.*Gaussian_noise_*'] = 0.01"
   ]
  },
  {
   "cell_type": "code",
   "execution_count": 226,
   "metadata": {},
   "outputs": [
    {
     "name": "stdout",
     "output_type": "stream",
     "text": [
      "Optimization restart 1/10, f = -487.767279800878\n",
      "Optimization restart 2/10, f = -485.52145756934635\n",
      "Optimization restart 3/10, f = -486.0118504594535\n",
      "Optimization restart 4/10, f = -485.5483749653879\n",
      "Optimization restart 5/10, f = -266.71325931701574\n",
      "Optimization restart 6/10, f = -266.85388443814986\n",
      "Optimization restart 7/10, f = -263.57980935892186\n",
      "Optimization restart 8/10, f = -485.40102922877867\n",
      "Optimization restart 9/10, f = -393.26161959546477\n",
      "Optimization restart 10/10, f = -393.0781583097329\n"
     ]
    },
    {
     "data": {
      "text/plain": [
       "[<paramz.optimization.optimization.opt_lbfgsb at 0x7ff219c20668>,\n",
       " <paramz.optimization.optimization.opt_lbfgsb at 0x7ff1a002fef0>,\n",
       " <paramz.optimization.optimization.opt_lbfgsb at 0x7ff1abf3e588>,\n",
       " <paramz.optimization.optimization.opt_lbfgsb at 0x7ff219c20d68>,\n",
       " <paramz.optimization.optimization.opt_lbfgsb at 0x7ff1a0211b00>,\n",
       " <paramz.optimization.optimization.opt_lbfgsb at 0x7ff21a29c1d0>,\n",
       " <paramz.optimization.optimization.opt_lbfgsb at 0x7ff1ac1af198>,\n",
       " <paramz.optimization.optimization.opt_lbfgsb at 0x7ff219c20780>,\n",
       " <paramz.optimization.optimization.opt_lbfgsb at 0x7ff2169be6d8>,\n",
       " <paramz.optimization.optimization.opt_lbfgsb at 0x7ff19fbee4e0>]"
      ]
     },
     "execution_count": 226,
     "metadata": {},
     "output_type": "execute_result"
    }
   ],
   "source": [
    "model.optimize_restarts()"
   ]
  },
  {
   "cell_type": "code",
   "execution_count": 227,
   "metadata": {},
   "outputs": [
    {
     "data": {
      "text/html": [
       "<style type=\"text/css\">\n",
       ".pd{\n",
       "    font-family: \"Courier New\", Courier, monospace !important;\n",
       "    width: 100%;\n",
       "    padding: 3px;\n",
       "}\n",
       "</style>\n",
       "\n",
       "<p class=pd>\n",
       "<b>Model</b>: gp<br>\n",
       "<b>Objective</b>: -487.767279800878<br>\n",
       "<b>Number of Parameters</b>: 57<br>\n",
       "<b>Number of Optimization Parameters</b>: 31<br>\n",
       "<b>Updates</b>: True<br>\n",
       "</p>\n",
       "<style type=\"text/css\">\n",
       ".tg  {font-family:\"Courier New\", Courier, monospace !important;padding:2px 3px;word-break:normal;border-collapse:collapse;border-spacing:0;border-color:#DCDCDC;margin:0px auto;width:100%;}\n",
       ".tg td{font-family:\"Courier New\", Courier, monospace !important;font-weight:bold;color:#444;background-color:#F7FDFA;border-style:solid;border-width:1px;overflow:hidden;word-break:normal;border-color:#DCDCDC;}\n",
       ".tg th{font-family:\"Courier New\", Courier, monospace !important;font-weight:normal;color:#fff;background-color:#26ADE4;border-style:solid;border-width:1px;overflow:hidden;word-break:normal;border-color:#DCDCDC;}\n",
       ".tg .tg-left{font-family:\"Courier New\", Courier, monospace !important;font-weight:normal;text-align:left;}\n",
       ".tg .tg-center{font-family:\"Courier New\", Courier, monospace !important;font-weight:normal;text-align:center;}\n",
       ".tg .tg-right{font-family:\"Courier New\", Courier, monospace !important;font-weight:normal;text-align:right;}\n",
       "</style>\n",
       "<table class=\"tg\"><tr><th><b>  gp.                                  </b></th><th><b>                 value</b></th><th><b>constraints</b></th><th><b>priors</b></th></tr>\n",
       "<tr><td class=tg-left>  ICM.sum.rbf.variance                 </td><td class=tg-right>                   1.0</td><td class=tg-center> +ve fixed </td><td class=tg-center>      </td></tr>\n",
       "<tr><td class=tg-left>  ICM.sum.rbf.lengthscale              </td><td class=tg-right>                 (25,)</td><td class=tg-center>    +ve    </td><td class=tg-center>      </td></tr>\n",
       "<tr><td class=tg-left>  ICM.sum.linear.variances             </td><td class=tg-right>                 (25,)</td><td class=tg-center> +ve fixed </td><td class=tg-center>      </td></tr>\n",
       "<tr><td class=tg-left>  ICM.B.W                              </td><td class=tg-right>                (2, 1)</td><td class=tg-center>           </td><td class=tg-center>      </td></tr>\n",
       "<tr><td class=tg-left>  ICM.B.kappa                          </td><td class=tg-right>                  (2,)</td><td class=tg-center>    +ve    </td><td class=tg-center>      </td></tr>\n",
       "<tr><td class=tg-left>  mixed_noise.Gaussian_noise_0.variance</td><td class=tg-right>0.00017535793318058747</td><td class=tg-center>    +ve    </td><td class=tg-center>      </td></tr>\n",
       "<tr><td class=tg-left>  mixed_noise.Gaussian_noise_1.variance</td><td class=tg-right>  0.049005203992628726</td><td class=tg-center>    +ve    </td><td class=tg-center>      </td></tr>\n",
       "</table>"
      ],
      "text/plain": [
       "<GPy.models.gp_coregionalized_regression.GPCoregionalizedRegression at 0x7ff21a29c4a8>"
      ]
     },
     "execution_count": 227,
     "metadata": {},
     "output_type": "execute_result"
    }
   ],
   "source": [
    "model"
   ]
  },
  {
   "cell_type": "code",
   "execution_count": 228,
   "metadata": {},
   "outputs": [],
   "source": [
    "X_test = np.delete(X, indices, 0)\n",
    "y_test = np.delete(y, indices, 0)"
   ]
  },
  {
   "cell_type": "code",
   "execution_count": 229,
   "metadata": {},
   "outputs": [],
   "source": [
    "pred, var = predict_coregionalized(model, X_test, 0)"
   ]
  },
  {
   "cell_type": "code",
   "execution_count": 230,
   "metadata": {},
   "outputs": [
    {
     "data": {
      "text/plain": [
       "<matplotlib.collections.PathCollection at 0x7ff1a4e94898>"
      ]
     },
     "execution_count": 230,
     "metadata": {},
     "output_type": "execute_result"
    },
    {
     "data": {
      "image/png": "[encoded data removed]",
      "text/plain": [
       "<Figure size 432x288 with 1 Axes>"
      ]
     },
     "metadata": {
      "needs_background": "light"
     },
     "output_type": "display_data"
    }
   ],
   "source": [
    "plt.scatter(y_test[:,0], pred, c=var, cmap='coolwarm')"
   ]
  },
  {
   "cell_type": "code",
   "execution_count": 17,
   "metadata": {},
   "outputs": [],
   "source": [
    "models = [\n",
    "    build_coregionalized_model(X_train, y_train, kernel = GPy.kern.RBF(X_train.shape[1], ARD=False))\n",
    "]"
   ]
  },
  {
   "cell_type": "code",
   "execution_count": 18,
   "metadata": {
    "collapsed": true,
    "jupyter": {
     "outputs_hidden": true
    }
   },
   "outputs": [
    {
     "name": "stderr",
     "output_type": "stream",
     "text": [
      "2020-08-16 08:57:39,558 PALlogger    INFO     Starting now the PAL loop\n",
      "  0%|          | 0/1000 [00:00<?, ?it/s] /Users/kevinmaikjablonka/opt/miniconda3/envs/dispersant_basf/lib/python3.7/site-packages/GPy/util/multioutput.py:83: UserWarning:kernel's input dimension overwritten to fit input_dim parameter.\n"
     ]
    },
    {
     "name": "stdout",
     "output_type": "stream",
     "text": [
      "Optimization restart 1/5, f = 111.41946287997175\n",
      "Optimization restart 2/5, f = 111.41946290695348\n",
      "Optimization restart 3/5, f = 111.41946288970506\n",
      "Optimization restart 4/5, f = 111.4194629151374\n",
      "Optimization restart 5/5, f = 111.41946288441072\n"
     ]
    },
    {
     "name": "stderr",
     "output_type": "stream",
     "text": [
      " /Users/kevinmaikjablonka/Dropbox (LSMO)/dispersant_screening_PAL/dispersant_screener/pal.py:263: NumbaWarning:\n",
      "Compilation is falling back to object mode WITH looplifting enabled because Function \"_pareto_classify\" failed type inference due to: Untyped global name 'sum': cannot determine Numba type of <class 'builtin_function_or_method'>\n",
      "\n",
      "File \"../dispersant_screener/pal.py\", line 291:\n",
      "def _pareto_classify(  # pylint:disable=too-many-arguments\n",
      "    <source elided>\n",
      "    # first check the pareto pessimistic front of pareto_optimal_t\n",
      "    if sum(pareto_optimal_0) > 0:\n",
      "    ^\n",
      "\n",
      " /Users/kevinmaikjablonka/Dropbox (LSMO)/dispersant_screening_PAL/dispersant_screener/pal.py:263: NumbaWarning:\n",
      "Compilation is falling back to object mode WITHOUT looplifting enabled because Function \"_pareto_classify\" failed type inference due to: Untyped global name 'sum': cannot determine Numba type of <class 'builtin_function_or_method'>\n",
      "\n",
      "File \"../dispersant_screener/pal.py\", line 291:\n",
      "def _pareto_classify(  # pylint:disable=too-many-arguments\n",
      "    <source elided>\n",
      "    # first check the pareto pessimistic front of pareto_optimal_t\n",
      "    if sum(pareto_optimal_0) > 0:\n",
      "    ^\n",
      "\n",
      " /Users/kevinmaikjablonka/opt/miniconda3/envs/dispersant_basf/lib/python3.7/site-packages/numba/object_mode_passes.py:178: NumbaWarning:Function \"_pareto_classify\" was compiled in object mode without forceobj=True, but has lifted loops.\n",
      "\n",
      "File \"../dispersant_screener/pal.py\", line 284:\n",
      "def _pareto_classify(  # pylint:disable=too-many-arguments\n",
      "    <source elided>\n",
      "    \"\"\"\n",
      "    pareto_optimal_t = pareto_optimal_0.copy()\n",
      "    ^\n",
      "\n",
      " /Users/kevinmaikjablonka/opt/miniconda3/envs/dispersant_basf/lib/python3.7/site-packages/numba/object_mode_passes.py:188: NumbaDeprecationWarning:\n",
      "Fall-back from the nopython compilation path to the object mode compilation path has been detected, this is deprecated behaviour.\n",
      "\n",
      "For more information visit http://numba.pydata.org/numba-doc/latest/reference/deprecation.html#deprecation-of-object-mode-fall-back-behaviour-when-using-jit\n",
      "\n",
      "File \"../dispersant_screener/pal.py\", line 284:\n",
      "def _pareto_classify(  # pylint:disable=too-many-arguments\n",
      "    <source elided>\n",
      "    \"\"\"\n",
      "    pareto_optimal_t = pareto_optimal_0.copy()\n",
      "    ^\n",
      "\n",
      " /Users/kevinmaikjablonka/Dropbox (LSMO)/dispersant_screening_PAL/dispersant_screener/pal.py:358: NumbaWarning:\n",
      "Compilation is falling back to object mode WITH looplifting enabled because Function \"_sample\" failed type inference due to: Use of unsupported NumPy function 'numpy.insert' or unsupported use of the function.\n",
      "\n",
      "File \"../dispersant_screener/pal.py\", line 399:\n",
      "def _sample(  # pylint:disable=too-many-arguments\n",
      "    <source elided>\n",
      "\n",
      "    x_train = np.insert(x_train, x_train.shape[0], x_input[maxid], axis=0)\n",
      "    ^\n",
      "\n",
      "[1] During: typing of get attribute at /Users/kevinmaikjablonka/Dropbox (LSMO)/dispersant_screening_PAL/dispersant_screener/pal.py (399)\n",
      "\n",
      "File \"../dispersant_screener/pal.py\", line 399:\n",
      "def _sample(  # pylint:disable=too-many-arguments\n",
      "    <source elided>\n",
      "\n",
      "    x_train = np.insert(x_train, x_train.shape[0], x_input[maxid], axis=0)\n",
      "    ^\n",
      "\n",
      " /Users/kevinmaikjablonka/Dropbox (LSMO)/dispersant_screening_PAL/dispersant_screener/pal.py:358: NumbaWarning:\n",
      "Compilation is falling back to object mode WITHOUT looplifting enabled because Function \"_sample\" failed type inference due to: cannot determine Numba type of <class 'numba.dispatcher.LiftedLoop'>\n",
      "\n",
      "File \"../dispersant_screener/pal.py\", line 384:\n",
      "def _sample(  # pylint:disable=too-many-arguments\n",
      "    <source elided>\n",
      "\n",
      "    for i in range(0, len(x_input)):\n",
      "    ^\n",
      "\n",
      " /Users/kevinmaikjablonka/opt/miniconda3/envs/dispersant_basf/lib/python3.7/site-packages/numba/object_mode_passes.py:178: NumbaWarning:Function \"_sample\" was compiled in object mode without forceobj=True, but has lifted loops.\n",
      "\n",
      "File \"../dispersant_screener/pal.py\", line 381:\n",
      "def _sample(  # pylint:disable=too-many-arguments\n",
      "    <source elided>\n",
      "\n",
      "    max_uncertainity = 0\n",
      "    ^\n",
      "\n",
      " /Users/kevinmaikjablonka/opt/miniconda3/envs/dispersant_basf/lib/python3.7/site-packages/numba/object_mode_passes.py:188: NumbaDeprecationWarning:\n",
      "Fall-back from the nopython compilation path to the object mode compilation path has been detected, this is deprecated behaviour.\n",
      "\n",
      "For more information visit http://numba.pydata.org/numba-doc/latest/reference/deprecation.html#deprecation-of-object-mode-fall-back-behaviour-when-using-jit\n",
      "\n",
      "File \"../dispersant_screener/pal.py\", line 381:\n",
      "def _sample(  # pylint:disable=too-many-arguments\n",
      "    <source elided>\n",
      "\n",
      "    max_uncertainity = 0\n",
      "    ^\n",
      "\n",
      "2020-08-16 08:58:52,208 PALlogger    INFO     Iteration 1 | Pareto optimal 0, not Pareto optimal 0, unclassified 17379, hypervolume: nan\n",
      "  0%|          | 1/1000 [01:12<20:09:33, 72.65s/it] /Users/kevinmaikjablonka/opt/miniconda3/envs/dispersant_basf/lib/python3.7/site-packages/GPy/util/multioutput.py:83: UserWarning:kernel's input dimension overwritten to fit input_dim parameter.\n"
     ]
    },
    {
     "name": "stdout",
     "output_type": "stream",
     "text": [
      "Optimization restart 1/5, f = 118.8115588794629\n",
      "Optimization restart 2/5, f = 138.51534512872882\n",
      "Optimization restart 3/5, f = 118.81155887499733\n",
      "Optimization restart 4/5, f = 138.51533690247\n",
      "Optimization restart 5/5, f = 118.81155894665747\n"
     ]
    },
    {
     "name": "stderr",
     "output_type": "stream",
     "text": [
      "2020-08-16 09:00:01,249 PALlogger    INFO     Iteration 2 | Pareto optimal 0, not Pareto optimal 0, unclassified 17379, hypervolume: nan\n",
      "  0%|          | 2/1000 [02:21<19:50:21, 71.56s/it] /Users/kevinmaikjablonka/opt/miniconda3/envs/dispersant_basf/lib/python3.7/site-packages/GPy/util/multioutput.py:83: UserWarning:kernel's input dimension overwritten to fit input_dim parameter.\n"
     ]
    },
    {
     "name": "stdout",
     "output_type": "stream",
     "text": [
      "Optimization restart 1/5, f = 126.06589119976952\n",
      "Optimization restart 2/5, f = 146.17667781524386\n",
      "Optimization restart 3/5, f = 126.06589123927913\n",
      "Optimization restart 4/5, f = 146.17663346090256\n",
      "Optimization restart 5/5, f = 126.06589130173926\n"
     ]
    },
    {
     "name": "stderr",
     "output_type": "stream",
     "text": [
      "2020-08-16 09:01:09,281 PALlogger    INFO     Iteration 3 | Pareto optimal 0, not Pareto optimal 0, unclassified 17379, hypervolume: nan\n",
      "  0%|          | 3/1000 [03:29<19:31:33, 70.51s/it]"
     ]
    },
    {
     "name": "stdout",
     "output_type": "stream",
     "text": [
      "Ctrl+c received, terminating and joining pool.\n"
     ]
    },
    {
     "name": "stderr",
     "output_type": "stream",
     "text": [
      "ERROR:root:Internal Python error in the inspect module.\n",
      "Below is the traceback from this internal error.\n",
      "\n"
     ]
    },
    {
     "name": "stdout",
     "output_type": "stream",
     "text": [
      "Traceback (most recent call last):\n",
      "  File \"/Users/kevinmaikjablonka/opt/miniconda3/envs/dispersant_basf/lib/python3.7/site-packages/IPython/core/interactiveshell.py\", line 3331, in run_code\n",
      "    exec(code_obj, self.user_global_ns, self.user_ns)\n",
      "  File \"<ipython-input-18-36d594e6f2d3>\", line 3, in <module>\n",
      "    epsilon=[0.05, 0.05], delta=0.05, beta_scale=1/16, coregionalized=True)\n",
      "  File \"/Users/kevinmaikjablonka/Dropbox (LSMO)/dispersant_screening_PAL/dispersant_screener/pal.py\", line 540, in pal\n",
      "    mus, stds, gps = _get_gp_predictions(gps, x_train, y_train, x_input, coregionalized, optimize)\n",
      "  File \"/Users/kevinmaikjablonka/Dropbox (LSMO)/dispersant_screening_PAL/dispersant_screener/pal.py\", line 109, in _get_gp_predictions\n",
      "    gp.optimize()\n",
      "  File \"/Users/kevinmaikjablonka/opt/miniconda3/envs/dispersant_basf/lib/python3.7/site-packages/paramz/model.py\", line 182, in optimize_restarts\n",
      "    raise e\n",
      "  File \"/Users/kevinmaikjablonka/opt/miniconda3/envs/dispersant_basf/lib/python3.7/site-packages/paramz/model.py\", line 174, in optimize_restarts\n",
      "    self.optimization_runs.append(jobs[i])\n",
      "UnboundLocalError: local variable 'jobs' referenced before assignment\n",
      "\n",
      "During handling of the above exception, another exception occurred:\n",
      "\n",
      "Traceback (most recent call last):\n",
      "  File \"/Users/kevinmaikjablonka/opt/miniconda3/envs/dispersant_basf/lib/python3.7/site-packages/IPython/core/interactiveshell.py\", line 2044, in showtraceback\n",
      "    stb = value._render_traceback_()\n",
      "AttributeError: 'UnboundLocalError' object has no attribute '_render_traceback_'\n",
      "\n",
      "During handling of the above exception, another exception occurred:\n",
      "\n",
      "Traceback (most recent call last):\n",
      "  File \"/Users/kevinmaikjablonka/opt/miniconda3/envs/dispersant_basf/lib/python3.7/site-packages/IPython/core/ultratb.py\", line 1148, in get_records\n",
      "    return _fixed_getinnerframes(etb, number_of_lines_of_context, tb_offset)\n",
      "  File \"/Users/kevinmaikjablonka/opt/miniconda3/envs/dispersant_basf/lib/python3.7/site-packages/IPython/core/ultratb.py\", line 316, in wrapped\n",
      "    return f(*args, **kwargs)\n",
      "  File \"/Users/kevinmaikjablonka/opt/miniconda3/envs/dispersant_basf/lib/python3.7/site-packages/IPython/core/ultratb.py\", line 350, in _fixed_getinnerframes\n",
      "    records = fix_frame_records_filenames(inspect.getinnerframes(etb, context))\n",
      "  File \"/Users/kevinmaikjablonka/opt/miniconda3/envs/dispersant_basf/lib/python3.7/inspect.py\", line 1495, in getinnerframes\n",
      "    frameinfo = (tb.tb_frame,) + getframeinfo(tb, context)\n",
      "  File \"/Users/kevinmaikjablonka/opt/miniconda3/envs/dispersant_basf/lib/python3.7/inspect.py\", line 1453, in getframeinfo\n",
      "    filename = getsourcefile(frame) or getfile(frame)\n",
      "  File \"/Users/kevinmaikjablonka/opt/miniconda3/envs/dispersant_basf/lib/python3.7/inspect.py\", line 696, in getsourcefile\n",
      "    if getattr(getmodule(object, filename), '__loader__', None) is not None:\n",
      "  File \"/Users/kevinmaikjablonka/opt/miniconda3/envs/dispersant_basf/lib/python3.7/inspect.py\", line 739, in getmodule\n",
      "    f = getabsfile(module)\n",
      "  File \"/Users/kevinmaikjablonka/opt/miniconda3/envs/dispersant_basf/lib/python3.7/inspect.py\", line 708, in getabsfile\n",
      "    _filename = getsourcefile(object) or getfile(object)\n",
      "  File \"/Users/kevinmaikjablonka/opt/miniconda3/envs/dispersant_basf/lib/python3.7/inspect.py\", line 693, in getsourcefile\n",
      "    if os.path.exists(filename):\n",
      "  File \"/Users/kevinmaikjablonka/opt/miniconda3/envs/dispersant_basf/lib/python3.7/genericpath.py\", line 19, in exists\n",
      "    os.stat(path)\n",
      "KeyboardInterrupt\n"
     ]
    },
    {
     "ename": "UnboundLocalError",
     "evalue": "local variable 'jobs' referenced before assignment",
     "output_type": "error",
     "traceback": [
      "\u001b[0;31m---------------------------------------------------------------------------\u001b[0m"
     ]
    }
   ],
   "source": [
    "pareto_optimal, hypervolumes, gps, sampled = pal(models, X_train, y_train, X_test, y_test, \n",
    "                                        hv_reference=[5, 5], iterations=1000, verbosity='info',\n",
    "                                        epsilon=[0.05, 0.05], delta=0.05, beta_scale=1/16, coregionalized=True)"
   ]
  },
  {
   "cell_type": "code",
   "execution_count": 17,
   "metadata": {},
   "outputs": [],
   "source": [
    "x_train = np.load('../work/x_train.npy')\n",
    "x_test = np.load('../work/x_test.npy')\n",
    "pareto = np.load('../work/pareto_optimal.npy')\n",
    "\n",
    "y_train = np.load('../work/y_train.npy')\n",
    "y_test = np.load('../work/y_test.npy')"
   ]
  },
  {
   "cell_type": "code",
   "execution_count": 18,
   "metadata": {},
   "outputs": [],
   "source": [
    "X = np.vstack([x_test, x_train])\n",
    "y = np.vstack([y_test, y_train])"
   ]
  },
  {
   "cell_type": "code",
   "execution_count": 19,
   "metadata": {},
   "outputs": [],
   "source": [
    "selected_indices = np.where(np.array(pareto)==1)[0]"
   ]
  },
  {
   "cell_type": "code",
   "execution_count": 20,
   "metadata": {},
   "outputs": [
    {
     "name": "stderr",
     "output_type": "stream",
     "text": [
      " /Users/kevinmaikjablonka/opt/miniconda3/envs/dispersant_basf/lib/python3.7/site-packages/ipykernel_launcher.py:3: MatplotlibDeprecationWarning:\n",
      "The set_smart_bounds function was deprecated in Matplotlib 3.2 and will be removed two minor releases later.\n",
      " /Users/kevinmaikjablonka/opt/miniconda3/envs/dispersant_basf/lib/python3.7/site-packages/ipykernel_launcher.py:4: MatplotlibDeprecationWarning:\n",
      "The set_smart_bounds function was deprecated in Matplotlib 3.2 and will be removed two minor releases later.\n"
     ]
    },
    {
     "data": {
      "text/plain": [
       "Text(0, 0.5, 'DC CO$_2$')"
      ]
     },
     "execution_count": 20,
     "metadata": {},
     "output_type": "execute_result"
    },
    {
     "data": {
      "image/png": "[encoded data removed]",
      "text/plain": [
       "<Figure size 432x288 with 1 Axes>"
      ]
     },
     "metadata": {
      "needs_background": "light"
     },
     "output_type": "display_data"
    }
   ],
   "source": [
    "fig, ax = plt.subplots(1,1)\n",
    "\n",
    "ax.spines['left'].set_smart_bounds(True)\n",
    "ax.spines['bottom'].set_smart_bounds(True)\n",
    "\n",
    "\n",
    "ax.scatter(y[:,0], y[:,1])\n",
    "ax.scatter(y[selected_indices,0], y[selected_indices,1])\n",
    "\n",
    "\n",
    "ax.set_xlabel('DC CH$_4$')\n",
    "ax.set_ylabel('DC CO$_2$')"
   ]
  },
  {
   "cell_type": "code",
   "execution_count": null,
   "metadata": {},
   "outputs": [],
   "source": [
    "len(pareto_optimal)"
   ]
  },
  {
   "cell_type": "code",
   "execution_count": 12,
   "metadata": {},
   "outputs": [],
   "source": [
    "from dispersant_screener.pal import get_hypervolume\n",
    "from dispersant_screener.utils import is_pareto_efficient"
   ]
  },
  {
   "cell_type": "code",
   "execution_count": 15,
   "metadata": {},
   "outputs": [],
   "source": [
    "y = StandardScaler().fit_transform(y)"
   ]
  },
  {
   "cell_type": "code",
   "execution_count": 16,
   "metadata": {},
   "outputs": [],
   "source": [
    "pareto_true = is_pareto_efficient(-y)"
   ]
  },
  {
   "cell_type": "code",
   "execution_count": 17,
   "metadata": {},
   "outputs": [
    {
     "data": {
      "text/plain": [
       "54.87275962497361"
      ]
     },
     "execution_count": 17,
     "metadata": {},
     "output_type": "execute_result"
    }
   ],
   "source": [
    "get_hypervolume(y[pareto_true], [5,5])"
   ]
  },
  {
   "cell_type": "code",
   "execution_count": null,
   "metadata": {},
   "outputs": [],
   "source": [
    "get_hypervolume(y[pareto_true], [5,5])"
   ]
  },
  {
   "cell_type": "code",
   "execution_count": 78,
   "metadata": {},
   "outputs": [
    {
     "data": {
      "text/plain": [
       "6018.3030861096095"
      ]
     },
     "execution_count": 78,
     "metadata": {},
     "output_type": "execute_result"
    }
   ],
   "source": [
    "get_hypervolume(y[selected_indices], [5,5])"
   ]
  },
  {
   "cell_type": "code",
   "execution_count": 46,
   "metadata": {},
   "outputs": [
    {
     "data": {
      "text/plain": [
       "-0.08133323423231638"
      ]
     },
     "execution_count": 46,
     "metadata": {},
     "output_type": "execute_result"
    }
   ],
   "source": [
    "(8223.597174801002- 8890.466868350813)/8199.22753403605"
   ]
  },
  {
   "cell_type": "code",
   "execution_count": 45,
   "metadata": {},
   "outputs": [
    {
     "data": {
      "text/plain": [
       "8"
      ]
     },
     "execution_count": 45,
     "metadata": {},
     "output_type": "execute_result"
    }
   ],
   "source": [
    "sum(pareto_true)"
   ]
  },
  {
   "cell_type": "code",
   "execution_count": null,
   "metadata": {},
   "outputs": [],
   "source": []
  }
 ],
 "metadata": {
  "kernelspec": {
   "display_name": "Python [conda env:dispersant_basf] *",
   "language": "python",
   "name": "conda-env-dispersant_basf-py"
  },
  "language_info": {
   "codemirror_mode": {
    "name": "ipython",
    "version": 3
   },
   "file_extension": ".py",
   "mimetype": "text/x-python",
   "name": "python",
   "nbconvert_exporter": "python",
   "pygments_lexer": "ipython3",
   "version": "3.7.0"
  }
 },
 "nbformat": 4,
 "nbformat_minor": 4
}
