{
 "cells": [
  {
   "cell_type": "markdown",
   "metadata": {},
   "source": [
    "# Find the CO2 capture Pareto front"
   ]
  },
  {
   "cell_type": "code",
   "execution_count": 1,
   "metadata": {},
   "outputs": [],
   "source": [
    "import pandas as pd \n",
    "from sklearn.preprocessing import StandardScaler\n",
    "from sklearn.feature_selection import VarianceThreshold\n",
    "import GPy\n",
    "import matplotlib.pyplot as plt \n",
    "%matplotlib inline\n",
    "\n",
    "from dispersant_screener.gp import build_model, build_coregionalized_model, predict_coregionalized, set_xy_coregionalized\n",
    "from dispersant_screener.pal import pal\n",
    "from dispersant_screener.utils import get_kmeans_samples\n",
    "\n",
    "import numpy as np"
   ]
  },
  {
   "cell_type": "code",
   "execution_count": 2,
   "metadata": {},
   "outputs": [],
   "source": [
    "other_descriptors = ['CellV [A^3]']\n",
    "\n",
    "geometric_descirptors = [\n",
    " 'Di',\n",
    " 'Df',\n",
    " 'Dif',\n",
    " 'density [g/cm^3]',\n",
    " 'total_SA_volumetric',\n",
    " 'total_SA_gravimetric',\n",
    " 'total_POV_volumetric',\n",
    " 'total_POV_gravimetric'\n",
    " ]\n",
    "\n",
    "linker_descriptors = [\n",
    " 'f-lig-chi-0',\n",
    " 'f-lig-chi-1',\n",
    " 'f-lig-chi-2',\n",
    " 'f-lig-chi-3',\n",
    " 'f-lig-Z-0',\n",
    " 'f-lig-Z-1',\n",
    " 'f-lig-Z-2',\n",
    " 'f-lig-Z-3',\n",
    " 'f-lig-I-0',\n",
    " 'f-lig-I-1',\n",
    " 'f-lig-I-2',\n",
    " 'f-lig-I-3',\n",
    " 'f-lig-T-0',\n",
    " 'f-lig-T-1',\n",
    " 'f-lig-T-2',\n",
    " 'f-lig-T-3',\n",
    " 'f-lig-S-0',\n",
    " 'f-lig-S-1',\n",
    " 'f-lig-S-2',\n",
    " 'f-lig-S-3',\n",
    " 'lc-chi-0-all',\n",
    " 'lc-chi-1-all',\n",
    " 'lc-chi-2-all',\n",
    " 'lc-chi-3-all',\n",
    " 'lc-Z-0-all',\n",
    " 'lc-Z-1-all',\n",
    " 'lc-Z-2-all',\n",
    " 'lc-Z-3-all',\n",
    " 'lc-I-0-all',\n",
    " 'lc-I-1-all',\n",
    " 'lc-I-2-all',\n",
    " 'lc-I-3-all',\n",
    " 'lc-T-0-all',\n",
    " 'lc-T-1-all',\n",
    " 'lc-T-2-all',\n",
    " 'lc-T-3-all',\n",
    " 'lc-S-0-all',\n",
    " 'lc-S-1-all',\n",
    " 'lc-S-2-all',\n",
    " 'lc-S-3-all',\n",
    " 'lc-alpha-0-all',\n",
    " 'lc-alpha-1-all',\n",
    " 'lc-alpha-2-all',\n",
    " 'lc-alpha-3-all',\n",
    " 'D_lc-chi-0-all',\n",
    " 'D_lc-chi-1-all',\n",
    " 'D_lc-chi-2-all',\n",
    " 'D_lc-chi-3-all',\n",
    " 'D_lc-Z-0-all',\n",
    " 'D_lc-Z-1-all',\n",
    " 'D_lc-Z-2-all',\n",
    " 'D_lc-Z-3-all',\n",
    " 'D_lc-I-0-all',\n",
    " 'D_lc-I-1-all',\n",
    " 'D_lc-I-2-all',\n",
    " 'D_lc-I-3-all',\n",
    " 'D_lc-T-0-all',\n",
    " 'D_lc-T-1-all',\n",
    " 'D_lc-T-2-all',\n",
    " 'D_lc-T-3-all',\n",
    " 'D_lc-S-0-all',\n",
    " 'D_lc-S-1-all',\n",
    " 'D_lc-S-2-all',\n",
    " 'D_lc-S-3-all',\n",
    " 'D_lc-alpha-0-all',\n",
    " 'D_lc-alpha-1-all',\n",
    " 'D_lc-alpha-2-all',\n",
    " 'D_lc-alpha-3-all']\n",
    "\n",
    "metalcenter_descriptors =[\n",
    " 'mc_CRY-chi-0-all',\n",
    " 'mc_CRY-chi-1-all',\n",
    " 'mc_CRY-chi-2-all',\n",
    " 'mc_CRY-chi-3-all',\n",
    " 'mc_CRY-Z-0-all',\n",
    " 'mc_CRY-Z-1-all',\n",
    " 'mc_CRY-Z-2-all',\n",
    " 'mc_CRY-Z-3-all',\n",
    " 'mc_CRY-I-0-all',\n",
    " 'mc_CRY-I-1-all',\n",
    " 'mc_CRY-I-2-all',\n",
    " 'mc_CRY-I-3-all',\n",
    " 'mc_CRY-T-0-all',\n",
    " 'mc_CRY-T-1-all',\n",
    " 'mc_CRY-T-2-all',\n",
    " 'mc_CRY-T-3-all',\n",
    " 'mc_CRY-S-0-all',\n",
    " 'mc_CRY-S-1-all',\n",
    " 'mc_CRY-S-2-all',\n",
    " 'mc_CRY-S-3-all',\n",
    " 'D_mc_CRY-chi-0-all',\n",
    " 'D_mc_CRY-chi-1-all',\n",
    " 'D_mc_CRY-chi-2-all',\n",
    " 'D_mc_CRY-chi-3-all',\n",
    " 'D_mc_CRY-Z-0-all',\n",
    " 'D_mc_CRY-Z-1-all',\n",
    " 'D_mc_CRY-Z-2-all',\n",
    " 'D_mc_CRY-Z-3-all',\n",
    " 'D_mc_CRY-I-0-all',\n",
    " 'D_mc_CRY-I-1-all',\n",
    " 'D_mc_CRY-I-2-all',\n",
    " 'D_mc_CRY-I-3-all',\n",
    " 'D_mc_CRY-T-0-all',\n",
    " 'D_mc_CRY-T-1-all',\n",
    " 'D_mc_CRY-T-2-all',\n",
    " 'D_mc_CRY-T-3-all',\n",
    " 'D_mc_CRY-S-0-all',\n",
    " 'D_mc_CRY-S-1-all',\n",
    " 'D_mc_CRY-S-2-all',\n",
    " 'D_mc_CRY-S-3-all']\n",
    "\n",
    "functionalgroup_descriptors = [\n",
    " 'func-chi-0-all',\n",
    " 'func-chi-1-all',\n",
    " 'func-chi-2-all',\n",
    " 'func-chi-3-all',\n",
    " 'func-Z-0-all',\n",
    " 'func-Z-1-all',\n",
    " 'func-Z-2-all',\n",
    " 'func-Z-3-all',\n",
    " 'func-I-0-all',\n",
    " 'func-I-1-all',\n",
    " 'func-I-2-all',\n",
    " 'func-I-3-all',\n",
    " 'func-T-0-all',\n",
    " 'func-T-1-all',\n",
    " 'func-T-2-all',\n",
    " 'func-T-3-all',\n",
    " 'func-S-0-all',\n",
    " 'func-S-1-all',\n",
    " 'func-S-2-all',\n",
    " 'func-S-3-all',\n",
    " 'func-alpha-0-all',\n",
    " 'func-alpha-1-all',\n",
    " 'func-alpha-2-all',\n",
    " 'func-alpha-3-all',\n",
    " 'D_func-chi-0-all',\n",
    " 'D_func-chi-1-all',\n",
    " 'D_func-chi-2-all',\n",
    " 'D_func-chi-3-all',\n",
    " 'D_func-Z-0-all',\n",
    " 'D_func-Z-1-all',\n",
    " 'D_func-Z-2-all',\n",
    " 'D_func-Z-3-all',\n",
    " 'D_func-I-0-all',\n",
    " 'D_func-I-1-all',\n",
    " 'D_func-I-2-all',\n",
    " 'D_func-I-3-all',\n",
    " 'D_func-T-0-all',\n",
    " 'D_func-T-1-all',\n",
    " 'D_func-T-2-all',\n",
    " 'D_func-T-3-all',\n",
    " 'D_func-S-0-all',\n",
    " 'D_func-S-1-all',\n",
    " 'D_func-S-2-all',\n",
    " 'D_func-S-3-all',\n",
    " 'D_func-alpha-0-all',\n",
    " 'D_func-alpha-1-all',\n",
    " 'D_func-alpha-2-all',\n",
    " 'D_func-alpha-3-all']\n",
    "\n",
    "\n",
    "summed_linker_descriptors = [\n",
    " 'sum-f-lig-chi-0',\n",
    " 'sum-f-lig-chi-1',\n",
    " 'sum-f-lig-chi-2',\n",
    " 'sum-f-lig-chi-3',\n",
    " 'sum-f-lig-Z-0',\n",
    " 'sum-f-lig-Z-1',\n",
    " 'sum-f-lig-Z-2',\n",
    " 'sum-f-lig-Z-3',\n",
    " 'sum-f-lig-I-0',\n",
    " 'sum-f-lig-I-1',\n",
    " 'sum-f-lig-I-2',\n",
    " 'sum-f-lig-I-3',\n",
    " 'sum-f-lig-T-0',\n",
    " 'sum-f-lig-T-1',\n",
    " 'sum-f-lig-T-2',\n",
    " 'sum-f-lig-T-3',\n",
    " 'sum-f-lig-S-0',\n",
    " 'sum-f-lig-S-1',\n",
    " 'sum-f-lig-S-2',\n",
    " 'sum-f-lig-S-3',\n",
    " 'sum-lc-chi-0-all',\n",
    " 'sum-lc-chi-1-all',\n",
    " 'sum-lc-chi-2-all',\n",
    " 'sum-lc-chi-3-all',\n",
    " 'sum-lc-Z-0-all',\n",
    " 'sum-lc-Z-1-all',\n",
    " 'sum-lc-Z-2-all',\n",
    " 'sum-lc-Z-3-all',\n",
    " 'sum-lc-I-0-all',\n",
    " 'sum-lc-I-1-all',\n",
    " 'sum-lc-I-2-all',\n",
    " 'sum-lc-I-3-all',\n",
    " 'sum-lc-T-0-all',\n",
    " 'sum-lc-T-1-all',\n",
    " 'sum-lc-T-2-all',\n",
    " 'sum-lc-T-3-all',\n",
    " 'sum-lc-S-0-all',\n",
    " 'sum-lc-S-1-all',\n",
    " 'sum-lc-S-2-all',\n",
    " 'sum-lc-S-3-all',\n",
    " 'sum-lc-alpha-0-all',\n",
    " 'sum-lc-alpha-1-all',\n",
    " 'sum-lc-alpha-2-all',\n",
    " 'sum-lc-alpha-3-all',\n",
    " 'sum-D_lc-chi-0-all',\n",
    " 'sum-D_lc-chi-1-all',\n",
    " 'sum-D_lc-chi-2-all',\n",
    " 'sum-D_lc-chi-3-all',\n",
    " 'sum-D_lc-Z-0-all',\n",
    " 'sum-D_lc-Z-1-all',\n",
    " 'sum-D_lc-Z-2-all',\n",
    " 'sum-D_lc-Z-3-all',\n",
    " 'sum-D_lc-I-0-all',\n",
    " 'sum-D_lc-I-1-all',\n",
    " 'sum-D_lc-I-2-all',\n",
    " 'sum-D_lc-I-3-all',\n",
    " 'sum-D_lc-T-0-all',\n",
    " 'sum-D_lc-T-1-all',\n",
    " 'sum-D_lc-T-2-all',\n",
    " 'sum-D_lc-T-3-all',\n",
    " 'sum-D_lc-S-0-all',\n",
    " 'sum-D_lc-S-1-all',\n",
    " 'sum-D_lc-S-2-all',\n",
    " 'sum-D_lc-S-3-all',\n",
    " 'sum-D_lc-alpha-0-all',\n",
    " 'sum-D_lc-alpha-1-all',\n",
    " 'sum-D_lc-alpha-2-all',\n",
    " 'sum-D_lc-alpha-3-all']\n",
    "\n",
    "summed_metalcenter_descriptors =[\n",
    " 'sum-mc_CRY-chi-0-all',\n",
    " 'sum-mc_CRY-chi-1-all',\n",
    " 'sum-mc_CRY-chi-2-all',\n",
    " 'sum-mc_CRY-chi-3-all',\n",
    " 'sum-mc_CRY-Z-0-all',\n",
    " 'sum-mc_CRY-Z-1-all',\n",
    " 'sum-mc_CRY-Z-2-all',\n",
    " 'sum-mc_CRY-Z-3-all',\n",
    " 'sum-mc_CRY-I-0-all',\n",
    " 'sum-mc_CRY-I-1-all',\n",
    " 'sum-mc_CRY-I-2-all',\n",
    " 'sum-mc_CRY-I-3-all',\n",
    " 'sum-mc_CRY-T-0-all',\n",
    " 'sum-mc_CRY-T-1-all',\n",
    " 'sum-mc_CRY-T-2-all',\n",
    " 'sum-mc_CRY-T-3-all',\n",
    " 'sum-mc_CRY-S-0-all',\n",
    " 'sum-mc_CRY-S-1-all',\n",
    " 'sum-mc_CRY-S-2-all',\n",
    " 'sum-mc_CRY-S-3-all',\n",
    " 'sum-D_mc_CRY-chi-0-all',\n",
    " 'sum-D_mc_CRY-chi-1-all',\n",
    " 'sum-D_mc_CRY-chi-2-all',\n",
    " 'sum-D_mc_CRY-chi-3-all',\n",
    " 'sum-D_mc_CRY-Z-0-all',\n",
    " 'sum-D_mc_CRY-Z-1-all',\n",
    " 'sum-D_mc_CRY-Z-2-all',\n",
    " 'sum-D_mc_CRY-Z-3-all',\n",
    " 'sum-D_mc_CRY-I-0-all',\n",
    " 'sum-D_mc_CRY-I-1-all',\n",
    " 'sum-D_mc_CRY-I-2-all',\n",
    " 'sum-D_mc_CRY-I-3-all',\n",
    " 'sum-D_mc_CRY-T-0-all',\n",
    " 'sum-D_mc_CRY-T-1-all',\n",
    " 'sum-D_mc_CRY-T-2-all',\n",
    " 'sum-D_mc_CRY-T-3-all',\n",
    " 'sum-D_mc_CRY-S-0-all',\n",
    " 'sum-D_mc_CRY-S-1-all',\n",
    " 'sum-D_mc_CRY-S-2-all',\n",
    " 'sum-D_mc_CRY-S-3-all']\n",
    "\n",
    "summed_functionalgroup_descriptors = [\n",
    " 'sum-func-chi-0-all',\n",
    " 'sum-func-chi-1-all',\n",
    " 'sum-func-chi-2-all',\n",
    " 'sum-func-chi-3-all',\n",
    " 'sum-func-Z-0-all',\n",
    " 'sum-func-Z-1-all',\n",
    " 'sum-func-Z-2-all',\n",
    " 'sum-func-Z-3-all',\n",
    " 'sum-func-I-0-all',\n",
    " 'sum-func-I-1-all',\n",
    " 'sum-func-I-2-all',\n",
    " 'sum-func-I-3-all',\n",
    " 'sum-func-T-0-all',\n",
    " 'sum-func-T-1-all',\n",
    " 'sum-func-T-2-all',\n",
    " 'sum-func-T-3-all',\n",
    " 'sum-func-S-0-all',\n",
    " 'sum-func-S-1-all',\n",
    " 'sum-func-S-2-all',\n",
    " 'sum-func-S-3-all',\n",
    " 'sum-func-alpha-0-all',\n",
    " 'sum-func-alpha-1-all',\n",
    " 'sum-func-alpha-2-all',\n",
    " 'sum-func-alpha-3-all',\n",
    " 'sum-D_func-chi-0-all',\n",
    " 'sum-D_func-chi-1-all',\n",
    " 'sum-D_func-chi-2-all',\n",
    " 'sum-D_func-chi-3-all',\n",
    " 'sum-D_func-Z-0-all',\n",
    " 'sum-D_func-Z-1-all',\n",
    " 'sum-D_func-Z-2-all',\n",
    " 'sum-D_func-Z-3-all',\n",
    " 'sum-D_func-I-0-all',\n",
    " 'sum-D_func-I-1-all',\n",
    " 'sum-D_func-I-2-all',\n",
    " 'sum-D_func-I-3-all',\n",
    " 'sum-D_func-T-0-all',\n",
    " 'sum-D_func-T-1-all',\n",
    " 'sum-D_func-T-2-all',\n",
    " 'sum-D_func-T-3-all',\n",
    " 'sum-D_func-S-0-all',\n",
    " 'sum-D_func-S-1-all',\n",
    " 'sum-D_func-S-2-all',\n",
    " 'sum-D_func-S-3-all',\n",
    " 'sum-D_func-alpha-0-all',\n",
    " 'sum-D_func-alpha-1-all',\n",
    " 'sum-D_func-alpha-2-all',\n",
    " 'sum-D_func-alpha-3-all']\n"
   ]
  },
  {
   "cell_type": "code",
   "execution_count": 3,
   "metadata": {},
   "outputs": [],
   "source": [
    "pmof_test = pd.read_csv('/Users/kevinmaikjablonka/Dropbox (LSMO)/proj70_diversity_mohamad/PMOF20K_traindata_7000_test.csv')"
   ]
  },
  {
   "cell_type": "code",
   "execution_count": 4,
   "metadata": {},
   "outputs": [],
   "source": [
    "pmof_train = pd.read_csv('/Users/kevinmaikjablonka/Dropbox (LSMO)/proj70_diversity_mohamad/PMOF20K_traindata_7000_train.csv')"
   ]
  },
  {
   "cell_type": "code",
   "execution_count": 5,
   "metadata": {},
   "outputs": [],
   "source": [
    "pmof = pd.concat([pmof_test, pmof_train])"
   ]
  },
  {
   "cell_type": "code",
   "execution_count": 6,
   "metadata": {},
   "outputs": [],
   "source": [
    "pmof['CO2_DC'] = pmof['pure_uptake_CO2_298.00_1600000'] - pmof['pure_uptake_CO2_298.00_15000']"
   ]
  },
  {
   "cell_type": "code",
   "execution_count": 7,
   "metadata": {},
   "outputs": [],
   "source": [
    "y = pmof[['CO2_DC', 'CH4DC']].values"
   ]
  },
  {
   "cell_type": "code",
   "execution_count": 8,
   "metadata": {},
   "outputs": [],
   "source": [
    "feat = set(\n",
    "[\"func-chi-0-all\" ,\"D_func-S-3-all\", \"total_SA_volumetric\", \n",
    " \"Di\", \"Dif\", \"mc_CRY-Z-0-all\",\"total_POV_volumetric\",\"density [g/cm^3]\", \"total_SA_gravimetric\",\n",
    " \"D_func-S-1-all\",\"Df\", \"mc_CRY-S-0-all\" ,\"total_POV_gravimetric\",\"D_func-alpha-1-all\",\"func-S-0-all\",\n",
    " \"D_mc_CRY-chi-3-all\",\"D_mc_CRY-chi-1-all\",\"func-alpha-0-all\",\n",
    " \"D_mc_CRY-T-2-all\",\"mc_CRY-Z-2-all\",\"D_mc_CRY-chi-2-all\",\n",
    "\"total_SA_gravimetric\",\"total_POV_gravimetric\",\"Di\",\"density [g/cm^3]\",\n",
    " \"func-S-0-all\",\n",
    " \"func-chi-2-all\",\"func-alpha-0-all\",\n",
    " \"total_POV_volumetric\",\"D_func-alpha-1-all\",\"total_SA_volumetric\",\n",
    " \"func-alpha-1-all\",\n",
    " \"func-alpha-3-all\",\n",
    " \"Dif\",\n",
    " \"Df\",\n",
    " \"func-chi-3-all\"\n",
    "])"
   ]
  },
  {
   "cell_type": "code",
   "execution_count": 9,
   "metadata": {},
   "outputs": [],
   "source": [
    "X = pmof[feat]"
   ]
  },
  {
   "cell_type": "code",
   "execution_count": 10,
   "metadata": {},
   "outputs": [],
   "source": [
    "X = StandardScaler().fit_transform(X)\n",
    "X = VarianceThreshold(0.2).fit_transform(X)"
   ]
  },
  {
   "cell_type": "code",
   "execution_count": 11,
   "metadata": {},
   "outputs": [],
   "source": [
    "X_train, y_train, indices = get_kmeans_samples(X, y, 15)"
   ]
  },
  {
   "cell_type": "code",
   "execution_count": 12,
   "metadata": {},
   "outputs": [],
   "source": [
    "model = build_coregionalized_model(X_train, y_train)"
   ]
  },
  {
   "cell_type": "code",
   "execution_count": 13,
   "metadata": {},
   "outputs": [
    {
     "name": "stderr",
     "output_type": "stream",
     "text": [
      " /Users/kevinmaikjablonka/opt/miniconda3/envs/dispersant_basf/lib/python3.7/site-packages/GPy/kern/src/stationary.py:137: RuntimeWarning:overflow encountered in square\n",
      " /Users/kevinmaikjablonka/opt/miniconda3/envs/dispersant_basf/lib/python3.7/site-packages/GPy/kern/src/stationary.py:138: RuntimeWarning:invalid value encountered in add\n",
      " /Users/kevinmaikjablonka/opt/miniconda3/envs/dispersant_basf/lib/python3.7/site-packages/GPy/kern/src/stationary.py:697: RuntimeWarning:invalid value encountered in multiply\n",
      " /Users/kevinmaikjablonka/opt/miniconda3/envs/dispersant_basf/lib/python3.7/site-packages/GPy/kern/src/stationary.py:704: RuntimeWarning:invalid value encountered in multiply\n",
      " /Users/kevinmaikjablonka/opt/miniconda3/envs/dispersant_basf/lib/python3.7/site-packages/GPy/kern/src/stationary.py:166: RuntimeWarning:overflow encountered in true_divide\n",
      " /Users/kevinmaikjablonka/opt/miniconda3/envs/dispersant_basf/lib/python3.7/site-packages/GPy/kern/src/stationary.py:243: RuntimeWarning:invalid value encountered in true_divide\n"
     ]
    },
    {
     "data": {
      "text/plain": [
       "<paramz.optimization.optimization.opt_lbfgsb at 0x7f92381e1828>"
      ]
     },
     "execution_count": 13,
     "metadata": {},
     "output_type": "execute_result"
    }
   ],
   "source": [
    "model.optimize()"
   ]
  },
  {
   "cell_type": "code",
   "execution_count": 14,
   "metadata": {},
   "outputs": [],
   "source": [
    "X_test = np.delete(X, indices, 0)\n",
    "y_test = np.delete(y, indices, 0)"
   ]
  },
  {
   "cell_type": "code",
   "execution_count": 15,
   "metadata": {},
   "outputs": [],
   "source": [
    "pred, var = predict_coregionalized(model, X_test, 0)"
   ]
  },
  {
   "cell_type": "code",
   "execution_count": 16,
   "metadata": {},
   "outputs": [
    {
     "data": {
      "text/plain": [
       "<matplotlib.collections.PathCollection at 0x7f9238cceba8>"
      ]
     },
     "execution_count": 16,
     "metadata": {},
     "output_type": "execute_result"
    },
    {
     "data": {
      "image/png": "[encoded data removed]",
      "text/plain": [
       "<Figure size 432x288 with 1 Axes>"
      ]
     },
     "metadata": {
      "needs_background": "light"
     },
     "output_type": "display_data"
    }
   ],
   "source": [
    "plt.scatter(y_test[:,0], pred, c=var, cmap='coolwarm')"
   ]
  },
  {
   "cell_type": "code",
   "execution_count": 17,
   "metadata": {},
   "outputs": [],
   "source": [
    "models = [\n",
    "    build_coregionalized_model(X_train, y_train, kernel = GPy.kern.RBF(X_train.shape[1], ARD=False))\n",
    "]"
   ]
  },
  {
   "cell_type": "code",
   "execution_count": 18,
   "metadata": {
    "collapsed": true,
    "jupyter": {
     "outputs_hidden": true
    }
   },
   "outputs": [
    {
     "name": "stderr",
     "output_type": "stream",
     "text": [
      "2020-08-16 08:57:39,558 PALlogger    INFO     Starting now the PAL loop\n",
      "  0%|          | 0/1000 [00:00<?, ?it/s] /Users/kevinmaikjablonka/opt/miniconda3/envs/dispersant_basf/lib/python3.7/site-packages/GPy/util/multioutput.py:83: UserWarning:kernel's input dimension overwritten to fit input_dim parameter.\n"
     ]
    },
    {
     "name": "stdout",
     "output_type": "stream",
     "text": [
      "Optimization restart 1/5, f = 111.41946287997175\n",
      "Optimization restart 2/5, f = 111.41946290695348\n",
      "Optimization restart 3/5, f = 111.41946288970506\n",
      "Optimization restart 4/5, f = 111.4194629151374\n",
      "Optimization restart 5/5, f = 111.41946288441072\n"
     ]
    },
    {
     "name": "stderr",
     "output_type": "stream",
     "text": [
      " /Users/kevinmaikjablonka/Dropbox (LSMO)/dispersant_screening_PAL/dispersant_screener/pal.py:263: NumbaWarning:\n",
      "Compilation is falling back to object mode WITH looplifting enabled because Function \"_pareto_classify\" failed type inference due to: Untyped global name 'sum': cannot determine Numba type of <class 'builtin_function_or_method'>\n",
      "\n",
      "File \"../dispersant_screener/pal.py\", line 291:\n",
      "def _pareto_classify(  # pylint:disable=too-many-arguments\n",
      "    <source elided>\n",
      "    # first check the pareto pessimistic front of pareto_optimal_t\n",
      "    if sum(pareto_optimal_0) > 0:\n",
      "    ^\n",
      "\n",
      " /Users/kevinmaikjablonka/Dropbox (LSMO)/dispersant_screening_PAL/dispersant_screener/pal.py:263: NumbaWarning:\n",
      "Compilation is falling back to object mode WITHOUT looplifting enabled because Function \"_pareto_classify\" failed type inference due to: Untyped global name 'sum': cannot determine Numba type of <class 'builtin_function_or_method'>\n",
      "\n",
      "File \"../dispersant_screener/pal.py\", line 291:\n",
      "def _pareto_classify(  # pylint:disable=too-many-arguments\n",
      "    <source elided>\n",
      "    # first check the pareto pessimistic front of pareto_optimal_t\n",
      "    if sum(pareto_optimal_0) > 0:\n",
      "    ^\n",
      "\n",
      " /Users/kevinmaikjablonka/opt/miniconda3/envs/dispersant_basf/lib/python3.7/site-packages/numba/object_mode_passes.py:178: NumbaWarning:Function \"_pareto_classify\" was compiled in object mode without forceobj=True, but has lifted loops.\n",
      "\n",
      "File \"../dispersant_screener/pal.py\", line 284:\n",
      "def _pareto_classify(  # pylint:disable=too-many-arguments\n",
      "    <source elided>\n",
      "    \"\"\"\n",
      "    pareto_optimal_t = pareto_optimal_0.copy()\n",
      "    ^\n",
      "\n",
      " /Users/kevinmaikjablonka/opt/miniconda3/envs/dispersant_basf/lib/python3.7/site-packages/numba/object_mode_passes.py:188: NumbaDeprecationWarning:\n",
      "Fall-back from the nopython compilation path to the object mode compilation path has been detected, this is deprecated behaviour.\n",
      "\n",
      "For more information visit http://numba.pydata.org/numba-doc/latest/reference/deprecation.html#deprecation-of-object-mode-fall-back-behaviour-when-using-jit\n",
      "\n",
      "File \"../dispersant_screener/pal.py\", line 284:\n",
      "def _pareto_classify(  # pylint:disable=too-many-arguments\n",
      "    <source elided>\n",
      "    \"\"\"\n",
      "    pareto_optimal_t = pareto_optimal_0.copy()\n",
      "    ^\n",
      "\n",
      " /Users/kevinmaikjablonka/Dropbox (LSMO)/dispersant_screening_PAL/dispersant_screener/pal.py:358: NumbaWarning:\n",
      "Compilation is falling back to object mode WITH looplifting enabled because Function \"_sample\" failed type inference due to: Use of unsupported NumPy function 'numpy.insert' or unsupported use of the function.\n",
      "\n",
      "File \"../dispersant_screener/pal.py\", line 399:\n",
      "def _sample(  # pylint:disable=too-many-arguments\n",
      "    <source elided>\n",
      "\n",
      "    x_train = np.insert(x_train, x_train.shape[0], x_input[maxid], axis=0)\n",
      "    ^\n",
      "\n",
      "[1] During: typing of get attribute at /Users/kevinmaikjablonka/Dropbox (LSMO)/dispersant_screening_PAL/dispersant_screener/pal.py (399)\n",
      "\n",
      "File \"../dispersant_screener/pal.py\", line 399:\n",
      "def _sample(  # pylint:disable=too-many-arguments\n",
      "    <source elided>\n",
      "\n",
      "    x_train = np.insert(x_train, x_train.shape[0], x_input[maxid], axis=0)\n",
      "    ^\n",
      "\n",
      " /Users/kevinmaikjablonka/Dropbox (LSMO)/dispersant_screening_PAL/dispersant_screener/pal.py:358: NumbaWarning:\n",
      "Compilation is falling back to object mode WITHOUT looplifting enabled because Function \"_sample\" failed type inference due to: cannot determine Numba type of <class 'numba.dispatcher.LiftedLoop'>\n",
      "\n",
      "File \"../dispersant_screener/pal.py\", line 384:\n",
      "def _sample(  # pylint:disable=too-many-arguments\n",
      "    <source elided>\n",
      "\n",
      "    for i in range(0, len(x_input)):\n",
      "    ^\n",
      "\n",
      " /Users/kevinmaikjablonka/opt/miniconda3/envs/dispersant_basf/lib/python3.7/site-packages/numba/object_mode_passes.py:178: NumbaWarning:Function \"_sample\" was compiled in object mode without forceobj=True, but has lifted loops.\n",
      "\n",
      "File \"../dispersant_screener/pal.py\", line 381:\n",
      "def _sample(  # pylint:disable=too-many-arguments\n",
      "    <source elided>\n",
      "\n",
      "    max_uncertainity = 0\n",
      "    ^\n",
      "\n",
      " /Users/kevinmaikjablonka/opt/miniconda3/envs/dispersant_basf/lib/python3.7/site-packages/numba/object_mode_passes.py:188: NumbaDeprecationWarning:\n",
      "Fall-back from the nopython compilation path to the object mode compilation path has been detected, this is deprecated behaviour.\n",
      "\n",
      "For more information visit http://numba.pydata.org/numba-doc/latest/reference/deprecation.html#deprecation-of-object-mode-fall-back-behaviour-when-using-jit\n",
      "\n",
      "File \"../dispersant_screener/pal.py\", line 381:\n",
      "def _sample(  # pylint:disable=too-many-arguments\n",
      "    <source elided>\n",
      "\n",
      "    max_uncertainity = 0\n",
      "    ^\n",
      "\n",
      "2020-08-16 08:58:52,208 PALlogger    INFO     Iteration 1 | Pareto optimal 0, not Pareto optimal 0, unclassified 17379, hypervolume: nan\n",
      "  0%|          | 1/1000 [01:12<20:09:33, 72.65s/it] /Users/kevinmaikjablonka/opt/miniconda3/envs/dispersant_basf/lib/python3.7/site-packages/GPy/util/multioutput.py:83: UserWarning:kernel's input dimension overwritten to fit input_dim parameter.\n"
     ]
    },
    {
     "name": "stdout",
     "output_type": "stream",
     "text": [
      "Optimization restart 1/5, f = 118.8115588794629\n",
      "Optimization restart 2/5, f = 138.51534512872882\n",
      "Optimization restart 3/5, f = 118.81155887499733\n",
      "Optimization restart 4/5, f = 138.51533690247\n",
      "Optimization restart 5/5, f = 118.81155894665747\n"
     ]
    },
    {
     "name": "stderr",
     "output_type": "stream",
     "text": [
      "2020-08-16 09:00:01,249 PALlogger    INFO     Iteration 2 | Pareto optimal 0, not Pareto optimal 0, unclassified 17379, hypervolume: nan\n",
      "  0%|          | 2/1000 [02:21<19:50:21, 71.56s/it] /Users/kevinmaikjablonka/opt/miniconda3/envs/dispersant_basf/lib/python3.7/site-packages/GPy/util/multioutput.py:83: UserWarning:kernel's input dimension overwritten to fit input_dim parameter.\n"
     ]
    },
    {
     "name": "stdout",
     "output_type": "stream",
     "text": [
      "Optimization restart 1/5, f = 126.06589119976952\n",
      "Optimization restart 2/5, f = 146.17667781524386\n",
      "Optimization restart 3/5, f = 126.06589123927913\n",
      "Optimization restart 4/5, f = 146.17663346090256\n",
      "Optimization restart 5/5, f = 126.06589130173926\n"
     ]
    },
    {
     "name": "stderr",
     "output_type": "stream",
     "text": [
      "2020-08-16 09:01:09,281 PALlogger    INFO     Iteration 3 | Pareto optimal 0, not Pareto optimal 0, unclassified 17379, hypervolume: nan\n",
      "  0%|          | 3/1000 [03:29<19:31:33, 70.51s/it]"
     ]
    },
    {
     "name": "stdout",
     "output_type": "stream",
     "text": [
      "Ctrl+c received, terminating and joining pool.\n"
     ]
    },
    {
     "name": "stderr",
     "output_type": "stream",
     "text": [
      "ERROR:root:Internal Python error in the inspect module.\n",
      "Below is the traceback from this internal error.\n",
      "\n"
     ]
    },
    {
     "name": "stdout",
     "output_type": "stream",
     "text": [
      "Traceback (most recent call last):\n",
      "  File \"/Users/kevinmaikjablonka/opt/miniconda3/envs/dispersant_basf/lib/python3.7/site-packages/IPython/core/interactiveshell.py\", line 3331, in run_code\n",
      "    exec(code_obj, self.user_global_ns, self.user_ns)\n",
      "  File \"<ipython-input-18-36d594e6f2d3>\", line 3, in <module>\n",
      "    epsilon=[0.05, 0.05], delta=0.05, beta_scale=1/16, coregionalized=True)\n",
      "  File \"/Users/kevinmaikjablonka/Dropbox (LSMO)/dispersant_screening_PAL/dispersant_screener/pal.py\", line 540, in pal\n",
      "    mus, stds, gps = _get_gp_predictions(gps, x_train, y_train, x_input, coregionalized, optimize)\n",
      "  File \"/Users/kevinmaikjablonka/Dropbox (LSMO)/dispersant_screening_PAL/dispersant_screener/pal.py\", line 109, in _get_gp_predictions\n",
      "    gp.optimize()\n",
      "  File \"/Users/kevinmaikjablonka/opt/miniconda3/envs/dispersant_basf/lib/python3.7/site-packages/paramz/model.py\", line 182, in optimize_restarts\n",
      "    raise e\n",
      "  File \"/Users/kevinmaikjablonka/opt/miniconda3/envs/dispersant_basf/lib/python3.7/site-packages/paramz/model.py\", line 174, in optimize_restarts\n",
      "    self.optimization_runs.append(jobs[i])\n",
      "UnboundLocalError: local variable 'jobs' referenced before assignment\n",
      "\n",
      "During handling of the above exception, another exception occurred:\n",
      "\n",
      "Traceback (most recent call last):\n",
      "  File \"/Users/kevinmaikjablonka/opt/miniconda3/envs/dispersant_basf/lib/python3.7/site-packages/IPython/core/interactiveshell.py\", line 2044, in showtraceback\n",
      "    stb = value._render_traceback_()\n",
      "AttributeError: 'UnboundLocalError' object has no attribute '_render_traceback_'\n",
      "\n",
      "During handling of the above exception, another exception occurred:\n",
      "\n",
      "Traceback (most recent call last):\n",
      "  File \"/Users/kevinmaikjablonka/opt/miniconda3/envs/dispersant_basf/lib/python3.7/site-packages/IPython/core/ultratb.py\", line 1148, in get_records\n",
      "    return _fixed_getinnerframes(etb, number_of_lines_of_context, tb_offset)\n",
      "  File \"/Users/kevinmaikjablonka/opt/miniconda3/envs/dispersant_basf/lib/python3.7/site-packages/IPython/core/ultratb.py\", line 316, in wrapped\n",
      "    return f(*args, **kwargs)\n",
      "  File \"/Users/kevinmaikjablonka/opt/miniconda3/envs/dispersant_basf/lib/python3.7/site-packages/IPython/core/ultratb.py\", line 350, in _fixed_getinnerframes\n",
      "    records = fix_frame_records_filenames(inspect.getinnerframes(etb, context))\n",
      "  File \"/Users/kevinmaikjablonka/opt/miniconda3/envs/dispersant_basf/lib/python3.7/inspect.py\", line 1495, in getinnerframes\n",
      "    frameinfo = (tb.tb_frame,) + getframeinfo(tb, context)\n",
      "  File \"/Users/kevinmaikjablonka/opt/miniconda3/envs/dispersant_basf/lib/python3.7/inspect.py\", line 1453, in getframeinfo\n",
      "    filename = getsourcefile(frame) or getfile(frame)\n",
      "  File \"/Users/kevinmaikjablonka/opt/miniconda3/envs/dispersant_basf/lib/python3.7/inspect.py\", line 696, in getsourcefile\n",
      "    if getattr(getmodule(object, filename), '__loader__', None) is not None:\n",
      "  File \"/Users/kevinmaikjablonka/opt/miniconda3/envs/dispersant_basf/lib/python3.7/inspect.py\", line 739, in getmodule\n",
      "    f = getabsfile(module)\n",
      "  File \"/Users/kevinmaikjablonka/opt/miniconda3/envs/dispersant_basf/lib/python3.7/inspect.py\", line 708, in getabsfile\n",
      "    _filename = getsourcefile(object) or getfile(object)\n",
      "  File \"/Users/kevinmaikjablonka/opt/miniconda3/envs/dispersant_basf/lib/python3.7/inspect.py\", line 693, in getsourcefile\n",
      "    if os.path.exists(filename):\n",
      "  File \"/Users/kevinmaikjablonka/opt/miniconda3/envs/dispersant_basf/lib/python3.7/genericpath.py\", line 19, in exists\n",
      "    os.stat(path)\n",
      "KeyboardInterrupt\n"
     ]
    },
    {
     "ename": "UnboundLocalError",
     "evalue": "local variable 'jobs' referenced before assignment",
     "output_type": "error",
     "traceback": [
      "\u001b[0;31m---------------------------------------------------------------------------\u001b[0m"
     ]
    }
   ],
   "source": [
    "pareto_optimal, hypervolumes, gps, sampled = pal(models, X_train, y_train, X_test, y_test, \n",
    "                                        hv_reference=[5, 5], iterations=1000, verbosity='info',\n",
    "                                        epsilon=[0.05, 0.05], delta=0.05, beta_scale=1/16, coregionalized=True)"
   ]
  },
  {
   "cell_type": "code",
   "execution_count": 17,
   "metadata": {},
   "outputs": [],
   "source": [
    "x_train = np.load('../work/x_train.npy')\n",
    "x_test = np.load('../work/x_test.npy')\n",
    "pareto = np.load('../work/pareto_optimal.npy')\n",
    "\n",
    "y_train = np.load('../work/y_train.npy')\n",
    "y_test = np.load('../work/y_test.npy')"
   ]
  },
  {
   "cell_type": "code",
   "execution_count": 18,
   "metadata": {},
   "outputs": [],
   "source": [
    "X = np.vstack([x_test, x_train])\n",
    "y = np.vstack([y_test, y_train])"
   ]
  },
  {
   "cell_type": "code",
   "execution_count": 19,
   "metadata": {},
   "outputs": [],
   "source": [
    "selected_indices = np.where(np.array(pareto)==1)[0]"
   ]
  },
  {
   "cell_type": "code",
   "execution_count": 20,
   "metadata": {},
   "outputs": [
    {
     "name": "stderr",
     "output_type": "stream",
     "text": [
      " /Users/kevinmaikjablonka/opt/miniconda3/envs/dispersant_basf/lib/python3.7/site-packages/ipykernel_launcher.py:3: MatplotlibDeprecationWarning:\n",
      "The set_smart_bounds function was deprecated in Matplotlib 3.2 and will be removed two minor releases later.\n",
      " /Users/kevinmaikjablonka/opt/miniconda3/envs/dispersant_basf/lib/python3.7/site-packages/ipykernel_launcher.py:4: MatplotlibDeprecationWarning:\n",
      "The set_smart_bounds function was deprecated in Matplotlib 3.2 and will be removed two minor releases later.\n"
     ]
    },
    {
     "data": {
      "text/plain": [
       "Text(0, 0.5, 'DC CO$_2$')"
      ]
     },
     "execution_count": 20,
     "metadata": {},
     "output_type": "execute_result"
    },
    {
     "data": {
      "image/png": "[encoded data removed]",
      "text/plain": [
       "<Figure size 432x288 with 1 Axes>"
      ]
     },
     "metadata": {
      "needs_background": "light"
     },
     "output_type": "display_data"
    }
   ],
   "source": [
    "fig, ax = plt.subplots(1,1)\n",
    "\n",
    "ax.spines['left'].set_smart_bounds(True)\n",
    "ax.spines['bottom'].set_smart_bounds(True)\n",
    "\n",
    "\n",
    "ax.scatter(y[:,0], y[:,1])\n",
    "ax.scatter(y[selected_indices,0], y[selected_indices,1])\n",
    "\n",
    "\n",
    "ax.set_xlabel('DC CH$_4$')\n",
    "ax.set_ylabel('DC CO$_2$')"
   ]
  },
  {
   "cell_type": "code",
   "execution_count": null,
   "metadata": {},
   "outputs": [],
   "source": [
    "len(pareto_optimal)"
   ]
  },
  {
   "cell_type": "code",
   "execution_count": 32,
   "metadata": {},
   "outputs": [],
   "source": [
    "from dispersant_screener.pal import get_hypervolume\n",
    "from dispersant_screener.utils import is_pareto_efficient"
   ]
  },
  {
   "cell_type": "code",
   "execution_count": 56,
   "metadata": {},
   "outputs": [],
   "source": [
    "pareto_true = is_pareto_efficient(-y)"
   ]
  },
  {
   "cell_type": "code",
   "execution_count": 76,
   "metadata": {},
   "outputs": [
    {
     "data": {
      "text/plain": [
       "8890.466868350804"
      ]
     },
     "execution_count": 76,
     "metadata": {},
     "output_type": "execute_result"
    }
   ],
   "source": [
    "get_hypervolume(y[pareto_true], [5,5])"
   ]
  },
  {
   "cell_type": "code",
   "execution_count": null,
   "metadata": {},
   "outputs": [],
   "source": [
    "get_hypervolume(y[pareto_true], [5,5])"
   ]
  },
  {
   "cell_type": "code",
   "execution_count": 78,
   "metadata": {},
   "outputs": [
    {
     "data": {
      "text/plain": [
       "6018.3030861096095"
      ]
     },
     "execution_count": 78,
     "metadata": {},
     "output_type": "execute_result"
    }
   ],
   "source": [
    "get_hypervolume(y[selected_indices], [5,5])"
   ]
  },
  {
   "cell_type": "code",
   "execution_count": 46,
   "metadata": {},
   "outputs": [
    {
     "data": {
      "text/plain": [
       "-0.08133323423231638"
      ]
     },
     "execution_count": 46,
     "metadata": {},
     "output_type": "execute_result"
    }
   ],
   "source": [
    "(8223.597174801002- 8890.466868350813)/8199.22753403605"
   ]
  },
  {
   "cell_type": "code",
   "execution_count": 45,
   "metadata": {},
   "outputs": [
    {
     "data": {
      "text/plain": [
       "8"
      ]
     },
     "execution_count": 45,
     "metadata": {},
     "output_type": "execute_result"
    }
   ],
   "source": [
    "sum(pareto_true)"
   ]
  },
  {
   "cell_type": "code",
   "execution_count": null,
   "metadata": {},
   "outputs": [],
   "source": []
  }
 ],
 "metadata": {
  "kernelspec": {
   "display_name": "Python 3",
   "language": "python",
   "name": "python3"
  },
  "language_info": {
   "codemirror_mode": {
    "name": "ipython",
    "version": 3
   },
   "file_extension": ".py",
   "mimetype": "text/x-python",
   "name": "python",
   "nbconvert_exporter": "python",
   "pygments_lexer": "ipython3",
   "version": "3.7.0"
  }
 },
 "nbformat": 4,
 "nbformat_minor": 4
}
