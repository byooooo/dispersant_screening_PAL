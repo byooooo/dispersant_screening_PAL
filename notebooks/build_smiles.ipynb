{
 "cells": [
  {
   "cell_type": "code",
   "execution_count": 104,
   "metadata": {},
   "outputs": [],
   "source": [
    "import itertools\n",
    "import numpy as np\n",
    "import random\n",
    "\n",
    "from dispersant_screener.featurizer import LinearPolymerSmilesFeaturizer"
   ]
  },
  {
   "cell_type": "code",
   "execution_count": 177,
   "metadata": {},
   "outputs": [],
   "source": [
    "def get_cap(pool, exclude): \n",
    "    for i, char in enumerate(pool): \n",
    "        if char != exclude: \n",
    "            cap = pool.pop(i)\n",
    "            break\n",
    "            \n",
    "    return pool, char"
   ]
  },
  {
   "cell_type": "code",
   "execution_count": 294,
   "metadata": {},
   "outputs": [],
   "source": [
    "def bundle_indv(pool): \n",
    "    if len(pool) > 0:\n",
    "        pairs = []\n",
    "        char_in_pool = set(pool)\n",
    "\n",
    "        character_lists = []\n",
    "\n",
    "        lengths = []\n",
    "\n",
    "        for poolchar in char_in_pool: \n",
    "            sublist = []\n",
    "            for char in pool: \n",
    "                if poolchar == char: \n",
    "                    sublist.append(char)\n",
    "            character_lists.append(sublist)\n",
    "            lengths.append(len(sublist))\n",
    "\n",
    "        num_pairs = min(lengths)\n",
    "\n",
    "        for i in reversed(range(num_pairs)): \n",
    "            pair = []\n",
    "            random.shuffle(character_lists)\n",
    "            for sublist in character_lists: \n",
    "                pair.append(sublist.pop(i))\n",
    "\n",
    "            pairs.append(''.join(pair))\n",
    "\n",
    "        flat_sublists = sum(character_lists, [])\n",
    "\n",
    "        flat_sublists = bundle_indv(flat_sublists)\n",
    "        return flat_sublists + pairs\n",
    "    return pool\n",
    "    \n",
    "    \n",
    "                "
   ]
  },
  {
   "cell_type": "code",
   "execution_count": 295,
   "metadata": {},
   "outputs": [],
   "source": [
    "pool = ['a', 'b', 'a', 'c', 'b', 'a',  'b', 'c']"
   ]
  },
  {
   "cell_type": "code",
   "execution_count": 296,
   "metadata": {},
   "outputs": [
    {
     "data": {
      "text/plain": [
       "8"
      ]
     },
     "execution_count": 296,
     "metadata": {},
     "output_type": "execute_result"
    }
   ],
   "source": [
    "len(pool)"
   ]
  },
  {
   "cell_type": "code",
   "execution_count": 297,
   "metadata": {},
   "outputs": [
    {
     "data": {
      "text/plain": [
       "['ab', 'cba', 'abc']"
      ]
     },
     "execution_count": 297,
     "metadata": {},
     "output_type": "execute_result"
    }
   ],
   "source": [
    "bundle_indv(pool)"
   ]
  },
  {
   "cell_type": "code",
   "execution_count": 509,
   "metadata": {},
   "outputs": [],
   "source": [
    "def get_building_blocks(feat_dict, bundle=True):\n",
    "    W, Tr, R, Ta, W_cl, Tr_cl, R_cl, Ta_cl, length  = feat_dict['[W]'], feat_dict['[Tr]'], feat_dict['[R]'], feat_dict['[Ta]'], feat_dict['max_[W]'], feat_dict['max_[Tr]'], feat_dict['max_[R]'], feat_dict['max_[Ta]'], feat_dict['length']\n",
    "    length_ = length\n",
    "    length = round(length)\n",
    "    w = round(W * length_)\n",
    "    tr = round(Tr * length_)\n",
    "    r = round(R * length_)\n",
    "    ta = round(Ta * length_)\n",
    "        \n",
    "    total_length = w + tr + r + ta \n",
    "    if total_length == length:\n",
    "        w_cluster = round(W_cl)\n",
    "        tr_cluster = round(Tr_cl)\n",
    "        r_cluster = round(R_cl)\n",
    "        ta_cluster = round(Ta_cl)\n",
    "\n",
    "        w_indv = w - w_cluster\n",
    "        tr_indv = tr - tr_cluster\n",
    "        r_indv = r - r_cluster \n",
    "        ta_indv = ta - ta_cluster \n",
    "\n",
    "        building_blocks = []\n",
    "\n",
    "\n",
    "        indv_pool = []\n",
    "\n",
    "        if w_indv: \n",
    "            indv_pool.extend(['[W]']*w_indv)\n",
    "        if tr_indv: \n",
    "            indv_pool.extend(['[Tr]']*tr_indv)\n",
    "        if r_indv: \n",
    "            indv_pool.extend(['[R]']*r_indv)\n",
    "        if ta_indv: \n",
    "            indv_pool.extend(['[Ta]'] * ta_indv)\n",
    "\n",
    "        if w_cluster: \n",
    "            try:\n",
    "                indv_pool, cap_a = get_cap(indv_pool, '[W]')\n",
    "                indv_pool, cap_b = get_cap(indv_pool, '[W]')\n",
    "            except Exception: \n",
    "                cap_a, cap_b = '', ''\n",
    "            building_blocks.append(cap_a + '[W]'*w_cluster + cap_b)\n",
    "        if tr_cluster: \n",
    "            try:\n",
    "                indv_pool, cap_a = get_cap(indv_pool, '[Tr]')\n",
    "                indv_pool, cap_b = get_cap(indv_pool, '[Tr]')\n",
    "            except Exception:\n",
    "                cap_a, cap_b = '', ''\n",
    "            building_blocks.append(cap_a+'[Tr]'*tr_cluster+cap_b)\n",
    "        if r_cluster: \n",
    "            try:\n",
    "                indv_pool, cap_a = get_cap(indv_pool, '[R]')\n",
    "                indv_pool, cap_b = get_cap(indv_pool, '[R]')\n",
    "            except Exception:\n",
    "                cap_a, cap_b = '', ''\n",
    "            building_blocks.append(cap_a + '[R]'*r_cluster + cap_b)\n",
    "        if ta_cluster: \n",
    "            try:\n",
    "                indv_pool, cap_a = get_cap(indv_pool, '[Ta]')\n",
    "                indv_pool, cap_b = get_cap(indv_pool, '[Ta]')\n",
    "            except Exception: \n",
    "                cap_a, cap_b = '', ''\n",
    "            building_blocks.append(cap_a + '[Ta]'*ta_cluster + cap_b)\n",
    "\n",
    "        if bundle: \n",
    "            indv_pool = bundle_indv(indv_pool)\n",
    "\n",
    "        building_blocks.extend(indv_pool)\n",
    "        random.shuffle(building_blocks)\n",
    "\n",
    "        return building_blocks\n",
    "    else: \n",
    "        raise ValueError('Length does not match {}, {}'.format(length, total_length))"
   ]
  },
  {
   "cell_type": "code",
   "execution_count": 510,
   "metadata": {},
   "outputs": [],
   "source": [
    "def check_validity(smiles, feat_dict):\n",
    "    lp = LinearPolymerSmilesFeaturizer(smiles)\n",
    "    feat = lp.featurize()\n",
    "    # check length\n",
    "    if feat['length'] % 2 !=0: \n",
    "        return False \n",
    "    \n",
    "    if feat['max_[Ta]'] != feat_dict['max_[W]']: \n",
    "        return False\n",
    "    \n",
    "    if feat['max_[Tr]'] != feat_dict['max_[Tr]']: \n",
    "        return False\n",
    "    \n",
    "    if feat['max_[R]'] !=  feat_dict['max_[R]']:\n",
    "        return False\n",
    "    \n",
    "    if feat['max_[W]'] != feat_dict['max_[W]']: \n",
    "        return False\n",
    "    \n",
    "    return True"
   ]
  },
  {
   "cell_type": "code",
   "execution_count": 546,
   "metadata": {},
   "outputs": [],
   "source": [
    "test = {'max_[Ta]': 5.0,\n",
    " 'max_[W]': 5.0,\n",
    " 'max_[R]': 32.0,\n",
    " 'max_[Tr]': 2.0,\n",
    " '[W]': 0.10425227257070213,\n",
    " '[Tr]': 0.05218413196461069,\n",
    " '[Ta]': 0.11461193780466528,\n",
    " '[R]': 0.7182974566793282,\n",
    " 'length': 48.0}\n"
   ]
  },
  {
   "cell_type": "code",
   "execution_count": 547,
   "metadata": {},
   "outputs": [],
   "source": [
    "def get_smiles(feat_dict, max_smiles=5, max_trials=5000): \n",
    "    try:\n",
    "        polymer = get_building_blocks(feat_dict)  \n",
    "        perms = []\n",
    "        reversed_perms = []\n",
    "        for i in range(max_smiles):           \n",
    "            trials = 0\n",
    "            while True and (trials < max_trials):\n",
    "                polymer = get_building_blocks(feat_dict)  \n",
    "                perm = np.random.permutation(polymer)  \n",
    "                rev = reversed(perm)\n",
    "                key = ''.join(perm)\n",
    "                rev_key = ''.join(rev)\n",
    "\n",
    "                # Check especially important to verify that we didn't create too large clusters\n",
    "                # With the individual characters\n",
    "                valid = check_validity(key, feat_dict)\n",
    "                if valid:\n",
    "                    # Doesn't matter in which order the smiles is written\n",
    "                    if (key or rev_key not in perms) and (key or rev_key not in perms):                \n",
    "                        perms.append(key)               \n",
    "                        reversed_perms.append(rev_key)\n",
    "                        break    \n",
    "                trials +=1\n",
    "\n",
    "        if len(perms) == 0: \n",
    "            trials = 0\n",
    "            while True and (trials < max_trials):\n",
    "                polymer = get_building_blocks(feat_dict, bundle=False)  \n",
    "                perm = np.random.permutation(polymer)  \n",
    "                rev = reversed(perm)\n",
    "                key = ''.join(perm)\n",
    "                rev_key = ''.join(rev)\n",
    "\n",
    "                # Check especially important to verify that we didn't create too large clusters\n",
    "                # With the individual characters\n",
    "                valid = check_validity(key, feat_dict)\n",
    "                if valid:\n",
    "                    # Doesn't matter in which order the smiles is written\n",
    "                    if (key or rev_key not in perms) and (key or rev_key not in perms):                \n",
    "                        perms.append(key)               \n",
    "                        reversed_perms.append(rev_key)\n",
    "                        break    \n",
    "                trials +=1\n",
    "        if perms: \n",
    "            print('Found SMILES!')\n",
    "        return perms\n",
    "    except ValueError as e:\n",
    "        print(e)\n",
    "        return []"
   ]
  },
  {
   "cell_type": "code",
   "execution_count": 548,
   "metadata": {},
   "outputs": [],
   "source": [
    "test ={'max_[Ta]': 22.0,\n",
    " 'max_[W]': 22.0,\n",
    " 'max_[R]': 18.0,\n",
    " 'max_[Tr]': 4.0,\n",
    " '[W]': 0.031419256539234386,\n",
    " '[Tr]': 0.12365332112631244,\n",
    " '[Ta]': 0.468630730800779,\n",
    " '[R]': 0.379081068026744,\n",
    " 'length': 48.0}"
   ]
  },
  {
   "cell_type": "code",
   "execution_count": 549,
   "metadata": {},
   "outputs": [
    {
     "name": "stdout",
     "output_type": "stream",
     "text": [
      "Found SMILES!\n"
     ]
    },
    {
     "data": {
      "text/plain": [
       "['[Ta][Ta][Ta][Ta][Ta][Ta][Ta][Ta][Ta][Ta][Ta][Ta][Ta][Ta][Ta][Ta][Ta][Ta][Ta][Ta][Ta][Ta][Tr][W][W][W][W][W][W][W][W][W][W][W][W][W][W][W][W][W][W][W][W][W][W][Tr][R][R][R][R][R][R][R][R][R][R][R][R][R][R][R][R][R][R][Tr][Tr][Tr][Tr]',\n",
       " '[R][R][R][R][R][R][R][R][R][R][R][R][R][R][R][R][R][R][Tr][W][W][W][W][W][W][W][W][W][W][W][W][W][W][W][W][W][W][W][W][W][W][Tr][Ta][Ta][Ta][Ta][Ta][Ta][Ta][Ta][Ta][Ta][Ta][Ta][Ta][Ta][Ta][Ta][Ta][Ta][Ta][Ta][Ta][Ta][Tr][Tr][Tr][Tr]',\n",
       " '[Tr][W][W][W][W][W][W][W][W][W][W][W][W][W][W][W][W][W][W][W][W][W][W][Tr][Ta][Ta][Ta][Ta][Ta][Ta][Ta][Ta][Ta][Ta][Ta][Ta][Ta][Ta][Ta][Ta][Ta][Ta][Ta][Ta][Ta][Ta][Tr][Tr][Tr][Tr][R][R][R][R][R][R][R][R][R][R][R][R][R][R][R][R][R][R]',\n",
       " '[Tr][Tr][Tr][Tr][Ta][Ta][Ta][Ta][Ta][Ta][Ta][Ta][Ta][Ta][Ta][Ta][Ta][Ta][Ta][Ta][Ta][Ta][Ta][Ta][Ta][Ta][R][R][R][R][R][R][R][R][R][R][R][R][R][R][R][R][R][R][Tr][W][W][W][W][W][W][W][W][W][W][W][W][W][W][W][W][W][W][W][W][W][W][Tr]',\n",
       " '[R][R][R][R][R][R][R][R][R][R][R][R][R][R][R][R][R][R][Tr][W][W][W][W][W][W][W][W][W][W][W][W][W][W][W][W][W][W][W][W][W][W][Tr][Ta][Ta][Ta][Ta][Ta][Ta][Ta][Ta][Ta][Ta][Ta][Ta][Ta][Ta][Ta][Ta][Ta][Ta][Ta][Ta][Ta][Ta][Tr][Tr][Tr][Tr]']"
      ]
     },
     "execution_count": 549,
     "metadata": {},
     "output_type": "execute_result"
    }
   ],
   "source": [
    "get_smiles(test)"
   ]
  },
  {
   "cell_type": "code",
   "execution_count": 536,
   "metadata": {},
   "outputs": [
    {
     "data": {
      "text/plain": [
       "6.523376855128962"
      ]
     },
     "execution_count": 536,
     "metadata": {},
     "output_type": "execute_result"
    }
   ],
   "source": [
    "test['[W]'] * 43"
   ]
  },
  {
   "cell_type": "code",
   "execution_count": 537,
   "metadata": {},
   "outputs": [
    {
     "data": {
      "text/plain": [
       "17.438666853020642"
      ]
     },
     "execution_count": 537,
     "metadata": {},
     "output_type": "execute_result"
    }
   ],
   "source": [
    "test['[R]'] * 43"
   ]
  },
  {
   "cell_type": "code",
   "execution_count": 540,
   "metadata": {},
   "outputs": [
    {
     "data": {
      "text/plain": [
       "2.5583567949574473"
      ]
     },
     "execution_count": 540,
     "metadata": {},
     "output_type": "execute_result"
    }
   ],
   "source": [
    "test['[Tr]'] * 43"
   ]
  },
  {
   "cell_type": "code",
   "execution_count": 541,
   "metadata": {},
   "outputs": [
    {
     "data": {
      "text/plain": [
       "15.740712095197383"
      ]
     },
     "execution_count": 541,
     "metadata": {},
     "output_type": "execute_result"
    }
   ],
   "source": [
    "test['[Ta]'] * 43"
   ]
  },
  {
   "cell_type": "code",
   "execution_count": 542,
   "metadata": {},
   "outputs": [
    {
     "data": {
      "text/plain": [
       "['[Ta]',\n",
       " '[Ta]',\n",
       " '[Ta]',\n",
       " '[Ta]',\n",
       " '[Ta]',\n",
       " '[Ta]',\n",
       " '[Ta]',\n",
       " '[W][R][R][R][R][R][R][R][R][R][R][R][R][R][R][R][R][R][Tr]',\n",
       " '[Ta]',\n",
       " '[Tr][W][W][W][W][W][W][Tr]',\n",
       " '[Ta]',\n",
       " '[Ta]',\n",
       " '[Ta]',\n",
       " '[Ta]',\n",
       " '[Ta]',\n",
       " '[Ta]',\n",
       " '[Ta][Ta][Ta]',\n",
       " '[Ta]']"
      ]
     },
     "execution_count": 542,
     "metadata": {},
     "output_type": "execute_result"
    }
   ],
   "source": [
    "get_building_blocks(test)"
   ]
  }
 ],
 "metadata": {
  "kernelspec": {
   "display_name": "Python 3",
   "language": "python",
   "name": "python3"
  },
  "language_info": {
   "codemirror_mode": {
    "name": "ipython",
    "version": 3
   },
   "file_extension": ".py",
   "mimetype": "text/x-python",
   "name": "python",
   "nbconvert_exporter": "python",
   "pygments_lexer": "ipython3",
   "version": "3.7.0"
  }
 },
 "nbformat": 4,
 "nbformat_minor": 4
}
