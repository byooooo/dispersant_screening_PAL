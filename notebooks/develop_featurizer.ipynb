{
 "cells": [
  {
   "cell_type": "markdown",
   "metadata": {},
   "source": [
    "# Make some new features"
   ]
  },
  {
   "cell_type": "code",
   "execution_count": 52,
   "metadata": {},
   "outputs": [],
   "source": [
    "import pandas as pd \n",
    "from collections import defaultdict\n",
    "import math\n",
    "import re"
   ]
  },
  {
   "cell_type": "code",
   "execution_count": 2,
   "metadata": {},
   "outputs": [],
   "source": [
    "df = pd.read_csv('../data/X_frac_block.csv')"
   ]
  },
  {
   "cell_type": "code",
   "execution_count": 51,
   "metadata": {},
   "outputs": [
    {
     "data": {
      "text/html": [
       "<div>\n",
       "<style scoped>\n",
       "    .dataframe tbody tr th:only-of-type {\n",
       "        vertical-align: middle;\n",
       "    }\n",
       "\n",
       "    .dataframe tbody tr th {\n",
       "        vertical-align: top;\n",
       "    }\n",
       "\n",
       "    .dataframe thead th {\n",
       "        text-align: right;\n",
       "    }\n",
       "</style>\n",
       "<table border=\"1\" class=\"dataframe\">\n",
       "  <thead>\n",
       "    <tr style=\"text-align: right;\">\n",
       "      <th></th>\n",
       "      <th>Unnamed: 0</th>\n",
       "      <th>[W]</th>\n",
       "      <th>[Ta]</th>\n",
       "      <th>[Tr]</th>\n",
       "      <th>[R]</th>\n",
       "      <th>total_count</th>\n",
       "      <th>sequence_type</th>\n",
       "      <th>block_number</th>\n",
       "      <th>block_type</th>\n",
       "      <th>R_avg_cluster_size</th>\n",
       "      <th>...</th>\n",
       "      <th>max_cluster_size</th>\n",
       "      <th>R_no_of_cluster</th>\n",
       "      <th>Ta_no_of_cluster</th>\n",
       "      <th>Tr_no_of_cluster</th>\n",
       "      <th>W_no_of_cluster</th>\n",
       "      <th>R_max_cluster_size</th>\n",
       "      <th>Ta_max_cluster_size</th>\n",
       "      <th>Tr_max_cluster_size</th>\n",
       "      <th>W_max_cluster_size</th>\n",
       "      <th>smiles</th>\n",
       "    </tr>\n",
       "  </thead>\n",
       "  <tbody>\n",
       "    <tr>\n",
       "      <th>0</th>\n",
       "      <td>0</td>\n",
       "      <td>4.0</td>\n",
       "      <td>4.0</td>\n",
       "      <td>0.0</td>\n",
       "      <td>0.0</td>\n",
       "      <td>8.0</td>\n",
       "      <td>block</td>\n",
       "      <td>2</td>\n",
       "      <td>[W][Ta]</td>\n",
       "      <td>0.0</td>\n",
       "      <td>...</td>\n",
       "      <td>4</td>\n",
       "      <td>0.0</td>\n",
       "      <td>1.0</td>\n",
       "      <td>0.0</td>\n",
       "      <td>1.0</td>\n",
       "      <td>0.0</td>\n",
       "      <td>4.0</td>\n",
       "      <td>0.0</td>\n",
       "      <td>4.0</td>\n",
       "      <td>[W][W][W][W][Ta][Ta][Ta][Ta]</td>\n",
       "    </tr>\n",
       "    <tr>\n",
       "      <th>1</th>\n",
       "      <td>1</td>\n",
       "      <td>12.0</td>\n",
       "      <td>4.0</td>\n",
       "      <td>0.0</td>\n",
       "      <td>0.0</td>\n",
       "      <td>16.0</td>\n",
       "      <td>block</td>\n",
       "      <td>2</td>\n",
       "      <td>[W][Ta]</td>\n",
       "      <td>0.0</td>\n",
       "      <td>...</td>\n",
       "      <td>12</td>\n",
       "      <td>0.0</td>\n",
       "      <td>1.0</td>\n",
       "      <td>0.0</td>\n",
       "      <td>1.0</td>\n",
       "      <td>0.0</td>\n",
       "      <td>4.0</td>\n",
       "      <td>0.0</td>\n",
       "      <td>12.0</td>\n",
       "      <td>[W][W][W][W][W][W][W][W][W][W][W][W][Ta][Ta][T...</td>\n",
       "    </tr>\n",
       "    <tr>\n",
       "      <th>2</th>\n",
       "      <td>2</td>\n",
       "      <td>4.0</td>\n",
       "      <td>12.0</td>\n",
       "      <td>0.0</td>\n",
       "      <td>0.0</td>\n",
       "      <td>16.0</td>\n",
       "      <td>block</td>\n",
       "      <td>2</td>\n",
       "      <td>[W][Ta]</td>\n",
       "      <td>0.0</td>\n",
       "      <td>...</td>\n",
       "      <td>12</td>\n",
       "      <td>0.0</td>\n",
       "      <td>1.0</td>\n",
       "      <td>0.0</td>\n",
       "      <td>1.0</td>\n",
       "      <td>0.0</td>\n",
       "      <td>12.0</td>\n",
       "      <td>0.0</td>\n",
       "      <td>4.0</td>\n",
       "      <td>[W][W][W][W][Ta][Ta][Ta][Ta][Ta][Ta][Ta][Ta][T...</td>\n",
       "    </tr>\n",
       "    <tr>\n",
       "      <th>3</th>\n",
       "      <td>3</td>\n",
       "      <td>12.0</td>\n",
       "      <td>12.0</td>\n",
       "      <td>0.0</td>\n",
       "      <td>0.0</td>\n",
       "      <td>24.0</td>\n",
       "      <td>block</td>\n",
       "      <td>2</td>\n",
       "      <td>[W][Ta]</td>\n",
       "      <td>0.0</td>\n",
       "      <td>...</td>\n",
       "      <td>12</td>\n",
       "      <td>0.0</td>\n",
       "      <td>1.0</td>\n",
       "      <td>0.0</td>\n",
       "      <td>1.0</td>\n",
       "      <td>0.0</td>\n",
       "      <td>12.0</td>\n",
       "      <td>0.0</td>\n",
       "      <td>12.0</td>\n",
       "      <td>[W][W][W][W][W][W][W][W][W][W][W][W][Ta][Ta][T...</td>\n",
       "    </tr>\n",
       "    <tr>\n",
       "      <th>4</th>\n",
       "      <td>4</td>\n",
       "      <td>4.0</td>\n",
       "      <td>0.0</td>\n",
       "      <td>4.0</td>\n",
       "      <td>0.0</td>\n",
       "      <td>8.0</td>\n",
       "      <td>block</td>\n",
       "      <td>2</td>\n",
       "      <td>[W][Tr]</td>\n",
       "      <td>0.0</td>\n",
       "      <td>...</td>\n",
       "      <td>4</td>\n",
       "      <td>0.0</td>\n",
       "      <td>0.0</td>\n",
       "      <td>1.0</td>\n",
       "      <td>1.0</td>\n",
       "      <td>0.0</td>\n",
       "      <td>0.0</td>\n",
       "      <td>4.0</td>\n",
       "      <td>4.0</td>\n",
       "      <td>[W][W][W][W][Tr][Tr][Tr][Tr]</td>\n",
       "    </tr>\n",
       "  </tbody>\n",
       "</table>\n",
       "<p>5 rows × 24 columns</p>\n",
       "</div>"
      ],
      "text/plain": [
       "   Unnamed: 0   [W]  [Ta]  [Tr]  [R]  total_count sequence_type  block_number  \\\n",
       "0           0   4.0   4.0   0.0  0.0          8.0         block             2   \n",
       "1           1  12.0   4.0   0.0  0.0         16.0         block             2   \n",
       "2           2   4.0  12.0   0.0  0.0         16.0         block             2   \n",
       "3           3  12.0  12.0   0.0  0.0         24.0         block             2   \n",
       "4           4   4.0   0.0   4.0  0.0          8.0         block             2   \n",
       "\n",
       "  block_type  R_avg_cluster_size  ...  max_cluster_size  R_no_of_cluster  \\\n",
       "0    [W][Ta]                 0.0  ...                 4              0.0   \n",
       "1    [W][Ta]                 0.0  ...                12              0.0   \n",
       "2    [W][Ta]                 0.0  ...                12              0.0   \n",
       "3    [W][Ta]                 0.0  ...                12              0.0   \n",
       "4    [W][Tr]                 0.0  ...                 4              0.0   \n",
       "\n",
       "   Ta_no_of_cluster  Tr_no_of_cluster  W_no_of_cluster  R_max_cluster_size  \\\n",
       "0               1.0               0.0              1.0                 0.0   \n",
       "1               1.0               0.0              1.0                 0.0   \n",
       "2               1.0               0.0              1.0                 0.0   \n",
       "3               1.0               0.0              1.0                 0.0   \n",
       "4               0.0               1.0              1.0                 0.0   \n",
       "\n",
       "   Ta_max_cluster_size  Tr_max_cluster_size  W_max_cluster_size  \\\n",
       "0                  4.0                  0.0                 4.0   \n",
       "1                  4.0                  0.0                12.0   \n",
       "2                 12.0                  0.0                 4.0   \n",
       "3                 12.0                  0.0                12.0   \n",
       "4                  0.0                  4.0                 4.0   \n",
       "\n",
       "                                              smiles  \n",
       "0                       [W][W][W][W][Ta][Ta][Ta][Ta]  \n",
       "1  [W][W][W][W][W][W][W][W][W][W][W][W][Ta][Ta][T...  \n",
       "2  [W][W][W][W][Ta][Ta][Ta][Ta][Ta][Ta][Ta][Ta][T...  \n",
       "3  [W][W][W][W][W][W][W][W][W][W][W][W][Ta][Ta][T...  \n",
       "4                       [W][W][W][W][Tr][Tr][Tr][Tr]  \n",
       "\n",
       "[5 rows x 24 columns]"
      ]
     },
     "execution_count": 51,
     "metadata": {},
     "output_type": "execute_result"
    }
   ],
   "source": [
    "df.head()"
   ]
  },
  {
   "cell_type": "code",
   "execution_count": 5,
   "metadata": {},
   "outputs": [],
   "source": [
    "smiles = df['smiles'].values"
   ]
  },
  {
   "cell_type": "code",
   "execution_count": 8,
   "metadata": {},
   "outputs": [],
   "source": [
    "CHARACTERS = [\n",
    "    '[W]',\n",
    "    '[Tr]',\n",
    "    '[Ta]',\n",
    "    '[R]'\n",
    "]"
   ]
  },
  {
   "cell_type": "code",
   "execution_count": 53,
   "metadata": {},
   "outputs": [],
   "source": [
    "CHARACTER_REPLACEMENT = dict(zip(CHARACTERS, ['a', 'b', 'c', 'd', 'e', 'f', 'g', 'h', 'i', 'j']))"
   ]
  },
  {
   "cell_type": "code",
   "execution_count": 15,
   "metadata": {},
   "outputs": [],
   "source": [
    "def get_counts(smiles, characters=CHARACTERS):\n",
    "    counts = [smiles.count(char) for char in characters]\n",
    "    return dict(zip(characters, counts))"
   ]
  },
  {
   "cell_type": "code",
   "execution_count": 114,
   "metadata": {},
   "outputs": [],
   "source": [
    "def get_shannon_nonzero(character_count): \n",
    "    counts = [c for c in character_count.values() if c>0]\n",
    "    length = sum(counts)\n",
    "    probs = [count/length for count in counts]\n",
    "    ideal_entropy = entropy_max(length)\n",
    "    entropy = - sum([ p * math.log(p) / math.log(2.0) for p in probs ])\n",
    "\n",
    "    return entropy/ideal_entropy"
   ]
  },
  {
   "cell_type": "code",
   "execution_count": 35,
   "metadata": {},
   "outputs": [],
   "source": [
    "def entropy_max(length):\n",
    "    \"Calculates the max Shannon entropy of a string with given length\"\n",
    "\n",
    "    prob = 1.0 / length\n",
    "\n",
    "    return -1.0 * length * prob * math.log(prob) / math.log(2.0)"
   ]
  },
  {
   "cell_type": "code",
   "execution_count": 48,
   "metadata": {},
   "outputs": [],
   "source": [
    "def get_balance(character_count): \n",
    "    counts = [c for c in character_count.values()]\n",
    "    length = sum(counts)\n",
    "    frequencies = [c/length for c in counts]\n",
    "    return dict(zip(character_count.keys(), frequencies))"
   ]
  },
  {
   "cell_type": "code",
   "execution_count": 16,
   "metadata": {},
   "outputs": [
    {
     "data": {
      "text/plain": [
       "{'[W]': 4, '[Tr]': 0, '[Ta]': 4, '[R]': 0}"
      ]
     },
     "execution_count": 16,
     "metadata": {},
     "output_type": "execute_result"
    }
   ],
   "source": [
    "get_counts(smiles[0])"
   ]
  },
  {
   "cell_type": "code",
   "execution_count": 46,
   "metadata": {},
   "outputs": [
    {
     "data": {
      "text/plain": [
       "(1.0, 3.0)"
      ]
     },
     "execution_count": 46,
     "metadata": {},
     "output_type": "execute_result"
    }
   ],
   "source": [
    "get_shannon_nonzero(get_counts(smiles[0]))"
   ]
  },
  {
   "cell_type": "code",
   "execution_count": 50,
   "metadata": {},
   "outputs": [
    {
     "data": {
      "text/plain": [
       "{'[W]': 0.5, '[Tr]': 0.0, '[Ta]': 0.5, '[R]': 0.0}"
      ]
     },
     "execution_count": 50,
     "metadata": {},
     "output_type": "execute_result"
    }
   ],
   "source": [
    "get_balance(get_counts(smiles[0]))"
   ]
  },
  {
   "cell_type": "code",
   "execution_count": 64,
   "metadata": {},
   "outputs": [
    {
     "data": {
      "text/plain": [
       "'aaaacccc'"
      ]
     },
     "execution_count": 64,
     "metadata": {},
     "output_type": "execute_result"
    }
   ],
   "source": [
    "multiple_replace(smiles[0])"
   ]
  },
  {
   "cell_type": "code",
   "execution_count": 74,
   "metadata": {},
   "outputs": [
    {
     "data": {
      "text/plain": [
       "[('aa', 'a')]"
      ]
     },
     "execution_count": 74,
     "metadata": {},
     "output_type": "execute_result"
    }
   ],
   "source": [
    "re.findall(r'((\\w)\\2{1,})', multiple_replace('[W][W][Ta][W][Ta]'))"
   ]
  },
  {
   "cell_type": "code",
   "execution_count": 63,
   "metadata": {},
   "outputs": [],
   "source": [
    "def multiple_replace(s, replacement_dict=CHARACTER_REPLACEMENT):\n",
    "    for word in replacement_dict:\n",
    "        s = s.replace(word, replacement_dict[word])\n",
    "    return s"
   ]
  },
  {
   "cell_type": "code",
   "execution_count": 75,
   "metadata": {},
   "outputs": [
    {
     "data": {
      "text/plain": [
       "'[W][W][W][W][Ta][Ta][Ta][Ta]'"
      ]
     },
     "execution_count": 75,
     "metadata": {},
     "output_type": "execute_result"
    }
   ],
   "source": [
    "smiles[0]"
   ]
  },
  {
   "cell_type": "code",
   "execution_count": 97,
   "metadata": {},
   "outputs": [],
   "source": [
    "def find_clusters(s, replacement_dict=CHARACTER_REPLACEMENT): \n",
    "    clusters = re.findall(r'((\\w)\\2{1,})', multiple_replace(s, replacement_dict))\n",
    "    cluster_dict = dict(zip(CHARACTER_REPLACEMENT.keys(), [[] for i in CHARACTER_REPLACEMENT.keys()]))\n",
    "    inv_replacement_dict = {v: k for k, v in replacement_dict.items()}\n",
    "    for cluster, character in clusters: \n",
    "        cluster_dict[inv_replacement_dict[character]].append(len(cluster))\n",
    "        \n",
    "    return cluster_dict"
   ]
  },
  {
   "cell_type": "code",
   "execution_count": 98,
   "metadata": {},
   "outputs": [
    {
     "data": {
      "text/plain": [
       "{'[W]': [4, 3], '[Tr]': [], '[Ta]': [4], '[R]': []}"
      ]
     },
     "execution_count": 98,
     "metadata": {},
     "output_type": "execute_result"
    }
   ],
   "source": [
    "find_clusters('[W][W][W][W][Ta][Ta][Ta][Ta][W][W][W]')"
   ]
  },
  {
   "cell_type": "code",
   "execution_count": 107,
   "metadata": {},
   "outputs": [],
   "source": [
    "def get_cluster_stats(s, normalized: bool = True, replacement_dict: dict=CHARACTER_REPLACEMENT):\n",
    "    clusters = find_clusters(s, replacement_dict)\n",
    "    cluster_stats = {}\n",
    "    cluster_stats['total_clusters'] = 0 \n",
    "    for key, value in clusters.items(): \n",
    "        if value:\n",
    "            cluster_stats['num' + '_' + key] = len(value)\n",
    "            cluster_stats['total_clusters'] += len(value)\n",
    "            cluster_stats['max' + '_' + key] = max(value)\n",
    "            cluster_stats['min' + '_' + key] = min(value)\n",
    "        else:\n",
    "            cluster_stats['num' + '_' +  key] = 0\n",
    "            cluster_stats['max' + '_' + key] = 0\n",
    "            cluster_stats['min' + '_' + key] = 0\n",
    "    \n",
    "    if normalized: \n",
    "        for key, value in cluster_stats.items(): \n",
    "            if key != 'total_clusters': \n",
    "                cluster_stats[key] = value/cluster_stats['total_clusters']\n",
    "                \n",
    "    return cluster_stats"
   ]
  },
  {
   "cell_type": "code",
   "execution_count": 112,
   "metadata": {},
   "outputs": [],
   "source": [
    "def get_head_tail_features(string, characters=CHARACTERS): \n",
    "    \"\"\"0/1/2 encoded feature indicating if the building block is at start/end of the polymer chain\"\"\"\n",
    "    is_head_tail = [0] * len(characters)\n",
    "    \n",
    "    for i, char in enumerate(characters): \n",
    "        if string.startswith(char):\n",
    "            is_head_tail[i] += 1\n",
    "        if string.endswith(char):\n",
    "            is_head_tail[i] += 1\n",
    "            \n",
    "    new_keys = ['head_tail_' + char for char in characters ]\n",
    "    return dict(zip(new_keys, is_head_tail))"
   ]
  },
  {
   "cell_type": "code",
   "execution_count": 108,
   "metadata": {},
   "outputs": [
    {
     "data": {
      "text/plain": [
       "{'total_clusters': 3,\n",
       " 'num_[W]': 0.6666666666666666,\n",
       " 'max_[W]': 1.3333333333333333,\n",
       " 'min_[W]': 1.0,\n",
       " 'num_[Tr]': 0.0,\n",
       " 'max_[Tr]': 0.0,\n",
       " 'min_[Tr]': 0.0,\n",
       " 'num_[Ta]': 0.3333333333333333,\n",
       " 'max_[Ta]': 1.3333333333333333,\n",
       " 'min_[Ta]': 1.3333333333333333,\n",
       " 'num_[R]': 0.0,\n",
       " 'max_[R]': 0.0,\n",
       " 'min_[R]': 0.0}"
      ]
     },
     "execution_count": 108,
     "metadata": {},
     "output_type": "execute_result"
    }
   ],
   "source": [
    "get_cluster_stats('[W][W][W][W][Ta][Ta][Ta][Ta][W][W][W]')"
   ]
  },
  {
   "cell_type": "code",
   "execution_count": 113,
   "metadata": {},
   "outputs": [
    {
     "data": {
      "text/plain": [
       "{'head_tail_[W]': 2,\n",
       " 'head_tail_[Tr]': 0,\n",
       " 'head_tail_[Ta]': 0,\n",
       " 'head_tail_[R]': 0}"
      ]
     },
     "execution_count": 113,
     "metadata": {},
     "output_type": "execute_result"
    }
   ],
   "source": [
    "get_head_tail_features('[W][W][W][W][Ta][Ta][Ta][Ta][W][W][W]')"
   ]
  },
  {
   "cell_type": "code",
   "execution_count": 125,
   "metadata": {},
   "outputs": [],
   "source": [
    "class PolymerSmilesFeaturizer:\n",
    "    def __init__(self, smiles: str, normalized_cluster_stats: bool = True): \n",
    "        self.smiles = smiles\n",
    "        self.characters = ['[W]', '[Tr]', '[Ta]', '[R]']\n",
    "        self.replacement_dict = dict(zip(self.characters, ['a', 'b', 'c', 'd', 'e', 'f', 'g', 'h', 'i', 'j']))\n",
    "        self.normalized_cluster_stats = normalized_cluster_stats\n",
    "        \n",
    "    @staticmethod\n",
    "    def get_head_tail_features(string: str, characters: list): \n",
    "        \"\"\"0/1/2 encoded feature indicating if the building block is at start/end of the polymer chain\"\"\"\n",
    "        is_head_tail = [0] * len(characters)\n",
    "\n",
    "        for i, char in enumerate(characters): \n",
    "            if string.startswith(char):\n",
    "                is_head_tail[i] += 1\n",
    "            if string.endswith(char):\n",
    "                is_head_tail[i] += 1\n",
    "\n",
    "        new_keys = ['head_tail_' + char for char in characters ]\n",
    "        return dict(zip(new_keys, is_head_tail))\n",
    "    \n",
    "    \n",
    "    @staticmethod \n",
    "    def get_cluster_stats(s: str, replacement_dict: dict, normalized: bool = True):\n",
    "        clusters = PolymerSmilesFeaturizer.find_clusters(s, replacement_dict)\n",
    "        cluster_stats = {}\n",
    "        cluster_stats['total_clusters'] = 0 \n",
    "        for key, value in clusters.items(): \n",
    "            if value:\n",
    "                cluster_stats['num' + '_' + key] = len(value)\n",
    "                cluster_stats['total_clusters'] += len(value)\n",
    "                cluster_stats['max' + '_' + key] = max(value)\n",
    "                cluster_stats['min' + '_' + key] = min(value)\n",
    "            else:\n",
    "                cluster_stats['num' + '_' +  key] = 0\n",
    "                cluster_stats['max' + '_' + key] = 0\n",
    "                cluster_stats['min' + '_' + key] = 0\n",
    "\n",
    "        if normalized: \n",
    "            for key, value in cluster_stats.items(): \n",
    "                if key != 'total_clusters': \n",
    "                    cluster_stats[key] = value/cluster_stats['total_clusters']\n",
    "\n",
    "        return cluster_stats\n",
    "    \n",
    "    @staticmethod\n",
    "    def find_clusters(s: str, replacement_dict: dict): \n",
    "        clusters = re.findall(r'((\\w)\\2{1,})', PolymerSmilesFeaturizer._multiple_replace(s, replacement_dict))\n",
    "        cluster_dict = dict(zip(replacement_dict.keys(), [[] for i in replacement_dict.keys()]))\n",
    "        inv_replacement_dict = {v: k for k, v in replacement_dict.items()}\n",
    "        for cluster, character in clusters: \n",
    "            cluster_dict[inv_replacement_dict[character]].append(len(cluster))\n",
    "\n",
    "        return cluster_dict\n",
    "    \n",
    "    @staticmethod\n",
    "    def _multiple_replace(s: str, replacement_dict: dict):\n",
    "        for word in replacement_dict:\n",
    "            s = s.replace(word, replacement_dict[word])\n",
    "        return s\n",
    "    \n",
    "    @staticmethod\n",
    "    def get_counts(smiles: str, characters: list):\n",
    "        counts = [smiles.count(char) for char in characters]\n",
    "        return dict(zip(characters, counts))\n",
    "    \n",
    "    @staticmethod\n",
    "    def get_relative_shannon(character_count: dict): \n",
    "        counts = [c for c in character_count.values() if c>0]\n",
    "        length = sum(counts)\n",
    "        probs = [count/length for count in counts]\n",
    "        ideal_entropy = PolymerSmilesFeaturizer._entropy_max(length)\n",
    "        entropy = - sum([ p * math.log(p) / math.log(2.0) for p in probs ])\n",
    "\n",
    "        return entropy/ideal_entropy\n",
    "    \n",
    "    @staticmethod\n",
    "    def _entropy_max(length: int):\n",
    "        \"Calculates the max Shannon entropy of a string with given length\"\n",
    "\n",
    "        prob = 1.0 / length\n",
    "\n",
    "        return -1.0 * length * prob * math.log(prob) / math.log(2.0)\n",
    "        \n",
    "    @staticmethod\n",
    "    def get_balance(character_count: dict): \n",
    "        counts = [c for c in character_count.values()]\n",
    "        length = sum(counts)\n",
    "        frequencies = [c/length for c in counts]\n",
    "        return dict(zip(character_count.keys(), frequencies))\n",
    "    \n",
    "    def _featurize(self): \n",
    "        self._character_count = PolymerSmilesFeaturizer.get_counts(self.smiles, self.characters)\n",
    "        self._balance = PolymerSmilesFeaturizer.get_balance(self._character_count)\n",
    "        self._relative_shannon = PolymerSmilesFeaturizer.get_relative_shannon(self._character_count)\n",
    "        self._cluster_stats = PolymerSmilesFeaturizer.get_cluster_stats(self.smiles, self.replacement_dict, self.normalized_cluster_stats)\n",
    "        self._head_tail_feat = PolymerSmilesFeaturizer.get_head_tail_features(self.smiles, self.characters)\n",
    "        \n",
    "        \n",
    "        self.features = self._head_tail_feat\n",
    "        self.features.update(self._cluster_stats)\n",
    "        self.features.update(self._balance)\n",
    "        self.features['rel_shannon'] = self._relative_shannon\n",
    "        self.features['length'] = sum(self._character_count.values())\n",
    "        \n",
    "    def featurize(self): \n",
    "        self._featurize()\n",
    "        return self.features"
   ]
  },
  {
   "cell_type": "code",
   "execution_count": 126,
   "metadata": {},
   "outputs": [],
   "source": [
    "psf = PolymerSmilesFeaturizer('[W][W][W][W][Ta][Ta][Ta][Ta][W][W][W]')"
   ]
  },
  {
   "cell_type": "code",
   "execution_count": 127,
   "metadata": {},
   "outputs": [
    {
     "data": {
      "text/plain": [
       "{'head_tail_[W]': 2,\n",
       " 'head_tail_[Tr]': 0,\n",
       " 'head_tail_[Ta]': 0,\n",
       " 'head_tail_[R]': 0,\n",
       " 'total_clusters': 3,\n",
       " 'num_[W]': 0.6666666666666666,\n",
       " 'max_[W]': 1.3333333333333333,\n",
       " 'min_[W]': 1.0,\n",
       " 'num_[Tr]': 0.0,\n",
       " 'max_[Tr]': 0.0,\n",
       " 'min_[Tr]': 0.0,\n",
       " 'num_[Ta]': 0.3333333333333333,\n",
       " 'max_[Ta]': 1.3333333333333333,\n",
       " 'min_[Ta]': 1.3333333333333333,\n",
       " 'num_[R]': 0.0,\n",
       " 'max_[R]': 0.0,\n",
       " 'min_[R]': 0.0,\n",
       " '[W]': 0.6363636363636364,\n",
       " '[Tr]': 0.0,\n",
       " '[Ta]': 0.36363636363636365,\n",
       " '[R]': 0.0,\n",
       " 'rel_shannon': 0.27335713170510495,\n",
       " 'length': 11}"
      ]
     },
     "execution_count": 127,
     "metadata": {},
     "output_type": "execute_result"
    }
   ],
   "source": [
    "psf.featurize()"
   ]
  },
  {
   "cell_type": "code",
   "execution_count": null,
   "metadata": {},
   "outputs": [],
   "source": []
  }
 ],
 "metadata": {
  "kernelspec": {
   "display_name": "Python [conda env:dispersant_basf] *",
   "language": "python",
   "name": "conda-env-dispersant_basf-py"
  },
  "language_info": {
   "codemirror_mode": {
    "name": "ipython",
    "version": 3
   },
   "file_extension": ".py",
   "mimetype": "text/x-python",
   "name": "python",
   "nbconvert_exporter": "python",
   "pygments_lexer": "ipython3",
   "version": "3.7.0"
  }
 },
 "nbformat": 4,
 "nbformat_minor": 4
}
