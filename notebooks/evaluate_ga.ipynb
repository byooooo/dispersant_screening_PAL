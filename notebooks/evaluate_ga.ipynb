{
 "cells": [
  {
   "cell_type": "code",
   "execution_count": 31,
   "metadata": {},
   "outputs": [],
   "source": [
    "import joblib\n",
    "import matplotlib.pyplot as plt \n",
    "%matplotlib inline"
   ]
  },
  {
   "cell_type": "code",
   "execution_count": 32,
   "metadata": {},
   "outputs": [
    {
     "name": "stdout",
     "output_type": "stream",
     "text": [
      "The autoreload extension is already loaded. To reload it, use:\n",
      "  %reload_ext autoreload\n"
     ]
    }
   ],
   "source": [
    "import sys \n",
    "import os \n",
    "from pathlib import Path \n",
    "import numpy as np \n",
    "import joblib\n",
    "\n",
    "%load_ext autoreload\n",
    "%autoreload 2\n",
    "\n",
    "import pandas as pd\n",
    "import shap \n",
    "from xgboost import XGBRegressor\n",
    "from sklearn.preprocessing import StandardScaler\n",
    "from sklearn.feature_selection import VarianceThreshold\n",
    "from sklearn.model_selection import train_test_split\n",
    "from sklearn.decomposition import PCA\n",
    "\n",
    "import umap\n",
    "\n",
    "import matplotlib.pyplot as plt \n",
    "%matplotlib inline \n",
    "\n",
    "import seaborn as sns\n",
    "plt.rcParams['font.family'] = 'sans-serif'\n",
    "\n",
    "DATADIR = '../data'\n",
    "TRAIN_SIZE = 0.7\n",
    "\n",
    "\n",
    "import sys \n",
    "sys.path.append('../')\n",
    "from dispersant_screener.definitions import FEATURES\n",
    "from dispersant_screener.utils import plot_parity\n",
    "from dispersant_screener.ga import FEATURES\n",
    "\n",
    "\n",
    "import wandb\n",
    "from lightgbm import LGBMRegressor\n",
    "\n",
    "df_full_factorial_feat = pd.read_csv(os.path.join(DATADIR, 'new_features_full_random.csv'))[FEATURES].values\n",
    "a2 = pd.read_csv(os.path.join(DATADIR, 'b1-b21_random_virial_large_new.csv'))['A2_normalized'].values\n",
    "deltaGMax = pd.read_csv(os.path.join(DATADIR, 'b1-b21_random_virial_large_new.csv'))['A2_normalized'].values\n",
    "gibbs = pd.read_csv(os.path.join(DATADIR, 'b1-b21_random_deltaG.csv'))['deltaGmin'].values\n",
    "gibbs_max = pd.read_csv(os.path.join(DATADIR, 'b1-b21_random_virial_large_new.csv'))['deltaGmax'].values\n",
    "force_max = pd.read_csv(os.path.join(DATADIR, 'b1-b21_random_virial_large_fit2.csv'))['F_repel_max'].values\n",
    "rg = pd.read_csv(os.path.join(DATADIR, 'rg_results.csv'))['Rg'].values\n",
    "y = np.hstack([\n",
    "    rg.reshape(-1, 1),\n",
    "    -1* gibbs.reshape(-1, 1),\n",
    "    gibbs_max.reshape(-1, 1),\n",
    "])\n",
    "assert len(df_full_factorial_feat) == len(a2) == len(gibbs) == len(y)"
   ]
  },
  {
   "cell_type": "code",
   "execution_count": 34,
   "metadata": {},
   "outputs": [],
   "source": [
    "ga_0 = joblib.load('../work/20200911-104755-ga_0.joblib')\n",
    "ga_0_1 = joblib.load('../work/20200913-224258-ga_0.joblib')\n",
    "ga_1 = joblib.load('../work/20200911-104755-ga_1.joblib')\n",
    "ga_2 = joblib.load('../work//20200911-104755-ga_2.joblib')"
   ]
  },
  {
   "cell_type": "code",
   "execution_count": 35,
   "metadata": {},
   "outputs": [
    {
     "name": "stderr",
     "output_type": "stream",
     "text": [
      " /Users/kevinmaikjablonka/opt/miniconda3/envs/dispersant_basf/lib/python3.7/site-packages/ipykernel_launcher.py:6: MatplotlibDeprecationWarning:\n",
      "The set_smart_bounds function was deprecated in Matplotlib 3.2 and will be removed two minor releases later.\n",
      " /Users/kevinmaikjablonka/opt/miniconda3/envs/dispersant_basf/lib/python3.7/site-packages/ipykernel_launcher.py:7: MatplotlibDeprecationWarning:\n",
      "The set_smart_bounds function was deprecated in Matplotlib 3.2 and will be removed two minor releases later.\n"
     ]
    },
    {
     "data": {
      "image/png": "[encoded data removed]",
      "text/plain": [
       "<Figure size 576x216 with 3 Axes>"
      ]
     },
     "metadata": {
      "needs_background": "light"
     },
     "output_type": "display_data"
    }
   ],
   "source": [
    "plt.rcParams['font.family'] = 'sans-serif'\n",
    "    \n",
    "fig, ax = plt.subplots(1,3, sharex='all', figsize=(8,3))\n",
    "\n",
    "for a in ax:\n",
    "    a.spines['left'].set_smart_bounds(True)\n",
    "    a.spines['bottom'].set_smart_bounds(True)\n",
    "    a.set_xlabel('iterations')\n",
    "    a.set_ylabel('loss')\n",
    "    \n",
    "for ga in ga_0: \n",
    "    ax[0].plot(ga.report)\n",
    "    \n",
    "for ga in ga_1: \n",
    "    ax[1].plot(ga.report)\n",
    "        \n",
    "for ga in ga_2: \n",
    "    ax[2].plot(ga.report)\n",
    "    \n",
    "\n",
    "ax[0].set_title(r'$R_g$')\n",
    "ax[1].set_title(r'$\\Delta G_{\\mathrm{ads}}$')\n",
    "ax[2].set_title(r'$\\Delta G_{\\mathrm{rep}}$')\n",
    "\n",
    "fig.tight_layout()\n",
    "\n",
    "fig.savefig('ga_gpr_convergence.pdf', bbox_inches='tight')"
   ]
  },
  {
   "cell_type": "code",
   "execution_count": 36,
   "metadata": {},
   "outputs": [
    {
     "name": "stdout",
     "output_type": "stream",
     "text": [
      "{'variable': array([4.00000000e+00, 1.40000000e+01, 0.00000000e+00, 0.00000000e+00,\n",
      "       5.99383021e-01, 1.46398658e-01, 2.59317570e-01, 1.14243410e-02,\n",
      "       2.50000000e+01]), 'function': -6.157197297177747}\n",
      "{'variable': array([ 5.        ,  2.        ,  0.        ,  0.        ,  0.13517581,\n",
      "        0.35599756,  0.35370514,  0.14128301, 42.        ]), 'function': -6.157773360677283}\n",
      "{'variable': array([ 1.        ,  1.        ,  4.        ,  0.        ,  0.06410272,\n",
      "        0.43955999,  0.33928413,  0.12178224, 40.        ]), 'function': -6.157773360677283}\n",
      "{'variable': array([ 1.        ,  4.        ,  0.        ,  0.        ,  0.1130529 ,\n",
      "        0.3583782 ,  0.41146289,  0.14165202, 37.        ]), 'function': -6.157773360677283}\n",
      "{'variable': array([1.00000000e+01, 1.00000000e+00, 0.00000000e+00, 0.00000000e+00,\n",
      "       3.98279289e-02, 3.17817331e-01, 6.65007510e-01, 8.16270752e-04,\n",
      "       2.90000000e+01]), 'function': -6.157773360677283}\n",
      "{'variable': array([ 5.        ,  2.        ,  2.        ,  0.        ,  0.13024274,\n",
      "        0.3341394 ,  0.43780197,  0.12968438, 33.        ]), 'function': -6.157773360677283}\n",
      "{'variable': array([25.        ,  3.        ,  5.        ,  0.        ,  0.11018805,\n",
      "        0.14495966,  0.60626972,  0.13904512, 46.        ]), 'function': -6.157773360677283}\n",
      "{'variable': array([21.        ,  6.        ,  3.        ,  0.        ,  0.13687665,\n",
      "        0.1314988 ,  0.60047557,  0.12576806, 45.        ]), 'function': -6.157773360677283}\n",
      "{'variable': array([ 6.        ,  4.        ,  3.        ,  0.        ,  0.09317272,\n",
      "        0.33262278,  0.44199799,  0.13896498, 44.        ]), 'function': -6.157773360677283}\n",
      "{'variable': array([ 6.        ,  4.        ,  3.        ,  0.        ,  0.12086089,\n",
      "        0.22593112,  0.5251304 ,  0.10860256, 34.        ]), 'function': -6.157773360677283}\n",
      "{'variable': array([ 9.        ,  4.        ,  3.        ,  0.        ,  0.14745911,\n",
      "        0.27966068,  0.44114143,  0.13782913, 43.        ]), 'function': -6.157773360677283}\n",
      "{'variable': array([ 9.        ,  1.        ,  0.        ,  0.        ,  0.14112392,\n",
      "        0.0429843 ,  0.67196821,  0.13653781, 18.        ]), 'function': -6.157773360677283}\n",
      "{'variable': array([ 3.        ,  4.        ,  2.        ,  0.        ,  0.13215831,\n",
      "        0.25789038,  0.47068786,  0.13932331, 48.        ]), 'function': -6.157773360677283}\n",
      "{'variable': array([ 9.        ,  5.        ,  2.        ,  0.        ,  0.12290298,\n",
      "        0.23034413,  0.52829203,  0.11981627, 42.        ]), 'function': -6.157773360677283}\n",
      "{'variable': array([11.        ,  4.        ,  6.        ,  0.        ,  0.13739276,\n",
      "        0.19235836,  0.53575032,  0.13649951, 45.        ]), 'function': -6.157773360677283}\n",
      "{'variable': array([13.        ,  2.        ,  4.        ,  0.        ,  0.09706377,\n",
      "        0.20740579,  0.57566352,  0.10806243, 41.        ]), 'function': -6.157773360677283}\n",
      "{'variable': array([10.        ,  1.        ,  5.        ,  0.        ,  0.05204008,\n",
      "        0.26355179,  0.54470299,  0.13949805, 45.        ]), 'function': -6.157773360677283}\n",
      "{'variable': array([10.        ,  3.        ,  4.        ,  0.        ,  0.1242011 ,\n",
      "        0.25665647,  0.53856133,  0.09699867, 43.        ]), 'function': -6.157773360677283}\n",
      "{'variable': array([10.        ,  1.        ,  0.        ,  0.        ,  0.08039561,\n",
      "        0.18997006,  0.67346644,  0.0564517 , 26.        ]), 'function': -6.157773360677283}\n",
      "{'variable': array([ 4.        ,  3.        ,  4.        ,  0.        ,  0.12509693,\n",
      "        0.27697346,  0.49609517,  0.11048681, 45.        ]), 'function': -6.157773360677283}\n",
      "{'variable': array([1.00000000e+01, 2.00000000e+00, 0.00000000e+00, 0.00000000e+00,\n",
      "       1.41964502e-01, 2.64019241e-01, 5.59397709e-01, 1.94987938e-02,\n",
      "       3.60000000e+01]), 'function': -6.157773360677283}\n",
      "{'variable': array([16.        ,  1.        ,  1.        ,  0.        ,  0.10995286,\n",
      "        0.14749515,  0.66877373,  0.08677103, 37.        ]), 'function': -6.157773360677283}\n",
      "{'variable': array([5.00000000e+00, 1.80000000e+01, 2.00000000e+00, 0.00000000e+00,\n",
      "       6.95621396e-01, 1.08311340e-02, 2.39328726e-01, 8.83683674e-02,\n",
      "       3.90000000e+01]), 'function': -6.157197297177747}\n",
      "{'variable': array([ 8.        ,  1.        ,  0.        ,  0.        ,  0.1403518 ,\n",
      "        0.1516822 ,  0.62848817,  0.05510829, 20.        ]), 'function': -6.157773360677283}\n",
      "{'variable': array([2.80000000e+01, 5.00000000e+00, 4.00000000e+00, 0.00000000e+00,\n",
      "       1.45763838e-01, 2.38972935e-02, 6.90724835e-01, 1.29008499e-01,\n",
      "       4.50000000e+01]), 'function': -6.157773360677283}\n",
      "{'variable': array([ 6.        ,  2.        ,  5.        ,  0.        ,  0.06009266,\n",
      "        0.27424316,  0.49501211,  0.13175648, 42.        ]), 'function': -6.157773360677283}\n",
      "{'variable': array([ 9.        ,  1.        ,  0.        ,  0.        ,  0.06734201,\n",
      "        0.28429501,  0.57764383,  0.08269545, 36.        ]), 'function': -6.157773360677283}\n",
      "{'variable': array([7.00000000e+00, 1.00000000e+01, 2.00000000e+00, 0.00000000e+00,\n",
      "       5.94833896e-01, 1.36284029e-02, 3.11258655e-01, 1.38903175e-01,\n",
      "       2.40000000e+01]), 'function': -6.157197297177747}\n",
      "{'variable': array([ 9.        ,  2.        ,  0.        ,  0.        ,  0.07500129,\n",
      "        0.29265603,  0.49942377,  0.12930157, 47.        ]), 'function': -6.157773360677283}\n",
      "{'variable': array([ 6.        , 10.        ,  2.        ,  0.        ,  0.643384  ,\n",
      "        0.05428001,  0.25700935,  0.09137451, 27.        ]), 'function': -6.157197297177747}\n"
     ]
    }
   ],
   "source": [
    "for g in ga_0:\n",
    "    print(g.output_dict)"
   ]
  },
  {
   "cell_type": "code",
   "execution_count": 37,
   "metadata": {},
   "outputs": [],
   "source": [
    "def get_converged_ga_feat_val(gas): \n",
    "    feats = []\n",
    "    vals = []\n",
    "    for ga in gas: \n",
    "        if ga.output_dict['function'] < 0:\n",
    "            feats.append(ga.output_dict['variable'])\n",
    "            vals.append(ga.output_dict['function'])\n",
    "            \n",
    "    return feats, vals"
   ]
  },
  {
   "cell_type": "code",
   "execution_count": 38,
   "metadata": {},
   "outputs": [],
   "source": [
    "feat_0, vals_0 = get_converged_ga_feat_val(ga_0)\n",
    "feat_0_1, vals_0_1 = get_converged_ga_feat_val(ga_0)\n",
    "feat_1, vals_1 = get_converged_ga_feat_val(ga_1)\n",
    "feat_2, vals_2 = get_converged_ga_feat_val(ga_2)"
   ]
  },
  {
   "cell_type": "code",
   "execution_count": 8,
   "metadata": {},
   "outputs": [],
   "source": [
    "scaler = StandardScaler()\n",
    "X = scaler.fit_transform(df_full_factorial_feat)"
   ]
  },
  {
   "cell_type": "code",
   "execution_count": 39,
   "metadata": {},
   "outputs": [],
   "source": [
    "feat_0 = np.vstack([feat_0, feat_0_1])"
   ]
  },
  {
   "cell_type": "code",
   "execution_count": 40,
   "metadata": {},
   "outputs": [],
   "source": [
    "feat_0_scaled = scaler.transform(feat_0)\n",
    "feat_1_scaled = scaler.transform(feat_1)\n",
    "feat_2_scaled = scaler.transform(feat_2)"
   ]
  },
  {
   "cell_type": "code",
   "execution_count": 41,
   "metadata": {},
   "outputs": [],
   "source": [
    "pca = PCA(2)"
   ]
  },
  {
   "cell_type": "code",
   "execution_count": 42,
   "metadata": {},
   "outputs": [],
   "source": [
    "X_pca = pca.fit_transform(X)"
   ]
  },
  {
   "cell_type": "code",
   "execution_count": 43,
   "metadata": {},
   "outputs": [],
   "source": [
    "feat_0_scaled_pca = pca.transform(feat_0_scaled)\n",
    "feat_1_scaled_pca = pca.transform(feat_1_scaled)\n",
    "feat_2_scaled_pca = pca.transform(feat_2_scaled)"
   ]
  },
  {
   "cell_type": "code",
   "execution_count": 44,
   "metadata": {},
   "outputs": [
    {
     "name": "stderr",
     "output_type": "stream",
     "text": [
      " /Users/kevinmaikjablonka/opt/miniconda3/envs/dispersant_basf/lib/python3.7/site-packages/ipykernel_launcher.py:8: MatplotlibDeprecationWarning:\n",
      "The set_smart_bounds function was deprecated in Matplotlib 3.2 and will be removed two minor releases later.\n",
      " /Users/kevinmaikjablonka/opt/miniconda3/envs/dispersant_basf/lib/python3.7/site-packages/ipykernel_launcher.py:9: MatplotlibDeprecationWarning:\n",
      "The set_smart_bounds function was deprecated in Matplotlib 3.2 and will be removed two minor releases later.\n"
     ]
    },
    {
     "data": {
      "image/png": "[encoded data removed]",
      "text/plain": [
       "<Figure size 432x288 with 1 Axes>"
      ]
     },
     "metadata": {
      "needs_background": "light"
     },
     "output_type": "display_data"
    }
   ],
   "source": [
    "fig, ax = plt.subplots(1,1)\n",
    "ax.scatter(X_pca[:,0], X_pca[:,1], label='DoE')\n",
    "ax.scatter(feat_0_scaled_pca[:,0], feat_0_scaled_pca[:,1], label=r'$R_G$ GA')\n",
    "ax.scatter(feat_1_scaled_pca[:,0], feat_1_scaled_pca[:,1], label=r'$G_\\mathrm{ads}$ GA')\n",
    "ax.scatter(feat_2_scaled_pca[:,0], feat_2_scaled_pca[:,1], label=r'$G_\\mathrm{rep}$ GA')\n",
    "\n",
    "\n",
    "ax.spines['left'].set_smart_bounds(True)\n",
    "ax.spines['bottom'].set_smart_bounds(True)\n",
    "\n",
    "\n",
    "ax.set_xlabel('first principal component')\n",
    "ax.set_ylabel('second principal component')\n",
    "ax.legend()\n",
    "\n",
    "fig.tight_layout()\n",
    "fig.savefig('ga_gpr_pca.pdf', bbox_inches='tight')\n",
    "#"
   ]
  },
  {
   "cell_type": "code",
   "execution_count": 45,
   "metadata": {},
   "outputs": [],
   "source": [
    "reducer = umap.UMAP()"
   ]
  },
  {
   "cell_type": "code",
   "execution_count": 46,
   "metadata": {},
   "outputs": [],
   "source": [
    "embedding = reducer.fit_transform(X)"
   ]
  },
  {
   "cell_type": "code",
   "execution_count": 47,
   "metadata": {},
   "outputs": [],
   "source": [
    "feat_0_scaled_umap = reducer.transform(feat_0_scaled)\n",
    "feat_1_scaled_umap = reducer.transform(feat_1_scaled)\n",
    "feat_2_scaled_umap = reducer.transform(feat_2_scaled)"
   ]
  },
  {
   "cell_type": "code",
   "execution_count": 48,
   "metadata": {},
   "outputs": [
    {
     "name": "stderr",
     "output_type": "stream",
     "text": [
      " /Users/kevinmaikjablonka/opt/miniconda3/envs/dispersant_basf/lib/python3.7/site-packages/ipykernel_launcher.py:8: MatplotlibDeprecationWarning:\n",
      "The set_smart_bounds function was deprecated in Matplotlib 3.2 and will be removed two minor releases later.\n",
      " /Users/kevinmaikjablonka/opt/miniconda3/envs/dispersant_basf/lib/python3.7/site-packages/ipykernel_launcher.py:9: MatplotlibDeprecationWarning:\n",
      "The set_smart_bounds function was deprecated in Matplotlib 3.2 and will be removed two minor releases later.\n"
     ]
    },
    {
     "data": {
      "image/png": "[encoded data removed]",
      "text/plain": [
       "<Figure size 432x288 with 1 Axes>"
      ]
     },
     "metadata": {
      "needs_background": "light"
     },
     "output_type": "display_data"
    }
   ],
   "source": [
    "fig, ax = plt.subplots(1,1)\n",
    "ax.scatter(embedding[:,0], embedding[:,1], label='DoE')\n",
    "ax.scatter(feat_0_scaled_umap[:,0], feat_0_scaled_umap[:,1], label=r'$R_G$ GA')\n",
    "ax.scatter(feat_1_scaled_umap[:,0], feat_1_scaled_umap[:,1], label=r'$G_\\mathrm{ads}$ GA')\n",
    "ax.scatter(feat_2_scaled_umap[:,0], feat_2_scaled_umap[:,1], label=r'$G_\\mathrm{rep}$ GA')\n",
    "\n",
    "\n",
    "ax.spines['left'].set_smart_bounds(True)\n",
    "ax.spines['bottom'].set_smart_bounds(True)\n",
    "\n",
    "ax.legend()\n",
    "\n",
    "fig.tight_layout()\n",
    "\n",
    "fig.savefig('umap_ga_gpr.pdf', bbox_inches='tight')"
   ]
  },
  {
   "cell_type": "code",
   "execution_count": 49,
   "metadata": {},
   "outputs": [],
   "source": [
    "# Rg\n",
    "config_0 = {  # pylint:disable=invalid-name\n",
    "    'max_depth': 15,\n",
    "    'reg_alpha': 1.365,\n",
    "    'subsample': 0.7084,\n",
    "    'num_leaves': 34,\n",
    "    'reg_lambda': 1.028,\n",
    "    'n_estimators': 376,\n",
    "    'colsample_bytree': 0.9487,\n",
    "    'min_child_weight': 0.06395\n",
    "}\n",
    "\n",
    "# Delta G\n",
    "# https://app.wandb.ai/kjappelbaum/dispersant_screener/runs/wog4qfb2/overview?workspace=user-kjappelbaum\n",
    "config_1 = {  # pylint:disable=invalid-name\n",
    "    'max_depth': 17,\n",
    "    'reg_alpha': 1.402,\n",
    "    'subsample': 0.2033,\n",
    "    'num_leaves': 38,\n",
    "    'reg_lambda': 1.091,\n",
    "    'n_estimators': 4676,\n",
    "    'colsample_bytree': 0.9934,\n",
    "    'min_child_weight': 0.005694\n",
    "}\n",
    "\n",
    "# repulsion\n",
    "# https://app.wandb.ai/kjappelbaum/dispersant_screener/runs/ljzi9uad/overview?workspace=user-kjappelbaum\n",
    "config_2 = {  # pylint:disable=invalid-name\n",
    "    'max_depth': 73,\n",
    "    'reg_alpha': 1.266,\n",
    "    'subsample': 0.9824,\n",
    "    'num_leaves': 398,\n",
    "    'reg_lambda': 1.221,\n",
    "    'n_estimators': 4974,\n",
    "    'colsample_bytree': 0.9615,\n",
    "    'min_child_weight': 0.09413\n",
    "}"
   ]
  },
  {
   "cell_type": "code",
   "execution_count": 50,
   "metadata": {},
   "outputs": [],
   "source": [
    "df_full_factorial_feat = pd.read_csv(os.path.join(DATADIR, 'new_features_full_random.csv'))[FEATURES].values\n",
    "a2 = pd.read_csv(os.path.join(DATADIR, 'b1-b21_random_virial_large_new.csv'))['A2_normalized'].values\n",
    "deltaGMax = pd.read_csv(os.path.join(DATADIR, 'b1-b21_random_virial_large_new.csv'))['A2_normalized'].values\n",
    "gibbs = pd.read_csv(os.path.join(DATADIR, 'b1-b21_random_deltaG.csv'))['deltaGmin'].values\n",
    "gibbs_max = pd.read_csv(os.path.join(DATADIR, 'b1-b21_random_virial_large_new.csv'))['deltaGmax'].values\n",
    "force_max = pd.read_csv(os.path.join(DATADIR, 'b1-b21_random_virial_large_fit2.csv'))['F_repel_max'].values\n",
    "rg = pd.read_csv(os.path.join(DATADIR, 'rg_results.csv'))['Rg'].values\n",
    "y = np.hstack([\n",
    "    rg.reshape(-1, 1),\n",
    "    gibbs.reshape(-1, 1) * (-1),\n",
    "    gibbs_max.reshape(-1, 1),\n",
    "])\n",
    "assert len(df_full_factorial_feat) == len(a2) == len(gibbs) == len(y)\n"
   ]
  },
  {
   "cell_type": "code",
   "execution_count": 51,
   "metadata": {},
   "outputs": [],
   "source": [
    "all_feat = np.vstack([feat_0_scaled, feat_1_scaled, feat_2_scaled])"
   ]
  },
  {
   "cell_type": "code",
   "execution_count": 52,
   "metadata": {},
   "outputs": [],
   "source": [
    "lgbms = []\n",
    "for target in range(3):\n",
    "    y_selected = y[:, target]\n",
    "    X_train, X_test, y_train, y_test = train_test_split(df_full_factorial_feat, y_selected, train_size=0.8)\n",
    "    if target == 0:\n",
    "        lgbm = LGBMRegressor(**config_0)\n",
    "    elif target == 1:\n",
    "        lgbm = LGBMRegressor(**config_1)\n",
    "    elif target == 2:\n",
    "        lgbm = LGBMRegressor(**config_2)\n",
    "\n",
    "    lgbm.fit(X_train, y_train)\n",
    "    \n",
    "    lgbms.append(lgbm)"
   ]
  },
  {
   "cell_type": "code",
   "execution_count": 53,
   "metadata": {},
   "outputs": [],
   "source": [
    "pred_0 = lgbms[0].predict(all_feat)\n",
    "pred_1 = lgbms[1].predict(all_feat)\n",
    "pred_2 = lgbms[2].predict(all_feat)"
   ]
  },
  {
   "cell_type": "code",
   "execution_count": 60,
   "metadata": {},
   "outputs": [
    {
     "data": {
      "text/plain": [
       "<matplotlib.collections.PathCollection at 0x7f8856adcdd8>"
      ]
     },
     "execution_count": 60,
     "metadata": {},
     "output_type": "execute_result"
    },
    {
     "data": {
      "image/png": "[encoded data removed]",
      "text/plain": [
       "<Figure size 432x288 with 1 Axes>"
      ]
     },
     "metadata": {
      "needs_background": "light"
     },
     "output_type": "display_data"
    }
   ],
   "source": [
    "plt.scatter(y[:,1], lgbms[1].predict(df_full_factorial_feat))"
   ]
  },
  {
   "cell_type": "code",
   "execution_count": 55,
   "metadata": {},
   "outputs": [],
   "source": [
    "import seaborn as sns"
   ]
  },
  {
   "cell_type": "code",
   "execution_count": 56,
   "metadata": {},
   "outputs": [
    {
     "data": {
      "text/plain": [
       "array([1.87591106, 1.73862977, 1.73862977, 1.73862977, 1.73862977,\n",
       "       1.73862977, 1.74036582, 1.74036582, 1.73862977, 1.74036582,\n",
       "       1.73863168, 1.74036582, 1.74036582, 1.74036582, 1.74036582,\n",
       "       1.74036582, 1.74036582, 1.74036582, 1.74036582, 1.73763166,\n",
       "       1.74036582, 1.74036582, 1.87591106, 1.74036582, 1.74036582,\n",
       "       1.73763166, 1.73862977, 1.86917146, 1.73862977, 1.87591106,\n",
       "       1.87591106, 1.73862977, 1.73862977, 1.73862977, 1.73862977,\n",
       "       1.73862977, 1.74036582, 1.74036582, 1.73862977, 1.74036582,\n",
       "       1.73863168, 1.74036582, 1.74036582, 1.74036582, 1.74036582,\n",
       "       1.74036582, 1.74036582, 1.74036582, 1.74036582, 1.73763166,\n",
       "       1.74036582, 1.74036582, 1.87591106, 1.74036582, 1.74036582,\n",
       "       1.73763166, 1.73862977, 1.86917146, 1.73862977, 1.87591106,\n",
       "       1.62252632, 1.62261784, 1.61970283, 1.61970091, 1.62252632,\n",
       "       1.62360456, 1.64453884, 1.62105833, 1.62360456, 1.7139309 ,\n",
       "       1.74036582, 1.62261784, 1.61428723, 1.62125958, 1.62125958,\n",
       "       1.62252632, 1.62360456, 1.62311219, 1.62261784, 1.62261784,\n",
       "       1.73862977, 1.62125958, 1.73862977, 1.74036582, 1.62261784,\n",
       "       1.62252632, 1.73763166, 1.61478115, 1.87471683, 1.87591106,\n",
       "       1.87591106, 1.87591106, 1.87591106, 1.87471683, 1.87591106,\n",
       "       1.87591106, 1.87471683, 1.87591106, 1.87471683, 1.87209801,\n",
       "       1.87591106, 1.87591106, 1.87209801, 1.87591106, 1.87471683,\n",
       "       1.87471683, 1.87591106, 1.87471683, 1.87471683, 1.87591106,\n",
       "       1.74179415, 1.87471683, 1.87471683, 1.87591106, 1.87471683,\n",
       "       1.87471683, 1.87591106, 1.87591106])"
      ]
     },
     "execution_count": 56,
     "metadata": {},
     "output_type": "execute_result"
    }
   ],
   "source": [
    "pred_0"
   ]
  },
  {
   "cell_type": "code",
   "execution_count": 57,
   "metadata": {},
   "outputs": [
    {
     "data": {
      "text/plain": [
       "<matplotlib.axes._subplots.AxesSubplot at 0x7f883a5e5ef0>"
      ]
     },
     "execution_count": 57,
     "metadata": {},
     "output_type": "execute_result"
    },
    {
     "data": {
      "image/png": "[encoded data removed]",
      "text/plain": [
       "<Figure size 432x288 with 1 Axes>"
      ]
     },
     "metadata": {
      "needs_background": "light"
     },
     "output_type": "display_data"
    }
   ],
   "source": [
    "sns.distplot(y[:,0], kde=False, hist_kws={'weights': np.full(len(y), 1/len(y))})\n",
    "sns.distplot(pred_0, kde=False, hist_kws={'weights': np.full(len(pred_0), 1/len(pred_0))})"
   ]
  },
  {
   "cell_type": "code",
   "execution_count": 58,
   "metadata": {},
   "outputs": [
    {
     "data": {
      "text/plain": [
       "<matplotlib.axes._subplots.AxesSubplot at 0x7f883a9c35c0>"
      ]
     },
     "execution_count": 58,
     "metadata": {},
     "output_type": "execute_result"
    },
    {
     "data": {
      "image/png": "[encoded data removed]",
      "text/plain": [
       "<Figure size 432x288 with 1 Axes>"
      ]
     },
     "metadata": {
      "needs_background": "light"
     },
     "output_type": "display_data"
    }
   ],
   "source": [
    "sns.distplot(y[:,1], kde=False, hist_kws={'weights': np.full(len(y), 1/len(y))})\n",
    "sns.distplot(pred_1, kde=False, hist_kws={'weights': np.full(len(pred_1), 1/len(pred_1))})"
   ]
  },
  {
   "cell_type": "code",
   "execution_count": 59,
   "metadata": {},
   "outputs": [
    {
     "data": {
      "text/plain": [
       "<matplotlib.axes._subplots.AxesSubplot at 0x7f883a42a198>"
      ]
     },
     "execution_count": 59,
     "metadata": {},
     "output_type": "execute_result"
    },
    {
     "data": {
      "image/png": "[encoded data removed]",
      "text/plain": [
       "<Figure size 432x288 with 1 Axes>"
      ]
     },
     "metadata": {
      "needs_background": "light"
     },
     "output_type": "display_data"
    }
   ],
   "source": [
    "sns.distplot(y[:,2], kde=False, hist_kws={'weights': np.full(len(y), 1/len(y))})\n",
    "sns.distplot(pred_2, kde=False, hist_kws={'weights': np.full(len(pred_2), 1/len(pred_2))})"
   ]
  },
  {
   "cell_type": "code",
   "execution_count": 29,
   "metadata": {},
   "outputs": [
    {
     "name": "stderr",
     "output_type": "stream",
     "text": [
      " /Users/kevinmaikjablonka/opt/miniconda3/envs/dispersant_basf/lib/python3.7/site-packages/ipykernel_launcher.py:6: MatplotlibDeprecationWarning:\n",
      "The set_smart_bounds function was deprecated in Matplotlib 3.2 and will be removed two minor releases later.\n",
      " /Users/kevinmaikjablonka/opt/miniconda3/envs/dispersant_basf/lib/python3.7/site-packages/ipykernel_launcher.py:7: MatplotlibDeprecationWarning:\n",
      "The set_smart_bounds function was deprecated in Matplotlib 3.2 and will be removed two minor releases later.\n"
     ]
    },
    {
     "data": {
      "image/png": "[encoded data removed]",
      "text/plain": [
       "<Figure size 576x216 with 3 Axes>"
      ]
     },
     "metadata": {
      "needs_background": "light"
     },
     "output_type": "display_data"
    }
   ],
   "source": [
    "plt.rcParams['font.family'] = 'sans-serif'\n",
    "    \n",
    "fig, ax = plt.subplots(1,3,  figsize=(8,3), sharey='none')\n",
    "\n",
    "for a in ax:\n",
    "    a.spines['left'].set_smart_bounds(True)\n",
    "    a.spines['bottom'].set_smart_bounds(True)\n",
    "    a.set_yticks([])\n",
    "    \n",
    "sns.distplot(y[:,0], kde=False, hist_kws={'weights': np.full(len(y), 1/len(y))}, ax=ax[0], label='DOE')\n",
    "sns.distplot(pred_0, kde=False, hist_kws={'weights': np.full(len(pred_0), 1/len(pred_0))}, ax=ax[0], label='GA')\n",
    "    \n",
    "sns.distplot(y[:,1], kde=False, hist_kws={'weights': np.full(len(y), 1/len(y))}, ax=ax[1])\n",
    "sns.distplot(pred_1, kde=False, hist_kws={'weights': np.full(len(pred_1), 1/len(pred_1))}, ax=ax[1])\n",
    "\n",
    "ax[1].set_ylim(0,0.1)\n",
    "    \n",
    "sns.distplot(y[:,2], kde=False, hist_kws={'weights': np.full(len(y), 1/len(y))}, ax=ax[2])\n",
    "sns.distplot(pred_2, kde=False, hist_kws={'weights': np.full(len(pred_2), 1/len(pred_2))}, ax=ax[2])\n",
    "\n",
    "ax[0].set_xlabel('$R_g$ / nm')\n",
    "ax[1].set_xlabel('$-\\Delta G_\\mathrm{ads}$ / k$_\\mathrm{B}$T')\n",
    "ax[2].set_xlabel('$\\Delta G_\\mathrm{rep}$ / k$_\\mathrm{B}$T')\n",
    "ax[0].legend()\n",
    "fig.tight_layout()\n",
    "plt.savefig('ga_property_dist.pdf', bbox_inches='tight')"
   ]
  },
  {
   "cell_type": "code",
   "execution_count": null,
   "metadata": {},
   "outputs": [],
   "source": []
  },
  {
   "cell_type": "code",
   "execution_count": null,
   "metadata": {},
   "outputs": [],
   "source": []
  }
 ],
 "metadata": {
  "kernelspec": {
   "display_name": "Python 3",
   "language": "python",
   "name": "python3"
  },
  "language_info": {
   "codemirror_mode": {
    "name": "ipython",
    "version": 3
   },
   "file_extension": ".py",
   "mimetype": "text/x-python",
   "name": "python",
   "nbconvert_exporter": "python",
   "pygments_lexer": "ipython3",
   "version": "3.7.0"
  }
 },
 "nbformat": 4,
 "nbformat_minor": 4
}
