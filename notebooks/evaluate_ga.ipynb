{
 "cells": [
  {
   "cell_type": "code",
   "execution_count": 49,
   "metadata": {},
   "outputs": [],
   "source": [
    "import joblib\n",
    "import matplotlib.pyplot as plt \n",
    "%matplotlib inline"
   ]
  },
  {
   "cell_type": "code",
   "execution_count": 128,
   "metadata": {},
   "outputs": [
    {
     "name": "stdout",
     "output_type": "stream",
     "text": [
      "The autoreload extension is already loaded. To reload it, use:\n",
      "  %reload_ext autoreload\n"
     ]
    }
   ],
   "source": [
    "import sys \n",
    "import os \n",
    "from pathlib import Path \n",
    "import numpy as np \n",
    "import joblib\n",
    "\n",
    "%load_ext autoreload\n",
    "%autoreload 2\n",
    "\n",
    "import pandas as pd\n",
    "import shap \n",
    "from xgboost import XGBRegressor\n",
    "from sklearn.preprocessing import StandardScaler\n",
    "from sklearn.feature_selection import VarianceThreshold\n",
    "from sklearn.model_selection import train_test_split\n",
    "from sklearn.decomposition import PCA\n",
    "\n",
    "import umap\n",
    "\n",
    "import matplotlib.pyplot as plt \n",
    "%matplotlib inline \n",
    "\n",
    "import seaborn as sns\n",
    "plt.rcParams['font.family'] = 'sans-serif'\n",
    "\n",
    "DATADIR = '../data'\n",
    "TRAIN_SIZE = 0.7\n",
    "\n",
    "\n",
    "import sys \n",
    "sys.path.append('../')\n",
    "from dispersant_screener.definitions import FEATURES\n",
    "from dispersant_screener.utils import plot_parity\n",
    "from dispersant_screener.ga import FEATURES\n",
    "\n",
    "\n",
    "import wandb\n",
    "from lightgbm import LGBMRegressor\n",
    "\n",
    "df_full_factorial_feat = pd.read_csv(os.path.join(DATADIR, 'new_features_full_random.csv'))[FEATURES].values\n",
    "a2 = pd.read_csv(os.path.join(DATADIR, 'b1-b21_random_virial_large_new.csv'))['A2_normalized'].values\n",
    "deltaGMax = pd.read_csv(os.path.join(DATADIR, 'b1-b21_random_virial_large_new.csv'))['A2_normalized'].values\n",
    "gibbs = pd.read_csv(os.path.join(DATADIR, 'b1-b21_random_deltaG.csv'))['deltaGmin'].values\n",
    "gibbs_max = pd.read_csv(os.path.join(DATADIR, 'b1-b21_random_virial_large_new.csv'))['deltaGmax'].values\n",
    "force_max = pd.read_csv(os.path.join(DATADIR, 'b1-b21_random_virial_large_fit2.csv'))['F_repel_max'].values\n",
    "rg = pd.read_csv(os.path.join(DATADIR, 'rg_results.csv'))['Rg'].values\n",
    "y = np.hstack([\n",
    "    rg.reshape(-1, 1),\n",
    "    -1* gibbs.reshape(-1, 1),\n",
    "    gibbs_max.reshape(-1, 1),\n",
    "])\n",
    "assert len(df_full_factorial_feat) == len(a2) == len(gibbs) == len(y)"
   ]
  },
  {
   "cell_type": "code",
   "execution_count": 104,
   "metadata": {},
   "outputs": [],
   "source": [
    "ga_0 = joblib.load('../work/20200905-150643-ga_0.joblib')\n",
    "ga_1 = joblib.load('../work/20200905-154348-ga_1.joblib')\n",
    "ga_2 = joblib.load('../work/20200905-154409-ga_2.joblib')"
   ]
  },
  {
   "cell_type": "code",
   "execution_count": 105,
   "metadata": {},
   "outputs": [
    {
     "name": "stderr",
     "output_type": "stream",
     "text": [
      " /Users/kevinmaikjablonka/opt/miniconda3/envs/dispersant_basf/lib/python3.7/site-packages/ipykernel_launcher.py:6: MatplotlibDeprecationWarning:\n",
      "The set_smart_bounds function was deprecated in Matplotlib 3.2 and will be removed two minor releases later.\n",
      " /Users/kevinmaikjablonka/opt/miniconda3/envs/dispersant_basf/lib/python3.7/site-packages/ipykernel_launcher.py:7: MatplotlibDeprecationWarning:\n",
      "The set_smart_bounds function was deprecated in Matplotlib 3.2 and will be removed two minor releases later.\n"
     ]
    },
    {
     "data": {
      "image/png": "[encoded data removed]",
      "text/plain": [
       "<Figure size 576x216 with 3 Axes>"
      ]
     },
     "metadata": {
      "needs_background": "light"
     },
     "output_type": "display_data"
    }
   ],
   "source": [
    "plt.rcParams['font.family'] = 'sans-serif'\n",
    "    \n",
    "fig, ax = plt.subplots(1,3, sharex='all', figsize=(8,3))\n",
    "\n",
    "for a in ax:\n",
    "    a.spines['left'].set_smart_bounds(True)\n",
    "    a.spines['bottom'].set_smart_bounds(True)\n",
    "    a.set_xlabel('iterations')\n",
    "    a.set_ylabel('loss')\n",
    "    \n",
    "for ga in ga_0: \n",
    "    ax[0].plot(ga.report)\n",
    "    \n",
    "for ga in ga_1: \n",
    "    ax[1].plot(ga.report)\n",
    "        \n",
    "for ga in ga_2: \n",
    "    ax[2].plot(ga.report)\n",
    "    \n",
    "\n",
    "ax[0].set_title(r'$R_g$')\n",
    "ax[1].set_title(r'$\\Delta G_{\\mathrm{ads}}$')\n",
    "ax[2].set_title(r'$\\Delta G_{\\mathrm{rep}}$')\n",
    "\n",
    "fig.tight_layout()\n",
    "\n",
    "fig.savefig('ga_gpr_convergence.pdf', bbox_inches='tight')"
   ]
  },
  {
   "cell_type": "code",
   "execution_count": 106,
   "metadata": {},
   "outputs": [
    {
     "data": {
      "text/plain": [
       "{'variable': array([ 0.        ,  0.        ,  1.        ,  2.        ,  0.329673  ,\n",
       "         0.24360029,  0.17897182,  0.24872373, 33.        ]),\n",
       " 'function': -13.649334392878865}"
      ]
     },
     "execution_count": 106,
     "metadata": {},
     "output_type": "execute_result"
    }
   ],
   "source": [
    "ga_0[0].output_dict"
   ]
  },
  {
   "cell_type": "code",
   "execution_count": 107,
   "metadata": {},
   "outputs": [],
   "source": [
    "def get_converged_ga_feat_val(gas): \n",
    "    feats = []\n",
    "    vals = []\n",
    "    for ga in gas: \n",
    "        if ga.output_dict['function'] < 0:\n",
    "            feats.append(ga.output_dict['variable'])\n",
    "            vals.append(ga.output_dict['function'])\n",
    "            \n",
    "    return feats, vals"
   ]
  },
  {
   "cell_type": "code",
   "execution_count": 108,
   "metadata": {},
   "outputs": [],
   "source": [
    "feat_0, vals_0 = get_converged_ga_feat_val(ga_0)\n",
    "feat_1, vals_1 = get_converged_ga_feat_val(ga_1)\n",
    "feat_2, vals_2 = get_converged_ga_feat_val(ga_2)"
   ]
  },
  {
   "cell_type": "code",
   "execution_count": 109,
   "metadata": {},
   "outputs": [],
   "source": [
    "scaler = StandardScaler()\n",
    "X = scaler.fit_transform(df_full_factorial_feat)"
   ]
  },
  {
   "cell_type": "code",
   "execution_count": 110,
   "metadata": {},
   "outputs": [],
   "source": [
    "feat_0_scaled = scaler.transform(feat_0)\n",
    "feat_1_scaled = scaler.transform(feat_1)\n",
    "feat_2_scaled = scaler.transform(feat_2)"
   ]
  },
  {
   "cell_type": "code",
   "execution_count": 111,
   "metadata": {},
   "outputs": [],
   "source": [
    "pca = PCA(2)"
   ]
  },
  {
   "cell_type": "code",
   "execution_count": 112,
   "metadata": {},
   "outputs": [],
   "source": [
    "X_pca = pca.fit_transform(X)"
   ]
  },
  {
   "cell_type": "code",
   "execution_count": 113,
   "metadata": {},
   "outputs": [],
   "source": [
    "feat_0_scaled_pca = pca.transform(feat_0_scaled)\n",
    "feat_1_scaled_pca = pca.transform(feat_1_scaled)\n",
    "feat_2_scaled_pca = pca.transform(feat_2_scaled)"
   ]
  },
  {
   "cell_type": "code",
   "execution_count": 114,
   "metadata": {},
   "outputs": [
    {
     "name": "stderr",
     "output_type": "stream",
     "text": [
      " /Users/kevinmaikjablonka/opt/miniconda3/envs/dispersant_basf/lib/python3.7/site-packages/ipykernel_launcher.py:8: MatplotlibDeprecationWarning:\n",
      "The set_smart_bounds function was deprecated in Matplotlib 3.2 and will be removed two minor releases later.\n",
      " /Users/kevinmaikjablonka/opt/miniconda3/envs/dispersant_basf/lib/python3.7/site-packages/ipykernel_launcher.py:9: MatplotlibDeprecationWarning:\n",
      "The set_smart_bounds function was deprecated in Matplotlib 3.2 and will be removed two minor releases later.\n"
     ]
    },
    {
     "data": {
      "image/png": "[encoded data removed]",
      "text/plain": [
       "<Figure size 432x288 with 1 Axes>"
      ]
     },
     "metadata": {
      "needs_background": "light"
     },
     "output_type": "display_data"
    }
   ],
   "source": [
    "fig, ax = plt.subplots(1,1)\n",
    "ax.scatter(X_pca[:,0], X_pca[:,1], label='DoE')\n",
    "ax.scatter(feat_0_scaled_pca[:,0], feat_0_scaled_pca[:,1], label=r'$R_G$ GA')\n",
    "ax.scatter(feat_1_scaled_pca[:,0], feat_1_scaled_pca[:,1], label=r'$G_\\mathrm{ads}$ GA')\n",
    "ax.scatter(feat_2_scaled_pca[:,0], feat_2_scaled_pca[:,1], label=r'$G_\\mathrm{rep}$ GA')\n",
    "\n",
    "\n",
    "ax.spines['left'].set_smart_bounds(True)\n",
    "ax.spines['bottom'].set_smart_bounds(True)\n",
    "\n",
    "\n",
    "ax.set_xlabel('first principal component')\n",
    "ax.set_ylabel('second principal component')\n",
    "ax.legend()\n",
    "\n",
    "fig.tight_layout()\n",
    "fig.savefig('ga_gpr_pca.pdf', bbox_inches='tight')\n",
    "#"
   ]
  },
  {
   "cell_type": "code",
   "execution_count": 115,
   "metadata": {},
   "outputs": [],
   "source": [
    "reducer = umap.UMAP()"
   ]
  },
  {
   "cell_type": "code",
   "execution_count": 116,
   "metadata": {},
   "outputs": [],
   "source": [
    "embedding = reducer.fit_transform(X)"
   ]
  },
  {
   "cell_type": "code",
   "execution_count": 117,
   "metadata": {},
   "outputs": [],
   "source": [
    "feat_0_scaled_umap = reducer.transform(feat_0_scaled)\n",
    "feat_1_scaled_umap = reducer.transform(feat_1_scaled)\n",
    "feat_2_scaled_umap = reducer.transform(feat_2_scaled)"
   ]
  },
  {
   "cell_type": "code",
   "execution_count": 118,
   "metadata": {},
   "outputs": [
    {
     "name": "stderr",
     "output_type": "stream",
     "text": [
      " /Users/kevinmaikjablonka/opt/miniconda3/envs/dispersant_basf/lib/python3.7/site-packages/ipykernel_launcher.py:8: MatplotlibDeprecationWarning:\n",
      "The set_smart_bounds function was deprecated in Matplotlib 3.2 and will be removed two minor releases later.\n",
      " /Users/kevinmaikjablonka/opt/miniconda3/envs/dispersant_basf/lib/python3.7/site-packages/ipykernel_launcher.py:9: MatplotlibDeprecationWarning:\n",
      "The set_smart_bounds function was deprecated in Matplotlib 3.2 and will be removed two minor releases later.\n"
     ]
    },
    {
     "data": {
      "image/png": "[encoded data removed]",
      "text/plain": [
       "<Figure size 432x288 with 1 Axes>"
      ]
     },
     "metadata": {
      "needs_background": "light"
     },
     "output_type": "display_data"
    }
   ],
   "source": [
    "fig, ax = plt.subplots(1,1)\n",
    "ax.scatter(embedding[:,0], embedding[:,1], label='DoE')\n",
    "ax.scatter(feat_0_scaled_umap[:,0], feat_0_scaled_umap[:,1], label=r'$R_G$ GA')\n",
    "ax.scatter(feat_1_scaled_umap[:,0], feat_1_scaled_umap[:,1], label=r'$G_\\mathrm{ads}$ GA')\n",
    "ax.scatter(feat_2_scaled_umap[:,0], feat_2_scaled_umap[:,1], label=r'$G_\\mathrm{rep}$ GA')\n",
    "\n",
    "\n",
    "ax.spines['left'].set_smart_bounds(True)\n",
    "ax.spines['bottom'].set_smart_bounds(True)\n",
    "\n",
    "ax.legend()\n",
    "\n",
    "fig.tight_layout()\n",
    "\n",
    "fig.savefig('umap_ga_gpr.pdf', bbox_inches='tight')"
   ]
  },
  {
   "cell_type": "code",
   "execution_count": 119,
   "metadata": {},
   "outputs": [],
   "source": [
    "# Rg\n",
    "config_0 = {\n",
    "    'max_depth': 81,\n",
    "    'reg_alpha': 1.0059223601214005,\n",
    "    'subsample': 0.4323683292622177,\n",
    "    'num_leaves': 14,\n",
    "    'reg_lambda': 1.3804842496500522,\n",
    "    'n_estimators': 3771,\n",
    "    'colsample_bytree': 0.9897619355459844,\n",
    "    'min_child_weight': 0.036693782744867405\n",
    "}\n",
    "\n",
    "# Delta G\n",
    "# https://app.wandb.ai/kjappelbaum/dispersant_screener/runs/wog4qfb2/overview?workspace=user-kjappelbaum\n",
    "config_1 = {\n",
    "    'max_depth': 73,\n",
    "    'reg_alpha': 1.392732983015451,\n",
    "    'subsample': 0.5009306968568509,\n",
    "    'num_leaves': 6,\n",
    "    'reg_lambda': 1.0595847294980203,\n",
    "    'n_estimators': 461,\n",
    "    'colsample_bytree': 0.966043658485258,\n",
    "    'min_child_weight': 0.0039362945584385705\n",
    "}\n",
    "\n",
    "# repulsion\n",
    "# https://app.wandb.ai/kjappelbaum/dispersant_screener/runs/ljzi9uad/overview?workspace=user-kjappelbaum\n",
    "config_2 = {\n",
    "    'max_depth': 22,\n",
    "    'reg_alpha': 1.4445428983500173,\n",
    "    'subsample': 0.37540621157955995,\n",
    "    'num_leaves': 11,\n",
    "    'reg_lambda': 1.246760700982355,\n",
    "    'n_estimators': 56,\n",
    "    'colsample_bytree': 0.9850898928749316,\n",
    "    'min_child_weight': 0.05716405492260722\n",
    "}\n"
   ]
  },
  {
   "cell_type": "code",
   "execution_count": 120,
   "metadata": {},
   "outputs": [],
   "source": [
    "df_full_factorial_feat = pd.read_csv(os.path.join(DATADIR, 'new_features_full_random.csv'))[FEATURES].values\n",
    "a2 = pd.read_csv(os.path.join(DATADIR, 'b1-b21_random_virial_large_new.csv'))['A2_normalized'].values\n",
    "deltaGMax = pd.read_csv(os.path.join(DATADIR, 'b1-b21_random_virial_large_new.csv'))['A2_normalized'].values\n",
    "gibbs = pd.read_csv(os.path.join(DATADIR, 'b1-b21_random_deltaG.csv'))['deltaGmin'].values\n",
    "gibbs_max = pd.read_csv(os.path.join(DATADIR, 'b1-b21_random_virial_large_new.csv'))['deltaGmax'].values\n",
    "force_max = pd.read_csv(os.path.join(DATADIR, 'b1-b21_random_virial_large_fit2.csv'))['F_repel_max'].values\n",
    "rg = pd.read_csv(os.path.join(DATADIR, 'rg_results.csv'))['Rg'].values\n",
    "y = np.hstack([\n",
    "    rg.reshape(-1, 1),\n",
    "    gibbs.reshape(-1, 1) * (-1),\n",
    "    gibbs_max.reshape(-1, 1),\n",
    "])\n",
    "assert len(df_full_factorial_feat) == len(a2) == len(gibbs) == len(y)\n"
   ]
  },
  {
   "cell_type": "code",
   "execution_count": 121,
   "metadata": {},
   "outputs": [],
   "source": [
    "lgbms = []\n",
    "for target in range(3):\n",
    "    y_selected = y[:, target]\n",
    "    X_train, X_test, y_train, y_test = train_test_split(df_full_factorial_feat, y_selected, train_size=0.8)\n",
    "    if target == 0:\n",
    "        lgbm = LGBMRegressor(**config_0)\n",
    "    elif target == 1:\n",
    "        lgbm = LGBMRegressor(**config_1)\n",
    "    elif target == 2:\n",
    "        lgbm = LGBMRegressor(**config_2)\n",
    "\n",
    "    lgbm.fit(X_train, y_train)\n",
    "    \n",
    "    lgbms.append(lgbm)"
   ]
  },
  {
   "cell_type": "code",
   "execution_count": 122,
   "metadata": {},
   "outputs": [],
   "source": [
    "pred_0 = lgbms[0].predict(feat_0_scaled)\n",
    "pred_1 = lgbms[1].predict(feat_1_scaled)\n",
    "pred_2 = lgbms[2].predict(feat_2_scaled)"
   ]
  },
  {
   "cell_type": "code",
   "execution_count": 123,
   "metadata": {},
   "outputs": [],
   "source": [
    "import seaborn as sns"
   ]
  },
  {
   "cell_type": "code",
   "execution_count": 124,
   "metadata": {},
   "outputs": [
    {
     "data": {
      "text/plain": [
       "array([1.76738753, 1.76738753, 1.76738753, 1.76738753, 1.76738753,\n",
       "       1.76738753, 1.76730344, 1.76738753, 1.76738753, 1.76738753,\n",
       "       1.76738753, 1.76738753, 1.76738753, 1.76871884])"
      ]
     },
     "execution_count": 124,
     "metadata": {},
     "output_type": "execute_result"
    }
   ],
   "source": [
    "pred_0"
   ]
  },
  {
   "cell_type": "code",
   "execution_count": 125,
   "metadata": {},
   "outputs": [
    {
     "data": {
      "text/plain": [
       "<matplotlib.axes._subplots.AxesSubplot at 0x7f9681bc26d8>"
      ]
     },
     "execution_count": 125,
     "metadata": {},
     "output_type": "execute_result"
    },
    {
     "data": {
      "image/png": "[encoded data removed]",
      "text/plain": [
       "<Figure size 432x288 with 1 Axes>"
      ]
     },
     "metadata": {
      "needs_background": "light"
     },
     "output_type": "display_data"
    }
   ],
   "source": [
    "sns.distplot(y[:,0], kde=False, hist_kws={'weights': np.full(len(y), 1/len(y))})\n",
    "sns.distplot(pred_0, kde=False, hist_kws={'weights': np.full(len(pred_0), 1/len(pred_0))})"
   ]
  },
  {
   "cell_type": "code",
   "execution_count": 126,
   "metadata": {},
   "outputs": [
    {
     "data": {
      "text/plain": [
       "<matplotlib.axes._subplots.AxesSubplot at 0x7f9686547cf8>"
      ]
     },
     "execution_count": 126,
     "metadata": {},
     "output_type": "execute_result"
    },
    {
     "data": {
      "image/png": "[encoded data removed]",
      "text/plain": [
       "<Figure size 432x288 with 1 Axes>"
      ]
     },
     "metadata": {
      "needs_background": "light"
     },
     "output_type": "display_data"
    }
   ],
   "source": [
    "sns.distplot(y[:,1], kde=False, hist_kws={'weights': np.full(len(y), 1/len(y))})\n",
    "sns.distplot(pred_1, kde=False, hist_kws={'weights': np.full(len(pred_1), 1/len(pred_1))})"
   ]
  },
  {
   "cell_type": "code",
   "execution_count": 127,
   "metadata": {},
   "outputs": [
    {
     "data": {
      "text/plain": [
       "<matplotlib.axes._subplots.AxesSubplot at 0x7f9681358a90>"
      ]
     },
     "execution_count": 127,
     "metadata": {},
     "output_type": "execute_result"
    },
    {
     "data": {
      "image/png": "[encoded data removed]",
      "text/plain": [
       "<Figure size 432x288 with 1 Axes>"
      ]
     },
     "metadata": {
      "needs_background": "light"
     },
     "output_type": "display_data"
    }
   ],
   "source": [
    "sns.distplot(y[:,2], kde=False, hist_kws={'weights': np.full(len(y), 1/len(y))})\n",
    "sns.distplot(pred_2, kde=False, hist_kws={'weights': np.full(len(pred_2), 1/len(pred_2))})"
   ]
  },
  {
   "cell_type": "code",
   "execution_count": 58,
   "metadata": {},
   "outputs": [
    {
     "name": "stderr",
     "output_type": "stream",
     "text": [
      " /Users/kevinmaikjablonka/opt/miniconda3/envs/dispersant_basf/lib/python3.7/site-packages/ipykernel_launcher.py:6: MatplotlibDeprecationWarning:\n",
      "The set_smart_bounds function was deprecated in Matplotlib 3.2 and will be removed two minor releases later.\n",
      " /Users/kevinmaikjablonka/opt/miniconda3/envs/dispersant_basf/lib/python3.7/site-packages/ipykernel_launcher.py:7: MatplotlibDeprecationWarning:\n",
      "The set_smart_bounds function was deprecated in Matplotlib 3.2 and will be removed two minor releases later.\n"
     ]
    },
    {
     "data": {
      "image/png": "[encoded data removed]",
      "text/plain": [
       "<Figure size 576x216 with 3 Axes>"
      ]
     },
     "metadata": {
      "needs_background": "light"
     },
     "output_type": "display_data"
    }
   ],
   "source": [
    "plt.rcParams['font.family'] = 'sans-serif'\n",
    "    \n",
    "fig, ax = plt.subplots(1,3,  figsize=(8,3), sharey='none')\n",
    "\n",
    "for a in ax:\n",
    "    a.spines['left'].set_smart_bounds(True)\n",
    "    a.spines['bottom'].set_smart_bounds(True)\n",
    "    a.set_yticks([])\n",
    "    \n",
    "sns.distplot(y[:,0], kde=False, hist_kws={'weights': np.full(len(y), 1/len(y))}, ax=ax[0], label='DOE')\n",
    "sns.distplot(pred_0, kde=False, hist_kws={'weights': np.full(len(pred_0), 1/len(pred_0))}, ax=ax[0], label='GA')\n",
    "    \n",
    "sns.distplot(y[:,1], kde=False, hist_kws={'weights': np.full(len(y), 1/len(y))}, ax=ax[1])\n",
    "sns.distplot(pred_1, kde=False, hist_kws={'weights': np.full(len(pred_1), 1/len(pred_1))}, ax=ax[1])\n",
    "\n",
    "ax[1].set_ylim(0,0.1)\n",
    "    \n",
    "sns.distplot(y[:,2], kde=False, hist_kws={'weights': np.full(len(y), 1/len(y))}, ax=ax[2])\n",
    "sns.distplot(pred_2, kde=False, hist_kws={'weights': np.full(len(pred_2), 1/len(pred_2))}, ax=ax[2])\n",
    "\n",
    "ax[0].set_xlabel('$R_g$ / nm')\n",
    "ax[1].set_xlabel('$-\\Delta G_\\mathrm{ads}$ / k$_\\mathrm{B}$T')\n",
    "ax[2].set_xlabel('$\\Delta G_\\mathrm{rep}$ / k$_\\mathrm{B}$T')\n",
    "ax[0].legend()\n",
    "fig.tight_layout()\n",
    "plt.savefig('ga_property_dist.pdf', bbox_inches='tight')"
   ]
  },
  {
   "cell_type": "code",
   "execution_count": null,
   "metadata": {},
   "outputs": [],
   "source": []
  },
  {
   "cell_type": "code",
   "execution_count": null,
   "metadata": {},
   "outputs": [],
   "source": []
  }
 ],
 "metadata": {
  "kernelspec": {
   "display_name": "Python 3",
   "language": "python",
   "name": "python3"
  },
  "language_info": {
   "codemirror_mode": {
    "name": "ipython",
    "version": 3
   },
   "file_extension": ".py",
   "mimetype": "text/x-python",
   "name": "python",
   "nbconvert_exporter": "python",
   "pygments_lexer": "ipython3",
   "version": "3.7.0"
  }
 },
 "nbformat": 4,
 "nbformat_minor": 4
}
