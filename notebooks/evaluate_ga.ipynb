{
 "cells": [
  {
   "cell_type": "code",
   "execution_count": 1,
   "metadata": {},
   "outputs": [],
   "source": [
    "import joblib\n",
    "import matplotlib.pyplot as plt \n",
    "%matplotlib inline\n",
    "\n",
    "\n",
    "COLORS = [\n",
    "    \"#ffbe0b\", \n",
    "    \"#fb5607\", \n",
    "    \"#ff006e\",\n",
    "    \"#3a86ff\", \n",
    "]"
   ]
  },
  {
   "cell_type": "code",
   "execution_count": 2,
   "metadata": {},
   "outputs": [],
   "source": [
    "import sys \n",
    "import os \n",
    "from pathlib import Path \n",
    "import numpy as np \n",
    "import joblib\n",
    "\n",
    "%load_ext autoreload\n",
    "%autoreload 2\n",
    "\n",
    "import pandas as pd\n",
    "import shap \n",
    "from xgboost import XGBRegressor\n",
    "from sklearn.preprocessing import StandardScaler\n",
    "from sklearn.feature_selection import VarianceThreshold\n",
    "from sklearn.model_selection import train_test_split\n",
    "from sklearn.decomposition import PCA\n",
    "\n",
    "import umap\n",
    "\n",
    "import matplotlib.pyplot as plt \n",
    "%matplotlib inline \n",
    "\n",
    "import seaborn as sns\n",
    "plt.rcParams['font.family'] = 'sans-serif'\n",
    "\n",
    "DATADIR = '../data'\n",
    "TRAIN_SIZE = 0.7\n",
    "\n",
    "import sys \n",
    "sys.path.append('../')\n",
    "from dispersant_screener.definitions import FEATURES\n",
    "from dispersant_screener.utils import plot_parity\n",
    "from dispersant_screener.ga import FEATURES\n",
    "\n",
    "\n",
    "import wandb\n",
    "from lightgbm import LGBMRegressor\n",
    "\n",
    "FEATURES = ['max_[W]', 'max_[Tr]', 'max_[Ta]', 'max_[R]', '[W]', '[Tr]', '[Ta]', '[R]', 'length']\n",
    "\n",
    "\n",
    "df_full_factorial_feat = pd.read_csv(os.path.join(DATADIR, 'new_features_full_random.csv'))[FEATURES].values\n",
    "a2 = pd.read_csv(os.path.join(DATADIR, 'b1-b21_random_virial_large_new.csv'))['A2_normalized'].values\n",
    "deltaGMax = pd.read_csv(os.path.join(DATADIR, 'b1-b21_random_virial_large_new.csv'))['A2_normalized'].values\n",
    "gibbs = pd.read_csv(os.path.join(DATADIR, 'b1-b21_random_deltaG.csv'))['deltaGmin'].values\n",
    "gibbs_max = pd.read_csv(os.path.join(DATADIR, 'b1-b21_random_virial_large_new.csv'))['deltaGmax'].values\n",
    "force_max = pd.read_csv(os.path.join(DATADIR, 'b1-b21_random_virial_large_fit2.csv'))['F_repel_max'].values\n",
    "rg = pd.read_csv(os.path.join(DATADIR, 'rg_results.csv'))['Rg'].values\n",
    "y = np.hstack([\n",
    "    rg.reshape(-1, 1),\n",
    "    -1* gibbs.reshape(-1, 1),\n",
    "    gibbs_max.reshape(-1, 1),\n",
    "])\n",
    "assert len(df_full_factorial_feat) == len(a2) == len(gibbs) == len(y)"
   ]
  },
  {
   "cell_type": "code",
   "execution_count": 3,
   "metadata": {},
   "outputs": [],
   "source": [
    "ga_0 = joblib.load('../work/20201024-165754-ga_0.joblib')\n",
    "ga_1 = joblib.load('../work/20201023-132617-ga_1.joblib')\n",
    "ga_2 = joblib.load('../work/20201024-165758-ga_2.joblib')"
   ]
  },
  {
   "cell_type": "code",
   "execution_count": 4,
   "metadata": {},
   "outputs": [
    {
     "name": "stderr",
     "output_type": "stream",
     "text": [
      " /Users/kevinmaikjablonka/opt/miniconda3/envs/dispersant_basf/lib/python3.7/site-packages/ipykernel_launcher.py:6: MatplotlibDeprecationWarning:\n",
      "The set_smart_bounds function was deprecated in Matplotlib 3.2 and will be removed two minor releases later.\n",
      " /Users/kevinmaikjablonka/opt/miniconda3/envs/dispersant_basf/lib/python3.7/site-packages/ipykernel_launcher.py:7: MatplotlibDeprecationWarning:\n",
      "The set_smart_bounds function was deprecated in Matplotlib 3.2 and will be removed two minor releases later.\n"
     ]
    },
    {
     "data": {
      "image/png": "[encoded data removed]",
      "text/plain": [
       "<Figure size 576x216 with 3 Axes>"
      ]
     },
     "metadata": {
      "needs_background": "light"
     },
     "output_type": "display_data"
    }
   ],
   "source": [
    "plt.rcParams['font.family'] = 'sans-serif'\n",
    "    \n",
    "fig, ax = plt.subplots(1,3, sharex='all', figsize=(8,3))\n",
    "\n",
    "for a in ax:\n",
    "    a.spines['left'].set_smart_bounds(True)\n",
    "    a.spines['bottom'].set_smart_bounds(True)\n",
    "    a.set_xlabel('iterations')\n",
    "    a.set_ylabel('loss')\n",
    "    \n",
    "for ga in ga_0: \n",
    "    ax[0].plot(ga.report)\n",
    "    \n",
    "for ga in ga_1: \n",
    "    ax[1].plot(ga.report)\n",
    "        \n",
    "for ga in ga_2: \n",
    "    ax[2].plot(ga.report)\n",
    "    \n",
    "\n",
    "ax[0].set_title(r'$R_g$')\n",
    "ax[1].set_title(r'$\\Delta G_{\\mathrm{ads}}$')\n",
    "ax[2].set_title(r'$\\Delta G_{\\mathrm{rep}}$')\n",
    "\n",
    "fig.tight_layout()\n",
    "\n",
    "fig.savefig('ga_gpr_convergence.pdf', bbox_inches='tight')"
   ]
  },
  {
   "cell_type": "code",
   "execution_count": 5,
   "metadata": {},
   "outputs": [
    {
     "name": "stdout",
     "output_type": "stream",
     "text": [
      "{'variable': array([10.        ,  3.        ,  5.        , 25.        ,  0.09254754,\n",
      "        0.96343914,  0.42485595,  0.13733399, 37.        ]), 'function': -12.285980243363227}\n",
      "{'variable': array([ 0.        ,  5.        ,  2.        ,  7.        ,  0.34850413,\n",
      "        0.83082301,  0.19496171,  0.13202284, 27.        ]), 'function': -12.277034380228471}\n",
      "{'variable': array([ 1.        ,  2.        ,  0.        ,  1.        ,  0.15011941,\n",
      "        0.06170749,  0.60328614,  0.07966967, 34.        ]), 'function': -12.288044890626724}\n",
      "{'variable': array([ 1.        ,  6.        ,  4.        ,  5.        ,  0.14508862,\n",
      "        0.16738861,  0.76219146,  0.12907519, 46.        ]), 'function': -12.288044890626724}\n",
      "{'variable': array([ 0.        ,  4.        ,  0.        ,  6.        ,  0.12790898,\n",
      "        0.21495864,  0.77995435,  0.05690514, 47.        ]), 'function': -12.288044890626724}\n",
      "{'variable': array([ 0.        ,  3.        ,  2.        ,  2.        ,  0.08738799,\n",
      "        0.1639023 ,  0.38580895,  0.07418059, 44.        ]), 'function': -12.288044890626724}\n",
      "{'variable': array([ 0.        ,  1.        ,  2.        ,  1.        ,  0.09891361,\n",
      "        0.0851319 ,  0.88693544,  0.11663829, 36.        ]), 'function': -12.288044890626724}\n",
      "{'variable': array([ 1.        ,  3.        ,  3.        ,  5.        ,  0.15152478,\n",
      "        0.19972939,  0.79023318,  0.15069431, 47.        ]), 'function': -12.288044890626724}\n",
      "{'variable': array([ 0.        ,  1.        ,  1.        , 15.        ,  0.15429996,\n",
      "        0.90522809,  0.73055115,  0.12535906, 36.        ]), 'function': -12.501085532236832}\n",
      "{'variable': array([12.        ,  4.        ,  1.        ,  9.        ,  0.2178888 ,\n",
      "        0.80826397,  0.74610471,  0.05773347, 47.        ]), 'function': -12.49987578249687}\n",
      "{'variable': array([ 1.        ,  2.        ,  2.        , 10.        ,  0.0939295 ,\n",
      "        0.24677064,  0.22462672,  0.086278  , 42.        ]), 'function': -12.502462760327147}\n",
      "{'variable': array([ 0.        ,  6.        ,  2.        ,  0.        ,  0.13647204,\n",
      "        0.13028843,  0.34879159,  0.05849239, 44.        ]), 'function': -12.502462760327147}\n",
      "{'variable': array([ 0.        ,  2.        ,  0.        ,  7.        ,  0.14584627,\n",
      "        0.18714398,  0.82489032,  0.10186866, 46.        ]), 'function': -12.502462760327147}\n",
      "{'variable': array([ 0.        ,  5.        ,  0.        ,  2.        ,  0.1310065 ,\n",
      "        0.11419344,  0.33751051,  0.09774838, 43.        ]), 'function': -12.502462760327147}\n",
      "{'variable': array([ 1.        ,  2.        ,  2.        ,  4.        ,  0.04564315,\n",
      "        0.22256356,  0.80101101,  0.14528842, 45.        ]), 'function': -12.502462760327147}\n",
      "{'variable': array([ 1.        ,  2.        ,  4.        ,  5.        ,  0.09517544,\n",
      "        0.14145427,  0.42020139,  0.1364138 , 48.        ]), 'function': -12.502462760327147}\n",
      "{'variable': array([ 0.        ,  2.        ,  4.        ,  4.        ,  0.12176289,\n",
      "        0.59556025,  0.80555452,  0.13508492, 31.        ]), 'function': -13.359279341605298}\n",
      "{'variable': array([ 5.        ,  5.        ,  1.        , 15.        ,  0.13847076,\n",
      "        0.94131659,  0.17513577,  0.11032793, 37.        ]), 'function': -13.358069591865338}\n",
      "{'variable': array([ 0.        ,  4.        ,  0.        ,  6.        ,  0.1516254 ,\n",
      "        0.224924  ,  0.54666818,  0.10470805, 34.        ]), 'function': -13.360134239128834}\n",
      "{'variable': array([1.00000000e+00, 2.00000000e+00, 0.00000000e+00, 4.00000000e+00,\n",
      "       1.30482903e-01, 1.29845766e-01, 6.67676787e-01, 2.51748984e-02,\n",
      "       3.90000000e+01]), 'function': -13.360134239128834}\n",
      "{'variable': array([ 0.        ,  4.        ,  3.        ,  6.        ,  0.14136522,\n",
      "        0.23987286,  0.70280704,  0.10530108, 30.        ]), 'function': -13.360134239128834}\n",
      "{'variable': array([ 1.        ,  4.        ,  5.        ,  7.        ,  0.12032023,\n",
      "        0.18824729,  0.78459804,  0.13180056, 44.        ]), 'function': -13.360134239128834}\n",
      "{'variable': array([ 1.        ,  3.        ,  3.        ,  2.        ,  0.08915717,\n",
      "        0.05344566,  0.86970592,  0.08246842, 45.        ]), 'function': -13.360134239128834}\n",
      "{'variable': array([ 0.        ,  3.        ,  0.        ,  1.        ,  0.08440131,\n",
      "        0.19600468,  0.70083602,  0.12685137, 41.        ]), 'function': -13.360134239128834}\n",
      "{'variable': array([11.        ,  1.        ,  3.        , 12.        ,  0.06384904,\n",
      "        0.53515612,  0.71225219,  0.09994123, 36.        ]), 'function': -14.43015894036745}\n",
      "{'variable': array([ 8.        ,  6.        ,  5.        , 22.        ,  0.14794842,\n",
      "        0.74333932,  0.99381811,  0.12606154, 46.        ]), 'function': -14.43015894036745}\n",
      "{'variable': array([1.00000000e+00, 5.00000000e+00, 0.00000000e+00, 8.00000000e+00,\n",
      "       1.48066171e-01, 2.45050458e-01, 6.55331103e-01, 5.04686876e-03,\n",
      "       4.00000000e+01]), 'function': -14.432223587630947}\n",
      "{'variable': array([ 0.        ,  4.        ,  4.        ,  6.        ,  0.13472255,\n",
      "        0.23292732,  0.57068566,  0.12167321, 43.        ]), 'function': -14.432223587630947}\n",
      "{'variable': array([ 1.        ,  2.        ,  2.        ,  3.        ,  0.10517963,\n",
      "        0.21119795,  0.94459467,  0.07922053, 40.        ]), 'function': -14.432223587630947}\n",
      "{'variable': array([ 0.        ,  4.        ,  2.        ,  2.        ,  0.11960677,\n",
      "        0.11834292,  0.91417344,  0.12585033, 35.        ]), 'function': -14.432223587630947}\n",
      "{'variable': array([ 1.        ,  2.        ,  1.        ,  1.        ,  0.12889474,\n",
      "        0.16825028,  0.86793287,  0.08510749, 45.        ]), 'function': -14.432223587630947}\n",
      "{'variable': array([ 1.        ,  3.        ,  2.        ,  0.        ,  0.10696276,\n",
      "        0.16511001,  0.60381903,  0.09242786, 41.        ]), 'function': -14.432223587630947}\n",
      "{'variable': array([22.        ,  5.        ,  4.        ,  1.        ,  0.24339965,\n",
      "        0.21681424,  0.74493851,  0.13083905, 45.        ]), 'function': -16.573815306804892}\n",
      "{'variable': array([ 9.        ,  2.        ,  1.        ,  5.        ,  0.06297887,\n",
      "        0.89187449,  0.27608271,  0.13437861, 36.        ]), 'function': -16.574337637371674}\n",
      "{'variable': array([1.0000000e+00, 1.0000000e+00, 3.0000000e+00, 1.0000000e+00,\n",
      "       3.2664844e-02, 2.0197042e-01, 5.7775250e-01, 1.4738928e-01,\n",
      "       3.6000000e+01]), 'function': -16.57640228463517}\n",
      "{'variable': array([ 1.        ,  4.        ,  3.        ,  4.        ,  0.1175523 ,\n",
      "        0.24218423,  0.58543745,  0.10387287, 43.        ]), 'function': -16.57640228463517}\n",
      "{'variable': array([ 1.        ,  2.        ,  0.        ,  1.        ,  0.13023537,\n",
      "        0.09963919,  0.36186369,  0.11693653, 33.        ]), 'function': -16.57640228463517}\n",
      "{'variable': array([ 0.        ,  4.        ,  0.        ,  5.        ,  0.11315636,\n",
      "        0.17298507,  0.66418232,  0.09444098, 40.        ]), 'function': -16.57640228463517}\n",
      "{'variable': array([ 0.        ,  1.        ,  2.        ,  3.        ,  0.0452425 ,\n",
      "        0.1899762 ,  0.92583261,  0.11800635, 41.        ]), 'function': -16.57640228463517}\n",
      "{'variable': array([ 1.        ,  1.        ,  2.        ,  6.        ,  0.07112621,\n",
      "        0.23755334,  0.5311863 ,  0.12319636, 46.        ]), 'function': -16.57640228463517}\n",
      "{'variable': array([ 0.        ,  2.        ,  1.        , 10.        ,  0.23755343,\n",
      "        0.61063355,  0.55902633,  0.05172592, 30.        ]), 'function': -33.72845463257864}\n",
      "{'variable': array([1.00000000e+01, 1.00000000e+00, 1.00000000e+00, 1.60000000e+01,\n",
      "       3.65736011e-02, 8.28018642e-01, 9.16513249e-01, 5.48882920e-02,\n",
      "       4.70000000e+01]), 'function': -33.72776721340546}\n",
      "{'variable': array([ 0.        ,  2.        ,  2.        ,  4.        ,  0.14564537,\n",
      "        0.19898648,  0.90060641,  0.14235484, 45.        ]), 'function': -33.72983186066895}\n",
      "{'variable': array([ 1.        ,  2.        ,  3.        ,  2.        ,  0.12247031,\n",
      "        0.14854357,  0.74917415,  0.10059263, 45.        ]), 'function': -33.72983186066895}\n",
      "{'variable': array([ 0.        ,  5.        ,  1.        ,  5.        ,  0.13586231,\n",
      "        0.18768953,  0.53682553,  0.13743297, 47.        ]), 'function': -33.72983186066895}\n",
      "{'variable': array([ 0.        ,  1.        ,  4.        ,  6.        ,  0.09127294,\n",
      "        0.19171696,  0.55916038,  0.14846604, 41.        ]), 'function': -33.72983186066895}\n",
      "{'variable': array([ 1.        ,  1.        ,  1.        ,  1.        ,  0.12512506,\n",
      "        0.12447942,  0.56682563,  0.13829618, 47.        ]), 'function': -33.72983186066895}\n",
      "{'variable': array([ 1.        ,  1.        ,  1.        ,  7.        ,  0.1491293 ,\n",
      "        0.16094036,  0.52856372,  0.11461193, 47.        ]), 'function': -33.72983186066895}\n",
      "{'variable': array([ 7.        ,  2.        ,  3.        ,  4.        ,  0.05255808,\n",
      "        0.19669943,  0.92459155,  0.14701681, 46.        ]), 'function': -55.170409080971226}\n",
      "{'variable': array([ 4.        ,  2.        ,  5.        , 13.        ,  0.07775362,\n",
      "        0.88282251,  0.85228351,  0.11227229, 45.        ]), 'function': -55.16955418344769}\n",
      "{'variable': array([ 0.        ,  3.        ,  2.        ,  2.        ,  0.10279791,\n",
      "        0.07674865,  0.77969124,  0.1299302 , 38.        ]), 'function': -55.17161883071118}\n",
      "{'variable': array([ 0.        ,  2.        ,  1.        , 10.        ,  0.11346722,\n",
      "        0.24569484,  0.06413018,  0.10050058, 42.        ]), 'function': -55.17161883071118}\n",
      "{'variable': array([ 1.        ,  3.        ,  1.        ,  1.        ,  0.12252461,\n",
      "        0.10526607,  0.74664062,  0.14231539, 46.        ]), 'function': -55.17161883071118}\n",
      "{'variable': array([ 0.        ,  2.        ,  0.        ,  6.        ,  0.12533383,\n",
      "        0.17736563,  0.94865762,  0.12748914, 37.        ]), 'function': -55.17161883071118}\n",
      "{'variable': array([ 0.        ,  2.        ,  0.        ,  7.        ,  0.06565207,\n",
      "        0.23498106,  0.36050023,  0.05398944, 40.        ]), 'function': -55.17161883071118}\n",
      "{'variable': array([ 0.        ,  3.        ,  1.        ,  2.        ,  0.13530202,\n",
      "        0.22641759,  0.2071981 ,  0.14691599, 47.        ]), 'function': -55.17161883071118}\n",
      "{'variable': array([ 7.        ,  3.        ,  1.        , 18.        ,  0.20956228,\n",
      "        0.69565823,  0.82769339,  0.06170496, 38.        ]), 'function': -119.4943927630076}\n",
      "{'variable': array([ 0.        ,  7.        ,  3.        ,  5.        ,  0.19857544,\n",
      "        0.58866569,  0.81744282,  0.07170159, 42.        ]), 'function': -119.49560251274755}\n",
      "{'variable': array([ 1.        ,  1.        ,  3.        ,  3.        ,  0.07864703,\n",
      "        0.12299697,  0.21101095,  0.07451935, 46.        ]), 'function': -119.49697974083787}\n",
      "{'variable': array([ 0.        ,  1.        ,  4.        ,  0.        ,  0.09183187,\n",
      "        0.0414283 ,  0.09293689,  0.14016882, 30.        ]), 'function': -119.49697974083787}\n",
      "{'variable': array([ 1.        ,  1.        ,  0.        ,  1.        ,  0.14620166,\n",
      "        0.07276892,  0.26958541,  0.04444323, 38.        ]), 'function': -119.49697974083787}\n",
      "{'variable': array([ 0.        ,  2.        ,  2.        ,  6.        ,  0.13177551,\n",
      "        0.13721511,  0.70143687,  0.12720306, 47.        ]), 'function': -119.49697974083787}\n",
      "{'variable': array([ 1.        ,  3.        ,  1.        ,  4.        ,  0.1374    ,\n",
      "        0.12800851,  0.77552077,  0.1433059 , 47.        ]), 'function': -119.49697974083787}\n",
      "{'variable': array([ 1.        ,  2.        ,  2.        ,  7.        ,  0.14198729,\n",
      "        0.22524344,  0.26800668,  0.04887929, 43.        ]), 'function': -119.49697974083787}\n",
      "{'variable': array([ 1.        ,  3.        ,  0.        , 16.        ,  0.0954064 ,\n",
      "        0.79462252,  0.82538946,  0.14370997, 37.        ]), 'function': -226.7050596935255}\n",
      "{'variable': array([ 1.        ,  1.        ,  2.        , 26.        ,  0.24041581,\n",
      "        0.75199379,  0.24427122,  0.14889883, 35.        ]), 'function': -226.70453736295872}\n",
      "{'variable': array([ 0.        ,  4.        ,  1.        ,  1.        ,  0.12641355,\n",
      "        0.18104713,  0.93766631,  0.09226023, 32.        ]), 'function': -226.70591459104904}\n",
      "{'variable': array([ 0.        ,  4.        ,  0.        ,  6.        ,  0.12248066,\n",
      "        0.1510649 ,  0.76677607,  0.14753566, 42.        ]), 'function': -226.70591459104904}\n",
      "{'variable': array([ 0.        ,  2.        ,  2.        ,  1.        ,  0.10927053,\n",
      "        0.13006473,  0.63652591,  0.06684118, 43.        ]), 'function': -226.70591459104904}\n",
      "{'variable': array([ 0.        ,  1.        ,  0.        ,  2.        ,  0.08181586,\n",
      "        0.16124853,  0.41822027,  0.05676793, 48.        ]), 'function': -226.70591459104904}\n",
      "{'variable': array([ 1.        ,  2.        ,  0.        ,  3.        ,  0.11826587,\n",
      "        0.21166148,  0.73803371,  0.05074389, 41.        ]), 'function': -226.70591459104904}\n",
      "{'variable': array([ 0.        ,  3.        ,  3.        ,  5.        ,  0.14988812,\n",
      "        0.13314662,  0.51608263,  0.07551869, 45.        ]), 'function': -226.70591459104904}\n"
     ]
    }
   ],
   "source": [
    "for g in ga_0:\n",
    "    print(g.output_dict)"
   ]
  },
  {
   "cell_type": "code",
   "execution_count": 6,
   "metadata": {},
   "outputs": [],
   "source": [
    "def get_converged_ga_feat_val(gas): \n",
    "    feats = []\n",
    "    vals = []\n",
    "    for ga in gas: \n",
    "        if ga.output_dict['function'] < 0:\n",
    "            feats.append(ga.output_dict['variable'])\n",
    "            vals.append(ga.output_dict['function'])\n",
    "            \n",
    "    return feats, vals"
   ]
  },
  {
   "cell_type": "code",
   "execution_count": 7,
   "metadata": {},
   "outputs": [],
   "source": [
    "feat_0, vals_0 = get_converged_ga_feat_val(ga_0)\n",
    "feat_1, vals_1 = get_converged_ga_feat_val(ga_1)\n",
    "feat_2, vals_2 = get_converged_ga_feat_val(ga_2)"
   ]
  },
  {
   "cell_type": "code",
   "execution_count": 8,
   "metadata": {},
   "outputs": [],
   "source": [
    "scaler = StandardScaler()\n",
    "X = scaler.fit_transform(df_full_factorial_feat)"
   ]
  },
  {
   "cell_type": "code",
   "execution_count": 9,
   "metadata": {},
   "outputs": [],
   "source": [
    "feat_0_scaled = scaler.transform(feat_0)\n",
    "feat_1_scaled = scaler.transform(feat_1)\n",
    "feat_2_scaled = scaler.transform(feat_2)"
   ]
  },
  {
   "cell_type": "code",
   "execution_count": 10,
   "metadata": {},
   "outputs": [],
   "source": [
    "pca = PCA(2)"
   ]
  },
  {
   "cell_type": "code",
   "execution_count": 11,
   "metadata": {},
   "outputs": [],
   "source": [
    "X_pca = pca.fit_transform(X)"
   ]
  },
  {
   "cell_type": "code",
   "execution_count": 12,
   "metadata": {},
   "outputs": [],
   "source": [
    "feat_0_scaled_pca = pca.transform(feat_0_scaled)\n",
    "feat_1_scaled_pca = pca.transform(feat_1_scaled)\n",
    "feat_2_scaled_pca = pca.transform(feat_2_scaled)"
   ]
  },
  {
   "cell_type": "code",
   "execution_count": 13,
   "metadata": {},
   "outputs": [
    {
     "name": "stderr",
     "output_type": "stream",
     "text": [
      " /Users/kevinmaikjablonka/opt/miniconda3/envs/dispersant_basf/lib/python3.7/site-packages/ipykernel_launcher.py:8: MatplotlibDeprecationWarning:\n",
      "The set_smart_bounds function was deprecated in Matplotlib 3.2 and will be removed two minor releases later.\n",
      " /Users/kevinmaikjablonka/opt/miniconda3/envs/dispersant_basf/lib/python3.7/site-packages/ipykernel_launcher.py:9: MatplotlibDeprecationWarning:\n",
      "The set_smart_bounds function was deprecated in Matplotlib 3.2 and will be removed two minor releases later.\n"
     ]
    },
    {
     "data": {
      "image/png": "[encoded data removed]",
      "text/plain": [
       "<Figure size 432x288 with 1 Axes>"
      ]
     },
     "metadata": {
      "needs_background": "light"
     },
     "output_type": "display_data"
    }
   ],
   "source": [
    "fig, ax = plt.subplots(1,1)\n",
    "ax.scatter(X_pca[:,0], X_pca[:,1], label='DoE')\n",
    "ax.scatter(feat_0_scaled_pca[:,0], feat_0_scaled_pca[:,1], label=r'$R_G$ GA')\n",
    "ax.scatter(feat_1_scaled_pca[:,0], feat_1_scaled_pca[:,1], label=r'$G_\\mathrm{ads}$ GA')\n",
    "ax.scatter(feat_2_scaled_pca[:,0], feat_2_scaled_pca[:,1], label=r'$G_\\mathrm{rep}$ GA')\n",
    "\n",
    "\n",
    "ax.spines['left'].set_smart_bounds(True)\n",
    "ax.spines['bottom'].set_smart_bounds(True)\n",
    "\n",
    "\n",
    "ax.set_xlabel('first principal component')\n",
    "ax.set_ylabel('second principal component')\n",
    "ax.legend()\n",
    "\n",
    "fig.tight_layout()\n",
    "fig.savefig('ga_gpr_pca.pdf', bbox_inches='tight')\n",
    "#"
   ]
  },
  {
   "cell_type": "code",
   "execution_count": 14,
   "metadata": {},
   "outputs": [],
   "source": [
    "reducer = umap.UMAP()"
   ]
  },
  {
   "cell_type": "code",
   "execution_count": 15,
   "metadata": {},
   "outputs": [],
   "source": [
    "embedding = reducer.fit_transform(X)"
   ]
  },
  {
   "cell_type": "code",
   "execution_count": 16,
   "metadata": {},
   "outputs": [],
   "source": [
    "feat_0_scaled_umap = reducer.transform(feat_0_scaled)\n",
    "feat_1_scaled_umap = reducer.transform(feat_1_scaled)\n",
    "feat_2_scaled_umap = reducer.transform(feat_2_scaled)"
   ]
  },
  {
   "cell_type": "code",
   "execution_count": 17,
   "metadata": {},
   "outputs": [
    {
     "name": "stderr",
     "output_type": "stream",
     "text": [
      " /Users/kevinmaikjablonka/opt/miniconda3/envs/dispersant_basf/lib/python3.7/site-packages/ipykernel_launcher.py:8: MatplotlibDeprecationWarning:\n",
      "The set_smart_bounds function was deprecated in Matplotlib 3.2 and will be removed two minor releases later.\n",
      " /Users/kevinmaikjablonka/opt/miniconda3/envs/dispersant_basf/lib/python3.7/site-packages/ipykernel_launcher.py:9: MatplotlibDeprecationWarning:\n",
      "The set_smart_bounds function was deprecated in Matplotlib 3.2 and will be removed two minor releases later.\n"
     ]
    },
    {
     "data": {
      "image/png": "[encoded data removed]",
      "text/plain": [
       "<Figure size 432x288 with 1 Axes>"
      ]
     },
     "metadata": {
      "needs_background": "light"
     },
     "output_type": "display_data"
    }
   ],
   "source": [
    "fig, ax = plt.subplots(1,1)\n",
    "ax.scatter(embedding[:,0], embedding[:,1], label='DoE')\n",
    "ax.scatter(feat_0_scaled_umap[:,0], feat_0_scaled_umap[:,1], label=r'$R_g$ GA')\n",
    "ax.scatter(feat_1_scaled_umap[:,0], feat_1_scaled_umap[:,1], label=r'$G_\\mathrm{ads}$ GA')\n",
    "ax.scatter(feat_2_scaled_umap[:,0], feat_2_scaled_umap[:,1], label=r'$G_\\mathrm{rep}$ GA')\n",
    "\n",
    "\n",
    "ax.spines['left'].set_smart_bounds(True)\n",
    "ax.spines['bottom'].set_smart_bounds(True)\n",
    "\n",
    "ax.legend()\n",
    "\n",
    "fig.tight_layout()\n",
    "\n",
    "fig.savefig('umap_ga_gpr.pdf', bbox_inches='tight')"
   ]
  },
  {
   "cell_type": "code",
   "execution_count": 18,
   "metadata": {},
   "outputs": [],
   "source": [
    "config_0 = {  # pylint:disable=invalid-name\n",
    "    'max_depth': 15,\n",
    "    'reg_alpha': 1.365,\n",
    "    'subsample': 0.7084,\n",
    "    'num_leaves': 34,\n",
    "    'reg_lambda': 1.028,\n",
    "    'n_estimators': 376,\n",
    "    'colsample_bytree': 0.9487,\n",
    "    'min_child_weight': 0.06395\n",
    "}\n",
    "\n",
    "# Delta G\n",
    "# https://app.wandb.ai/kjappelbaum/dispersant_screener/runs/wog4qfb2/overview?workspace=user-kjappelbaum\n",
    "config_1 = {  # pylint:disable=invalid-name\n",
    "    'max_depth': 17,\n",
    "    'reg_alpha': 1.402,\n",
    "    'subsample': 0.2033,\n",
    "    'num_leaves': 38,\n",
    "    'reg_lambda': 1.091,\n",
    "    'n_estimators': 4676,\n",
    "    'colsample_bytree': 0.9934,\n",
    "    'min_child_weight': 0.005694\n",
    "}\n",
    "\n",
    "# repulsion\n",
    "# https://app.wandb.ai/kjappelbaum/dispersant_screener/runs/ljzi9uad/overview?workspace=user-kjappelbaum\n",
    "config_2 = {  # pylint:disable=invalid-name\n",
    "    'max_depth': 73,\n",
    "    'reg_alpha': 1.266,\n",
    "    'subsample': 0.9824,\n",
    "    'num_leaves': 398,\n",
    "    'reg_lambda': 1.221,\n",
    "    'n_estimators': 4974,\n",
    "    'colsample_bytree': 0.9615,\n",
    "    'min_child_weight': 0.09413\n",
    "}"
   ]
  },
  {
   "cell_type": "code",
   "execution_count": 19,
   "metadata": {},
   "outputs": [],
   "source": [
    "all_feat = np.vstack([feat_0, feat_1, feat_2])"
   ]
  },
  {
   "cell_type": "code",
   "execution_count": 20,
   "metadata": {},
   "outputs": [],
   "source": [
    "lgbms = []\n",
    "for target in range(3):\n",
    "    y_selected = y[:, target]\n",
    "    X_train, X_test, y_train, y_test = train_test_split(df_full_factorial_feat\n",
    "                                                        , y_selected, train_size=0.8)\n",
    "    if target == 0:\n",
    "        lgbm = LGBMRegressor(**config_0)\n",
    "    elif target == 1:\n",
    "        lgbm = LGBMRegressor(**config_1)\n",
    "    elif target == 2:\n",
    "        lgbm = LGBMRegressor(**config_2)\n",
    "\n",
    "    lgbm.fit(X_train, y_train)\n",
    "    \n",
    "    lgbms.append(lgbm)"
   ]
  },
  {
   "cell_type": "code",
   "execution_count": 21,
   "metadata": {},
   "outputs": [],
   "source": [
    "pred_0 = lgbms[0].predict(all_feat)\n",
    "pred_1 = lgbms[1].predict(all_feat)\n",
    "pred_2 = lgbms[2].predict(all_feat)"
   ]
  },
  {
   "cell_type": "code",
   "execution_count": 22,
   "metadata": {},
   "outputs": [
    {
     "data": {
      "text/plain": [
       "<matplotlib.collections.PathCollection at 0x7f8265a7ec88>"
      ]
     },
     "execution_count": 22,
     "metadata": {},
     "output_type": "execute_result"
    },
    {
     "data": {
      "image/png": "[encoded data removed]",
      "text/plain": [
       "<Figure size 432x288 with 1 Axes>"
      ]
     },
     "metadata": {
      "needs_background": "light"
     },
     "output_type": "display_data"
    }
   ],
   "source": [
    "plt.scatter(y[:,1], lgbms[1].predict(df_full_factorial_feat))"
   ]
  },
  {
   "cell_type": "code",
   "execution_count": 23,
   "metadata": {},
   "outputs": [],
   "source": [
    "import seaborn as sns"
   ]
  },
  {
   "cell_type": "code",
   "execution_count": 24,
   "metadata": {},
   "outputs": [
    {
     "data": {
      "text/plain": [
       "array([13.44675899,  5.95207373, 13.09720576, 13.34458986, 13.05387483,\n",
       "       12.93066286, 13.24243609, 13.64434803, 12.65339176, 12.48633047,\n",
       "       11.63666285, 12.54076832, 12.99619446, 12.77731713, 13.44935404,\n",
       "       13.57775802, 12.05269068, 10.27249164, 12.70095167, 13.12369666,\n",
       "       12.24286123, 13.35876203, 13.39444503, 13.02618597, 13.3527044 ,\n",
       "       13.50038023, 13.04523554, 13.1048697 , 13.26521698, 13.0509163 ,\n",
       "       13.09984113, 13.03190433, 12.55605431, 11.84224362, 13.64610086,\n",
       "       13.12361706, 12.36301709, 13.18021   , 13.13874764, 13.52998152,\n",
       "       10.71364799, 13.40894853, 12.96832369, 13.22175043, 12.96300974,\n",
       "       13.77659328, 13.19880288, 13.33389131, 14.0307279 , 13.5925287 ,\n",
       "       13.17380102, 10.55193929, 13.24189055, 13.01601928, 13.16097344,\n",
       "       11.30583803, 12.32281644, 12.19360802, 11.60375293,  8.5858931 ,\n",
       "       11.34166809, 13.25689985, 13.25502702, 11.68672445, 13.06792633,\n",
       "        9.4233334 , 12.41794583, 13.40282276, 13.15744652, 12.93515939,\n",
       "       13.11138352, 13.15035935, 19.40341625, 19.69695715, 19.40132204,\n",
       "       19.66866185, 20.03852128, 19.0398313 , 19.41480058, 19.43880374,\n",
       "       19.49401008, 19.4605553 , 19.35056001, 15.81155261, 19.4605553 ,\n",
       "       19.41480058, 19.40784659, 19.43318531, 19.44620033, 19.41480058,\n",
       "       19.43356813, 19.4281748 , 19.52337362, 19.73870673, 19.34350891,\n",
       "       19.31352665, 16.56260983, 19.45797447, 16.54062385, 16.54733869,\n",
       "       19.22117874, 15.84608838, 19.4605553 , 19.39183862, 17.40700887,\n",
       "       19.25327769, 19.49505749, 19.4309873 , 19.47984206, 19.41645971,\n",
       "       19.48070252, 19.45797447, 19.78613842, 19.40935688, 19.49625845,\n",
       "       19.46250677, 19.67331661, 19.43880374, 19.38860871, 19.3874306 ,\n",
       "       19.23892272, 16.51996871, 19.32200322, 19.43330638, 19.40670479,\n",
       "       19.40784659, 19.4309873 , 19.1901934 , 19.4605553 , 19.4309873 ,\n",
       "       16.54733869, 18.98934258, 19.81335809, 19.92245047, 19.7544392 ,\n",
       "       19.37147721, 19.35809044, 19.42444877, 19.30510135, 19.43880374,\n",
       "       19.45797447, 15.42277401, 19.23892272, 19.44620033, 17.40019486,\n",
       "       18.48921419, 19.45797447, 19.36375538, 18.47506849, 16.09947046,\n",
       "       17.83344038, 16.52376007, 19.53185082, 19.73659135, 19.61903782,\n",
       "       19.21050498, 19.57058938, 19.38947692, 19.45797447, 19.4605553 ,\n",
       "       19.4309873 , 18.47496932, 19.45797447, 19.25327769, 19.41480058,\n",
       "       19.3294988 , 17.41443974, 18.47496932, 17.42853003, 19.25327769,\n",
       "       19.39179162, 17.37963889, 19.86142313, 19.48174576, 19.99879124,\n",
       "       19.75368786, 19.83995221, 19.30510135, 19.4309873 , 16.54733869,\n",
       "       14.70126729, 19.43060448, 19.37743665, 16.12684045, 19.45797447,\n",
       "       17.41443974, 19.43060448, 19.36698814, 19.45797447, 19.28449989,\n",
       "       19.45797447, 19.45797447, 19.52693071, 19.51291854, 19.62327553,\n",
       "       19.57925556, 19.48334292, 15.40043929, 19.40774742, 19.41895141,\n",
       "       19.41645971, 19.43330638, 19.42022044, 19.4605553 , 19.34835598,\n",
       "       16.11248548, 19.42949898, 19.35314084, 17.38343025, 19.39270968,\n",
       "       19.45797447, 19.05669966,  5.96838003,  6.42836478,  5.79064489,\n",
       "        5.49807928,  6.23504026,  6.16138479,  5.81959991,  5.61776131,\n",
       "        7.98574355,  5.28667027,  6.16859276,  6.19451319,  5.84459108,\n",
       "        5.61530543,  4.06694742,  6.46671343,  9.00271666,  8.4514815 ,\n",
       "        4.47148631,  4.52720951,  5.79064489,  6.15431955,  5.91458839,\n",
       "        3.94126806,  5.67035476,  4.85161357,  5.6515753 ,  5.03598546,\n",
       "        6.20582684,  4.05128448,  4.15826385,  4.05317405,  8.45669043,\n",
       "        6.8193045 ,  5.79064489,  5.79064489,  6.28114807,  6.11382717,\n",
       "        5.69864522,  5.6315613 ,  8.23797384,  6.16723956,  5.69864522,\n",
       "        4.43695532,  5.69931081,  5.56024122,  5.89335206,  6.26480157,\n",
       "        8.08559567,  8.30007162,  4.73818736,  5.69566393,  5.6515753 ,\n",
       "        4.01241875,  5.47813899,  5.95069706,  7.66986948,  4.82835219,\n",
       "        5.60348716,  5.73920803,  5.7518187 ,  5.55963342,  6.02980017,\n",
       "        6.07131308,  8.86398986,  5.13203881,  5.47869171,  5.95069706,\n",
       "        4.75253406,  5.95485156,  5.69931081,  4.47148631])"
      ]
     },
     "execution_count": 24,
     "metadata": {},
     "output_type": "execute_result"
    }
   ],
   "source": [
    "pred_1"
   ]
  },
  {
   "cell_type": "code",
   "execution_count": 25,
   "metadata": {},
   "outputs": [
    {
     "data": {
      "text/plain": [
       "<matplotlib.axes._subplots.AxesSubplot at 0x7f8265999048>"
      ]
     },
     "execution_count": 25,
     "metadata": {},
     "output_type": "execute_result"
    },
    {
     "data": {
      "image/png": "[encoded data removed]",
      "text/plain": [
       "<Figure size 432x288 with 1 Axes>"
      ]
     },
     "metadata": {
      "needs_background": "light"
     },
     "output_type": "display_data"
    }
   ],
   "source": [
    "sns.distplot(y[:,0], kde=False, hist_kws={'weights': np.full(len(y), 1/len(y))})\n",
    "sns.distplot(pred_0, kde=False, hist_kws={'weights': np.full(len(pred_0), 1/len(pred_0))})"
   ]
  },
  {
   "cell_type": "code",
   "execution_count": 26,
   "metadata": {},
   "outputs": [
    {
     "data": {
      "text/plain": [
       "<matplotlib.axes._subplots.AxesSubplot at 0x7f8265de9828>"
      ]
     },
     "execution_count": 26,
     "metadata": {},
     "output_type": "execute_result"
    },
    {
     "data": {
      "image/png": "[encoded data removed]",
      "text/plain": [
       "<Figure size 432x288 with 1 Axes>"
      ]
     },
     "metadata": {
      "needs_background": "light"
     },
     "output_type": "display_data"
    }
   ],
   "source": [
    "sns.distplot(y[:,1], kde=False, hist_kws={'weights': np.full(len(y), 1/len(y))})\n",
    "sns.distplot(pred_1, kde=False, hist_kws={'weights': np.full(len(pred_1), 1/len(pred_1))})"
   ]
  },
  {
   "cell_type": "code",
   "execution_count": 27,
   "metadata": {},
   "outputs": [
    {
     "data": {
      "text/plain": [
       "<matplotlib.axes._subplots.AxesSubplot at 0x7f8265eabb38>"
      ]
     },
     "execution_count": 27,
     "metadata": {},
     "output_type": "execute_result"
    },
    {
     "data": {
      "image/png": "[encoded data removed]",
      "text/plain": [
       "<Figure size 432x288 with 1 Axes>"
      ]
     },
     "metadata": {
      "needs_background": "light"
     },
     "output_type": "display_data"
    }
   ],
   "source": [
    "sns.distplot(y[:,2], kde=False, hist_kws={'weights': np.full(len(y), 1/len(y))})\n",
    "sns.distplot(pred_2, kde=False, hist_kws={'weights': np.full(len(pred_2), 1/len(pred_2))})"
   ]
  },
  {
   "cell_type": "code",
   "execution_count": 28,
   "metadata": {},
   "outputs": [
    {
     "name": "stderr",
     "output_type": "stream",
     "text": [
      " /Users/kevinmaikjablonka/opt/miniconda3/envs/dispersant_basf/lib/python3.7/site-packages/ipykernel_launcher.py:6: MatplotlibDeprecationWarning:\n",
      "The set_smart_bounds function was deprecated in Matplotlib 3.2 and will be removed two minor releases later.\n",
      " /Users/kevinmaikjablonka/opt/miniconda3/envs/dispersant_basf/lib/python3.7/site-packages/ipykernel_launcher.py:7: MatplotlibDeprecationWarning:\n",
      "The set_smart_bounds function was deprecated in Matplotlib 3.2 and will be removed two minor releases later.\n"
     ]
    },
    {
     "data": {
      "image/png": "[encoded data removed]",
      "text/plain": [
       "<Figure size 576x216 with 4 Axes>"
      ]
     },
     "metadata": {
      "needs_background": "light"
     },
     "output_type": "display_data"
    }
   ],
   "source": [
    "plt.rcParams['font.family'] = 'sans-serif'\n",
    "    \n",
    "fig, ax = plt.subplots(1,4,  figsize=(8,3), sharey='none')\n",
    "\n",
    "for i, a in enumerate(ax):\n",
    "    a.spines['left'].set_smart_bounds(True)\n",
    "    a.spines['bottom'].set_smart_bounds(True)\n",
    "    a.set_yticks([])\n",
    "    if i == 3:\n",
    "        a.set_xticks([])\n",
    "    \n",
    "sns.distplot(y[:,0], kde=False,  hist_kws={'weights': np.full(len(y), 1/len(y))}, ax=ax[0], label='DOE', color=COLORS[1])\n",
    "sns.distplot(pred_0, kde=False, hist_kws={'weights': np.full(len(pred_0), 1/len(pred_0))}, ax=ax[0], label='GA', color=COLORS[3])\n",
    "    \n",
    "sns.distplot(y[:,1], kde=False,  hist_kws={'weights': np.full(len(y), 1/len(y))}, ax=ax[1],  color=COLORS[1])\n",
    "sns.distplot(pred_1, kde=False,  hist_kws={'weights': np.full(len(pred_1), 1/len(pred_1))}, ax=ax[1],  color=COLORS[3])\n",
    "\n",
    "ax[1].set_ylim(0,0.5)\n",
    "    \n",
    "sns.distplot(y[:,2], kde=False, hist_kws={'weights': np.full(len(y), 1/len(y))}, ax=ax[2],  color=COLORS[1])\n",
    "sns.distplot(pred_2, kde=False,  hist_kws={'weights': np.full(len(pred_2), 1/len(pred_2))}, ax=ax[2],  color=COLORS[3])\n",
    "\n",
    "ax[3].scatter(embedding[:,0], embedding[:,1], label='DoE', alpha=.2, color=COLORS[1], s=5)\n",
    "ax[3].scatter(feat_0_scaled_umap[:,0], feat_0_scaled_umap[:,1],alpha=.6, label=r'$R_g$ GA', s=2)\n",
    "ax[3].scatter(feat_1_scaled_umap[:,0], feat_1_scaled_umap[:,1],alpha=.6, label=r'$G_\\mathrm{ads}$ GA', color=COLORS[0], s=2)\n",
    "ax[3].scatter(feat_2_scaled_umap[:,0], feat_2_scaled_umap[:,1],alpha=.6, label=r'$G_\\mathrm{rep}$ GA', color=COLORS[2], s=2)\n",
    "\n",
    "ax[3].legend(loc='lower right', labelspacing=-.1, bbox_to_anchor=(1.4,0))\n",
    "\n",
    "\n",
    "ax[3].set_xlabel('UMAP 1')\n",
    "ax[3].set_ylabel('UMAP 2')\n",
    "\n",
    "\n",
    "ax[0].legend()\n",
    "ax[0].set_xlabel('$R_g$ / nm')\n",
    "ax[1].set_xlabel('$-\\Delta G_\\mathrm{ads}$ / k$_\\mathrm{B}$T')\n",
    "ax[2].set_xlabel('$\\Delta G_\\mathrm{rep}$ / k$_\\mathrm{B}$T')\n",
    "\n",
    "fig.tight_layout()\n",
    "plt.savefig('ga_property_dist.pdf', bbox_inches='tight')"
   ]
  },
  {
   "cell_type": "code",
   "execution_count": null,
   "metadata": {},
   "outputs": [],
   "source": []
  },
  {
   "cell_type": "code",
   "execution_count": null,
   "metadata": {},
   "outputs": [],
   "source": []
  }
 ],
 "metadata": {
  "kernelspec": {
   "display_name": "Python 3",
   "language": "python",
   "name": "python3"
  },
  "language_info": {
   "codemirror_mode": {
    "name": "ipython",
    "version": 3
   },
   "file_extension": ".py",
   "mimetype": "text/x-python",
   "name": "python",
   "nbconvert_exporter": "python",
   "pygments_lexer": "ipython3",
   "version": "3.7.0"
  }
 },
 "nbformat": 4,
 "nbformat_minor": 4
}
