{
 "cells": [
  {
   "cell_type": "code",
   "execution_count": 1,
   "metadata": {},
   "outputs": [],
   "source": [
    "import joblib\n",
    "import matplotlib.pyplot as plt \n",
    "%matplotlib inline\n",
    "\n",
    "\n",
    "COLORS = [\n",
    "    \"#ffbe0b\", \n",
    "    \"#fb5607\", \n",
    "    \"#ff006e\",\n",
    "    \"#3a86ff\", \n",
    "]"
   ]
  },
  {
   "cell_type": "code",
   "execution_count": 2,
   "metadata": {},
   "outputs": [],
   "source": [
    "import sys \n",
    "import os \n",
    "from pathlib import Path \n",
    "import numpy as np \n",
    "import joblib\n",
    "\n",
    "%load_ext autoreload\n",
    "%autoreload 2\n",
    "\n",
    "import pandas as pd\n",
    "import shap \n",
    "from xgboost import XGBRegressor\n",
    "from sklearn.preprocessing import StandardScaler\n",
    "from sklearn.feature_selection import VarianceThreshold\n",
    "from sklearn.model_selection import train_test_split\n",
    "from sklearn.decomposition import PCA\n",
    "\n",
    "import umap\n",
    "\n",
    "import matplotlib.pyplot as plt \n",
    "%matplotlib inline \n",
    "\n",
    "import seaborn as sns\n",
    "plt.rcParams['font.family'] = 'sans-serif'\n",
    "\n",
    "DATADIR = '../data'\n",
    "TRAIN_SIZE = 0.7\n",
    "\n",
    "import sys \n",
    "sys.path.append('../')\n",
    "from dispersant_screener.definitions import FEATURES\n",
    "from dispersant_screener.utils import plot_parity\n",
    "from dispersant_screener.ga import FEATURES\n",
    "\n",
    "\n",
    "import wandb\n",
    "from lightgbm import LGBMRegressor\n",
    "\n",
    "FEATURES = ['max_[W]', 'max_[Tr]', 'max_[Ta]', 'max_[R]', '[W]', '[Tr]', '[Ta]', '[R]', 'length']\n",
    "\n",
    "\n",
    "df_full_factorial_feat = pd.read_csv(os.path.join(DATADIR, 'new_features_full_random.csv'))[FEATURES].values\n",
    "a2 = pd.read_csv(os.path.join(DATADIR, 'b1-b21_random_virial_large_new.csv'))['A2_normalized'].values\n",
    "deltaGMax = pd.read_csv(os.path.join(DATADIR, 'b1-b21_random_virial_large_new.csv'))['A2_normalized'].values\n",
    "gibbs = pd.read_csv(os.path.join(DATADIR, 'b1-b21_random_deltaG.csv'))['deltaGmin'].values\n",
    "gibbs_max = pd.read_csv(os.path.join(DATADIR, 'b1-b21_random_virial_large_new.csv'))['deltaGmax'].values\n",
    "force_max = pd.read_csv(os.path.join(DATADIR, 'b1-b21_random_virial_large_fit2.csv'))['F_repel_max'].values\n",
    "rg = pd.read_csv(os.path.join(DATADIR, 'rg_results.csv'))['Rg'].values\n",
    "y = np.hstack([\n",
    "    rg.reshape(-1, 1),\n",
    "    -1* gibbs.reshape(-1, 1),\n",
    "    gibbs_max.reshape(-1, 1),\n",
    "])\n",
    "assert len(df_full_factorial_feat) == len(a2) == len(gibbs) == len(y)"
   ]
  },
  {
   "cell_type": "code",
   "execution_count": 3,
   "metadata": {},
   "outputs": [],
   "source": [
    "ga_0 = joblib.load('../work/20201023-132603-ga_0.joblib')\n",
    "ga_1 = joblib.load('../work/20201023-132617-ga_1.joblib')\n",
    "ga_2 = joblib.load('../work/20201023-132621-ga_2.joblib')"
   ]
  },
  {
   "cell_type": "code",
   "execution_count": 4,
   "metadata": {},
   "outputs": [
    {
     "name": "stderr",
     "output_type": "stream",
     "text": [
      " /Users/kevinmaikjablonka/opt/miniconda3/envs/dispersant_basf/lib/python3.7/site-packages/ipykernel_launcher.py:6: MatplotlibDeprecationWarning:\n",
      "The set_smart_bounds function was deprecated in Matplotlib 3.2 and will be removed two minor releases later.\n",
      " /Users/kevinmaikjablonka/opt/miniconda3/envs/dispersant_basf/lib/python3.7/site-packages/ipykernel_launcher.py:7: MatplotlibDeprecationWarning:\n",
      "The set_smart_bounds function was deprecated in Matplotlib 3.2 and will be removed two minor releases later.\n"
     ]
    },
    {
     "data": {
      "image/png": "[encoded data removed]",
      "text/plain": [
       "<Figure size 576x216 with 3 Axes>"
      ]
     },
     "metadata": {
      "needs_background": "light"
     },
     "output_type": "display_data"
    }
   ],
   "source": [
    "plt.rcParams['font.family'] = 'sans-serif'\n",
    "    \n",
    "fig, ax = plt.subplots(1,3, sharex='all', figsize=(8,3))\n",
    "\n",
    "for a in ax:\n",
    "    a.spines['left'].set_smart_bounds(True)\n",
    "    a.spines['bottom'].set_smart_bounds(True)\n",
    "    a.set_xlabel('iterations')\n",
    "    a.set_ylabel('loss')\n",
    "    \n",
    "for ga in ga_0: \n",
    "    ax[0].plot(ga.report)\n",
    "    \n",
    "for ga in ga_1: \n",
    "    ax[1].plot(ga.report)\n",
    "        \n",
    "for ga in ga_2: \n",
    "    ax[2].plot(ga.report)\n",
    "    \n",
    "\n",
    "ax[0].set_title(r'$R_g$')\n",
    "ax[1].set_title(r'$\\Delta G_{\\mathrm{ads}}$')\n",
    "ax[2].set_title(r'$\\Delta G_{\\mathrm{rep}}$')\n",
    "\n",
    "fig.tight_layout()\n",
    "\n",
    "fig.savefig('ga_gpr_convergence.pdf', bbox_inches='tight')"
   ]
  },
  {
   "cell_type": "code",
   "execution_count": 9,
   "metadata": {},
   "outputs": [
    {
     "name": "stdout",
     "output_type": "stream",
     "text": [
      "{'variable': array([ 3.        ,  2.        ,  0.        ,  4.        ,  0.08262979,\n",
      "        0.13473747,  0.89600852,  0.08072782, 48.        ]), 'function': -12.286835140886762}\n",
      "{'variable': array([ 1.        ,  4.        ,  0.        , 25.        ,  0.13315452,\n",
      "        0.68705716,  0.54944875,  0.11999615, 43.        ]), 'function': -12.287189993103187}\n",
      "{'variable': array([ 2.        ,  1.        ,  0.        , 13.        ,  0.07875643,\n",
      "        0.80753413,  0.57037048,  0.05086394, 32.        ]), 'function': -12.285980243363227}\n",
      "{'variable': array([ 0.        ,  4.        ,  2.        , 19.        ,  0.10799671,\n",
      "        0.91646478,  0.66054938,  0.0912925 , 43.        ]), 'function': -12.287189993103187}\n",
      "{'variable': array([ 1.        ,  5.        ,  0.        ,  8.        ,  0.18856562,\n",
      "        0.2965653 ,  0.13513153,  0.1255456 , 43.        ]), 'function': -12.28666766253641}\n",
      "{'variable': array([ 1.        ,  3.        ,  3.        ,  1.        ,  0.07207152,\n",
      "        0.14924691,  0.61111648,  0.13889365, 44.        ]), 'function': -12.288044890626724}\n",
      "{'variable': array([ 1.        ,  1.        ,  2.        ,  5.        ,  0.04597343,\n",
      "        0.18960489,  0.47103132,  0.13123827, 38.        ]), 'function': -12.288044890626724}\n",
      "{'variable': array([ 1.        ,  1.        ,  1.        ,  0.        ,  0.12124357,\n",
      "        0.17892881,  0.48947735,  0.06770853, 44.        ]), 'function': -12.288044890626724}\n",
      "{'variable': array([ 1.        ,  5.        ,  1.        ,  1.        ,  0.14351895,\n",
      "        0.08789972,  0.57751836,  0.09511923, 48.        ]), 'function': -12.288044890626724}\n",
      "{'variable': array([0.00000000e+00, 3.00000000e+00, 1.00000000e+00, 0.00000000e+00,\n",
      "       7.80958299e-02, 6.69624896e-03, 6.43802274e-01, 1.37120316e-01,\n",
      "       4.00000000e+01]), 'function': -12.288044890626724}\n",
      "{'variable': array([ 1.        ,  3.        ,  5.        ,  1.        ,  0.09048785,\n",
      "        0.1405085 ,  0.96284626,  0.14390219, 47.        ]), 'function': -12.288044890626724}\n",
      "{'variable': array([ 0.        ,  3.        ,  0.        ,  1.        ,  0.14582663,\n",
      "        0.13411033,  0.66495332,  0.12046886, 42.        ]), 'function': -12.288044890626724}\n",
      "{'variable': array([ 1.        ,  1.        ,  2.        ,  2.        ,  0.12172301,\n",
      "        0.24524929,  0.6201218 ,  0.07205286, 48.        ]), 'function': -12.288044890626724}\n",
      "{'variable': array([ 1.        ,  6.        ,  1.        ,  3.        ,  0.14513908,\n",
      "        0.15162318,  0.6788674 ,  0.06288753, 43.        ]), 'function': -12.288044890626724}\n",
      "{'variable': array([ 0.        ,  5.        ,  0.        ,  6.        ,  0.12588267,\n",
      "        0.1584634 ,  0.62859958,  0.08150183, 47.        ]), 'function': -12.288044890626724}\n",
      "{'variable': array([ 1.        ,  3.        ,  0.        ,  3.        ,  0.14240489,\n",
      "        0.11341027,  0.56041032,  0.09670736, 44.        ]), 'function': -12.288044890626724}\n",
      "{'variable': array([ 1.        ,  1.        ,  2.        ,  6.        ,  0.06517492,\n",
      "        0.20805337,  0.83707472,  0.14704757, 39.        ]), 'function': -12.288044890626724}\n",
      "{'variable': array([ 1.        ,  3.        ,  1.        ,  0.        ,  0.1304415 ,\n",
      "        0.14078287,  0.38827491,  0.14506707, 36.        ]), 'function': -12.288044890626724}\n",
      "{'variable': array([ 0.        ,  5.        ,  0.        ,  1.        ,  0.11745245,\n",
      "        0.20207068,  0.71254957,  0.0920367 , 44.        ]), 'function': -12.288044890626724}\n",
      "{'variable': array([ 0.        ,  1.        ,  0.        ,  8.        ,  0.09161769,\n",
      "        0.23933834,  0.65482202,  0.05324623, 37.        ]), 'function': -12.288044890626724}\n",
      "{'variable': array([ 0.        ,  2.        ,  4.        , 11.        ,  0.15837723,\n",
      "        0.48684344,  0.37984445,  0.15073882, 38.        ]), 'function': -13.35875701103852}\n",
      "{'variable': array([1.00000000e+00, 1.00000000e+00, 1.00000000e+00, 5.00000000e+00,\n",
      "       2.73285888e-02, 3.29233031e-01, 6.49021233e-01, 5.28157389e-02,\n",
      "       4.00000000e+01]), 'function': -13.359279341605298}\n",
      "{'variable': array([ 0.        ,  2.        ,  5.        ,  6.        ,  0.12428832,\n",
      "        0.37325305,  0.4409749 ,  0.14618091, 44.        ]), 'function': -13.359279341605298}\n",
      "{'variable': array([12.        ,  1.        ,  3.        ,  5.        ,  0.05316263,\n",
      "        0.78003287,  0.90444413,  0.1011678 , 41.        ]), 'function': -13.358069591865338}\n",
      "{'variable': array([ 1.        ,  5.        ,  2.        , 17.        ,  0.22010797,\n",
      "        0.72450874,  0.96543895,  0.09017978, 39.        ]), 'function': -13.35875701103852}\n",
      "{'variable': array([ 0.        ,  4.        ,  0.        ,  2.        ,  0.13789895,\n",
      "        0.07981276,  0.76982606,  0.08092188, 35.        ]), 'function': -13.360134239128834}\n",
      "{'variable': array([ 1.        ,  4.        ,  4.        ,  0.        ,  0.11685721,\n",
      "        0.11071068,  0.11357636,  0.11203906, 40.        ]), 'function': -13.360134239128834}\n",
      "{'variable': array([ 1.        ,  2.        ,  3.        ,  5.        ,  0.04552814,\n",
      "        0.12052352,  0.74281367,  0.14680584, 45.        ]), 'function': -13.360134239128834}\n",
      "{'variable': array([ 1.        ,  1.        ,  0.        ,  3.        ,  0.10301265,\n",
      "        0.128602  ,  0.65771631,  0.13081948, 47.        ]), 'function': -13.360134239128834}\n",
      "{'variable': array([ 0.        ,  1.        ,  1.        ,  8.        ,  0.0788917 ,\n",
      "        0.23121943,  0.90413344,  0.131703  , 38.        ]), 'function': -13.360134239128834}\n",
      "{'variable': array([ 0.        ,  4.        ,  1.        ,  6.        ,  0.15034746,\n",
      "        0.1601895 ,  0.88744142,  0.10110396, 42.        ]), 'function': -13.360134239128834}\n",
      "{'variable': array([ 0.        ,  3.        ,  1.        ,  3.        ,  0.09866933,\n",
      "        0.0790051 ,  0.58988164,  0.12127074, 44.        ]), 'function': -13.360134239128834}\n",
      "{'variable': array([ 1.        ,  1.        ,  2.        ,  2.        ,  0.09093563,\n",
      "        0.10073855,  0.62011005,  0.08541551, 42.        ]), 'function': -13.360134239128834}\n",
      "{'variable': array([ 1.        ,  2.        ,  0.        ,  2.        ,  0.09661463,\n",
      "        0.24715881,  0.67943105,  0.10953408, 34.        ]), 'function': -13.360134239128834}\n",
      "{'variable': array([ 1.        ,  4.        ,  0.        ,  9.        ,  0.1278467 ,\n",
      "        0.23891695,  0.77580852,  0.07500334, 41.        ]), 'function': -13.360134239128834}\n",
      "{'variable': array([ 0.        ,  5.        ,  0.        ,  0.        ,  0.11094797,\n",
      "        0.11839502,  0.88063168,  0.08582486, 47.        ]), 'function': -13.360134239128834}\n",
      "{'variable': array([0.00000000e+00, 1.00000000e+00, 0.00000000e+00, 2.00000000e+00,\n",
      "       3.42150266e-02, 6.52451826e-02, 5.90141438e-01, 7.52149811e-02,\n",
      "       4.00000000e+01]), 'function': -13.360134239128834}\n",
      "{'variable': array([ 0.        ,  3.        ,  0.        ,  0.        ,  0.14892168,\n",
      "        0.22178999,  0.67536944,  0.1383486 , 48.        ]), 'function': -13.360134239128834}\n",
      "{'variable': array([ 1.        ,  1.        ,  0.        ,  5.        ,  0.13541412,\n",
      "        0.15205552,  0.30839538,  0.09769428, 38.        ]), 'function': -13.360134239128834}\n",
      "{'variable': array([ 0.        ,  6.        ,  1.        ,  4.        ,  0.1497664 ,\n",
      "        0.13426085,  0.94609156,  0.08221164, 44.        ]), 'function': -13.360134239128834}\n",
      "{'variable': array([ 0.        ,  1.        ,  2.        , 14.        ,  0.15607505,\n",
      "        0.87350939,  0.36600825,  0.10057253, 35.        ]), 'function': -14.430846359540633}\n",
      "{'variable': array([ 1.        ,  1.        ,  5.        ,  4.        ,  0.12237034,\n",
      "        0.92052071,  0.72638818,  0.12407149, 45.        ]), 'function': -14.43136869010741}\n",
      "{'variable': array([ 1.        ,  7.        ,  2.        , 24.        ,  0.19181839,\n",
      "        0.86983394,  0.77484519,  0.1101488 , 39.        ]), 'function': -14.430846359540633}\n",
      "{'variable': array([ 9.        ,  5.        ,  2.        , 11.        ,  0.19692756,\n",
      "        0.79432839,  0.32951248,  0.13178965, 36.        ]), 'function': -14.42963660980067}\n",
      "{'variable': array([ 0.        ,  7.        ,  0.        , 18.        ,  0.21588868,\n",
      "        0.79347458,  0.99382684,  0.06904965, 40.        ]), 'function': -14.430846359540633}\n",
      "{'variable': array([ 0.        ,  1.        ,  4.        ,  5.        ,  0.10827782,\n",
      "        0.22970345,  0.89665021,  0.09505021, 43.        ]), 'function': -14.432223587630947}\n",
      "{'variable': array([1.00000000e+00, 3.00000000e+00, 0.00000000e+00, 6.00000000e+00,\n",
      "       1.47825754e-01, 1.76276735e-01, 3.92049731e-01, 2.47929736e-02,\n",
      "       4.00000000e+01]), 'function': -14.432223587630947}\n",
      "{'variable': array([ 0.        ,  1.        ,  1.        ,  8.        ,  0.13288358,\n",
      "        0.23594294,  0.84242543,  0.14065235, 39.        ]), 'function': -14.432223587630947}\n",
      "{'variable': array([ 0.        ,  3.        ,  2.        ,  1.        ,  0.11400773,\n",
      "        0.23460855,  0.23910276,  0.0849081 , 33.        ]), 'function': -14.432223587630947}\n",
      "{'variable': array([1.00000000e+00, 3.00000000e+00, 1.00000000e+00, 6.00000000e+00,\n",
      "       8.76546098e-02, 1.33016921e-01, 9.09790123e-01, 3.47233921e-02,\n",
      "       4.80000000e+01]), 'function': -14.432223587630947}\n",
      "{'variable': array([0.00000000e+00, 1.00000000e+00, 0.00000000e+00, 3.00000000e+00,\n",
      "       3.28622637e-02, 1.86784492e-01, 1.16778182e-01, 1.04587512e-01,\n",
      "       4.20000000e+01]), 'function': -14.432223587630947}\n",
      "{'variable': array([ 1.        ,  1.        ,  1.        ,  3.        ,  0.12624035,\n",
      "        0.11094883,  0.57073885,  0.06116739, 32.        ]), 'function': -14.432223587630947}\n",
      "{'variable': array([ 1.        ,  5.        ,  0.        ,  0.        ,  0.11648299,\n",
      "        0.16736945,  0.42008971,  0.11663124, 48.        ]), 'function': -14.432223587630947}\n",
      "{'variable': array([ 0.        ,  5.        ,  3.        ,  1.        ,  0.12139732,\n",
      "        0.1324337 ,  0.7286002 ,  0.14471312, 47.        ]), 'function': -14.432223587630947}\n",
      "{'variable': array([ 1.        ,  1.        ,  1.        , 10.        ,  0.12927737,\n",
      "        0.24670261,  0.19751703,  0.14749458, 41.        ]), 'function': -14.432223587630947}\n",
      "{'variable': array([0.00000000e+00, 2.00000000e+00, 4.00000000e+00, 1.00000000e+00,\n",
      "       1.25126315e-01, 3.95114566e-02, 5.93648032e-01, 1.34966257e-01,\n",
      "       4.50000000e+01]), 'function': -14.432223587630947}\n",
      "{'variable': array([ 1.        ,  1.        ,  2.        ,  1.        ,  0.06038007,\n",
      "        0.23831173,  0.8845403 ,  0.08929908, 45.        ]), 'function': -14.432223587630947}\n",
      "{'variable': array([1.00000000e+00, 2.00000000e+00, 0.00000000e+00, 8.00000000e+00,\n",
      "       1.19481191e-01, 2.36537985e-01, 4.75001637e-01, 3.60664265e-02,\n",
      "       4.30000000e+01]), 'function': -14.432223587630947}\n",
      "{'variable': array([0.00000000e+00, 1.00000000e+00, 2.00000000e+00, 9.00000000e+00,\n",
      "       9.65058868e-02, 2.27583977e-01, 2.46213976e-02, 8.97469182e-02,\n",
      "       4.60000000e+01]), 'function': -14.432223587630947}\n",
      "{'variable': array([ 0.        ,  5.        ,  2.        ,  4.        ,  0.11543906,\n",
      "        0.18236467,  0.79886643,  0.09779912, 45.        ]), 'function': -14.432223587630947}\n",
      "{'variable': array([1.00000000e+00, 8.00000000e+00, 0.00000000e+00, 5.00000000e+00,\n",
      "       2.21826004e-01, 7.87159817e-01, 7.39721652e-01, 1.91557322e-02,\n",
      "       3.80000000e+01]), 'function': -16.575025056544856}\n",
      "{'variable': array([0.00000000e+00, 3.00000000e+00, 0.00000000e+00, 1.80000000e+01,\n",
      "       1.15743139e-01, 8.17533924e-01, 5.01198299e-01, 8.77426606e-04,\n",
      "       4.20000000e+01]), 'function': -16.575547387111634}\n",
      "{'variable': array([ 3.        ,  1.        ,  1.        ,  3.        ,  0.12099086,\n",
      "        0.61832563,  0.32252936,  0.14578461, 37.        ]), 'function': -16.574337637371674}\n",
      "{'variable': array([1.00000000e+00, 1.00000000e+00, 1.00000000e+00, 1.90000000e+01,\n",
      "       3.18647557e-02, 9.40810445e-01, 1.95691730e-01, 7.04233553e-02,\n",
      "       3.40000000e+01]), 'function': -16.575547387111634}\n",
      "{'variable': array([ 7.        ,  6.        ,  0.        , 11.        ,  0.18628653,\n",
      "        0.31988306,  0.91061155,  0.11787647, 43.        ]), 'function': -16.573815306804892}\n",
      "{'variable': array([ 0.        ,  2.        ,  0.        ,  0.        ,  0.09867065,\n",
      "        0.06021155,  0.57678207,  0.13577588, 46.        ]), 'function': -16.57640228463517}\n",
      "{'variable': array([ 0.        ,  5.        ,  3.        ,  7.        ,  0.11699692,\n",
      "        0.21485519,  0.74754127,  0.14632509, 45.        ]), 'function': -16.57640228463517}\n",
      "{'variable': array([ 1.        ,  2.        ,  2.        ,  8.        ,  0.10189525,\n",
      "        0.22851487,  0.43409208,  0.08772526, 40.        ]), 'function': -16.57640228463517}\n",
      "{'variable': array([ 0.        ,  3.        ,  3.        ,  1.        ,  0.13595648,\n",
      "        0.0858565 ,  0.64158715,  0.0995847 , 42.        ]), 'function': -16.57640228463517}\n",
      "{'variable': array([ 1.        ,  4.        ,  1.        ,  8.        ,  0.13115843,\n",
      "        0.21980581,  0.72432974,  0.04582041, 45.        ]), 'function': -16.57640228463517}\n",
      "{'variable': array([ 0.        ,  6.        ,  5.        ,  7.        ,  0.13171306,\n",
      "        0.17060175,  0.13104291,  0.14703417, 48.        ]), 'function': -16.57640228463517}\n",
      "{'variable': array([ 0.        ,  2.        ,  2.        ,  5.        ,  0.1497618 ,\n",
      "        0.1195126 ,  0.50755821,  0.14541339, 43.        ]), 'function': -16.57640228463517}\n",
      "{'variable': array([ 0.        ,  4.        ,  2.        ,  0.        ,  0.11370937,\n",
      "        0.19633685,  0.35817402,  0.06341211, 47.        ]), 'function': -16.57640228463517}\n",
      "{'variable': array([ 1.        ,  1.        ,  1.        ,  4.        ,  0.11486108,\n",
      "        0.14725948,  0.58324502,  0.08352317, 35.        ]), 'function': -16.57640228463517}\n",
      "{'variable': array([1.00000000e+00, 1.00000000e+00, 1.00000000e+00, 8.00000000e+00,\n",
      "       3.62781553e-02, 2.06373665e-01, 6.10420289e-01, 1.44716859e-01,\n",
      "       4.50000000e+01]), 'function': -16.57640228463517}\n",
      "{'variable': array([ 1.        ,  1.        ,  0.        ,  3.        ,  0.14465726,\n",
      "        0.09755772,  0.89882008,  0.1045068 , 45.        ]), 'function': -16.57640228463517}\n",
      "{'variable': array([ 0.        ,  4.        ,  2.        ,  7.        ,  0.15121819,\n",
      "        0.22020726,  0.25873607,  0.061134  , 40.        ]), 'function': -16.57640228463517}\n",
      "{'variable': array([ 0.        ,  3.        ,  1.        ,  9.        ,  0.08353268,\n",
      "        0.24100165,  0.51034321,  0.07737288, 41.        ]), 'function': -16.57640228463517}\n",
      "{'variable': array([ 0.        ,  1.        ,  2.        ,  6.        ,  0.04539576,\n",
      "        0.23278594,  0.81002284,  0.09566424, 30.        ]), 'function': -16.57640228463517}\n",
      "{'variable': array([ 0.        ,  1.        ,  4.        ,  2.        ,  0.09694956,\n",
      "        0.05086895,  0.87437671,  0.13061818, 44.        ]), 'function': -16.57640228463517}\n",
      "{'variable': array([16.        ,  2.        ,  2.        , 14.        ,  0.07812209,\n",
      "        0.40996968,  0.55885878,  0.13438368, 43.        ]), 'function': -33.72776721340546}\n",
      "{'variable': array([ 0.        ,  4.        ,  1.        ,  6.        ,  0.21317468,\n",
      "        0.5971051 ,  0.78679767,  0.11348343, 42.        ]), 'function': -33.72845463257864}\n",
      "{'variable': array([14.        ,  1.        ,  1.        , 13.        ,  0.05261847,\n",
      "        0.95994261,  0.65685797,  0.06645168, 44.        ]), 'function': -33.72776721340546}\n",
      "{'variable': array([ 4.        ,  1.        ,  0.        ,  2.        ,  0.09306835,\n",
      "        0.48736298,  0.70845385,  0.0505512 , 33.        ]), 'function': -33.72776721340546}\n",
      "{'variable': array([ 0.        ,  3.        ,  2.        ,  5.        ,  0.16789078,\n",
      "        0.69676408,  0.2330933 ,  0.12476545, 35.        ]), 'function': -33.72845463257864}\n",
      "{'variable': array([ 1.        ,  1.        ,  0.        ,  1.        ,  0.06418321,\n",
      "        0.13458502,  0.60159495,  0.122791  , 44.        ]), 'function': -33.72983186066895}\n",
      "{'variable': array([ 0.        ,  2.        ,  0.        ,  1.        ,  0.1447221 ,\n",
      "        0.11152308,  0.87246589,  0.15133556, 37.        ]), 'function': -33.72983186066895}\n",
      "{'variable': array([ 1.        ,  5.        ,  2.        ,  2.        ,  0.13916439,\n",
      "        0.19156662,  0.69160741,  0.12754291, 40.        ]), 'function': -33.72983186066895}\n",
      "{'variable': array([ 0.        ,  3.        ,  0.        ,  1.        ,  0.14057255,\n",
      "        0.17738685,  0.25914113,  0.13995684, 40.        ]), 'function': -33.72983186066895}\n",
      "{'variable': array([ 1.        ,  3.        ,  3.        ,  8.        ,  0.09122201,\n",
      "        0.24818537,  0.91417932,  0.1068607 , 40.        ]), 'function': -33.72983186066895}\n",
      "{'variable': array([ 0.        ,  3.        ,  0.        ,  5.        ,  0.08884601,\n",
      "        0.12701019,  0.59864165,  0.10175348, 41.        ]), 'function': -33.72983186066895}\n",
      "{'variable': array([ 1.        ,  1.        ,  3.        ,  1.        ,  0.05632451,\n",
      "        0.23630044,  0.58703787,  0.13335067, 44.        ]), 'function': -33.72983186066895}\n",
      "{'variable': array([ 0.        ,  2.        ,  2.        ,  2.        ,  0.1343992 ,\n",
      "        0.13481378,  0.72403441,  0.05381439, 40.        ]), 'function': -33.72983186066895}\n",
      "{'variable': array([ 0.        ,  3.        ,  3.        ,  0.        ,  0.10382975,\n",
      "        0.09549478,  0.66093834,  0.14599526, 37.        ]), 'function': -33.72983186066895}\n",
      "{'variable': array([ 1.        ,  2.        ,  3.        ,  3.        ,  0.12546823,\n",
      "        0.20080641,  0.93397441,  0.13364922, 37.        ]), 'function': -33.72983186066895}\n",
      "{'variable': array([ 0.        ,  5.        ,  0.        ,  0.        ,  0.13017875,\n",
      "        0.19359337,  0.70669452,  0.04544562, 45.        ]), 'function': -33.72983186066895}\n",
      "{'variable': array([ 1.        ,  6.        ,  0.        ,  3.        ,  0.14529852,\n",
      "        0.09522985,  0.86676958,  0.11774233, 45.        ]), 'function': -33.72983186066895}\n",
      "{'variable': array([ 1.        ,  2.        ,  0.        ,  1.        ,  0.14061815,\n",
      "        0.18432573,  0.49976239,  0.06998317, 31.        ]), 'function': -33.72983186066895}\n",
      "{'variable': array([1.00000000e+00, 6.00000000e+00, 2.00000000e+00, 5.00000000e+00,\n",
      "       1.37238020e-01, 2.06588913e-01, 3.93786633e-02, 4.92406474e-02,\n",
      "       4.50000000e+01]), 'function': -33.72983186066895}\n",
      "{'variable': array([ 1.        ,  6.        ,  1.        ,  4.        ,  0.1477058 ,\n",
      "        0.12391889,  0.36852928,  0.04761325, 41.        ]), 'function': -33.72983186066895}\n",
      "{'variable': array([1.00000000e+00, 2.00000000e+00, 1.00000000e+00, 1.30000000e+01,\n",
      "       1.37897414e-01, 7.39604074e-01, 1.48702068e-01, 3.06975012e-02,\n",
      "       4.80000000e+01]), 'function': -55.170763933187644}\n",
      "{'variable': array([ 0.        ,  2.        ,  6.        ,  4.        ,  0.24578611,\n",
      "        0.98055432,  0.87874111,  0.15017611, 40.        ]), 'function': -55.17024160262087}\n",
      "{'variable': array([ 0.        , 10.        ,  3.        ,  7.        ,  0.22437639,\n",
      "        0.47688045,  0.13875375,  0.07866753, 46.        ]), 'function': -55.17024160262087}\n",
      "{'variable': array([ 1.        ,  3.        ,  4.        ,  0.        ,  0.1321135 ,\n",
      "        0.63865738,  0.38748942,  0.11389913, 39.        ]), 'function': -55.170763933187644}\n",
      "{'variable': array([ 0.        ,  2.        ,  3.        , 12.        ,  0.06597839,\n",
      "        0.6635119 ,  0.76656439,  0.11123443, 33.        ]), 'function': -55.170763933187644}\n",
      "{'variable': array([ 1.        ,  2.        ,  1.        ,  5.        ,  0.0903465 ,\n",
      "        0.16483694,  0.09165454,  0.06698125, 33.        ]), 'function': -55.17161883071118}\n",
      "{'variable': array([1.00000000e+00, 3.00000000e+00, 0.00000000e+00, 6.00000000e+00,\n",
      "       1.23229102e-01, 2.09091248e-01, 8.11385688e-01, 2.68217719e-02,\n",
      "       4.20000000e+01]), 'function': -55.17161883071118}\n",
      "{'variable': array([ 1.        ,  1.        ,  3.        ,  7.        ,  0.08060144,\n",
      "        0.1720122 ,  0.71604111,  0.09215448, 46.        ]), 'function': -55.17161883071118}\n",
      "{'variable': array([ 0.        ,  2.        ,  2.        ,  4.        ,  0.09346836,\n",
      "        0.20565158,  0.84933485,  0.05610272, 47.        ]), 'function': -55.17161883071118}\n",
      "{'variable': array([ 1.        ,  2.        ,  3.        ,  4.        ,  0.11326381,\n",
      "        0.1392706 ,  0.97318768,  0.09584828, 35.        ]), 'function': -55.17161883071118}\n",
      "{'variable': array([ 1.        ,  1.        ,  3.        ,  3.        ,  0.12591932,\n",
      "        0.17346423,  0.97331183,  0.11894812, 46.        ]), 'function': -55.17161883071118}\n",
      "{'variable': array([ 1.        ,  1.        ,  3.        ,  2.        ,  0.13837966,\n",
      "        0.21603898,  0.64841014,  0.14138693, 48.        ]), 'function': -55.17161883071118}\n",
      "{'variable': array([ 1.        ,  5.        ,  3.        ,  4.        ,  0.12921869,\n",
      "        0.23044275,  0.94056969,  0.11212039, 46.        ]), 'function': -55.17161883071118}\n",
      "{'variable': array([ 0.        ,  1.        ,  2.        , 10.        ,  0.04509095,\n",
      "        0.24093429,  0.44490417,  0.13670125, 42.        ]), 'function': -55.17161883071118}\n",
      "{'variable': array([ 0.        ,  2.        ,  3.        ,  4.        ,  0.09245203,\n",
      "        0.16261846,  0.38084423,  0.14489511, 46.        ]), 'function': -55.17161883071118}\n",
      "{'variable': array([ 1.        ,  2.        ,  0.        , 10.        ,  0.13312946,\n",
      "        0.24753965,  0.37091196,  0.12775724, 46.        ]), 'function': -55.17161883071118}\n",
      "{'variable': array([ 0.        ,  1.        ,  4.        ,  6.        ,  0.06981378,\n",
      "        0.20021272,  0.56914624,  0.14435182, 47.        ]), 'function': -55.17161883071118}\n",
      "{'variable': array([ 1.        ,  3.        ,  5.        ,  2.        ,  0.07864228,\n",
      "        0.17569658,  0.59933362,  0.13675985, 44.        ]), 'function': -55.17161883071118}\n",
      "{'variable': array([1.00000000e+00, 3.00000000e+00, 0.00000000e+00, 4.00000000e+00,\n",
      "       1.18414391e-01, 1.37416075e-01, 6.49842584e-01, 4.58189666e-02,\n",
      "       4.80000000e+01]), 'function': -55.17161883071118}\n",
      "{'variable': array([0.00000000e+00, 1.00000000e+00, 0.00000000e+00, 1.00000000e+00,\n",
      "       1.28728982e-01, 3.50459632e-02, 5.44937276e-01, 3.50427247e-02,\n",
      "       4.80000000e+01]), 'function': -55.17161883071118}\n",
      "{'variable': array([15.        ,  1.        ,  2.        , 20.        ,  0.14929576,\n",
      "        0.93340267,  0.96940171,  0.13556428, 45.        ]), 'function': -119.49491509357438}\n",
      "{'variable': array([1.00000000e+01, 2.00000000e+00, 0.00000000e+00, 2.00000000e+00,\n",
      "       1.16882751e-01, 7.86510061e-01, 6.67094154e-01, 2.88303815e-02,\n",
      "       4.70000000e+01]), 'function': -119.49491509357438}\n",
      "{'variable': array([ 7.        ,  1.        ,  0.        , 20.        ,  0.05333656,\n",
      "        0.89002598,  0.58951265,  0.14232241, 30.        ]), 'function': -119.49491509357438}\n",
      "{'variable': array([14.        ,  4.        ,  1.        , 17.        ,  0.19441979,\n",
      "        0.9976681 ,  0.86040233,  0.1489802 , 47.        ]), 'function': -119.4943927630076}\n",
      "{'variable': array([13.        ,  2.        ,  0.        ,  9.        ,  0.11268431,\n",
      "        0.83972811,  0.58368412,  0.04798554, 42.        ]), 'function': -119.49491509357438}\n",
      "{'variable': array([ 1.        ,  4.        ,  3.        ,  4.        ,  0.13555923,\n",
      "        0.14934007,  0.13899375,  0.07527277, 44.        ]), 'function': -119.49697974083787}\n",
      "{'variable': array([ 0.        ,  4.        ,  1.        ,  3.        ,  0.11169309,\n",
      "        0.22798093,  0.59061697,  0.06410917, 39.        ]), 'function': -119.49697974083787}\n",
      "{'variable': array([ 0.        ,  4.        ,  1.        ,  6.        ,  0.129637  ,\n",
      "        0.20431071,  0.80755949,  0.15146226, 47.        ]), 'function': -119.49697974083787}\n",
      "{'variable': array([ 0.        ,  5.        ,  0.        ,  8.        ,  0.14459135,\n",
      "        0.22647126,  0.27071291,  0.15022344, 44.        ]), 'function': -119.49697974083787}\n",
      "{'variable': array([ 1.        ,  2.        ,  0.        ,  8.        ,  0.14199165,\n",
      "        0.21487518,  0.93316568,  0.09087607, 39.        ]), 'function': -119.49697974083787}\n",
      "{'variable': array([ 0.        ,  2.        ,  4.        ,  3.        ,  0.12126077,\n",
      "        0.14519051,  0.66504223,  0.15119067, 45.        ]), 'function': -119.49697974083787}\n",
      "{'variable': array([ 1.        ,  2.        ,  2.        ,  6.        ,  0.0505013 ,\n",
      "        0.23788084,  0.59574606,  0.08681115, 45.        ]), 'function': -119.49697974083787}\n",
      "{'variable': array([ 0.        ,  4.        ,  2.        ,  9.        ,  0.13052706,\n",
      "        0.20764791,  0.96203498,  0.05980083, 44.        ]), 'function': -119.49697974083787}\n",
      "{'variable': array([ 1.        ,  2.        ,  1.        ,  2.        ,  0.06845675,\n",
      "        0.13288961,  0.1339193 ,  0.13870797, 39.        ]), 'function': -119.49697974083787}\n",
      "{'variable': array([ 1.        ,  4.        ,  2.        ,  1.        ,  0.10585869,\n",
      "        0.17578991,  0.59374985,  0.06012664, 45.        ]), 'function': -119.49697974083787}\n",
      "{'variable': array([ 1.        ,  1.        ,  3.        ,  4.        ,  0.09392058,\n",
      "        0.22422979,  0.59547456,  0.11057571, 45.        ]), 'function': -119.49697974083787}\n",
      "{'variable': array([ 1.        ,  3.        ,  1.        ,  6.        ,  0.15096499,\n",
      "        0.15238795,  0.71497798,  0.12522847, 41.        ]), 'function': -119.49697974083787}\n",
      "{'variable': array([ 0.        ,  4.        ,  2.        ,  5.        ,  0.13983852,\n",
      "        0.16099177,  0.73390103,  0.1367285 , 38.        ]), 'function': -119.49697974083787}\n",
      "{'variable': array([ 1.        ,  2.        ,  2.        ,  3.        ,  0.09620135,\n",
      "        0.20273833,  0.87110844,  0.07881695, 38.        ]), 'function': -119.49697974083787}\n",
      "{'variable': array([ 0.        ,  2.        ,  0.        ,  4.        ,  0.14948459,\n",
      "        0.21807405,  0.51094216,  0.07880634, 27.        ]), 'function': -119.49697974083787}\n"
     ]
    }
   ],
   "source": [
    "for g in ga_0:\n",
    "    print(g.output_dict)"
   ]
  },
  {
   "cell_type": "code",
   "execution_count": 10,
   "metadata": {},
   "outputs": [],
   "source": [
    "def get_converged_ga_feat_val(gas): \n",
    "    feats = []\n",
    "    vals = []\n",
    "    for ga in gas: \n",
    "        if ga.output_dict['function'] < 0:\n",
    "            feats.append(ga.output_dict['variable'])\n",
    "            vals.append(ga.output_dict['function'])\n",
    "            \n",
    "    return feats, vals"
   ]
  },
  {
   "cell_type": "code",
   "execution_count": 11,
   "metadata": {},
   "outputs": [],
   "source": [
    "feat_0, vals_0 = get_converged_ga_feat_val(ga_0)\n",
    "feat_1, vals_1 = get_converged_ga_feat_val(ga_1)\n",
    "feat_2, vals_2 = get_converged_ga_feat_val(ga_2)"
   ]
  },
  {
   "cell_type": "code",
   "execution_count": 12,
   "metadata": {},
   "outputs": [],
   "source": [
    "scaler = StandardScaler()\n",
    "X = scaler.fit_transform(df_full_factorial_feat)"
   ]
  },
  {
   "cell_type": "code",
   "execution_count": 13,
   "metadata": {},
   "outputs": [],
   "source": [
    "feat_0_scaled = scaler.transform(feat_0)\n",
    "feat_1_scaled = scaler.transform(feat_1)\n",
    "feat_2_scaled = scaler.transform(feat_2)"
   ]
  },
  {
   "cell_type": "code",
   "execution_count": 14,
   "metadata": {},
   "outputs": [],
   "source": [
    "pca = PCA(2)"
   ]
  },
  {
   "cell_type": "code",
   "execution_count": 15,
   "metadata": {},
   "outputs": [],
   "source": [
    "X_pca = pca.fit_transform(X)"
   ]
  },
  {
   "cell_type": "code",
   "execution_count": 16,
   "metadata": {},
   "outputs": [],
   "source": [
    "feat_0_scaled_pca = pca.transform(feat_0_scaled)\n",
    "feat_1_scaled_pca = pca.transform(feat_1_scaled)\n",
    "feat_2_scaled_pca = pca.transform(feat_2_scaled)"
   ]
  },
  {
   "cell_type": "code",
   "execution_count": 17,
   "metadata": {},
   "outputs": [
    {
     "name": "stderr",
     "output_type": "stream",
     "text": [
      " /Users/kevinmaikjablonka/opt/miniconda3/envs/dispersant_basf/lib/python3.7/site-packages/ipykernel_launcher.py:8: MatplotlibDeprecationWarning:\n",
      "The set_smart_bounds function was deprecated in Matplotlib 3.2 and will be removed two minor releases later.\n",
      " /Users/kevinmaikjablonka/opt/miniconda3/envs/dispersant_basf/lib/python3.7/site-packages/ipykernel_launcher.py:9: MatplotlibDeprecationWarning:\n",
      "The set_smart_bounds function was deprecated in Matplotlib 3.2 and will be removed two minor releases later.\n"
     ]
    },
    {
     "data": {
      "image/png": "[encoded data removed]",
      "text/plain": [
       "<Figure size 432x288 with 1 Axes>"
      ]
     },
     "metadata": {
      "needs_background": "light"
     },
     "output_type": "display_data"
    }
   ],
   "source": [
    "fig, ax = plt.subplots(1,1)\n",
    "ax.scatter(X_pca[:,0], X_pca[:,1], label='DoE')\n",
    "ax.scatter(feat_0_scaled_pca[:,0], feat_0_scaled_pca[:,1], label=r'$R_G$ GA')\n",
    "ax.scatter(feat_1_scaled_pca[:,0], feat_1_scaled_pca[:,1], label=r'$G_\\mathrm{ads}$ GA')\n",
    "ax.scatter(feat_2_scaled_pca[:,0], feat_2_scaled_pca[:,1], label=r'$G_\\mathrm{rep}$ GA')\n",
    "\n",
    "\n",
    "ax.spines['left'].set_smart_bounds(True)\n",
    "ax.spines['bottom'].set_smart_bounds(True)\n",
    "\n",
    "\n",
    "ax.set_xlabel('first principal component')\n",
    "ax.set_ylabel('second principal component')\n",
    "ax.legend()\n",
    "\n",
    "fig.tight_layout()\n",
    "fig.savefig('ga_gpr_pca.pdf', bbox_inches='tight')\n",
    "#"
   ]
  },
  {
   "cell_type": "code",
   "execution_count": 33,
   "metadata": {},
   "outputs": [],
   "source": [
    "reducer = umap.UMAP()"
   ]
  },
  {
   "cell_type": "code",
   "execution_count": 34,
   "metadata": {},
   "outputs": [],
   "source": [
    "embedding = reducer.fit_transform(X)"
   ]
  },
  {
   "cell_type": "code",
   "execution_count": 35,
   "metadata": {},
   "outputs": [],
   "source": [
    "feat_0_scaled_umap = reducer.transform(feat_0_scaled)\n",
    "feat_1_scaled_umap = reducer.transform(feat_1_scaled)\n",
    "feat_2_scaled_umap = reducer.transform(feat_2_scaled)"
   ]
  },
  {
   "cell_type": "code",
   "execution_count": 36,
   "metadata": {},
   "outputs": [
    {
     "name": "stderr",
     "output_type": "stream",
     "text": [
      " /Users/kevinmaikjablonka/opt/miniconda3/envs/dispersant_basf/lib/python3.7/site-packages/ipykernel_launcher.py:8: MatplotlibDeprecationWarning:\n",
      "The set_smart_bounds function was deprecated in Matplotlib 3.2 and will be removed two minor releases later.\n",
      " /Users/kevinmaikjablonka/opt/miniconda3/envs/dispersant_basf/lib/python3.7/site-packages/ipykernel_launcher.py:9: MatplotlibDeprecationWarning:\n",
      "The set_smart_bounds function was deprecated in Matplotlib 3.2 and will be removed two minor releases later.\n"
     ]
    },
    {
     "data": {
      "image/png": "[encoded data removed]",
      "text/plain": [
       "<Figure size 432x288 with 1 Axes>"
      ]
     },
     "metadata": {
      "needs_background": "light"
     },
     "output_type": "display_data"
    }
   ],
   "source": [
    "fig, ax = plt.subplots(1,1)\n",
    "ax.scatter(embedding[:,0], embedding[:,1], label='DoE')\n",
    "ax.scatter(feat_0_scaled_umap[:,0], feat_0_scaled_umap[:,1], label=r'$R_g$ GA')\n",
    "ax.scatter(feat_1_scaled_umap[:,0], feat_1_scaled_umap[:,1], label=r'$G_\\mathrm{ads}$ GA')\n",
    "ax.scatter(feat_2_scaled_umap[:,0], feat_2_scaled_umap[:,1], label=r'$G_\\mathrm{rep}$ GA')\n",
    "\n",
    "\n",
    "ax.spines['left'].set_smart_bounds(True)\n",
    "ax.spines['bottom'].set_smart_bounds(True)\n",
    "\n",
    "ax.legend()\n",
    "\n",
    "fig.tight_layout()\n",
    "\n",
    "fig.savefig('umap_ga_gpr.pdf', bbox_inches='tight')"
   ]
  },
  {
   "cell_type": "code",
   "execution_count": 37,
   "metadata": {},
   "outputs": [],
   "source": [
    "config_0 = {  # pylint:disable=invalid-name\n",
    "    'max_depth': 15,\n",
    "    'reg_alpha': 1.365,\n",
    "    'subsample': 0.7084,\n",
    "    'num_leaves': 34,\n",
    "    'reg_lambda': 1.028,\n",
    "    'n_estimators': 376,\n",
    "    'colsample_bytree': 0.9487,\n",
    "    'min_child_weight': 0.06395\n",
    "}\n",
    "\n",
    "# Delta G\n",
    "# https://app.wandb.ai/kjappelbaum/dispersant_screener/runs/wog4qfb2/overview?workspace=user-kjappelbaum\n",
    "config_1 = {  # pylint:disable=invalid-name\n",
    "    'max_depth': 17,\n",
    "    'reg_alpha': 1.402,\n",
    "    'subsample': 0.2033,\n",
    "    'num_leaves': 38,\n",
    "    'reg_lambda': 1.091,\n",
    "    'n_estimators': 4676,\n",
    "    'colsample_bytree': 0.9934,\n",
    "    'min_child_weight': 0.005694\n",
    "}\n",
    "\n",
    "# repulsion\n",
    "# https://app.wandb.ai/kjappelbaum/dispersant_screener/runs/ljzi9uad/overview?workspace=user-kjappelbaum\n",
    "config_2 = {  # pylint:disable=invalid-name\n",
    "    'max_depth': 73,\n",
    "    'reg_alpha': 1.266,\n",
    "    'subsample': 0.9824,\n",
    "    'num_leaves': 398,\n",
    "    'reg_lambda': 1.221,\n",
    "    'n_estimators': 4974,\n",
    "    'colsample_bytree': 0.9615,\n",
    "    'min_child_weight': 0.09413\n",
    "}"
   ]
  },
  {
   "cell_type": "code",
   "execution_count": 38,
   "metadata": {},
   "outputs": [],
   "source": [
    "all_feat = np.vstack([feat_0, feat_1, feat_2])"
   ]
  },
  {
   "cell_type": "code",
   "execution_count": 39,
   "metadata": {},
   "outputs": [],
   "source": [
    "lgbms = []\n",
    "for target in range(3):\n",
    "    y_selected = y[:, target]\n",
    "    X_train, X_test, y_train, y_test = train_test_split(df_full_factorial_feat\n",
    "                                                        , y_selected, train_size=0.8)\n",
    "    if target == 0:\n",
    "        lgbm = LGBMRegressor(**config_0)\n",
    "    elif target == 1:\n",
    "        lgbm = LGBMRegressor(**config_1)\n",
    "    elif target == 2:\n",
    "        lgbm = LGBMRegressor(**config_2)\n",
    "\n",
    "    lgbm.fit(X_train, y_train)\n",
    "    \n",
    "    lgbms.append(lgbm)"
   ]
  },
  {
   "cell_type": "code",
   "execution_count": 40,
   "metadata": {},
   "outputs": [],
   "source": [
    "pred_0 = lgbms[0].predict(all_feat)\n",
    "pred_1 = lgbms[1].predict(all_feat)\n",
    "pred_2 = lgbms[2].predict(all_feat)"
   ]
  },
  {
   "cell_type": "code",
   "execution_count": 41,
   "metadata": {},
   "outputs": [
    {
     "data": {
      "text/plain": [
       "<matplotlib.collections.PathCollection at 0x7fe6eb113358>"
      ]
     },
     "execution_count": 41,
     "metadata": {},
     "output_type": "execute_result"
    },
    {
     "data": {
      "image/png": "[encoded data removed]",
      "text/plain": [
       "<Figure size 432x288 with 1 Axes>"
      ]
     },
     "metadata": {
      "needs_background": "light"
     },
     "output_type": "display_data"
    }
   ],
   "source": [
    "plt.scatter(y[:,1], lgbms[1].predict(df_full_factorial_feat))"
   ]
  },
  {
   "cell_type": "code",
   "execution_count": 42,
   "metadata": {},
   "outputs": [],
   "source": [
    "import seaborn as sns"
   ]
  },
  {
   "cell_type": "code",
   "execution_count": 43,
   "metadata": {},
   "outputs": [
    {
     "data": {
      "text/plain": [
       "array([13.28617505, 13.25800119, 12.72248031, 13.28651601, 10.01085844,\n",
       "       13.07861848, 13.50651105, 12.60157395, 12.8545263 , 12.45364657,\n",
       "       13.14491229, 12.67202707, 12.89005576, 13.05727505, 13.11102973,\n",
       "       12.93021701, 13.77132972, 12.53027429, 12.58710128, 12.76998149,\n",
       "       13.00555669, 13.63892137, 13.77593764, 13.67658418, 11.62163261,\n",
       "       12.30955215, 10.05959195, 13.82414794, 13.20474711, 13.21293093,\n",
       "       13.06410073, 12.84594939, 12.81047602, 12.43753568, 13.03073453,\n",
       "       12.27379754, 12.54428756, 12.43395926, 12.54139936, 12.9172264 ,\n",
       "       12.17849981, 13.60747941, 12.02941669, 11.96788192, 11.55759739,\n",
       "       13.33563267, 12.93306866, 13.14096912,  9.38119453, 13.25505063,\n",
       "       10.40980155, 12.71989064, 12.48736342, 12.92191827, 10.95430208,\n",
       "       13.0024021 , 12.84852151, 13.29535302, 10.77912836, 12.94725664,\n",
       "       11.49282901, 13.20107241, 13.07307595,  9.20569171, 12.5684302 ,\n",
       "       12.37099308, 13.40014113, 13.4429121 , 12.82124144, 13.34103896,\n",
       "       10.65801727, 13.30644957, 12.31862525, 13.00578288, 13.70211266,\n",
       "       13.08858692, 11.66723157, 12.92825896, 12.2858224 , 12.99270358,\n",
       "       13.72831811, 11.86150337, 13.72937051, 12.58096726,  9.26748573,\n",
       "       12.90446563, 12.74468345, 12.88872027, 11.6958582 , 13.16358498,\n",
       "       12.8792561 , 13.03264897, 12.62118835, 12.68015775, 13.03937002,\n",
       "       12.27242601, 13.01257603, 12.27699628, 10.78149255, 12.72481794,\n",
       "       10.85308992, 11.74194638,  9.69798435, 12.30958236, 12.69293618,\n",
       "        8.63363607, 13.2632691 , 13.60090089, 13.14190362, 13.04589868,\n",
       "       13.33603663, 13.17479211, 13.06491999, 13.25716367, 13.26520614,\n",
       "       13.3518937 , 13.66284735, 13.01081203, 13.00302314, 12.60303866,\n",
       "       13.69904282, 13.15310044, 12.79411235, 12.95294505, 13.55315928,\n",
       "       10.54009853, 12.65411809, 13.50306962, 12.61062541, 13.21957389,\n",
       "       13.51399468, 13.41523153, 13.19191303, 10.29711604, 12.87193056,\n",
       "       13.35596982, 13.1937304 , 13.06474043, 13.05878702, 12.02724587,\n",
       "       19.57973452, 19.76361125, 19.40150881, 19.65006666, 20.16896008,\n",
       "       19.10023115, 19.38668862, 19.48713725, 19.47400043, 19.48697728,\n",
       "       19.4835754 , 14.59276208, 19.48697728, 19.38668862, 19.45613179,\n",
       "       19.48495425, 19.50558951, 19.38668862, 19.45566836, 19.34319488,\n",
       "       19.611552  , 19.76361125, 19.23867923, 19.24566465, 16.85272252,\n",
       "       19.47869652, 17.00167433, 16.9971272 , 19.31420208, 14.59276208,\n",
       "       19.48697728, 19.38531367, 17.43313446, 19.31333454, 19.47557084,\n",
       "       19.46462986, 19.66375532, 19.41116581, 19.50403425, 19.47869652,\n",
       "       19.71170063, 19.76866562, 19.60385783, 19.44132207, 19.58318985,\n",
       "       19.48713725, 19.35568316, 19.37053585, 19.34179795, 16.97640532,\n",
       "       19.37996755, 19.47956406, 19.48800479, 19.45613179, 19.46462986,\n",
       "       19.30553449, 19.4771261 , 19.46462986, 16.9971272 , 19.10074293,\n",
       "       19.96628976, 20.12760648, 19.72520948, 19.27064476, 19.52935785,\n",
       "       19.51560066, 19.38791221, 19.48713725, 19.47869652, 14.30751343,\n",
       "       19.34179795, 19.50558951, 17.40965521, 18.50093413, 19.47869652,\n",
       "       19.34528571, 18.46906113, 15.00787674, 18.02209122, 16.96165461,\n",
       "       19.58873197, 19.91589499, 19.93973008, 19.15348498, 19.82014185,\n",
       "       19.3357045 , 19.47869652, 19.48697728, 19.46462986, 18.47305511,\n",
       "       19.47869652, 19.31333454, 19.38668862, 19.40294123, 17.43313446,\n",
       "       18.47305511, 17.43342625, 19.31333454, 19.41203335, 17.41154504,\n",
       "       19.88336872, 19.52559817, 20.13484928, 19.84190151, 19.84166131,\n",
       "       19.38791221, 19.46462986, 16.9971272 , 13.75846171, 19.48158242,\n",
       "       19.44049676, 15.03766931, 19.47869652, 17.43313446, 19.48158242,\n",
       "       19.46921109, 19.47869652, 19.2614102 , 19.47869652, 19.47869652,\n",
       "       19.35637529, 19.56461061, 19.91294498, 19.46108425, 19.49593375,\n",
       "       14.1877333 , 19.46012577, 19.50802748, 19.41116581, 19.47956406,\n",
       "       19.48285608, 19.48697728, 19.48444295, 15.06613272, 19.4599658 ,\n",
       "       19.47164002, 17.3656415 , 19.45919995, 19.47869652, 19.12566082,\n",
       "        8.35745935,  8.75959717,  8.49999862,  8.54406188,  7.92469857,\n",
       "        5.75702294,  4.56275743,  5.75005257,  5.95852613,  5.80451325,\n",
       "        4.88690781,  4.99491625,  6.06231945,  5.99850956,  5.94974863,\n",
       "        4.78876241,  4.28270873,  5.62761163,  4.14409598,  5.65001159,\n",
       "        9.06150105,  5.97940881,  8.25746216,  8.12658121,  8.12914325,\n",
       "        4.37258004,  5.10462122,  5.78866679,  4.53578756,  4.26859037,\n",
       "        4.09802435,  4.51438532,  4.10833544,  5.65650754,  5.97465703,\n",
       "        4.54373044,  6.03825696,  5.77179992,  5.93476406,  5.75702294,\n",
       "        8.57442656,  8.69036236,  8.63673827,  8.51529995,  6.54172704,\n",
       "        4.18349268,  5.65777597,  5.78503764,  4.40050967,  5.67321828,\n",
       "        5.92705513,  5.79248485,  5.63655472,  6.19136883,  5.74668294,\n",
       "        5.72597434,  4.56499382,  5.78866679,  6.03801388,  5.69262907,\n",
       "        8.66754504,  9.12385112,  8.31155895,  9.34195405,  8.54406188,\n",
       "        5.91344559,  5.96540618,  4.37258004,  4.435722  ,  5.65650754,\n",
       "        6.02832538,  5.62486369,  5.90598818,  5.94593057,  5.75927672,\n",
       "        5.93655932,  5.94741961,  6.03312887,  5.90767108,  5.80587712,\n",
       "        8.35738188,  8.53344332,  8.73319097,  8.56083929,  8.64181087,\n",
       "        5.90598818,  5.78866679,  4.37258004,  5.0291206 ,  4.46925299,\n",
       "        4.91718139,  4.10579547,  4.53414438,  6.04496638,  5.97465703,\n",
       "        5.90356505,  5.79797861,  6.05426915,  5.65650754,  5.08152416,\n",
       "        6.13591292,  8.5570177 ,  7.95396707,  7.87058754,  8.37624859,\n",
       "        5.77225522,  4.99873431,  5.75927672,  4.89016522,  6.19379196,\n",
       "        5.96234419,  5.93100062,  5.62435422,  4.16809484,  5.93809095,\n",
       "        5.93886527,  4.28131441,  5.62435422,  4.12551798,  5.7585942 ,\n",
       "        8.17813339,  8.4438269 ,  7.97077808,  8.47125479,  8.32298491,\n",
       "        5.79878686,  4.35914239,  6.03074851,  4.54373044,  4.24607898,\n",
       "        5.94844404,  6.23120589,  5.75791968,  5.94593057,  5.78866679,\n",
       "        5.62486369,  4.24958128,  5.62896508,  4.35453229,  5.67321828])"
      ]
     },
     "execution_count": 43,
     "metadata": {},
     "output_type": "execute_result"
    }
   ],
   "source": [
    "pred_1"
   ]
  },
  {
   "cell_type": "code",
   "execution_count": 44,
   "metadata": {},
   "outputs": [
    {
     "data": {
      "text/plain": [
       "<matplotlib.axes._subplots.AxesSubplot at 0x7fe6ebf4b978>"
      ]
     },
     "execution_count": 44,
     "metadata": {},
     "output_type": "execute_result"
    },
    {
     "data": {
      "image/png": "[encoded data removed]",
      "text/plain": [
       "<Figure size 432x288 with 1 Axes>"
      ]
     },
     "metadata": {
      "needs_background": "light"
     },
     "output_type": "display_data"
    }
   ],
   "source": [
    "sns.distplot(y[:,0], kde=False, hist_kws={'weights': np.full(len(y), 1/len(y))})\n",
    "sns.distplot(pred_0, kde=False, hist_kws={'weights': np.full(len(pred_0), 1/len(pred_0))})"
   ]
  },
  {
   "cell_type": "code",
   "execution_count": 45,
   "metadata": {},
   "outputs": [
    {
     "data": {
      "text/plain": [
       "<matplotlib.axes._subplots.AxesSubplot at 0x7fe6eb4dea90>"
      ]
     },
     "execution_count": 45,
     "metadata": {},
     "output_type": "execute_result"
    },
    {
     "data": {
      "image/png": "[encoded data removed]",
      "text/plain": [
       "<Figure size 432x288 with 1 Axes>"
      ]
     },
     "metadata": {
      "needs_background": "light"
     },
     "output_type": "display_data"
    }
   ],
   "source": [
    "sns.distplot(y[:,1], kde=False, hist_kws={'weights': np.full(len(y), 1/len(y))})\n",
    "sns.distplot(pred_1, kde=False, hist_kws={'weights': np.full(len(pred_1), 1/len(pred_1))})"
   ]
  },
  {
   "cell_type": "code",
   "execution_count": 46,
   "metadata": {},
   "outputs": [
    {
     "data": {
      "text/plain": [
       "<matplotlib.axes._subplots.AxesSubplot at 0x7fe6ee99db00>"
      ]
     },
     "execution_count": 46,
     "metadata": {},
     "output_type": "execute_result"
    },
    {
     "data": {
      "image/png": "[encoded data removed]",
      "text/plain": [
       "<Figure size 432x288 with 1 Axes>"
      ]
     },
     "metadata": {
      "needs_background": "light"
     },
     "output_type": "display_data"
    }
   ],
   "source": [
    "sns.distplot(y[:,2], kde=False, hist_kws={'weights': np.full(len(y), 1/len(y))})\n",
    "sns.distplot(pred_2, kde=False, hist_kws={'weights': np.full(len(pred_2), 1/len(pred_2))})"
   ]
  },
  {
   "cell_type": "code",
   "execution_count": 52,
   "metadata": {},
   "outputs": [
    {
     "name": "stderr",
     "output_type": "stream",
     "text": [
      " /Users/kevinmaikjablonka/opt/miniconda3/envs/dispersant_basf/lib/python3.7/site-packages/ipykernel_launcher.py:6: MatplotlibDeprecationWarning:\n",
      "The set_smart_bounds function was deprecated in Matplotlib 3.2 and will be removed two minor releases later.\n",
      " /Users/kevinmaikjablonka/opt/miniconda3/envs/dispersant_basf/lib/python3.7/site-packages/ipykernel_launcher.py:7: MatplotlibDeprecationWarning:\n",
      "The set_smart_bounds function was deprecated in Matplotlib 3.2 and will be removed two minor releases later.\n"
     ]
    },
    {
     "data": {
      "image/png": "[encoded data removed]",
      "text/plain": [
       "<Figure size 576x216 with 4 Axes>"
      ]
     },
     "metadata": {
      "needs_background": "light"
     },
     "output_type": "display_data"
    }
   ],
   "source": [
    "plt.rcParams['font.family'] = 'sans-serif'\n",
    "    \n",
    "fig, ax = plt.subplots(1,4,  figsize=(8,3), sharey='none')\n",
    "\n",
    "for i, a in enumerate(ax):\n",
    "    a.spines['left'].set_smart_bounds(True)\n",
    "    a.spines['bottom'].set_smart_bounds(True)\n",
    "    a.set_yticks([])\n",
    "    if i == 3:\n",
    "        a.set_xticks([])\n",
    "    \n",
    "sns.distplot(y[:,0], kde=False,  hist_kws={'weights': np.full(len(y), 1/len(y))}, ax=ax[0], label='DOE', color=COLORS[1])\n",
    "sns.distplot(pred_0, kde=False, hist_kws={'weights': np.full(len(pred_0), 1/len(pred_0))}, ax=ax[0], label='GA', color=COLORS[3])\n",
    "    \n",
    "sns.distplot(y[:,1], kde=False,  hist_kws={'weights': np.full(len(y), 1/len(y))}, ax=ax[1],  color=COLORS[1])\n",
    "sns.distplot(pred_1, kde=False,  hist_kws={'weights': np.full(len(pred_1), 1/len(pred_1))}, ax=ax[1],  color=COLORS[3])\n",
    "\n",
    "ax[1].set_ylim(0,0.5)\n",
    "    \n",
    "sns.distplot(y[:,2], kde=False, hist_kws={'weights': np.full(len(y), 1/len(y))}, ax=ax[2],  color=COLORS[1])\n",
    "sns.distplot(pred_2, kde=False,  hist_kws={'weights': np.full(len(pred_2), 1/len(pred_2))}, ax=ax[2],  color=COLORS[3])\n",
    "\n",
    "ax[3].scatter(embedding[:,0], embedding[:,1], label='DoE', alpha=.2, color=COLORS[1], s=5)\n",
    "ax[3].scatter(feat_0_scaled_umap[:,0], feat_0_scaled_umap[:,1],alpha=.6, label=r'$R_g$ GA', s=2)\n",
    "ax[3].scatter(feat_1_scaled_umap[:,0], feat_1_scaled_umap[:,1],alpha=.6, label=r'$G_\\mathrm{ads}$ GA', color=COLORS[0], s=2)\n",
    "ax[3].scatter(feat_2_scaled_umap[:,0], feat_2_scaled_umap[:,1],alpha=.6, label=r'$G_\\mathrm{rep}$ GA', color=COLORS[2], s=2)\n",
    "\n",
    "ax[3].legend(loc='lower right', labelspacing=-.1, bbox_to_anchor=(1.4,0))\n",
    "\n",
    "\n",
    "ax[3].set_xlabel('UMAP 1')\n",
    "ax[3].set_ylabel('UMAP 2')\n",
    "\n",
    "\n",
    "ax[0].legend()\n",
    "ax[0].set_xlabel('$R_g$ / nm')\n",
    "ax[1].set_xlabel('$-\\Delta G_\\mathrm{ads}$ / k$_\\mathrm{B}$T')\n",
    "ax[2].set_xlabel('$\\Delta G_\\mathrm{rep}$ / k$_\\mathrm{B}$T')\n",
    "\n",
    "fig.tight_layout()\n",
    "plt.savefig('ga_property_dist.pdf', bbox_inches='tight')"
   ]
  },
  {
   "cell_type": "code",
   "execution_count": null,
   "metadata": {},
   "outputs": [],
   "source": []
  },
  {
   "cell_type": "code",
   "execution_count": null,
   "metadata": {},
   "outputs": [],
   "source": []
  }
 ],
 "metadata": {
  "kernelspec": {
   "display_name": "Python 3",
   "language": "python",
   "name": "python3"
  },
  "language_info": {
   "codemirror_mode": {
    "name": "ipython",
    "version": 3
   },
   "file_extension": ".py",
   "mimetype": "text/x-python",
   "name": "python",
   "nbconvert_exporter": "python",
   "pygments_lexer": "ipython3",
   "version": "3.7.0"
  }
 },
 "nbformat": 4,
 "nbformat_minor": 4
}
