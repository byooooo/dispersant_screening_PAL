{
 "cells": [
  {
   "cell_type": "code",
   "execution_count": 43,
   "metadata": {},
   "outputs": [],
   "source": [
    "import joblib\n",
    "import matplotlib.pyplot as plt \n",
    "%matplotlib inline\n",
    "\n",
    "\n",
    "COLORS = [\n",
    "    \"#ffbe0b\", \n",
    "    \"#fb5607\", \n",
    "    \"#ff006e\",\n",
    "    \"#3a86ff\", \n",
    "]"
   ]
  },
  {
   "cell_type": "code",
   "execution_count": 4,
   "metadata": {},
   "outputs": [],
   "source": [
    "import sys \n",
    "import os \n",
    "from pathlib import Path \n",
    "import numpy as np \n",
    "import joblib\n",
    "\n",
    "%load_ext autoreload\n",
    "%autoreload 2\n",
    "\n",
    "import pandas as pd\n",
    "import shap \n",
    "from xgboost import XGBRegressor\n",
    "from sklearn.preprocessing import StandardScaler\n",
    "from sklearn.feature_selection import VarianceThreshold\n",
    "from sklearn.model_selection import train_test_split\n",
    "from sklearn.decomposition import PCA\n",
    "\n",
    "import umap\n",
    "\n",
    "import matplotlib.pyplot as plt \n",
    "%matplotlib inline \n",
    "\n",
    "import seaborn as sns\n",
    "plt.rcParams['font.family'] = 'sans-serif'\n",
    "\n",
    "DATADIR = '../data'\n",
    "TRAIN_SIZE = 0.7\n",
    "\n",
    "import sys \n",
    "sys.path.append('../')\n",
    "from dispersant_screener.definitions import FEATURES\n",
    "from dispersant_screener.utils import plot_parity\n",
    "from dispersant_screener.ga import FEATURES\n",
    "\n",
    "\n",
    "import wandb\n",
    "from lightgbm import LGBMRegressor\n",
    "\n",
    "df_full_factorial_feat = pd.read_csv(os.path.join(DATADIR, 'new_features_full_random.csv'))[FEATURES].values\n",
    "a2 = pd.read_csv(os.path.join(DATADIR, 'b1-b21_random_virial_large_new.csv'))['A2_normalized'].values\n",
    "deltaGMax = pd.read_csv(os.path.join(DATADIR, 'b1-b21_random_virial_large_new.csv'))['A2_normalized'].values\n",
    "gibbs = pd.read_csv(os.path.join(DATADIR, 'b1-b21_random_deltaG.csv'))['deltaGmin'].values\n",
    "gibbs_max = pd.read_csv(os.path.join(DATADIR, 'b1-b21_random_virial_large_new.csv'))['deltaGmax'].values\n",
    "force_max = pd.read_csv(os.path.join(DATADIR, 'b1-b21_random_virial_large_fit2.csv'))['F_repel_max'].values\n",
    "rg = pd.read_csv(os.path.join(DATADIR, 'rg_results.csv'))['Rg'].values\n",
    "y = np.hstack([\n",
    "    rg.reshape(-1, 1),\n",
    "    -1* gibbs.reshape(-1, 1),\n",
    "    gibbs_max.reshape(-1, 1),\n",
    "])\n",
    "assert len(df_full_factorial_feat) == len(a2) == len(gibbs) == len(y)"
   ]
  },
  {
   "cell_type": "code",
   "execution_count": 5,
   "metadata": {},
   "outputs": [],
   "source": [
    "ga_0 = joblib.load('../work/20200914-161035-ga_0.joblib')\n",
    "ga_1 = joblib.load('../work/20200914-161035-ga_1.joblib')\n",
    "ga_2 = joblib.load('../work/20200914-161035-ga_2.joblib')"
   ]
  },
  {
   "cell_type": "code",
   "execution_count": 6,
   "metadata": {},
   "outputs": [
    {
     "name": "stderr",
     "output_type": "stream",
     "text": [
      " /Users/kevinmaikjablonka/opt/miniconda3/envs/dispersant_basf/lib/python3.7/site-packages/ipykernel_launcher.py:6: MatplotlibDeprecationWarning:\n",
      "The set_smart_bounds function was deprecated in Matplotlib 3.2 and will be removed two minor releases later.\n",
      " /Users/kevinmaikjablonka/opt/miniconda3/envs/dispersant_basf/lib/python3.7/site-packages/ipykernel_launcher.py:7: MatplotlibDeprecationWarning:\n",
      "The set_smart_bounds function was deprecated in Matplotlib 3.2 and will be removed two minor releases later.\n"
     ]
    },
    {
     "data": {
      "image/png": "[encoded data removed]",
      "text/plain": [
       "<Figure size 576x216 with 3 Axes>"
      ]
     },
     "metadata": {
      "needs_background": "light"
     },
     "output_type": "display_data"
    }
   ],
   "source": [
    "plt.rcParams['font.family'] = 'sans-serif'\n",
    "    \n",
    "fig, ax = plt.subplots(1,3, sharex='all', figsize=(8,3))\n",
    "\n",
    "for a in ax:\n",
    "    a.spines['left'].set_smart_bounds(True)\n",
    "    a.spines['bottom'].set_smart_bounds(True)\n",
    "    a.set_xlabel('iterations')\n",
    "    a.set_ylabel('loss')\n",
    "    \n",
    "for ga in ga_0: \n",
    "    ax[0].plot(ga.report)\n",
    "    \n",
    "for ga in ga_1: \n",
    "    ax[1].plot(ga.report)\n",
    "        \n",
    "for ga in ga_2: \n",
    "    ax[2].plot(ga.report)\n",
    "    \n",
    "\n",
    "ax[0].set_title(r'$R_g$')\n",
    "ax[1].set_title(r'$\\Delta G_{\\mathrm{ads}}$')\n",
    "ax[2].set_title(r'$\\Delta G_{\\mathrm{rep}}$')\n",
    "\n",
    "fig.tight_layout()\n",
    "\n",
    "fig.savefig('ga_gpr_convergence.pdf', bbox_inches='tight')"
   ]
  },
  {
   "cell_type": "code",
   "execution_count": 7,
   "metadata": {},
   "outputs": [
    {
     "name": "stdout",
     "output_type": "stream",
     "text": [
      "{'variable': array([ 4.        ,  3.        ,  0.        ,  0.        ,  0.87012333,\n",
      "        0.65988285,  0.74057567,  0.11861558, 44.        ]), 'function': -3.3675816039374027}\n",
      "{'variable': array([ 1.        ,  3.        ,  2.        ,  0.        ,  0.95186557,\n",
      "        0.84808583,  0.07061366,  0.0596326 , 35.        ]), 'function': -3.3675816039374027}\n",
      "{'variable': array([11.        ,  6.        ,  3.        ,  0.        ,  0.63705834,\n",
      "        0.75552117,  0.5414293 ,  0.12928979, 30.        ]), 'function': -3.3675816039374027}\n",
      "{'variable': array([ 6.        , 12.        ,  2.        ,  0.        ,  0.71977016,\n",
      "        0.63663407,  0.30490443,  0.13544856, 47.        ]), 'function': -3.3675816039374027}\n",
      "{'variable': array([ 2.        ,  8.        ,  0.        ,  0.        ,  0.53076388,\n",
      "        0.29413065,  0.14534622,  0.14034295, 41.        ]), 'function': -3.3675816039374027}\n",
      "{'variable': array([ 3.        , 11.        ,  1.        ,  0.        ,  0.52757459,\n",
      "        0.48996189,  0.17194215,  0.08895495, 31.        ]), 'function': -3.3675816039374027}\n",
      "{'variable': array([ 2.        ,  4.        ,  1.        ,  0.        ,  0.99177531,\n",
      "        0.26944151,  0.54871444,  0.12308997, 35.        ]), 'function': -3.3675816039374027}\n",
      "{'variable': array([ 6.        ,  2.        ,  4.        ,  0.        ,  0.47357009,\n",
      "        0.91110741,  0.22817528,  0.13473349, 33.        ]), 'function': -3.3675816039374027}\n",
      "{'variable': array([ 5.        ,  2.        ,  2.        ,  0.        ,  0.52664504,\n",
      "        0.99523676,  0.65569983,  0.13704942, 40.        ]), 'function': -3.3675816039374027}\n",
      "{'variable': array([ 7.        ,  3.        ,  0.        ,  0.        ,  0.24350375,\n",
      "        0.88008676,  0.60494692,  0.08785135, 42.        ]), 'function': -3.3675816039374027}\n",
      "{'variable': array([ 1.        , 12.        ,  3.        ,  0.        ,  0.74260032,\n",
      "        0.81961844,  0.10886202,  0.11140547, 46.        ]), 'function': -3.3675816039374027}\n",
      "{'variable': array([ 8.        ,  5.        ,  0.        ,  0.        ,  0.90910345,\n",
      "        0.74216258,  0.5415436 ,  0.09114922, 37.        ]), 'function': -3.3675816039374027}\n",
      "{'variable': array([ 5.        ,  3.        ,  2.        ,  0.        ,  0.90523798,\n",
      "        0.83458804,  0.5979773 ,  0.08522008, 48.        ]), 'function': -3.3675816039374027}\n",
      "{'variable': array([ 3.        ,  6.        ,  2.        ,  0.        ,  0.74436831,\n",
      "        0.65542384,  0.18325497,  0.12612833, 39.        ]), 'function': -3.3675816039374027}\n",
      "{'variable': array([ 4.        , 12.        ,  1.        ,  0.        ,  0.94010428,\n",
      "        0.37729914,  0.63972394,  0.12892306, 34.        ]), 'function': -3.3675816039374027}\n",
      "{'variable': array([ 5.        ,  8.        ,  0.        ,  0.        ,  0.84526361,\n",
      "        0.53044735,  0.19146316,  0.10057439, 48.        ]), 'function': -3.3675816039374027}\n",
      "{'variable': array([ 3.        ,  3.        ,  0.        ,  0.        ,  0.40427358,\n",
      "        0.05321865,  0.26398727,  0.06786009, 31.        ]), 'function': -3.3675816039374027}\n",
      "{'variable': array([ 2.        ,  3.        ,  0.        ,  0.        ,  0.8523848 ,\n",
      "        0.9610693 ,  0.49636968,  0.10995642, 40.        ]), 'function': -3.3675816039374027}\n",
      "{'variable': array([ 3.        ,  3.        ,  1.        ,  0.        ,  0.90100192,\n",
      "        0.14374684,  0.47224097,  0.14158247, 31.        ]), 'function': -3.3675816039374027}\n",
      "{'variable': array([8.00000000e+00, 2.00000000e+00, 1.00000000e+00, 0.00000000e+00,\n",
      "       5.30773514e-01, 9.44374377e-01, 5.44319507e-01, 4.08701326e-02,\n",
      "       4.60000000e+01]), 'function': -3.3675816039374027}\n",
      "{'variable': array([ 6.        ,  6.        ,  2.        ,  0.        ,  0.71854602,\n",
      "        0.17865052,  0.19868289,  0.08148648, 43.        ]), 'function': -3.3675816039374027}\n",
      "{'variable': array([ 4.        ,  8.        ,  1.        ,  0.        ,  0.60259425,\n",
      "        0.82540502,  0.22204714,  0.12296755, 47.        ]), 'function': -3.3675816039374027}\n",
      "{'variable': array([ 2.        ,  5.        ,  0.        ,  0.        ,  0.39888762,\n",
      "        0.68804732,  0.50325042,  0.10103306, 29.        ]), 'function': -3.3675816039374027}\n",
      "{'variable': array([ 1.        ,  2.        ,  1.        ,  0.        ,  0.55262376,\n",
      "        0.83716726,  0.21305545,  0.11257545, 22.        ]), 'function': -3.3675816039374027}\n",
      "{'variable': array([ 2.        ,  8.        ,  3.        ,  0.        ,  0.98797159,\n",
      "        0.61983191,  0.68949245,  0.12117423, 29.        ]), 'function': -3.3675816039374027}\n",
      "{'variable': array([ 1.        ,  3.        ,  0.        ,  0.        ,  0.39762686,\n",
      "        0.3211643 ,  0.47857426,  0.06566363, 40.        ]), 'function': -3.3675816039374027}\n",
      "{'variable': array([ 1.        ,  1.        ,  1.        ,  0.        ,  0.17509652,\n",
      "        0.82777296,  0.55756725,  0.05033804, 47.        ]), 'function': -3.3675816039374027}\n",
      "{'variable': array([6.00000000e+00, 5.00000000e+00, 0.00000000e+00, 0.00000000e+00,\n",
      "       5.72491180e-01, 4.22033826e-01, 6.70744217e-01, 2.64619389e-02,\n",
      "       4.80000000e+01]), 'function': -3.3675816039374027}\n",
      "{'variable': array([ 7.        ,  4.        ,  1.        ,  0.        ,  0.80900633,\n",
      "        0.61878565,  0.31357323,  0.08068497, 43.        ]), 'function': array([-3.3675816])}\n",
      "{'variable': array([ 6.        ,  2.        ,  1.        ,  0.        ,  0.52448076,\n",
      "        0.60017197,  0.62181422,  0.03449339, 34.        ]), 'function': -3.3675816039374027}\n"
     ]
    }
   ],
   "source": [
    "for g in ga_0:\n",
    "    print(g.output_dict)"
   ]
  },
  {
   "cell_type": "code",
   "execution_count": 8,
   "metadata": {},
   "outputs": [],
   "source": [
    "def get_converged_ga_feat_val(gas): \n",
    "    feats = []\n",
    "    vals = []\n",
    "    for ga in gas: \n",
    "        if ga.output_dict['function'] < 0:\n",
    "            feats.append(ga.output_dict['variable'])\n",
    "            vals.append(ga.output_dict['function'])\n",
    "            \n",
    "    return feats, vals"
   ]
  },
  {
   "cell_type": "code",
   "execution_count": 10,
   "metadata": {},
   "outputs": [],
   "source": [
    "feat_0, vals_0 = get_converged_ga_feat_val(ga_0)\n",
    "feat_1, vals_1 = get_converged_ga_feat_val(ga_1)\n",
    "feat_2, vals_2 = get_converged_ga_feat_val(ga_2)"
   ]
  },
  {
   "cell_type": "code",
   "execution_count": 11,
   "metadata": {},
   "outputs": [],
   "source": [
    "scaler = StandardScaler()\n",
    "X = scaler.fit_transform(df_full_factorial_feat)"
   ]
  },
  {
   "cell_type": "code",
   "execution_count": 12,
   "metadata": {},
   "outputs": [],
   "source": [
    "feat_0 = np.vstack([feat_0, feat_0_1])"
   ]
  },
  {
   "cell_type": "code",
   "execution_count": 13,
   "metadata": {},
   "outputs": [],
   "source": [
    "feat_0_scaled = scaler.transform(feat_0)\n",
    "feat_1_scaled = scaler.transform(feat_1)\n",
    "feat_2_scaled = scaler.transform(feat_2)"
   ]
  },
  {
   "cell_type": "code",
   "execution_count": 14,
   "metadata": {},
   "outputs": [],
   "source": [
    "pca = PCA(2)"
   ]
  },
  {
   "cell_type": "code",
   "execution_count": 15,
   "metadata": {},
   "outputs": [],
   "source": [
    "X_pca = pca.fit_transform(X)"
   ]
  },
  {
   "cell_type": "code",
   "execution_count": 16,
   "metadata": {},
   "outputs": [],
   "source": [
    "feat_0_scaled_pca = pca.transform(feat_0_scaled)\n",
    "feat_1_scaled_pca = pca.transform(feat_1_scaled)\n",
    "feat_2_scaled_pca = pca.transform(feat_2_scaled)"
   ]
  },
  {
   "cell_type": "code",
   "execution_count": 17,
   "metadata": {},
   "outputs": [
    {
     "name": "stderr",
     "output_type": "stream",
     "text": [
      " /Users/kevinmaikjablonka/opt/miniconda3/envs/dispersant_basf/lib/python3.7/site-packages/ipykernel_launcher.py:8: MatplotlibDeprecationWarning:\n",
      "The set_smart_bounds function was deprecated in Matplotlib 3.2 and will be removed two minor releases later.\n",
      " /Users/kevinmaikjablonka/opt/miniconda3/envs/dispersant_basf/lib/python3.7/site-packages/ipykernel_launcher.py:9: MatplotlibDeprecationWarning:\n",
      "The set_smart_bounds function was deprecated in Matplotlib 3.2 and will be removed two minor releases later.\n"
     ]
    },
    {
     "data": {
      "image/png": "[encoded data removed]",
      "text/plain": [
       "<Figure size 432x288 with 1 Axes>"
      ]
     },
     "metadata": {
      "needs_background": "light"
     },
     "output_type": "display_data"
    }
   ],
   "source": [
    "fig, ax = plt.subplots(1,1)\n",
    "ax.scatter(X_pca[:,0], X_pca[:,1], label='DoE')\n",
    "ax.scatter(feat_0_scaled_pca[:,0], feat_0_scaled_pca[:,1], label=r'$R_G$ GA')\n",
    "ax.scatter(feat_1_scaled_pca[:,0], feat_1_scaled_pca[:,1], label=r'$G_\\mathrm{ads}$ GA')\n",
    "ax.scatter(feat_2_scaled_pca[:,0], feat_2_scaled_pca[:,1], label=r'$G_\\mathrm{rep}$ GA')\n",
    "\n",
    "\n",
    "ax.spines['left'].set_smart_bounds(True)\n",
    "ax.spines['bottom'].set_smart_bounds(True)\n",
    "\n",
    "\n",
    "ax.set_xlabel('first principal component')\n",
    "ax.set_ylabel('second principal component')\n",
    "ax.legend()\n",
    "\n",
    "fig.tight_layout()\n",
    "fig.savefig('ga_gpr_pca.pdf', bbox_inches='tight')\n",
    "#"
   ]
  },
  {
   "cell_type": "code",
   "execution_count": 33,
   "metadata": {},
   "outputs": [],
   "source": [
    "reducer = umap.UMAP(n_neighbors=50)"
   ]
  },
  {
   "cell_type": "code",
   "execution_count": 34,
   "metadata": {},
   "outputs": [],
   "source": [
    "embedding = reducer.fit_transform(X)"
   ]
  },
  {
   "cell_type": "code",
   "execution_count": 35,
   "metadata": {},
   "outputs": [],
   "source": [
    "feat_0_scaled_umap = reducer.transform(feat_0_scaled)\n",
    "feat_1_scaled_umap = reducer.transform(feat_1_scaled)\n",
    "feat_2_scaled_umap = reducer.transform(feat_2_scaled)"
   ]
  },
  {
   "cell_type": "code",
   "execution_count": 38,
   "metadata": {},
   "outputs": [
    {
     "name": "stderr",
     "output_type": "stream",
     "text": [
      " /Users/kevinmaikjablonka/opt/miniconda3/envs/dispersant_basf/lib/python3.7/site-packages/ipykernel_launcher.py:8: MatplotlibDeprecationWarning:\n",
      "The set_smart_bounds function was deprecated in Matplotlib 3.2 and will be removed two minor releases later.\n",
      " /Users/kevinmaikjablonka/opt/miniconda3/envs/dispersant_basf/lib/python3.7/site-packages/ipykernel_launcher.py:9: MatplotlibDeprecationWarning:\n",
      "The set_smart_bounds function was deprecated in Matplotlib 3.2 and will be removed two minor releases later.\n"
     ]
    },
    {
     "data": {
      "image/png": "[encoded data removed]",
      "text/plain": [
       "<Figure size 432x288 with 1 Axes>"
      ]
     },
     "metadata": {
      "needs_background": "light"
     },
     "output_type": "display_data"
    }
   ],
   "source": [
    "fig, ax = plt.subplots(1,1)\n",
    "ax.scatter(embedding[:,0], embedding[:,1], label='DoE')\n",
    "ax.scatter(feat_0_scaled_umap[:,0], feat_0_scaled_umap[:,1], label=r'$R_g$ GA')\n",
    "ax.scatter(feat_1_scaled_umap[:,0], feat_1_scaled_umap[:,1], label=r'$G_\\mathrm{ads}$ GA')\n",
    "ax.scatter(feat_2_scaled_umap[:,0], feat_2_scaled_umap[:,1], label=r'$G_\\mathrm{rep}$ GA')\n",
    "\n",
    "\n",
    "ax.spines['left'].set_smart_bounds(True)\n",
    "ax.spines['bottom'].set_smart_bounds(True)\n",
    "\n",
    "ax.legend()\n",
    "\n",
    "fig.tight_layout()\n",
    "\n",
    "fig.savefig('umap_ga_gpr.pdf', bbox_inches='tight')"
   ]
  },
  {
   "cell_type": "code",
   "execution_count": 22,
   "metadata": {},
   "outputs": [],
   "source": [
    "# Rg\n",
    "config_0 = {  # pylint:disable=invalid-name\n",
    "    'max_depth': 15,\n",
    "    'reg_alpha': 1.365,\n",
    "    'subsample': 0.7084,\n",
    "    'num_leaves': 34,\n",
    "    'reg_lambda': 1.028,\n",
    "    'n_estimators': 376,\n",
    "    'colsample_bytree': 0.9487,\n",
    "    'min_child_weight': 0.06395\n",
    "}\n",
    "\n",
    "# Delta G\n",
    "# https://app.wandb.ai/kjappelbaum/dispersant_screener/runs/wog4qfb2/overview?workspace=user-kjappelbaum\n",
    "config_1 = {  # pylint:disable=invalid-name\n",
    "    'max_depth': 17,\n",
    "    'reg_alpha': 1.402,\n",
    "    'subsample': 0.2033,\n",
    "    'num_leaves': 38,\n",
    "    'reg_lambda': 1.091,\n",
    "    'n_estimators': 4676,\n",
    "    'colsample_bytree': 0.9934,\n",
    "    'min_child_weight': 0.005694\n",
    "}\n",
    "\n",
    "# repulsion\n",
    "# https://app.wandb.ai/kjappelbaum/dispersant_screener/runs/ljzi9uad/overview?workspace=user-kjappelbaum\n",
    "config_2 = {  # pylint:disable=invalid-name\n",
    "    'max_depth': 73,\n",
    "    'reg_alpha': 1.266,\n",
    "    'subsample': 0.9824,\n",
    "    'num_leaves': 398,\n",
    "    'reg_lambda': 1.221,\n",
    "    'n_estimators': 4974,\n",
    "    'colsample_bytree': 0.9615,\n",
    "    'min_child_weight': 0.09413\n",
    "}"
   ]
  },
  {
   "cell_type": "code",
   "execution_count": 23,
   "metadata": {},
   "outputs": [],
   "source": [
    "df_full_factorial_feat = pd.read_csv(os.path.join(DATADIR, 'new_features_full_random.csv'))[FEATURES].values\n",
    "a2 = pd.read_csv(os.path.join(DATADIR, 'b1-b21_random_virial_large_new.csv'))['A2_normalized'].values\n",
    "deltaGMax = pd.read_csv(os.path.join(DATADIR, 'b1-b21_random_virial_large_new.csv'))['A2_normalized'].values\n",
    "gibbs = pd.read_csv(os.path.join(DATADIR, 'b1-b21_random_deltaG.csv'))['deltaGmin'].values\n",
    "gibbs_max = pd.read_csv(os.path.join(DATADIR, 'b1-b21_random_virial_large_new.csv'))['deltaGmax'].values\n",
    "force_max = pd.read_csv(os.path.join(DATADIR, 'b1-b21_random_virial_large_fit2.csv'))['F_repel_max'].values\n",
    "rg = pd.read_csv(os.path.join(DATADIR, 'rg_results.csv'))['Rg'].values\n",
    "y = np.hstack([\n",
    "    rg.reshape(-1, 1),\n",
    "    gibbs.reshape(-1, 1) * (-1),\n",
    "    gibbs_max.reshape(-1, 1),\n",
    "])\n",
    "assert len(df_full_factorial_feat) == len(a2) == len(gibbs) == len(y)\n"
   ]
  },
  {
   "cell_type": "code",
   "execution_count": 24,
   "metadata": {},
   "outputs": [],
   "source": [
    "all_feat = np.vstack([feat_0_scaled, feat_1_scaled, feat_2_scaled])"
   ]
  },
  {
   "cell_type": "code",
   "execution_count": 25,
   "metadata": {},
   "outputs": [],
   "source": [
    "lgbms = []\n",
    "for target in range(3):\n",
    "    y_selected = y[:, target]\n",
    "    X_train, X_test, y_train, y_test = train_test_split(df_full_factorial_feat, y_selected, train_size=0.8)\n",
    "    if target == 0:\n",
    "        lgbm = LGBMRegressor(**config_0)\n",
    "    elif target == 1:\n",
    "        lgbm = LGBMRegressor(**config_1)\n",
    "    elif target == 2:\n",
    "        lgbm = LGBMRegressor(**config_2)\n",
    "\n",
    "    lgbm.fit(X_train, y_train)\n",
    "    \n",
    "    lgbms.append(lgbm)"
   ]
  },
  {
   "cell_type": "code",
   "execution_count": 26,
   "metadata": {},
   "outputs": [],
   "source": [
    "pred_0 = lgbms[0].predict(all_feat)\n",
    "pred_1 = lgbms[1].predict(all_feat)\n",
    "pred_2 = lgbms[2].predict(all_feat)"
   ]
  },
  {
   "cell_type": "code",
   "execution_count": 27,
   "metadata": {},
   "outputs": [
    {
     "data": {
      "text/plain": [
       "<matplotlib.collections.PathCollection at 0x7f9481127dd8>"
      ]
     },
     "execution_count": 27,
     "metadata": {},
     "output_type": "execute_result"
    },
    {
     "data": {
      "image/png": "[encoded data removed]",
      "text/plain": [
       "<Figure size 432x288 with 1 Axes>"
      ]
     },
     "metadata": {
      "needs_background": "light"
     },
     "output_type": "display_data"
    }
   ],
   "source": [
    "plt.scatter(y[:,1], lgbms[1].predict(df_full_factorial_feat))"
   ]
  },
  {
   "cell_type": "code",
   "execution_count": 28,
   "metadata": {},
   "outputs": [],
   "source": [
    "import seaborn as sns"
   ]
  },
  {
   "cell_type": "code",
   "execution_count": 29,
   "metadata": {},
   "outputs": [
    {
     "data": {
      "text/plain": [
       "array([1.8113275 , 1.80827878, 1.8113275 , 1.8113275 , 1.80827878,\n",
       "       1.80827878, 1.8113275 , 1.80827878, 1.8113275 , 1.69107981,\n",
       "       1.80827878, 1.8113275 , 1.8113275 , 1.80827878, 1.8113275 ,\n",
       "       1.80827878, 1.80859296, 1.8113275 , 1.81164168, 1.8113275 ,\n",
       "       1.80859296, 1.80827878, 1.8113275 , 1.80827878, 1.8113275 ,\n",
       "       1.8113275 , 1.69107981, 1.8113275 , 1.8113275 , 1.8113275 ,\n",
       "       1.8113275 , 1.80827878, 1.8113275 , 1.8113275 , 1.80827878,\n",
       "       1.80827878, 1.8113275 , 1.80827878, 1.8113275 , 1.69107981,\n",
       "       1.80827878, 1.8113275 , 1.8113275 , 1.80827878, 1.8113275 ,\n",
       "       1.80827878, 1.80859296, 1.8113275 , 1.81164168, 1.8113275 ,\n",
       "       1.80859296, 1.80827878, 1.8113275 , 1.80827878, 1.8113275 ,\n",
       "       1.8113275 , 1.69107981, 1.8113275 , 1.8113275 , 1.8113275 ,\n",
       "       1.61479066, 1.61603794, 1.61539908, 1.61479066, 1.61603794,\n",
       "       1.61617612, 1.61373458, 1.61479066, 1.61640499, 1.61603794,\n",
       "       1.61640499, 1.61479066, 1.61640499, 1.61603794, 1.61640499,\n",
       "       1.61479066, 1.61542557, 1.61603794, 1.61640499, 1.61466495,\n",
       "       1.61640499, 1.61640499, 1.61603794, 1.61640499, 1.61640499,\n",
       "       1.61512004, 1.61603794, 1.61603794, 1.61640499, 1.61640499,\n",
       "       1.80859296, 1.80859296, 1.80859296, 1.80859296, 1.80859296,\n",
       "       1.80859296, 1.80859296, 1.80859296, 1.80859296, 1.80859296,\n",
       "       1.80859296, 1.80859296, 1.80859296, 1.80859296, 1.80859296,\n",
       "       1.80859296, 1.80859296, 1.80859296, 1.80859296, 1.80859296,\n",
       "       1.80859296, 1.80859296, 1.80859296, 1.80859296, 1.80859296,\n",
       "       1.80859296, 1.80859296, 1.80859296, 1.80859296, 1.80859296])"
      ]
     },
     "execution_count": 29,
     "metadata": {},
     "output_type": "execute_result"
    }
   ],
   "source": [
    "pred_0"
   ]
  },
  {
   "cell_type": "code",
   "execution_count": 30,
   "metadata": {},
   "outputs": [
    {
     "data": {
      "text/plain": [
       "<matplotlib.axes._subplots.AxesSubplot at 0x7f949a25d7b8>"
      ]
     },
     "execution_count": 30,
     "metadata": {},
     "output_type": "execute_result"
    },
    {
     "data": {
      "image/png": "[encoded data removed]",
      "text/plain": [
       "<Figure size 432x288 with 1 Axes>"
      ]
     },
     "metadata": {
      "needs_background": "light"
     },
     "output_type": "display_data"
    }
   ],
   "source": [
    "sns.distplot(y[:,0], kde=False, hist_kws={'weights': np.full(len(y), 1/len(y))})\n",
    "sns.distplot(pred_0, kde=False, hist_kws={'weights': np.full(len(pred_0), 1/len(pred_0))})"
   ]
  },
  {
   "cell_type": "code",
   "execution_count": 31,
   "metadata": {},
   "outputs": [
    {
     "data": {
      "text/plain": [
       "<matplotlib.axes._subplots.AxesSubplot at 0x7f9481419320>"
      ]
     },
     "execution_count": 31,
     "metadata": {},
     "output_type": "execute_result"
    },
    {
     "data": {
      "image/png": "[encoded data removed]",
      "text/plain": [
       "<Figure size 432x288 with 1 Axes>"
      ]
     },
     "metadata": {
      "needs_background": "light"
     },
     "output_type": "display_data"
    }
   ],
   "source": [
    "sns.distplot(y[:,1], kde=False, hist_kws={'weights': np.full(len(y), 1/len(y))})\n",
    "sns.distplot(pred_1, kde=False, hist_kws={'weights': np.full(len(pred_1), 1/len(pred_1))})"
   ]
  },
  {
   "cell_type": "code",
   "execution_count": 32,
   "metadata": {},
   "outputs": [
    {
     "data": {
      "text/plain": [
       "<matplotlib.axes._subplots.AxesSubplot at 0x7f94815b33c8>"
      ]
     },
     "execution_count": 32,
     "metadata": {},
     "output_type": "execute_result"
    },
    {
     "data": {
      "image/png": "[encoded data removed]",
      "text/plain": [
       "<Figure size 432x288 with 1 Axes>"
      ]
     },
     "metadata": {
      "needs_background": "light"
     },
     "output_type": "display_data"
    }
   ],
   "source": [
    "sns.distplot(y[:,2], kde=False, hist_kws={'weights': np.full(len(y), 1/len(y))})\n",
    "sns.distplot(pred_2, kde=False, hist_kws={'weights': np.full(len(pred_2), 1/len(pred_2))})"
   ]
  },
  {
   "cell_type": "code",
   "execution_count": 83,
   "metadata": {},
   "outputs": [
    {
     "name": "stderr",
     "output_type": "stream",
     "text": [
      " /Users/kevinmaikjablonka/opt/miniconda3/envs/dispersant_basf/lib/python3.7/site-packages/ipykernel_launcher.py:6: MatplotlibDeprecationWarning:\n",
      "The set_smart_bounds function was deprecated in Matplotlib 3.2 and will be removed two minor releases later.\n",
      " /Users/kevinmaikjablonka/opt/miniconda3/envs/dispersant_basf/lib/python3.7/site-packages/ipykernel_launcher.py:7: MatplotlibDeprecationWarning:\n",
      "The set_smart_bounds function was deprecated in Matplotlib 3.2 and will be removed two minor releases later.\n"
     ]
    },
    {
     "data": {
      "image/png": "[encoded data removed]",
      "text/plain": [
       "<Figure size 576x216 with 4 Axes>"
      ]
     },
     "metadata": {
      "needs_background": "light"
     },
     "output_type": "display_data"
    }
   ],
   "source": [
    "plt.rcParams['font.family'] = 'sans-serif'\n",
    "    \n",
    "fig, ax = plt.subplots(1,4,  figsize=(8,3), sharey='none')\n",
    "\n",
    "for i, a in enumerate(ax):\n",
    "    a.spines['left'].set_smart_bounds(True)\n",
    "    a.spines['bottom'].set_smart_bounds(True)\n",
    "    a.set_yticks([])\n",
    "    if i == 3:\n",
    "        a.set_xticks([])\n",
    "    \n",
    "sns.distplot(y[:,0], kde=False, hist_kws={'weights': np.full(len(y), 1/len(y))}, ax=ax[0], label='DOE', color=COLORS[1])\n",
    "sns.distplot(pred_0, kde=False, hist_kws={'weights': np.full(len(pred_0), 1/len(pred_0))}, ax=ax[0], label='GA', color=COLORS[3])\n",
    "    \n",
    "sns.distplot(y[:,1], kde=False, hist_kws={'weights': np.full(len(y), 1/len(y))}, ax=ax[1],  color=COLORS[1])\n",
    "sns.distplot(pred_1, kde=False, hist_kws={'weights': np.full(len(pred_1), 1/len(pred_1))}, ax=ax[1],  color=COLORS[3])\n",
    "\n",
    "ax[1].set_ylim(0,0.1)\n",
    "    \n",
    "sns.distplot(y[:,2], kde=False, hist_kws={'weights': np.full(len(y), 1/len(y))}, ax=ax[2],  color=COLORS[1])\n",
    "sns.distplot(pred_2, kde=False, hist_kws={'weights': np.full(len(pred_2), 1/len(pred_2))}, ax=ax[2],  color=COLORS[3])\n",
    "\n",
    "ax[3].scatter(embedding[:,0], embedding[:,1], label='DoE', alpha=.4, color=COLORS[1], s=5)\n",
    "ax[3].scatter(feat_0_scaled_umap[:,0], feat_0_scaled_umap[:,1], label=r'$R_g$ GA', s=15)\n",
    "ax[3].scatter(feat_1_scaled_umap[:,0], feat_1_scaled_umap[:,1], label=r'$G_\\mathrm{ads}$ GA', color=COLORS[0], s=15)\n",
    "ax[3].scatter(feat_2_scaled_umap[:,0], feat_2_scaled_umap[:,1], label=r'$G_\\mathrm{rep}$ GA', color=COLORS[2], s=15)\n",
    "\n",
    "ax[3].legend(loc='lower right', labelspacing=-.1, bbox_to_anchor=(1.4,0))\n",
    "\n",
    "\n",
    "ax[3].set_xlabel('UMAP 1')\n",
    "ax[3].set_ylabel('UMAP 2')\n",
    "\n",
    "\n",
    "ax[0].legend()\n",
    "ax[0].set_xlabel('$R_g$ / nm')\n",
    "ax[2].set_xlabel('$\\Delta G_\\mathrm{rep}$ / k$_\\mathrm{B}$T')\n",
    "\n",
    "fig.tight_layout()\n",
    "plt.savefig('ga_property_dist.pdf', bbox_inches='tight')"
   ]
  },
  {
   "cell_type": "code",
   "execution_count": null,
   "metadata": {},
   "outputs": [],
   "source": []
  },
  {
   "cell_type": "code",
   "execution_count": null,
   "metadata": {},
   "outputs": [],
   "source": []
  }
 ],
 "metadata": {
  "kernelspec": {
   "display_name": "Python 3",
   "language": "python",
   "name": "python3"
  },
  "language_info": {
   "codemirror_mode": {
    "name": "ipython",
    "version": 3
   },
   "file_extension": ".py",
   "mimetype": "text/x-python",
   "name": "python",
   "nbconvert_exporter": "python",
   "pygments_lexer": "ipython3",
   "version": "3.7.0"
  }
 },
 "nbformat": 4,
 "nbformat_minor": 4
}
