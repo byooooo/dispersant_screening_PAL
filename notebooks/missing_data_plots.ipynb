{
 "cells": [
  {
   "cell_type": "code",
   "execution_count": 1,
   "metadata": {},
   "outputs": [],
   "source": [
    "import pandas as pd \n",
    "import numpy as np \n",
    "import matplotlib.pylab as plt\n",
    "\n",
    "from dispersant_screener.utils import get_maxmin_samples, get_hypervolume, read_pickle, get_random_exploration_bl, is_pareto_efficient\n",
    "from dispersant_screener.definitions import FEATURES\n",
    "from sklearn.preprocessing import StandardScaler\n",
    "from glob import glob \n",
    "import os\n",
    "\n",
    "DATADIR = '../data'\n",
    "from functools import partial\n",
    "from matplotlib import animation, rc\n",
    "\n",
    "COLORS = [\n",
    "    \"#ffbe0b\", \n",
    "    \"#fb5607\", \n",
    "    \"#ff006e\",\n",
    "    \"#3a86ff\", \n",
    "]\n",
    "\n",
    "plt.rcParams['font.family'] = 'sans-serif'"
   ]
  },
  {
   "cell_type": "code",
   "execution_count": 35,
   "metadata": {},
   "outputs": [],
   "source": [
    "discarded = np.load('../work/sweeps3/20201024-160845_missing_data_0.01_0.05_0.05_60-discarded.npy', allow_pickle=True)\n",
    "unclassified = np.load('../work/sweeps3/20201024-160845_missing_data_0.01_0.05_0.05_60-unclassified.npy', allow_pickle=True)\n",
    "pareto_optimal = np.load('../work/sweeps3/20201024-160845_missing_data_0.01_0.05_0.05_60-pareto_optimal_indices.npy', allow_pickle=True)\n",
    "selected = np.load('../work/sweeps3/20201024-160845_missing_data_0.01_0.05_0.05_60-selected.npy', allow_pickle=True)\n",
    "greedy_indices = np.load('../work/sweeps3/20201024-160845_missing_data_0.01_0.05_0.05_60-greedy_indices.npy', allow_pickle=True)"
   ]
  },
  {
   "cell_type": "code",
   "execution_count": 43,
   "metadata": {},
   "outputs": [],
   "source": [
    "discarded1 = np.load('../work/sweeps3/20201024-160845_missing_data_0.1_0.05_0.05_60-discarded.npy', allow_pickle=True)\n",
    "unclassified1 = np.load('../work/sweeps3/20201024-160845_missing_data_0.1_0.05_0.05_60-unclassified.npy', allow_pickle=True)\n",
    "pareto_optimal1 = np.load('../work/sweeps3/20201024-160845_missing_data_0.1_0.05_0.05_60-pareto_optimal_indices.npy', allow_pickle=True)\n",
    "selected1 = np.load('../work/sweeps3/20201024-160845_missing_data_0.1_0.05_0.05_60-selected.npy', allow_pickle=True)\n",
    "greedy_indices1 = np.load('../work/sweeps3/20201024-160845_missing_data_0.1_0.05_0.05_60-greedy_indices.npy', allow_pickle=True)"
   ]
  },
  {
   "cell_type": "code",
   "execution_count": 44,
   "metadata": {},
   "outputs": [],
   "source": [
    "def get_summary_stats_time(pareto_optimal=pareto_optimal, discarded=discarded, selected=selected, unclassified=unclassified): \n",
    "    pareto_points = []\n",
    "    non_pareto_points = []\n",
    "    sampled_points = []\n",
    "    unclassified_points = []\n",
    "    \n",
    "    for array in pareto_optimal:\n",
    "        pareto_points.append(len(array))\n",
    "        \n",
    "    for array in discarded:\n",
    "        non_pareto_points.append(len(array))\n",
    "    \n",
    "    for array in selected:\n",
    "        sampled_points.append(len(array))\n",
    "        \n",
    "    for array in unclassified: \n",
    "        unclassified_points.append(len(array))\n",
    "    \n",
    "    return pareto_points, non_pareto_points, sampled_points, unclassified_points"
   ]
  },
  {
   "cell_type": "code",
   "execution_count": 45,
   "metadata": {},
   "outputs": [],
   "source": [
    "pareto_points, non_pareto_points, sampled_points, unclassified_points = get_summary_stats_time()"
   ]
  },
  {
   "cell_type": "code",
   "execution_count": 46,
   "metadata": {},
   "outputs": [],
   "source": [
    "pareto_points1, non_pareto_points1, sampled_points1, unclassified_points1 = get_summary_stats_time(\n",
    "    pareto_optimal1, discarded1, selected1, unclassified1\n",
    ")"
   ]
  },
  {
   "cell_type": "code",
   "execution_count": 47,
   "metadata": {},
   "outputs": [],
   "source": [
    "def load_data(n_samples, label_scaling: bool = False):\n",
    "    \"\"\"Take in Brian's data and spit out some numpy arrays for the PAL\"\"\"\n",
    "    df_full_factorial_feat = pd.read_csv(os.path.join(DATADIR, 'new_features_full_random.csv'))[FEATURES].values\n",
    "    a2 = pd.read_csv(os.path.join(DATADIR, 'b1-b21_random_virial_large_new.csv'))['A2_normalized'].values\n",
    "    deltaGMax = pd.read_csv(os.path.join(DATADIR, 'b1-b21_random_virial_large_new.csv'))['A2_normalized'].values  # pylint:disable=unused-variable\n",
    "    gibbs = pd.read_csv(os.path.join(DATADIR, 'b1-b21_random_deltaG.csv'))['deltaGmin'].values * (-1)\n",
    "    gibbs_max = pd.read_csv(os.path.join(DATADIR, 'b1-b21_random_virial_large_new.csv'))['deltaGmax'].values\n",
    "    force_max = pd.read_csv(os.path.join(DATADIR, 'b1-b21_random_virial_large_fit2.csv'))['F_repel_max'].values  # pylint:disable=unused-variable\n",
    "    rg = pd.read_csv(os.path.join(DATADIR, 'rg_results.csv'))['Rg'].values\n",
    "    y = np.hstack([rg.reshape(-1, 1), gibbs.reshape(-1, 1), gibbs_max.reshape(-1, 1)])\n",
    "    assert len(df_full_factorial_feat) == len(a2) == len(gibbs) == len(y)\n",
    "\n",
    "    feat_scaler = StandardScaler()\n",
    "    X = feat_scaler.fit_transform(df_full_factorial_feat)\n",
    "\n",
    "    if label_scaling:\n",
    "        label_scaler = MinMaxScaler()\n",
    "        y = label_scaler.fitransform(y)\n",
    "\n",
    "    #greedy_indices = get_maxmin_samples(X, n_samples)\n",
    "\n",
    "    return X, y#, greedy_indice"
   ]
  },
  {
   "cell_type": "code",
   "execution_count": 48,
   "metadata": {},
   "outputs": [],
   "source": [
    "X, y = load_data(1)"
   ]
  },
  {
   "cell_type": "code",
   "execution_count": 49,
   "metadata": {},
   "outputs": [],
   "source": [
    "hvs = [get_hypervolume(y[po], [5,5,5]) for po in pareto_optimal]\n",
    "hvs1 = [get_hypervolume(y[po], [5,5,5]) for po in pareto_optimal1]"
   ]
  },
  {
   "cell_type": "code",
   "execution_count": 29,
   "metadata": {},
   "outputs": [
    {
     "data": {
      "text/plain": [
       "array([-0.44379808, -0.15648975, -0.11108617, -0.09747818, -0.05484436,\n",
       "       -0.05484436, -0.05484436, -0.05484436, -0.05484436, -0.0515294 ,\n",
       "       -0.0515294 , -0.04016371, -0.04016371, -0.04016371, -0.04016371,\n",
       "       -0.04016371, -0.04016371, -0.04016371, -0.04016371, -0.04016371,\n",
       "       -0.04016371, -0.04016371, -0.04016371, -0.04016371, -0.04016371,\n",
       "       -0.04016371, -0.03790247, -0.03790247, -0.03423583, -0.02333648,\n",
       "       -0.02333648, -0.02333648, -0.02333648, -0.02333648, -0.02333648,\n",
       "       -0.02333648, -0.02333648, -0.02333648, -0.02319355, -0.02319355,\n",
       "       -0.02319355, -0.02319355, -0.02319355, -0.02319355, -0.02319355,\n",
       "       -0.02319355, -0.02319355, -0.02319355, -0.02319355, -0.02319355,\n",
       "       -0.02319355, -0.02196784, -0.02196784, -0.02196784, -0.02196784,\n",
       "       -0.02196784, -0.02196784, -0.02196784, -0.02196784, -0.02193224,\n",
       "       -0.02193224, -0.02193224, -0.02193224, -0.02193224, -0.02193224,\n",
       "       -0.02193224, -0.02193224, -0.01833709, -0.01833709, -0.01833709,\n",
       "       -0.01833709, -0.01833709, -0.01833709])"
      ]
     },
     "execution_count": 29,
     "metadata": {},
     "output_type": "execute_result"
    }
   ],
   "source": [
    "(np.array(hvs) - 1536.043852656784)/1536.043852656784"
   ]
  },
  {
   "cell_type": "code",
   "execution_count": 34,
   "metadata": {},
   "outputs": [],
   "source": [
    "hvs_padded = np.array([hvs[0]] * 60 + hvs)\n",
    "hvs_padded1 = np.array([hvs1[0]] * 60 + hvs1)"
   ]
  },
  {
   "cell_type": "code",
   "execution_count": 40,
   "metadata": {},
   "outputs": [],
   "source": [
    "np.save('missing_data_hv.npy', hvs1)"
   ]
  },
  {
   "cell_type": "code",
   "execution_count": 32,
   "metadata": {},
   "outputs": [],
   "source": [
    "REFERENCE_HV = get_hypervolume(y, [5,5,5])"
   ]
  },
  {
   "cell_type": "code",
   "execution_count": 33,
   "metadata": {},
   "outputs": [],
   "source": [
    "random_explorations = np.load('random_exploration_60_init.npy')\n",
    "random_exploration_median = np.median(random_explorations, axis=0)\n",
    "random_exploration_std = np.std(random_explorations, axis=0)"
   ]
  },
  {
   "cell_type": "code",
   "execution_count": 50,
   "metadata": {},
   "outputs": [
    {
     "name": "stderr",
     "output_type": "stream",
     "text": [
      "/Users/kevinmaikjablonka/opt/miniconda3/envs/dispersant_basf/lib/python3.7/site-packages/ipykernel_launcher.py:17: MatplotlibDeprecationWarning: \n",
      "The set_smart_bounds function was deprecated in Matplotlib 3.2 and will be removed two minor releases later.\n",
      "/Users/kevinmaikjablonka/opt/miniconda3/envs/dispersant_basf/lib/python3.7/site-packages/ipykernel_launcher.py:18: MatplotlibDeprecationWarning: \n",
      "The set_smart_bounds function was deprecated in Matplotlib 3.2 and will be removed two minor releases later.\n",
      "/Users/kevinmaikjablonka/opt/miniconda3/envs/dispersant_basf/lib/python3.7/site-packages/ipykernel_launcher.py:22: MatplotlibDeprecationWarning: \n",
      "The set_smart_bounds function was deprecated in Matplotlib 3.2 and will be removed two minor releases later.\n",
      "/Users/kevinmaikjablonka/opt/miniconda3/envs/dispersant_basf/lib/python3.7/site-packages/ipykernel_launcher.py:23: MatplotlibDeprecationWarning: \n",
      "The set_smart_bounds function was deprecated in Matplotlib 3.2 and will be removed two minor releases later.\n"
     ]
    },
    {
     "data": {
      "image/png": "[encoded data removed]",
      "text/plain": [
       "<Figure size 432x360 with 2 Axes>"
      ]
     },
     "metadata": {
      "needs_background": "light"
     },
     "output_type": "display_data"
    }
   ],
   "source": [
    "fig, ax = plt.subplots(1,2, gridspec_kw={'width_ratios': [1, 1]}, figsize=(6,5))\n",
    "ax[0].bar(range(len(pareto_optimal)), \n",
    "          pareto_points,\n",
    "          label='Pareto optimal', color=COLORS[3])\n",
    "ax[0].bar(range(len(pareto_optimal)), unclassified_points, bottom=np.array(pareto_points), \n",
    "          label='unclassified', color=COLORS[0])\n",
    "ax[0].bar(range(len(pareto_optimal)), non_pareto_points, \n",
    "          bottom=unclassified_points+np.array(pareto_points), label='discarded', color=COLORS[1])\n",
    "\n",
    "\n",
    "\n",
    "ax[0].set_xlabel('iteration (after initialization)')\n",
    "ax[1].set_xlabel('iteration (including initialization)')\n",
    "ax[0].set_ylabel('number of polymers')\n",
    "ax[1].set_ylabel('hypervolume error / %')\n",
    "\n",
    "ax[0].spines['left'].set_smart_bounds(True)\n",
    "ax[0].spines['bottom'].set_smart_bounds(True)\n",
    "ax[0].spines['right'].set_visible(False)\n",
    "ax[0].spines['top'].set_visible(False)\n",
    "\n",
    "ax[1].spines['left'].set_smart_bounds(True)\n",
    "ax[1].spines['bottom'].set_smart_bounds(True)\n",
    "ax[1].spines['right'].set_visible(False)\n",
    "ax[1].spines['top'].set_visible(False)\n",
    "\n",
    "ax[1].plot((REFERENCE_HV-np.array(hvs))/REFERENCE_HV * 100, label=r'$\\epsilon=0.05$-PAL ($\\beta_\\mathrm{scale} = 1/20$)', c='black')\n",
    "ax[1].plot((REFERENCE_HV-np.array(hvs1))/REFERENCE_HV * 100, label=r'$\\epsilon=0.05$-PAL ($\\beta_\\mathrm{scale} = 1/20$)', c='black', ls='dotted')\n",
    "\n",
    "ax[1].plot((REFERENCE_HV-np.array(random_exploration_median))/REFERENCE_HV * 100, \n",
    "           label='random (median)', c=COLORS[1])\n",
    "ax[1].fill_between(np.arange(len(y)),\n",
    "                   (REFERENCE_HV-np.array(random_exploration_median + random_exploration_std))/REFERENCE_HV * 100, (REFERENCE_HV-np.array(random_exploration_median - random_exploration_std))/REFERENCE_HV * 100, \n",
    "                   label=r'random (1 $\\sigma$)', color=COLORS[1], alpha=.5)\n",
    "#ax[1].plot(ratios)\n",
    "\n",
    "ax[0].legend(loc='right', bbox_to_anchor=(0.9,0.8))\n",
    "\n",
    "ax[1].set_xscale('log')\n",
    "ax[0].set_yscale('log')\n",
    "ax[1].legend()\n",
    "\n",
    "\n",
    "ax[0].set_xlabel('iteration')\n",
    "ax[1].set_xlabel('iteration')\n",
    "\n",
    "fig.tight_layout()\n",
    "fig.savefig('missing_data.pdf', bbox_inches='tight')"
   ]
  },
  {
   "cell_type": "code",
   "execution_count": null,
   "metadata": {},
   "outputs": [],
   "source": []
  }
 ],
 "metadata": {
  "kernelspec": {
   "display_name": "Python 3",
   "language": "python",
   "name": "python3"
  },
  "language_info": {
   "codemirror_mode": {
    "name": "ipython",
    "version": 3
   },
   "file_extension": ".py",
   "mimetype": "text/x-python",
   "name": "python",
   "nbconvert_exporter": "python",
   "pygments_lexer": "ipython3",
   "version": "3.7.0"
  }
 },
 "nbformat": 4,
 "nbformat_minor": 4
}
