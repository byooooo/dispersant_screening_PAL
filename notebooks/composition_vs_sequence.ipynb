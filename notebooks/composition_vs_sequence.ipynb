{
 "cells": [
  {
   "cell_type": "code",
   "execution_count": 5,
   "metadata": {},
   "outputs": [],
   "source": [
    "import pandas as pd \n",
    "import numpy as np \n",
    "import matplotlib.pyplot as plt \n",
    "%matplotlib inline \n",
    "\n",
    "import os \n",
    "from dispersant_screener.definitions import FEATURES\n",
    "\n",
    "DATADIR = '../data'"
   ]
  },
  {
   "cell_type": "code",
   "execution_count": 12,
   "metadata": {},
   "outputs": [],
   "source": [
    "df_full_factorial_feat = pd.read_csv(os.path.join(DATADIR, 'new_features_full_random.csv'))\n",
    "X_full_random = pd.read_csv(os.path.join(DATADIR, 'X_full_random.csv'))\n",
    "a2 = pd.read_csv(os.path.join(DATADIR, 'b1-b21_random_virial_large_new.csv'))['A2_normalized'].values\n",
    "deltaGMax = pd.read_csv(os.path.join(DATADIR, 'b1-b21_random_virial_large_new.csv'))['A2_normalized'].values\n",
    "gibbs = pd.read_csv(os.path.join(DATADIR, 'b1-b21_random_deltaG.csv'))['deltaGmin'].values\n",
    "gibbs_max = pd.read_csv(os.path.join(DATADIR, 'b1-b21_random_virial_large_new.csv'))['deltaGmax'].values\n",
    "force_max = pd.read_csv(os.path.join(DATADIR, 'b1-b21_random_virial_large_fit2.csv'))['F_repel_max'].values\n",
    "rg = pd.read_csv(os.path.join(DATADIR, 'rg_results.csv'))['Rg'].values\n",
    "y = np.hstack([\n",
    "    rg.reshape(-1, 1),\n",
    "    gibbs.reshape(-1, 1) * (-1),\n",
    "    gibbs_max.reshape(-1, 1),\n",
    "])\n",
    "assert len(df_full_factorial_feat) == len(a2) == len(gibbs) == len(y)\n"
   ]
  },
  {
   "cell_type": "code",
   "execution_count": 14,
   "metadata": {},
   "outputs": [],
   "source": [
    "df_full_factorial_feat['smiles'] = X_full_random['smiles']"
   ]
  },
  {
   "cell_type": "code",
   "execution_count": 15,
   "metadata": {},
   "outputs": [],
   "source": [
    "df_full_factorial_feat['rg'] = rg\n",
    "df_full_factorial_feat['gibbs'] = gibbs\n",
    "df_full_factorial_feat['gibbs_max'] = gibbs_max"
   ]
  },
  {
   "cell_type": "code",
   "execution_count": 24,
   "metadata": {},
   "outputs": [
    {
     "data": {
      "text/html": [
       "<div>\n",
       "<style scoped>\n",
       "    .dataframe tbody tr th:only-of-type {\n",
       "        vertical-align: middle;\n",
       "    }\n",
       "\n",
       "    .dataframe tbody tr th {\n",
       "        vertical-align: top;\n",
       "    }\n",
       "\n",
       "    .dataframe thead th {\n",
       "        text-align: right;\n",
       "    }\n",
       "</style>\n",
       "<table border=\"1\" class=\"dataframe\">\n",
       "  <thead>\n",
       "    <tr style=\"text-align: right;\">\n",
       "      <th></th>\n",
       "      <th>[W]</th>\n",
       "      <th>[Tr]</th>\n",
       "      <th>[Ta]</th>\n",
       "      <th>[R]</th>\n",
       "      <th>rg</th>\n",
       "      <th>gibbs</th>\n",
       "      <th>gibbs_max</th>\n",
       "    </tr>\n",
       "  </thead>\n",
       "  <tbody>\n",
       "    <tr>\n",
       "      <th>0</th>\n",
       "      <td>0.25</td>\n",
       "      <td>0.250000</td>\n",
       "      <td>0.250000</td>\n",
       "      <td>0.250000</td>\n",
       "      <td>1.474050</td>\n",
       "      <td>-7.535286</td>\n",
       "      <td>1.420749</td>\n",
       "    </tr>\n",
       "    <tr>\n",
       "      <th>1</th>\n",
       "      <td>0.25</td>\n",
       "      <td>0.250000</td>\n",
       "      <td>0.250000</td>\n",
       "      <td>0.250000</td>\n",
       "      <td>1.457608</td>\n",
       "      <td>-7.270527</td>\n",
       "      <td>1.433393</td>\n",
       "    </tr>\n",
       "    <tr>\n",
       "      <th>2</th>\n",
       "      <td>0.25</td>\n",
       "      <td>0.250000</td>\n",
       "      <td>0.250000</td>\n",
       "      <td>0.250000</td>\n",
       "      <td>1.464777</td>\n",
       "      <td>-6.416311</td>\n",
       "      <td>1.885474</td>\n",
       "    </tr>\n",
       "    <tr>\n",
       "      <th>3</th>\n",
       "      <td>0.25</td>\n",
       "      <td>0.250000</td>\n",
       "      <td>0.250000</td>\n",
       "      <td>0.250000</td>\n",
       "      <td>1.472556</td>\n",
       "      <td>-6.684816</td>\n",
       "      <td>2.339672</td>\n",
       "    </tr>\n",
       "    <tr>\n",
       "      <th>4</th>\n",
       "      <td>0.25</td>\n",
       "      <td>0.250000</td>\n",
       "      <td>0.250000</td>\n",
       "      <td>0.250000</td>\n",
       "      <td>1.463182</td>\n",
       "      <td>-6.606492</td>\n",
       "      <td>1.812410</td>\n",
       "    </tr>\n",
       "    <tr>\n",
       "      <th>...</th>\n",
       "      <td>...</td>\n",
       "      <td>...</td>\n",
       "      <td>...</td>\n",
       "      <td>...</td>\n",
       "      <td>...</td>\n",
       "      <td>...</td>\n",
       "      <td>...</td>\n",
       "    </tr>\n",
       "    <tr>\n",
       "      <th>95</th>\n",
       "      <td>0.40</td>\n",
       "      <td>0.133333</td>\n",
       "      <td>0.333333</td>\n",
       "      <td>0.133333</td>\n",
       "      <td>2.263436</td>\n",
       "      <td>-9.388334</td>\n",
       "      <td>1.883930</td>\n",
       "    </tr>\n",
       "    <tr>\n",
       "      <th>96</th>\n",
       "      <td>0.40</td>\n",
       "      <td>0.133333</td>\n",
       "      <td>0.333333</td>\n",
       "      <td>0.133333</td>\n",
       "      <td>2.238902</td>\n",
       "      <td>-6.850659</td>\n",
       "      <td>2.431936</td>\n",
       "    </tr>\n",
       "    <tr>\n",
       "      <th>97</th>\n",
       "      <td>0.40</td>\n",
       "      <td>0.133333</td>\n",
       "      <td>0.333333</td>\n",
       "      <td>0.133333</td>\n",
       "      <td>2.247506</td>\n",
       "      <td>-7.988934</td>\n",
       "      <td>2.961641</td>\n",
       "    </tr>\n",
       "    <tr>\n",
       "      <th>98</th>\n",
       "      <td>0.40</td>\n",
       "      <td>0.133333</td>\n",
       "      <td>0.333333</td>\n",
       "      <td>0.133333</td>\n",
       "      <td>2.241701</td>\n",
       "      <td>-7.406052</td>\n",
       "      <td>1.931609</td>\n",
       "    </tr>\n",
       "    <tr>\n",
       "      <th>99</th>\n",
       "      <td>0.40</td>\n",
       "      <td>0.133333</td>\n",
       "      <td>0.333333</td>\n",
       "      <td>0.133333</td>\n",
       "      <td>2.206948</td>\n",
       "      <td>-8.837333</td>\n",
       "      <td>1.867933</td>\n",
       "    </tr>\n",
       "  </tbody>\n",
       "</table>\n",
       "<p>100 rows × 7 columns</p>\n",
       "</div>"
      ],
      "text/plain": [
       "     [W]      [Tr]      [Ta]       [R]        rg     gibbs  gibbs_max\n",
       "0   0.25  0.250000  0.250000  0.250000  1.474050 -7.535286   1.420749\n",
       "1   0.25  0.250000  0.250000  0.250000  1.457608 -7.270527   1.433393\n",
       "2   0.25  0.250000  0.250000  0.250000  1.464777 -6.416311   1.885474\n",
       "3   0.25  0.250000  0.250000  0.250000  1.472556 -6.684816   2.339672\n",
       "4   0.25  0.250000  0.250000  0.250000  1.463182 -6.606492   1.812410\n",
       "..   ...       ...       ...       ...       ...       ...        ...\n",
       "95  0.40  0.133333  0.333333  0.133333  2.263436 -9.388334   1.883930\n",
       "96  0.40  0.133333  0.333333  0.133333  2.238902 -6.850659   2.431936\n",
       "97  0.40  0.133333  0.333333  0.133333  2.247506 -7.988934   2.961641\n",
       "98  0.40  0.133333  0.333333  0.133333  2.241701 -7.406052   1.931609\n",
       "99  0.40  0.133333  0.333333  0.133333  2.206948 -8.837333   1.867933\n",
       "\n",
       "[100 rows x 7 columns]"
      ]
     },
     "execution_count": 24,
     "metadata": {},
     "output_type": "execute_result"
    }
   ],
   "source": [
    "df_full_factorial_feat[['[W]', '[Tr]', '[Ta]', '[R]', 'rg', 'gibbs', 'gibbs_max']][:100]"
   ]
  },
  {
   "cell_type": "code",
   "execution_count": 31,
   "metadata": {},
   "outputs": [],
   "source": [
    "compositions = np.unique(df_full_factorial_feat[['[W]', '[Tr]', '[Ta]', '[R]']].values, axis=0)"
   ]
  },
  {
   "cell_type": "code",
   "execution_count": 46,
   "metadata": {},
   "outputs": [],
   "source": [
    "rg_var = []\n",
    "gibbs_var = []\n",
    "gibbs_max_var = []\n",
    "\n",
    "rg_means = []\n",
    "gibbs_means = []\n",
    "gibbs_max_means = []\n",
    "\n",
    "for composition in compositions: \n",
    "    df_subset = df_full_factorial_feat[(df_full_factorial_feat[['[W]', '[Tr]', '[Ta]', '[R]']]==composition).all(axis=1)]\n",
    "    \n",
    "    rg_var.append(df_subset['rg'].std())\n",
    "    rg_means.append(df_subset['rg'].mean())\n",
    "    \n",
    "    gibbs_var.append(df_subset['gibbs'].std())\n",
    "    gibbs_means.append(df_subset['gibbs'].mean())\n",
    "    \n",
    "    gibbs_max_var.append(df_subset['gibbs_max'].std())\n",
    "    gibbs_max_means.append(df_subset['gibbs_max'].mean())\n",
    "    "
   ]
  },
  {
   "cell_type": "code",
   "execution_count": 74,
   "metadata": {},
   "outputs": [
    {
     "name": "stderr",
     "output_type": "stream",
     "text": [
      "/Users/kevinmaikjablonka/opt/miniconda3/envs/dispersant_basf/lib/python3.7/site-packages/ipykernel_launcher.py:21: MatplotlibDeprecationWarning: \n",
      "The set_smart_bounds function was deprecated in Matplotlib 3.2 and will be removed two minor releases later.\n",
      "/Users/kevinmaikjablonka/opt/miniconda3/envs/dispersant_basf/lib/python3.7/site-packages/ipykernel_launcher.py:22: MatplotlibDeprecationWarning: \n",
      "The set_smart_bounds function was deprecated in Matplotlib 3.2 and will be removed two minor releases later.\n"
     ]
    },
    {
     "data": {
      "image/png": "[encoded data removed]",
      "text/plain": [
       "<Figure size 432x288 with 3 Axes>"
      ]
     },
     "metadata": {
      "needs_background": "light"
     },
     "output_type": "display_data"
    }
   ],
   "source": [
    "fig, ax = plt.subplots(1,3)\n",
    "ax[0].hist(rg_var, density=True)\n",
    "ax[1].hist(gibbs_var, density=True)\n",
    "ax[2].hist(gibbs_max_var, density=True)\n",
    "\n",
    "ax[0].vlines(np.std(rg_means), 0, 21)\n",
    "ax[1].vlines(np.std(gibbs_means), 0, 1.2)\n",
    "ax[2].vlines(np.std(gibbs_max_means), 0, 4.1)\n",
    "\n",
    "ax[0].vlines(np.mean(rg_var), 0, 21, ls='--')\n",
    "ax[1].vlines(np.mean(gibbs_var), 0, 1.2, ls='--')\n",
    "ax[2].vlines(np.mean(gibbs_max_var), 0, 4.1, ls='--')\n",
    "\n",
    "\n",
    "ax[0].set_xlabel(r'$\\sigma(R_g)$ / nm')\n",
    "ax[1].set_xlabel(r'$\\sigma(\\Delta G_\\mathrm{ads})$ / $k_\\mathrm{B}T$')\n",
    "ax[2].set_xlabel(r'$\\sigma(\\Delta G_\\mathrm{rep})$ / $k_\\mathrm{B}T$')\n",
    "\n",
    "\n",
    "for a in ax: \n",
    "    a.spines['left'].set_smart_bounds(True)\n",
    "    a.spines['bottom'].set_smart_bounds(True)\n",
    "    a.spines['right'].set_visible(False)\n",
    "    a.spines['top'].set_visible(False)\n",
    "\n",
    "fig.tight_layout()\n",
    "fig.savefig('var_composition_sequence.pdf', bbox_inches='tight')"
   ]
  },
  {
   "cell_type": "code",
   "execution_count": 48,
   "metadata": {},
   "outputs": [
    {
     "data": {
      "text/plain": [
       "0.21569330351957344"
      ]
     },
     "execution_count": 48,
     "metadata": {},
     "output_type": "execute_result"
    }
   ],
   "source": [
    "np.std(rg_means)"
   ]
  },
  {
   "cell_type": "code",
   "execution_count": 72,
   "metadata": {},
   "outputs": [
    {
     "data": {
      "text/plain": [
       "0.041379453391634215"
      ]
     },
     "execution_count": 72,
     "metadata": {},
     "output_type": "execute_result"
    }
   ],
   "source": [
    "np.mean(rg_var)"
   ]
  },
  {
   "cell_type": "code",
   "execution_count": 75,
   "metadata": {},
   "outputs": [],
   "source": [
    "from scipy import stats"
   ]
  },
  {
   "cell_type": "code",
   "execution_count": 76,
   "metadata": {},
   "outputs": [
    {
     "data": {
      "text/plain": [
       "Ttest_1sampResult(statistic=-59.81812175860581, pvalue=3.883930626003455e-253)"
      ]
     },
     "execution_count": 76,
     "metadata": {},
     "output_type": "execute_result"
    }
   ],
   "source": [
    "stats.ttest_1samp(rg_var, np.std(rg_means))"
   ]
  },
  {
   "cell_type": "code",
   "execution_count": 82,
   "metadata": {},
   "outputs": [
    {
     "data": {
      "text/plain": [
       "Ttest_1sampResult(statistic=-113.8456225239555, pvalue=0.0)"
      ]
     },
     "execution_count": 82,
     "metadata": {},
     "output_type": "execute_result"
    }
   ],
   "source": [
    "stats.ttest_1samp(gibbs_var, np.std(gibbs_means))"
   ]
  },
  {
   "cell_type": "code",
   "execution_count": 83,
   "metadata": {},
   "outputs": [
    {
     "data": {
      "text/plain": [
       "Ttest_1sampResult(statistic=-55.74326628227384, pvalue=9.925548437471486e-238)"
      ]
     },
     "execution_count": 83,
     "metadata": {},
     "output_type": "execute_result"
    }
   ],
   "source": [
    "stats.ttest_1samp(gibbs_max_var, np.std(gibbs_max_means))"
   ]
  },
  {
   "cell_type": "code",
   "execution_count": null,
   "metadata": {},
   "outputs": [],
   "source": []
  }
 ],
 "metadata": {
  "kernelspec": {
   "display_name": "Python 3",
   "language": "python",
   "name": "python3"
  },
  "language_info": {
   "codemirror_mode": {
    "name": "ipython",
    "version": 3
   },
   "file_extension": ".py",
   "mimetype": "text/x-python",
   "name": "python",
   "nbconvert_exporter": "python",
   "pygments_lexer": "ipython3",
   "version": "3.7.0"
  }
 },
 "nbformat": 4,
 "nbformat_minor": 4
}
