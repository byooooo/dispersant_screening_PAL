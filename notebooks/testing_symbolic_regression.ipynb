{
 "cells": [
  {
   "cell_type": "code",
   "execution_count": 1,
   "metadata": {},
   "outputs": [
    {
     "name": "stdout",
     "output_type": "stream",
     "text": [
      "Collecting pysr\n",
      "  Using cached pysr-0.3.28-py3-none-any.whl (126 kB)\n",
      "Collecting sympy\n",
      "  Using cached sympy-1.6.2-py3-none-any.whl (5.8 MB)\n",
      "Requirement already satisfied: pandas in /Users/kevinmaikjablonka/opt/miniconda3/envs/dispersant_basf/lib/python3.7/site-packages (from pysr) (1.0.3)\n",
      "Requirement already satisfied: numpy in /Users/kevinmaikjablonka/opt/miniconda3/envs/dispersant_basf/lib/python3.7/site-packages (from pysr) (1.19.2)\n",
      "Processing /Users/kevinmaikjablonka/Library/Caches/pip/wheels/e2/46/78/e78f76c356bca9277368f1f97a31b37a8cb937176d9511af31/mpmath-1.1.0-py3-none-any.whl\n",
      "Requirement already satisfied: pytz>=2017.2 in /Users/kevinmaikjablonka/opt/miniconda3/envs/dispersant_basf/lib/python3.7/site-packages (from pandas->pysr) (2020.1)\n",
      "Requirement already satisfied: python-dateutil>=2.6.1 in /Users/kevinmaikjablonka/opt/miniconda3/envs/dispersant_basf/lib/python3.7/site-packages (from pandas->pysr) (2.8.1)\n",
      "Requirement already satisfied: six>=1.5 in /Users/kevinmaikjablonka/opt/miniconda3/envs/dispersant_basf/lib/python3.7/site-packages (from python-dateutil>=2.6.1->pandas->pysr) (1.14.0)\n",
      "Installing collected packages: mpmath, sympy, pysr\n",
      "Successfully installed mpmath-1.1.0 pysr-0.3.28 sympy-1.6.2\n"
     ]
    }
   ],
   "source": [
    "!pip install pysr"
   ]
  },
  {
   "cell_type": "code",
   "execution_count": null,
   "metadata": {},
   "outputs": [],
   "source": []
  }
 ],
 "metadata": {
  "kernelspec": {
   "display_name": "Python 3",
   "language": "python",
   "name": "python3"
  },
  "language_info": {
   "codemirror_mode": {
    "name": "ipython",
    "version": 3
   },
   "file_extension": ".py",
   "mimetype": "text/x-python",
   "name": "python",
   "nbconvert_exporter": "python",
   "pygments_lexer": "ipython3",
   "version": "3.7.0"
  }
 },
 "nbformat": 4,
 "nbformat_minor": 4
}
