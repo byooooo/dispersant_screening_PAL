{
 "cells": [
  {
   "cell_type": "markdown",
   "metadata": {},
   "source": [
    "# Try GP model"
   ]
  },
  {
   "cell_type": "markdown",
   "metadata": {},
   "source": [
    "Started: May 8, 2020.\n",
    "Updated: July 28, 2020."
   ]
  },
  {
   "cell_type": "markdown",
   "metadata": {},
   "source": [
    "- Alternatively we could use a multilayer preceptron with MC-Dropout (following Yarin Gal), but there is some discussion about what this acutally measures (for this reason I now also moved back to GP for some of my projects)."
   ]
  },
  {
   "cell_type": "code",
   "execution_count": 26,
   "metadata": {},
   "outputs": [],
   "source": [
    "import os \n",
    "\n",
    "import pandas as pd \n",
    "import numpy as np \n",
    "import GPy\n",
    "from sklearn.model_selection import train_test_split\n",
    "from sklearn.preprocessing import StandardScaler, MinMaxScaler\n",
    "from sklearn.pipeline import Pipeline\n",
    "from sklearn.gaussian_process import GaussianProcessRegressor\n",
    "from sklearn.gaussian_process.kernels import RBF, ConstantKernel as C\n",
    "import joblib\n",
    "\n",
    "import matplotlib.pyplot as plt \n",
    "%matplotlib inline \n",
    "\n",
    "DATADIR = '../data'\n",
    "TRAIN_SIZE = 0.10\n",
    "\n",
    "import sys\n",
    "sys.path.append('..')\n",
    "from dispersant_screener.definitions import *"
   ]
  },
  {
   "cell_type": "markdown",
   "metadata": {},
   "source": [
    "## Load the data"
   ]
  },
  {
   "cell_type": "markdown",
   "metadata": {},
   "source": [
    "- For the startification we need to look into it."
   ]
  },
  {
   "cell_type": "code",
   "execution_count": 27,
   "metadata": {},
   "outputs": [],
   "source": [
    "df_full_factorial = pd.read_csv(os.path.join(DATADIR, 'full_fact.csv'))"
   ]
  },
  {
   "cell_type": "code",
   "execution_count": 28,
   "metadata": {},
   "outputs": [
    {
     "data": {
      "text/plain": [
       "19"
      ]
     },
     "execution_count": 28,
     "metadata": {},
     "output_type": "execute_result"
    }
   ],
   "source": [
    "NFEAT = len(FEATURES)\n",
    "NFEAT"
   ]
  },
  {
   "cell_type": "code",
   "execution_count": 29,
   "metadata": {},
   "outputs": [
    {
     "name": "stdout",
     "output_type": "stream",
     "text": [
      "../data/b1-b21_random_virial_large.csv\r\n"
     ]
    }
   ],
   "source": [
    "!ls ../data/b1-b21_random_virial_large.csv"
   ]
  },
  {
   "cell_type": "code",
   "execution_count": null,
   "metadata": {},
   "outputs": [],
   "source": []
  },
  {
   "cell_type": "code",
   "execution_count": 30,
   "metadata": {},
   "outputs": [],
   "source": [
    "df_full_factorial = pd.read_csv(os.path.join(DATADIR, 'full_fact.csv'))\n",
    "new_A2 = pd.read_csv(os.path.join(DATADIR, 'b1-b21_random_virial_large.csv'))['A2_normalized']\n",
    "# new_A2 = pd.read_csv(os.path.join(DATADIR, 'b1-b21_random_virial_large.csv'))['A2_unnormalized']\n",
    "\n",
    "# replace old A2 values with newly calculated values\n",
    "df_full_factorial['A2_normalized'] = new_A2\n",
    "df_full_factorial['1_N'] = df_full_factorial['total_count']"
   ]
  },
  {
   "cell_type": "code",
   "execution_count": 31,
   "metadata": {},
   "outputs": [],
   "source": [
    "X = df_full_factorial[FEATURES]\n",
    "y = df_full_factorial[TARGETS]\n",
    "\n",
    "feat_scaler = StandardScaler()\n",
    "X = feat_scaler.fit_transform(X)\n",
    "\n",
    "X_train, X_test, y_train, y_test = train_test_split(X, y, train_size=TRAIN_SIZE)\n",
    "\n",
    "# split responses so when scaling so that we can perform inverse transform on each one individually\n",
    "\n",
    "label1_scaler = StandardScaler()\n",
    "y1_train = label1_scaler.fit_transform(np.array(y_train)[:,0].reshape(-1,1))\n",
    "y1_test = label1_scaler.transform(np.array(y_test)[:,0].reshape(-1,1))\n",
    "\n",
    "label2_scaler = StandardScaler()\n",
    "y2_train = label2_scaler.fit_transform(np.array(y_train)[:,1].reshape(-1,1))\n",
    "y2_test = label2_scaler.transform(np.array(y_test)[:,1].reshape(-1,1))"
   ]
  },
  {
   "cell_type": "code",
   "execution_count": 32,
   "metadata": {},
   "outputs": [
    {
     "name": "stdout",
     "output_type": "stream",
     "text": [
      "312\n"
     ]
    },
    {
     "data": {
      "image/png": "[encoded data removed]",
      "text/plain": [
       "<Figure size 432x288 with 1 Axes>"
      ]
     },
     "metadata": {
      "needs_background": "light"
     },
     "output_type": "display_data"
    }
   ],
   "source": [
    "plt.hist(y1_train)\n",
    "plt.hist(y1_test,alpha=0.5)\n",
    "print(len(y2_train))"
   ]
  },
  {
   "cell_type": "code",
   "execution_count": 33,
   "metadata": {},
   "outputs": [
    {
     "name": "stdout",
     "output_type": "stream",
     "text": [
      "312\n"
     ]
    },
    {
     "data": {
      "image/png": "[encoded data removed]",
      "text/plain": [
       "<Figure size 432x288 with 1 Axes>"
      ]
     },
     "metadata": {
      "needs_background": "light"
     },
     "output_type": "display_data"
    }
   ],
   "source": [
    "plt.hist(y2_train)\n",
    "plt.hist(y2_test,alpha=0.5)\n",
    "print(len(y2_train))"
   ]
  },
  {
   "cell_type": "markdown",
   "metadata": {},
   "source": [
    "# Scikitlearn GP"
   ]
  },
  {
   "cell_type": "code",
   "execution_count": 34,
   "metadata": {},
   "outputs": [],
   "source": [
    "from sklearn.gaussian_process import GaussianProcessRegressor\n",
    "from sklearn.gaussian_process.kernels import RBF, DotProduct, Matern\n",
    "from sklearn.model_selection import GridSearchCV\n",
    "from sklearn.model_selection import KFold, StratifiedKFold\n",
    "from sklearn.model_selection import cross_validate\n",
    "from sklearn.linear_model import Lasso\n",
    "\n",
    "def CV_GP(X, y, tuned_parameters=None, n_splits=5, normalize_y = False, scoring = 'neg_root_mean_squared_error'):\n",
    "    # define cross-validation + grid-search function\n",
    "    # since our y is scaled already, we will set normalize y to false\n",
    "    # note: we scale y since we assume a prior with mean of zero\n",
    "    # cross_validate by default uses asynchronous parallelization (n_jobs=-1 is all processors available)\n",
    "    \n",
    "    # returns basic fit with cross_validation results\n",
    "    if tuned_parameters is None:\n",
    "        model = GaussianProcessRegressor(kernel=RBF(), normalize_y=normalize_y, n_restarts_optimizer=30)\n",
    "        kfold = KFold(n_splits, shuffle=True)\n",
    "        cv_results = cross_validate(model, X, y, cv=kfold)\n",
    "        model.fit(X,y)\n",
    "        return(model, cv_results)\n",
    "    # perform grid-search\n",
    "    else:\n",
    "        model = GaussianProcessRegressor()\n",
    "        estimatorCV = GridSearchCV(model, \n",
    "                                   tuned_parameters, \n",
    "                                   cv=KFold(n_splits, shuffle=True), \n",
    "                                   n_jobs=-1, \n",
    "                                   scoring=scoring,\n",
    "                                   error_score=0,\n",
    "                                   return_train_score=True\n",
    "                                  )\n",
    "        estimatorCV.fit(X,y)\n",
    "        best_params = estimatorCV.best_params_\n",
    "        cv_results = estimatorCV.cv_results_\n",
    "        best_model = GaussianProcessRegressor().set_params(**best_params)\n",
    "        best_model = best_model.fit(X,y)\n",
    "        \n",
    "        return (best_model, best_params, cv_results)\n",
    "\n",
    "\n",
    "\n",
    "def build_virial_model():\n",
    "    virial_model = GaussianProcessRegressor(kernel=RBF(), normalize_y=False, n_restarts_optimizer=30)\n",
    "\n",
    "    return virial_model\n",
    "\n",
    "\n",
    "def build_gibbs_model():\n",
    "    gibbs_model = GaussianProcessRegressor(kernel=RBF(), normalize_y=False, n_restarts_optimizer=30)\n",
    "\n",
    "    return gibbs_model"
   ]
  },
  {
   "cell_type": "markdown",
   "metadata": {},
   "source": [
    "## virial_params"
   ]
  },
  {
   "cell_type": "code",
   "execution_count": 65,
   "metadata": {},
   "outputs": [],
   "source": [
    "# virial_model = build_virial_model()\n",
    "# virial_model.fit(X_train, y_train[:,1].reshape(-1,1))\n",
    "\n",
    "\n",
    "# define grid-search parameters\n",
    "tuned_parameters = [{\n",
    "    \n",
    "    'kernel': [\n",
    "        # radial basis function kernel with varying correlation length_scale\n",
    "         RBF() + DotProduct()\n",
    "#                DotProduct(0.1), DotProduct(0.5), \n",
    "#                \n",
    "#                Matern(0.01,length_scale_bounds=\"fixed\", nu=0.5), Matern(0.1,length_scale_bounds=\"fixed\",  nu=0.5),\n",
    "#                Matern(0.05,nu=1.5), Matern(0.1,nu=1.5),\n",
    "#                Matern(0.01,nu=2.5), Matern(0.1,nu=2.5),\n",
    "              ], \n",
    "                     # gaussian noise height\n",
    "#                      'alpha': [0.1],\n",
    "                     'n_restarts_optimizer': [20],\n",
    "                    },\n",
    "                   ]\n",
    "# set grid-search to false\n",
    "# tuned_parameters = None\n",
    "\n",
    "# fit GP model to virial\n",
    "virial_model, virial_params, virial_cv_results = CV_GP(X_train, \n",
    "                   y2_train, tuned_parameters, 5)\n"
   ]
  },
  {
   "cell_type": "code",
   "execution_count": 66,
   "metadata": {},
   "outputs": [
    {
     "data": {
      "text/plain": [
       "{'kernel': RBF(length_scale=1) + DotProduct(sigma_0=1),\n",
       " 'n_restarts_optimizer': 50}"
      ]
     },
     "execution_count": 66,
     "metadata": {},
     "output_type": "execute_result"
    }
   ],
   "source": [
    "virial_params"
   ]
  },
  {
   "cell_type": "code",
   "execution_count": 67,
   "metadata": {},
   "outputs": [
    {
     "data": {
      "text/plain": [
       "array([-9.15902228e-11])"
      ]
     },
     "execution_count": 67,
     "metadata": {},
     "output_type": "execute_result"
    }
   ],
   "source": [
    "virial_cv_results['mean_train_score']"
   ]
  },
  {
   "cell_type": "code",
   "execution_count": 68,
   "metadata": {},
   "outputs": [
    {
     "data": {
      "text/plain": [
       "array([-0.96861216])"
      ]
     },
     "execution_count": 68,
     "metadata": {},
     "output_type": "execute_result"
    }
   ],
   "source": [
    "virial_cv_results['mean_test_score']"
   ]
  },
  {
   "cell_type": "code",
   "execution_count": 69,
   "metadata": {},
   "outputs": [],
   "source": [
    "y2_hat_trn, y2_std_trn = virial_model.predict(X_train[:], return_std=True)\n",
    "y2_hat_tst, y2_std_tst = virial_model.predict(X_test[:], return_std=True)"
   ]
  },
  {
   "cell_type": "code",
   "execution_count": 70,
   "metadata": {},
   "outputs": [
    {
     "data": {
      "text/plain": [
       "Text(0.5, 1.0, 'Virial (test)')"
      ]
     },
     "execution_count": 70,
     "metadata": {},
     "output_type": "execute_result"
    },
    {
     "data": {
      "image/png": "[encoded data removed]",
      "text/plain": [
       "<Figure size 432x288 with 2 Axes>"
      ]
     },
     "metadata": {
      "needs_background": "light"
     },
     "output_type": "display_data"
    },
    {
     "data": {
      "image/png": "[encoded data removed]",
      "text/plain": [
       "<Figure size 432x288 with 2 Axes>"
      ]
     },
     "metadata": {
      "needs_background": "light"
     },
     "output_type": "display_data"
    }
   ],
   "source": [
    "import matplotlib as mpl\n",
    "\n",
    "plt.close('all')\n",
    "\n",
    "\n",
    "\n",
    "fig, ax = plt.subplots()\n",
    "sc = plt.scatter(label2_scaler.inverse_transform(y2_hat_trn), \n",
    "                 label2_scaler.inverse_transform(y2_train), \n",
    "                 alpha=0.5, c=y2_std_trn, cmap=plt.cm.coolwarm, norm = mpl.colors.Normalize(vmin=0, vmax=1))\n",
    "cb = plt.colorbar(sc)\n",
    "cb.set_label('Uncertainty', rotation=90)\n",
    "# cb.ax.tick_params(size=0)\n",
    "cb.set_ticks([0,0.5,1])\n",
    "cb.set_ticklabels([0,0.5,1])\n",
    "plt.ylabel('actual')\n",
    "plt.xlabel('predicted')\n",
    "# plt.legend(['test', 'train',])\n",
    "plt.title('Virial (train)')\n",
    "lims = [\n",
    "    np.min([ax.get_xlim(), ax.get_ylim()]),  # min of both axes\n",
    "    np.max([ax.get_xlim(), ax.get_ylim()]),  # max of both axes\n",
    "]\n",
    "# now plot both limits against eachother\n",
    "ax.plot(lims, lims, 'k-', alpha=0.75,  zorder=0)\n",
    "\n",
    "fig, ax = plt.subplots()\n",
    "sc = plt.scatter(label2_scaler.inverse_transform(y2_hat_tst), \n",
    "                 label2_scaler.inverse_transform(y2_test), \n",
    "                 alpha=0.5, c=y2_std_tst, cmap=plt.cm.coolwarm, norm = mpl.colors.Normalize(vmin=0, vmax=1))\n",
    "cb = plt.colorbar(sc)\n",
    "cb.set_label('Uncertainty', rotation=90)\n",
    "cb.ax.tick_params(size=1)\n",
    "cb.set_ticks([0,0.5,1])\n",
    "lims = [\n",
    "    np.min([ax.get_xlim(), ax.get_ylim()]),  # min of both axes\n",
    "    np.max([ax.get_xlim(), ax.get_ylim()]),  # max of both axes\n",
    "]\n",
    "ax.plot(lims, lims, 'k-', alpha=0.75, zorder=0)\n",
    "plt.ylabel('actual')\n",
    "plt.xlabel('predicted')\n",
    "plt.title('Virial (test)')"
   ]
  },
  {
   "cell_type": "markdown",
   "metadata": {},
   "source": [
    "Try using isomaps to reduce feature dimensions"
   ]
  },
  {
   "cell_type": "code",
   "execution_count": 40,
   "metadata": {},
   "outputs": [],
   "source": [
    "# X = df_full_factorial[FEATURES]\n",
    "# y = df_full_factorial[TARGETS]\n",
    "\n",
    "# import random\n",
    "# X = df_full_factorial[FEATURES]\n",
    "# l = np.arange(len(X))\n",
    "# random.shuffle(l) # we shuffle the list\n",
    "# ix = l[:300]\n",
    "# # ix\n",
    "# X = X.iloc[ix]\n",
    "# y = y.iloc[ix]\n",
    "\n",
    "# feat_scaler = StandardScaler()\n",
    "# X = feat_scaler.fit_transform(X)\n",
    "# TRAIN_SIZE=0.9\n",
    "# X_train, X_test, y_train, y_test = train_test_split(X, y, train_size=TRAIN_SIZE)\n",
    "\n",
    "# # split responses so when scaling so that we can perform inverse transform on each one individually\n",
    "\n",
    "# label1_scaler = StandardScaler()\n",
    "# y1_train = label1_scaler.fit_transform(np.array(y_train)[:,0].reshape(-1,1))\n",
    "# y1_test = label1_scaler.transform(np.array(y_test)[:,0].reshape(-1,1))\n",
    "\n",
    "# label2_scaler = StandardScaler()\n",
    "# y2_train = label2_scaler.fit_transform(np.array(y_train)[:,1].reshape(-1,1))\n",
    "# y2_test = label2_scaler.transform(np.array(y_test)[:,1].reshape(-1,1))\n",
    "\n",
    "# from sklearn.manifold import SpectralEmbedding, Isomap\n",
    "# # embedding = Isomap(n_components=1)\n",
    "# embedding = SpectralEmbedding(n_components=2)\n",
    "\n",
    "# X_train_transformed = embedding.fit_transform(X_train)\n",
    "# X_test_transformed = embedding.fit_transform(X_test)\n",
    "\n",
    "\n",
    "# virial_model, virial_params, virial_cv_results = CV_GP(X_train_transformed, \n",
    "#                    y2_train, tuned_parameters, 5)\n",
    "\n",
    "# X_test_transformed = embedding.fit_transform(X_test)\n",
    "# y2_hat_trn, y2_std_trn = virial_model.predict(X_train_transformed, return_std=True)\n",
    "# y2_hat_tst, y2_std_tst = virial_model.predict(X_test_transformed, return_std=True)\n"
   ]
  },
  {
   "cell_type": "code",
   "execution_count": 41,
   "metadata": {},
   "outputs": [],
   "source": [
    "# plt.close('all')\n",
    "\n",
    "# fig, ax = plt.subplots()\n",
    "# plt.scatter(label2_scaler.inverse_transform(y2_hat_trn), label2_scaler.inverse_transform(y2_train), alpha=0.5)\n",
    "# plt.plot( [min(label2_scaler.inverse_transform(y2_hat_trn)),max(label2_scaler.inverse_transform(y2_hat_trn))],\n",
    "#          [min(label2_scaler.inverse_transform(y2_train)),max(label2_scaler.inverse_transform(y2_train))] , color='k')\n",
    "# plt.ylabel('actual')\n",
    "# plt.xlabel('predicted')\n",
    "# # plt.legend(['test', 'train',])\n",
    "# plt.title('Virial (train)')\n",
    "# lims = [\n",
    "#     np.min([ax.get_xlim(), ax.get_ylim()]),  # min of both axes\n",
    "#     np.max([ax.get_xlim(), ax.get_ylim()]),  # max of both axes\n",
    "# ]\n",
    "# # now plot both limits against eachother\n",
    "# ax.plot(lims, lims, 'k-', alpha=0.75, zorder=0)\n",
    "\n",
    "\n",
    "\n",
    "# fig, ax = plt.subplots()\n",
    "# plt.scatter(label2_scaler.inverse_transform(y2_hat_tst), label2_scaler.inverse_transform(y2_test), alpha=0.5, color='orange')\n",
    "\n",
    "# lims = [\n",
    "#     np.min([ax.get_xlim(), ax.get_ylim()]),  # min of both axes\n",
    "#     np.max([ax.get_xlim(), ax.get_ylim()]),  # max of both axes\n",
    "# ]\n",
    "# ax.plot(lims, lims, 'k-', alpha=0.75, zorder=0)\n",
    "# plt.ylabel('actual')\n",
    "# plt.xlabel('predicted')\n",
    "# plt.title('Virial (test)')\n"
   ]
  },
  {
   "cell_type": "code",
   "execution_count": null,
   "metadata": {},
   "outputs": [],
   "source": []
  },
  {
   "cell_type": "code",
   "execution_count": null,
   "metadata": {},
   "outputs": [],
   "source": []
  },
  {
   "cell_type": "code",
   "execution_count": null,
   "metadata": {},
   "outputs": [],
   "source": [
    "tuned_parameters = [{\n",
    "    \n",
    "    'kernel': [\n",
    "        # radial basis function kernel with varying correlation length_scale\n",
    "         RBF() + DotProduct()\n",
    "#                DotProduct(0.1), DotProduct(0.5), \n",
    "#                \n",
    "#                Matern(0.01,length_scale_bounds=\"fixed\", nu=0.5), Matern(0.1,length_scale_bounds=\"fixed\",  nu=0.5),\n",
    "#                Matern(0.05,nu=1.5), Matern(0.1,nu=1.5),\n",
    "#                Matern(0.01,nu=2.5), Matern(0.1,nu=2.5),\n",
    "              ], \n",
    "                     # gaussian noise height\n",
    "#                      'alpha': [0.1],\n",
    "                     'n_restarts_optimizer': [20],\n",
    "                    },\n",
    "                   ]"
   ]
  },
  {
   "cell_type": "code",
   "execution_count": 71,
   "metadata": {},
   "outputs": [
    {
     "name": "stderr",
     "output_type": "stream",
     "text": [
      " /Users/brianyoo/anaconda3/envs/pal/lib/python3.8/site-packages/sklearn/gaussian_process/_gpr.py:504: ConvergenceWarning:lbfgs failed to converge (status=1):\n",
      "STOP: TOTAL NO. of f AND g EVALUATIONS EXCEEDS LIMIT.\n",
      "\n",
      "Increase the number of iterations (max_iter) or scale the data as shown in:\n",
      "    https://scikit-learn.org/stable/modules/preprocessing.html\n"
     ]
    }
   ],
   "source": [
    "#fit GP model to adsorption free energies\n",
    "fe_model, fe_params, fe_cv_results = CV_GP(X_train, \n",
    "                   y1_train, tuned_parameters)"
   ]
  },
  {
   "cell_type": "code",
   "execution_count": 72,
   "metadata": {},
   "outputs": [
    {
     "data": {
      "text/plain": [
       "array([-0.30482547])"
      ]
     },
     "execution_count": 72,
     "metadata": {},
     "output_type": "execute_result"
    }
   ],
   "source": [
    "fe_cv_results['mean_test_score']"
   ]
  },
  {
   "cell_type": "code",
   "execution_count": 73,
   "metadata": {},
   "outputs": [
    {
     "data": {
      "text/plain": [
       "{'kernel': RBF(length_scale=1) + DotProduct(sigma_0=1),\n",
       " 'n_restarts_optimizer': 50}"
      ]
     },
     "execution_count": 73,
     "metadata": {},
     "output_type": "execute_result"
    }
   ],
   "source": [
    "fe_params"
   ]
  },
  {
   "cell_type": "code",
   "execution_count": 74,
   "metadata": {
    "scrolled": true
   },
   "outputs": [],
   "source": [
    "y1_hat_trn, y1_std_trn = fe_model.predict(X_train, return_std=True)\n",
    "y1_hat_tst, y1_std_tst = fe_model.predict(X_test, return_std=True)\n",
    "# yhat_trn"
   ]
  },
  {
   "cell_type": "code",
   "execution_count": 75,
   "metadata": {},
   "outputs": [
    {
     "data": {
      "image/png": "[encoded data removed]",
      "text/plain": [
       "<Figure size 432x288 with 2 Axes>"
      ]
     },
     "metadata": {
      "needs_background": "light"
     },
     "output_type": "display_data"
    },
    {
     "data": {
      "image/png": "[encoded data removed]",
      "text/plain": [
       "<Figure size 432x288 with 2 Axes>"
      ]
     },
     "metadata": {
      "needs_background": "light"
     },
     "output_type": "display_data"
    }
   ],
   "source": [
    "import matplotlib as mpl\n",
    "\n",
    "plt.close('all')\n",
    "fig, ax = plt.subplots()\n",
    "sc = plt.scatter(label1_scaler.inverse_transform(y1_hat_trn), \n",
    "                 label1_scaler.inverse_transform(y1_train), \n",
    "                 alpha=0.5, c=y1_std_trn, cmap=plt.cm.coolwarm, \n",
    "                 norm = mpl.colors.Normalize(vmin=0, vmax=1) )\n",
    "lims = [\n",
    "    np.min([ax.get_xlim(), ax.get_ylim()]),  # min of both axes\n",
    "    np.max([ax.get_xlim(), ax.get_ylim()]),  # max of both axes\n",
    "]\n",
    "ax.plot(lims, lims, 'k-', alpha=0.75, zorder=0)\n",
    "plt.ylabel('actual')\n",
    "plt.xlabel('predicted')\n",
    "plt.title('Adsorption FE (train)')\n",
    "\n",
    "cb = plt.colorbar(sc)\n",
    "cb.set_label('Uncertainty', rotation=90)\n",
    "cb.ax.tick_params(size=1)\n",
    "cb.set_ticks([0,0.5,1])\n",
    "\n",
    "fig, ax = plt.subplots()\n",
    "plt.scatter(label1_scaler.inverse_transform(y1_hat_tst), \n",
    "            label1_scaler.inverse_transform(y1_test), \n",
    "            alpha=0.5, c=y1_std_tst, cmap=plt.cm.coolwarm, \n",
    "            norm = mpl.colors.Normalize(vmin=0, vmax=1) )\n",
    "plt.ylabel('actual')\n",
    "plt.xlabel('predicted')\n",
    "plt.title('Adsorption FE (test)')\n",
    "\n",
    "cb = plt.colorbar(sc)\n",
    "cb.set_label('Uncertainty', rotation=90)\n",
    "cb.ax.tick_params(size=1)\n",
    "cb.set_ticks([0,0.5,1])\n",
    "lims = [\n",
    "    np.min([ax.get_xlim(), ax.get_ylim()]),  # min of both axes\n",
    "    np.max([ax.get_xlim(), ax.get_ylim()]),  # max of both axes\n",
    "]\n",
    "ax.plot(lims, lims, 'k-', alpha=0.75, zorder=0)\n",
    "\n",
    "plt.show()\n",
    "# plt.xlim(-0.5,0.5)"
   ]
  },
  {
   "cell_type": "code",
   "execution_count": null,
   "metadata": {},
   "outputs": [],
   "source": []
  },
  {
   "cell_type": "code",
   "execution_count": null,
   "metadata": {},
   "outputs": [],
   "source": []
  },
  {
   "cell_type": "code",
   "execution_count": null,
   "metadata": {},
   "outputs": [],
   "source": []
  },
  {
   "cell_type": "markdown",
   "metadata": {},
   "source": [
    "## Test a simple sparse GP (GPy) with no interaction between the outputs."
   ]
  },
  {
   "cell_type": "markdown",
   "metadata": {},
   "source": [
    "No interaction means we us no coregularization matrix and we can use either sklearn or GPy. \n",
    "\n",
    "I will just use RBF for now as I do not know better. Also, I will standardize the labels. "
   ]
  },
  {
   "cell_type": "markdown",
   "metadata": {},
   "source": [
    "### Predict Gibbs energy"
   ]
  },
  {
   "cell_type": "code",
   "execution_count": null,
   "metadata": {},
   "outputs": [],
   "source": [
    "K_simple = GPy.kern.Matern32(NFEAT) \n",
    "m_gibbs = GPy.models.SparseGPRegression(X_train, y_train[:,0].reshape(-1,1), \n",
    "                                                kernel=K_simple, num_inducing=500)"
   ]
  },
  {
   "cell_type": "code",
   "execution_count": null,
   "metadata": {},
   "outputs": [],
   "source": [
    "# m_gibbs.optimize()"
   ]
  },
  {
   "cell_type": "code",
   "execution_count": null,
   "metadata": {},
   "outputs": [],
   "source": [
    "prediction = m_gibbs.predict(X_test)"
   ]
  },
  {
   "cell_type": "code",
   "execution_count": null,
   "metadata": {},
   "outputs": [],
   "source": [
    "plt.scatter(prediction[0].reshape(-1,1), y_test[:,0].reshape(-1,1))\n",
    "plt.xlabel('normalized Gibbs free energy predicted')\n",
    "plt.ylabel('normalized Gibbs free energy true')"
   ]
  },
  {
   "cell_type": "markdown",
   "metadata": {},
   "source": [
    "## Predict the virial"
   ]
  },
  {
   "cell_type": "code",
   "execution_count": null,
   "metadata": {},
   "outputs": [],
   "source": [
    "K_simple = GPy.kern.Matern32(NFEAT) \n",
    "m_virial = GPy.models.SparseGPRegression(X_train, y_train[:,1].reshape(-1,1), \n",
    "                                                kernel=K_simple, num_inducing=500)"
   ]
  },
  {
   "cell_type": "code",
   "execution_count": null,
   "metadata": {},
   "outputs": [],
   "source": [
    "m_virial.optimize()"
   ]
  },
  {
   "cell_type": "code",
   "execution_count": null,
   "metadata": {},
   "outputs": [],
   "source": [
    "prediction = m_virial.predict(X_test)"
   ]
  },
  {
   "cell_type": "code",
   "execution_count": null,
   "metadata": {},
   "outputs": [],
   "source": [
    "plt.scatter(prediction[0].reshape(-1,1), y_test[:,0].reshape(-1,1))\n",
    "plt.xlim(-0.5,0.5)"
   ]
  },
  {
   "cell_type": "markdown",
   "metadata": {},
   "source": [
    "## Test a simple sparse GP with coregionalization"
   ]
  },
  {
   "cell_type": "markdown",
   "metadata": {},
   "source": [
    "I would expect that coregionalization helps as there is some common physics between the Gibbs energy and the virial ..."
   ]
  },
  {
   "cell_type": "code",
   "execution_count": null,
   "metadata": {},
   "outputs": [],
   "source": [
    "NFEAT = X_train.shape[1]"
   ]
  },
  {
   "cell_type": "code",
   "execution_count": null,
   "metadata": {},
   "outputs": [],
   "source": [
    "K = GPy.kern.Matern32(NFEAT) \n",
    "icm = GPy.util.multioutput.ICM(input_dim=NFEAT,num_outputs=2,kernel=K)\n",
    "m = GPy.models.SparseGPCoregionalizedRegression([X_train, X_train], \n",
    "                                                [y_train[:,0].reshape(-1,1), y_train[:,1].reshape(-1,1)], \n",
    "                                                kernel=icm, num_inducing=500)"
   ]
  },
  {
   "cell_type": "code",
   "execution_count": null,
   "metadata": {},
   "outputs": [],
   "source": [
    "m"
   ]
  },
  {
   "cell_type": "code",
   "execution_count": null,
   "metadata": {},
   "outputs": [],
   "source": [
    "m.optimize()"
   ]
  },
  {
   "cell_type": "code",
   "execution_count": null,
   "metadata": {},
   "outputs": [],
   "source": [
    "m.plot(visible_dims=[4])"
   ]
  },
  {
   "cell_type": "code",
   "execution_count": null,
   "metadata": {},
   "outputs": [],
   "source": [
    "m"
   ]
  },
  {
   "cell_type": "markdown",
   "metadata": {},
   "source": [
    "Strange how the inducing points are selected along some feature dimensions ... But nice how it works with little points ;)"
   ]
  },
  {
   "cell_type": "markdown",
   "metadata": {},
   "source": [
    "### Predicting Gibbs"
   ]
  },
  {
   "cell_type": "code",
   "execution_count": null,
   "metadata": {},
   "outputs": [],
   "source": [
    "newX = np.hstack([X_test,0 * np.ones_like(X_test)])\n",
    "mu, var =m.predict(newX,Y_metadata={'output_index':0 * np.ones((newX.shape[0],1)).astype(int)})"
   ]
  },
  {
   "cell_type": "code",
   "execution_count": null,
   "metadata": {},
   "outputs": [],
   "source": [
    "plt.scatter(mu1, y_test[:,0])\n",
    "plt.xlabel('predicted')\n",
    "plt.ylabel('actual')"
   ]
  },
  {
   "cell_type": "markdown",
   "metadata": {},
   "source": [
    "The Gibbs energy prediction seems reasonable to me."
   ]
  },
  {
   "cell_type": "markdown",
   "metadata": {},
   "source": [
    "### Predicting Virial"
   ]
  },
  {
   "cell_type": "code",
   "execution_count": null,
   "metadata": {},
   "outputs": [],
   "source": [
    "newX = np.hstack([X_test, 1 * np.ones_like(X_test)])\n",
    "mu, var =m.predict(newX,Y_metadata={'output_index': 1 * np.ones((newX.shape[0],1)).astype(int)})"
   ]
  },
  {
   "cell_type": "code",
   "execution_count": null,
   "metadata": {},
   "outputs": [],
   "source": [
    "plt.scatter(mu, y_test[:,1])\n",
    "plt.xlabel('predicted')\n",
    "plt.ylabel('actual')\n",
    "plt.xlim(-0.5,0.5)"
   ]
  },
  {
   "cell_type": "markdown",
   "metadata": {},
   "source": [
    "The virial seems really bad to me."
   ]
  },
  {
   "cell_type": "code",
   "execution_count": null,
   "metadata": {},
   "outputs": [],
   "source": [
    "joblib.dump(m_gibbs, '../models/matern_gibbs.joblib')"
   ]
  },
  {
   "cell_type": "code",
   "execution_count": null,
   "metadata": {},
   "outputs": [],
   "source": [
    "joblib.dump(m_virial, '../models/matern_virial.joblib')"
   ]
  },
  {
   "cell_type": "code",
   "execution_count": null,
   "metadata": {},
   "outputs": [],
   "source": [
    "joblib.dump(m, '../models/coregionalized.joblib')"
   ]
  },
  {
   "cell_type": "code",
   "execution_count": null,
   "metadata": {},
   "outputs": [],
   "source": []
  }
 ],
 "metadata": {
  "kernelspec": {
   "display_name": "pal",
   "language": "python",
   "name": "pal"
  },
  "language_info": {
   "codemirror_mode": {
    "name": "ipython",
    "version": 3
   },
   "file_extension": ".py",
   "mimetype": "text/x-python",
   "name": "python",
   "nbconvert_exporter": "python",
   "pygments_lexer": "ipython3",
   "version": "3.8.5"
  }
 },
 "nbformat": 4,
 "nbformat_minor": 4
}
