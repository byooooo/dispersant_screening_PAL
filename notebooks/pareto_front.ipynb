{
 "cells": [
  {
   "cell_type": "code",
   "execution_count": 5,
   "metadata": {},
   "outputs": [],
   "source": [
    "import numpy as np\n",
    "import matplotlib.pyplot as plt\n",
    "import pandas as pd\n"
   ]
  },
  {
   "cell_type": "code",
   "execution_count": 19,
   "metadata": {},
   "outputs": [],
   "source": [
    "def identify_pareto(scores):\n",
    "    size = scores.shape[0]\n",
    "    ids = np.arange(size)\n",
    "    pareto_front = np.ones(size, dtype=bool)\n",
    "    for i in range(size):\n",
    "        for j in range(size):\n",
    "            # Check if our 'i' pint is dominated by out 'j' point\n",
    "            if all(scores[j] >= scores[i]) and any(scores[j] > scores[i]):\n",
    "                # j dominates i. Label 'i' point as dominant\n",
    "                pareto_front[i] = 0\n",
    "                break\n",
    "    # Return ids of pareto front\n",
    "    return ids[pareto_front]"
   ]
  },
  {
   "cell_type": "code",
   "execution_count": 9,
   "metadata": {},
   "outputs": [
    {
     "name": "stdout",
     "output_type": "stream",
     "text": [
      "README.md                \u001b[31mX_full_random.csv\u001b[m\u001b[m        \u001b[31mb1-b21_random_virial.csv\u001b[m\u001b[m\r\n",
      "\u001b[31mX_frac_block.csv\u001b[m\u001b[m         \u001b[31mb0_random_deltaG.csv\u001b[m\u001b[m     \u001b[34mfigures\u001b[m\u001b[m\r\n",
      "\u001b[31mX_frac_random.csv\u001b[m\u001b[m        \u001b[31mb0_random_virial.csv\u001b[m\u001b[m     \u001b[34mnotebooks\u001b[m\u001b[m\r\n",
      "\u001b[31mX_full_block.csv\u001b[m\u001b[m         \u001b[31mb1-b21_random_deltaG.csv\u001b[m\u001b[m\r\n"
     ]
    }
   ],
   "source": [
    "!ls ../"
   ]
  },
  {
   "cell_type": "code",
   "execution_count": 14,
   "metadata": {},
   "outputs": [],
   "source": [
    "b0_dG = pd.read_csv('../b0_random_deltaG.csv')\n",
    "b0_A2 = pd.read_csv('../b0_random_virial.csv')"
   ]
  },
  {
   "cell_type": "code",
   "execution_count": 18,
   "metadata": {},
   "outputs": [
    {
     "data": {
      "text/html": [
       "<div>\n",
       "<style scoped>\n",
       "    .dataframe tbody tr th:only-of-type {\n",
       "        vertical-align: middle;\n",
       "    }\n",
       "\n",
       "    .dataframe tbody tr th {\n",
       "        vertical-align: top;\n",
       "    }\n",
       "\n",
       "    .dataframe thead th {\n",
       "        text-align: right;\n",
       "    }\n",
       "</style>\n",
       "<table border=\"1\" class=\"dataframe\">\n",
       "  <thead>\n",
       "    <tr style=\"text-align: right;\">\n",
       "      <th></th>\n",
       "      <th>deltaGmin</th>\n",
       "      <th>system</th>\n",
       "      <th>polymer</th>\n",
       "    </tr>\n",
       "  </thead>\n",
       "  <tbody>\n",
       "    <tr>\n",
       "      <th>0</th>\n",
       "      <td>-14.362045</td>\n",
       "      <td>fe_random_batch0_0</td>\n",
       "      <td>0</td>\n",
       "    </tr>\n",
       "    <tr>\n",
       "      <th>1</th>\n",
       "      <td>-13.811065</td>\n",
       "      <td>fe_random_batch0_0</td>\n",
       "      <td>1</td>\n",
       "    </tr>\n",
       "    <tr>\n",
       "      <th>2</th>\n",
       "      <td>-14.048944</td>\n",
       "      <td>fe_random_batch0_0</td>\n",
       "      <td>2</td>\n",
       "    </tr>\n",
       "    <tr>\n",
       "      <th>3</th>\n",
       "      <td>-13.727992</td>\n",
       "      <td>fe_random_batch0_0</td>\n",
       "      <td>3</td>\n",
       "    </tr>\n",
       "    <tr>\n",
       "      <th>4</th>\n",
       "      <td>-14.289432</td>\n",
       "      <td>fe_random_batch0_0</td>\n",
       "      <td>4</td>\n",
       "    </tr>\n",
       "  </tbody>\n",
       "</table>\n",
       "</div>"
      ],
      "text/plain": [
       "   deltaGmin              system  polymer\n",
       "0 -14.362045  fe_random_batch0_0        0\n",
       "1 -13.811065  fe_random_batch0_0        1\n",
       "2 -14.048944  fe_random_batch0_0        2\n",
       "3 -13.727992  fe_random_batch0_0        3\n",
       "4 -14.289432  fe_random_batch0_0        4"
      ]
     },
     "execution_count": 18,
     "metadata": {},
     "output_type": "execute_result"
    }
   ],
   "source": [
    "b0_dG.head()"
   ]
  },
  {
   "cell_type": "code",
   "execution_count": 34,
   "metadata": {},
   "outputs": [
    {
     "data": {
      "text/html": [
       "<div>\n",
       "<style scoped>\n",
       "    .dataframe tbody tr th:only-of-type {\n",
       "        vertical-align: middle;\n",
       "    }\n",
       "\n",
       "    .dataframe tbody tr th {\n",
       "        vertical-align: top;\n",
       "    }\n",
       "\n",
       "    .dataframe thead th {\n",
       "        text-align: right;\n",
       "    }\n",
       "</style>\n",
       "<table border=\"1\" class=\"dataframe\">\n",
       "  <thead>\n",
       "    <tr style=\"text-align: right;\">\n",
       "      <th></th>\n",
       "      <th>polymer</th>\n",
       "      <th>system</th>\n",
       "      <th>A2_unnormalized</th>\n",
       "      <th>deltaGmin</th>\n",
       "      <th>N</th>\n",
       "      <th>A2_normalized</th>\n",
       "    </tr>\n",
       "  </thead>\n",
       "  <tbody>\n",
       "    <tr>\n",
       "      <th>0</th>\n",
       "      <td>0</td>\n",
       "      <td>fe_virial_batch0</td>\n",
       "      <td>-98.035164</td>\n",
       "      <td>0</td>\n",
       "      <td>24</td>\n",
       "      <td>-0.170200</td>\n",
       "    </tr>\n",
       "    <tr>\n",
       "      <th>1</th>\n",
       "      <td>1</td>\n",
       "      <td>fe_virial_batch0</td>\n",
       "      <td>-68.708632</td>\n",
       "      <td>0</td>\n",
       "      <td>24</td>\n",
       "      <td>-0.119286</td>\n",
       "    </tr>\n",
       "    <tr>\n",
       "      <th>2</th>\n",
       "      <td>2</td>\n",
       "      <td>fe_virial_batch0</td>\n",
       "      <td>-51.421653</td>\n",
       "      <td>0</td>\n",
       "      <td>24</td>\n",
       "      <td>-0.089274</td>\n",
       "    </tr>\n",
       "    <tr>\n",
       "      <th>3</th>\n",
       "      <td>3</td>\n",
       "      <td>fe_virial_batch0</td>\n",
       "      <td>-12.837143</td>\n",
       "      <td>0</td>\n",
       "      <td>24</td>\n",
       "      <td>-0.022287</td>\n",
       "    </tr>\n",
       "    <tr>\n",
       "      <th>4</th>\n",
       "      <td>4</td>\n",
       "      <td>fe_virial_batch0</td>\n",
       "      <td>13.578276</td>\n",
       "      <td>0</td>\n",
       "      <td>24</td>\n",
       "      <td>0.023573</td>\n",
       "    </tr>\n",
       "  </tbody>\n",
       "</table>\n",
       "</div>"
      ],
      "text/plain": [
       "   polymer            system  A2_unnormalized  deltaGmin   N  A2_normalized\n",
       "0        0  fe_virial_batch0       -98.035164          0  24      -0.170200\n",
       "1        1  fe_virial_batch0       -68.708632          0  24      -0.119286\n",
       "2        2  fe_virial_batch0       -51.421653          0  24      -0.089274\n",
       "3        3  fe_virial_batch0       -12.837143          0  24      -0.022287\n",
       "4        4  fe_virial_batch0        13.578276          0  24       0.023573"
      ]
     },
     "execution_count": 34,
     "metadata": {},
     "output_type": "execute_result"
    }
   ],
   "source": [
    "b0_A2.head()"
   ]
  },
  {
   "cell_type": "code",
   "execution_count": 41,
   "metadata": {},
   "outputs": [],
   "source": [
    "response1 = np.array(b0_A2['A2_normalized'])\n",
    "response2 = -np.array(b0_dG['deltaGmin'])\n",
    "\n",
    "scores = np.column_stack((response1,response2))\n",
    "PF_ids = identify_pareto(scores)"
   ]
  },
  {
   "cell_type": "code",
   "execution_count": 42,
   "metadata": {},
   "outputs": [
    {
     "data": {
      "text/plain": [
       "Text(0, 0.5, '${\\\\Delta}G_{ads}$')"
      ]
     },
     "execution_count": 42,
     "metadata": {},
     "output_type": "execute_result"
    },
    {
     "data": {
      "image/png": "[encoded data removed]",
      "text/plain": [
       "<Figure size 432x288 with 1 Axes>"
      ]
     },
     "metadata": {
      "needs_background": "light"
     },
     "output_type": "display_data"
    }
   ],
   "source": [
    "plt.figure()\n",
    "plt.plot(response1,response2,'o')\n",
    "plt.plot(response1[PF_ids],response2[PF_ids],'o')\n",
    "plt.xlabel('$A_2$',size=20)\n",
    "plt.ylabel('${\\Delta}G_{ads}$',size=20)"
   ]
  },
  {
   "cell_type": "code",
   "execution_count": null,
   "metadata": {},
   "outputs": [],
   "source": []
  }
 ],
 "metadata": {
  "kernelspec": {
   "display_name": "Python 3",
   "language": "python",
   "name": "python3"
  },
  "language_info": {
   "codemirror_mode": {
    "name": "ipython",
    "version": 3
   },
   "file_extension": ".py",
   "mimetype": "text/x-python",
   "name": "python",
   "nbconvert_exporter": "python",
   "pygments_lexer": "ipython3",
   "version": "3.6.8"
  }
 },
 "nbformat": 4,
 "nbformat_minor": 2
}
