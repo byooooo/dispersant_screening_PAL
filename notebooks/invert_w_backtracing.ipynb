{
 "cells": [
  {
   "cell_type": "markdown",
   "metadata": {},
   "source": [
    "Generic backtracing code https://www.geeksforgeeks.org/backtracking-algorithms/"
   ]
  },
  {
   "cell_type": "code",
   "execution_count": 280,
   "metadata": {},
   "outputs": [],
   "source": [
    "def solve(chars, safe_up_to):\n",
    "    \"\"\"Finds a solution to a backtracking problem. Based on  https://www.geeksforgeeks.org/backtracking-algorithms/\n",
    "\n",
    "    chars     -- a sequence of values to try, in order. For a map coloring\n",
    "                  problem, this may be a list of colors, such as ['red',\n",
    "                  'green', 'yellow', 'purple']\n",
    "    safe_up_to -- a function with two arguments, solution and position, that\n",
    "                  returns whether the values assigned to slots 0..pos in\n",
    "                  the solution list, satisfy the problem constraints.\n",
    "    size       -- the total number of “slots” you are trying to fill\n",
    "\n",
    "    Return the solution as a list of values.\n",
    "    \"\"\"\n",
    "    values = chars.copy()\n",
    "    size = len(values)\n",
    "    solution = [None] * size\n",
    "    def extend_solution(position):\n",
    "        if values: \n",
    "            for i, value in enumerate(values):\n",
    "                solution[position] = value\n",
    "                if safe_up_to(solution, position):    \n",
    "                    _ = values.pop(i)\n",
    "                    if position >= size-1 or extend_solution(position+1):\n",
    "                        return solution\n",
    "        return solution\n",
    "\n",
    "    return extend_solution(0)"
   ]
  },
  {
   "cell_type": "code",
   "execution_count": 276,
   "metadata": {},
   "outputs": [],
   "source": [
    "test = {'max_[Ta]': 5.0,\n",
    " 'max_[W]': 5.0,\n",
    " 'max_[R]': 32.0,\n",
    " 'max_[Tr]': 2.0,\n",
    " '[W]': 0.10425227257070213,\n",
    " '[Tr]': 0.05218413196461069,\n",
    " '[Ta]': 0.11461193780466528,\n",
    " '[R]': 0.7182974566793282,\n",
    " 'length': 48.0}\n",
    "\n",
    "\n",
    "test2  ={'max_[Ta]': 22.0,\n",
    " 'max_[W]': 22.0,\n",
    " 'max_[R]': 18.0,\n",
    " 'max_[Tr]': 4.0,\n",
    " '[W]': 0.031419256539234386,\n",
    " '[Tr]': 0.12365332112631244,\n",
    " '[Ta]': 0.468630730800779,\n",
    " '[R]': 0.379081068026744,\n",
    " 'length': 48.0}\n"
   ]
  },
  {
   "cell_type": "code",
   "execution_count": 106,
   "metadata": {},
   "outputs": [],
   "source": [
    "from dispersant_screener.smiles2feat import check_validity\n",
    "from dispersant_screener.featurizer import LinearPolymerSmilesFeaturizer"
   ]
  },
  {
   "cell_type": "code",
   "execution_count": 387,
   "metadata": {},
   "outputs": [],
   "source": [
    "def _cluster_not_too_large(found_features, expected_features, beads=['[W]', '[Ta]', '[R]', '[Tr]']): \n",
    "    for bead in beads: \n",
    "        max_feat = 'max_' + bead\n",
    "        if found_features[max_feat] > expected_features[max_feat]:\n",
    "            return False\n",
    "    return True"
   ]
  },
  {
   "cell_type": "code",
   "execution_count": 361,
   "metadata": {},
   "outputs": [],
   "source": [
    "def _get_available_counts(counter, found_counter): \n",
    "    available = {}\n",
    "    for k,v in counter.items(): \n",
    "        available[k] = v - found_counter[k]\n",
    "        \n",
    "    return available"
   ]
  },
  {
   "cell_type": "code",
   "execution_count": 363,
   "metadata": {},
   "outputs": [],
   "source": [
    "def _cluster_still_possible(available, found_features, expected_features): \n",
    "    beads = list(available.keys()) \n",
    "        \n",
    "    for bead in beads: \n",
    "        max_feat = 'max_' + bead\n",
    "        if (available[bead] < expected_features[max_feat]) & (found_features[max_feat] < expected_features[max_feat]):\n",
    "            return False\n",
    "        \n",
    "    return True"
   ]
  },
  {
   "cell_type": "code",
   "execution_count": 403,
   "metadata": {},
   "outputs": [],
   "source": [
    "import math\n",
    "\n",
    "def _no_unallowed_clusters_form(available, expected_features):\n",
    "    beads = list(available.keys()) \n",
    "    total_available = sum(available.values())  \n",
    "    for bead in beads:\n",
    "        others = total_available - available[bead]\n",
    "        max_feat = 'max_' + bead\n",
    "        max_n = math.floor(available[bead]/expected_features[max_feat])\n",
    "        \n",
    "        if available[bead] > max_n * expected_features[max_feat] - (max_n - 1) * others:\n",
    "            return False\n",
    "        \n",
    "    return True "
   ]
  },
  {
   "cell_type": "code",
   "execution_count": 398,
   "metadata": {},
   "outputs": [],
   "source": [
    "def safe_up_to_full(characters, position, expected_features, chars): \n",
    "    c = characters[:position+1]\n",
    "    smiles = ''.join(c)\n",
    "    \n",
    "    alls = ''.join(chars)\n",
    "    lp = LinearPolymerSmilesFeaturizer(alls)\n",
    "    counter = lp.get_counts(alls, lp.characters)\n",
    "    \n",
    "    lp = LinearPolymerSmilesFeaturizer(smiles)\n",
    "  \n",
    "    \n",
    "    try:\n",
    "        found_features = lp.get_cluster_stats(smiles, lp.replacement_dict)\n",
    "        found_counts = lp.get_counts(smiles, lp.characters)\n",
    "\n",
    "        available = _get_available_counts(counter, found_counts)\n",
    "      \n",
    "        \n",
    "        if not _cluster_not_too_large(found_features, expected_features): \n",
    "            return False\n",
    "        \n",
    "        if not _cluster_still_possible(available, found_features, expected_features):\n",
    "            return False \n",
    "        \n",
    "        if not _no_unallowed_clusters_form(available, expected_features):\n",
    "            return False\n",
    "            \n",
    "    except ZeroDivisionError as e:\n",
    "        return True\n",
    "\n",
    "    \n",
    "    return True"
   ]
  },
  {
   "cell_type": "code",
   "execution_count": 261,
   "metadata": {},
   "outputs": [],
   "source": [
    "from functools import partial"
   ]
  },
  {
   "cell_type": "code",
   "execution_count": 262,
   "metadata": {},
   "outputs": [],
   "source": [
    "smiles = '[Tr][Tr][Tr][R][Ta][R][Tr]'"
   ]
  },
  {
   "cell_type": "code",
   "execution_count": 257,
   "metadata": {},
   "outputs": [
    {
     "data": {
      "text/plain": [
       "{'[W]': 0, '[Tr]': 4, '[Ta]': 1, '[R]': 2}"
      ]
     },
     "execution_count": 257,
     "metadata": {},
     "output_type": "execute_result"
    }
   ],
   "source": [
    "lp = LinearPolymerSmilesFeaturizer(smiles)\n",
    "lp.get_counts(smiles, lp.characters)"
   ]
  },
  {
   "cell_type": "code",
   "execution_count": 258,
   "metadata": {},
   "outputs": [],
   "source": [
    "from dispersant_screener.smiles2feat import get_building_blocks"
   ]
  },
  {
   "cell_type": "code",
   "execution_count": null,
   "metadata": {},
   "outputs": [],
   "source": [
    "def split_up_chars(chars): \n",
    "    "
   ]
  },
  {
   "cell_type": "code",
   "execution_count": 438,
   "metadata": {},
   "outputs": [
    {
     "data": {
      "text/plain": [
       "['[Tr]',\n",
       " '[Tr]',\n",
       " '[W][W][W][W][W][W][W][W][W][W][W][W][W][W][W][W][W][W][W][W][W][W]',\n",
       " '[Tr][Tr][Tr][Tr]',\n",
       " '[Ta][Ta][Ta][Ta][Ta][Ta][Ta][Ta][Ta][Ta][Ta][Ta][Ta][Ta][Ta][Ta][Ta][Ta][Ta][Ta][Ta][Ta]',\n",
       " '[R][R][R][R][R][R][R][R][R][R][R][R][R][R][R][R][R][R]']"
      ]
     },
     "execution_count": 438,
     "metadata": {},
     "output_type": "execute_result"
    }
   ],
   "source": [
    "chars = get_building_blocks(feat_dict=test2, cap=False, bundle=False)\n",
    "safe_up_to = partial(safe_up_to_full, expected_features=test2, chars=chars)\n",
    "solve(chars, safe_up_to)"
   ]
  },
  {
   "cell_type": "code",
   "execution_count": null,
   "metadata": {},
   "outputs": [],
   "source": []
  },
  {
   "cell_type": "code",
   "execution_count": null,
   "metadata": {},
   "outputs": [],
   "source": []
  }
 ],
 "metadata": {
  "kernelspec": {
   "display_name": "Python 3",
   "language": "python",
   "name": "python3"
  },
  "language_info": {
   "codemirror_mode": {
    "name": "ipython",
    "version": 3
   },
   "file_extension": ".py",
   "mimetype": "text/x-python",
   "name": "python",
   "nbconvert_exporter": "python",
   "pygments_lexer": "ipython3",
   "version": "3.7.0"
  }
 },
 "nbformat": 4,
 "nbformat_minor": 4
}
