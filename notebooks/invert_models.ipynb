{
 "cells": [
  {
   "cell_type": "code",
   "execution_count": 1,
   "metadata": {},
   "outputs": [],
   "source": [
    "import numpy as np\n",
    "import pandas as pd\n",
    "import os \n",
    "from lightgbm import LGBMRegressor\n",
    "from sklearn.model_selection import train_test_split\n",
    "DATADIR = '../data'\n",
    "import sys \n",
    "sys.path.append('../')\n",
    "\n",
    "from dispersant_screener.utils import plot_parity\n",
    "# Some more magic so that the notebook will reload external python modules;\n",
    "# see http://stackoverflow.com/questions/1907993/autoreload-of-modules-in-ipython\n",
    "%load_ext autoreload\n",
    "%autoreload 2"
   ]
  },
  {
   "cell_type": "code",
   "execution_count": 131,
   "metadata": {},
   "outputs": [],
   "source": [
    "FEATURES = [\n",
    "     'max_[Ta]',  'max_[W]', 'max_[R]', 'max_[Tr]', '[W]', '[Tr]', '[Ta]', '[R]', \n",
    "    'length'\n",
    "]"
   ]
  },
  {
   "cell_type": "code",
   "execution_count": 132,
   "metadata": {},
   "outputs": [],
   "source": [
    "FEAT_DICT = dict(zip(FEATURES, range(len(FEATURES))))"
   ]
  },
  {
   "cell_type": "code",
   "execution_count": 233,
   "metadata": {},
   "outputs": [],
   "source": [
    "BEAD_INDICES = [\n",
    "    FEAT_DICT['[W]'], FEAT_DICT['[Ta]'], FEAT_DICT['[Tr]'], FEAT_DICT['[R]'], FEAT_DICT['length']\n",
    "]"
   ]
  },
  {
   "cell_type": "code",
   "execution_count": 234,
   "metadata": {},
   "outputs": [],
   "source": [
    "from pyswarm import pso"
   ]
  },
  {
   "cell_type": "code",
   "execution_count": 235,
   "metadata": {},
   "outputs": [],
   "source": [
    "df_full_factorial_feat = pd.read_csv(os.path.join(DATADIR, 'new_features_full_random.csv'))[FEATURES].values\n",
    "a2 = pd.read_csv(os.path.join(DATADIR, 'b1-b21_random_virial_large_new.csv'))['A2_normalized'].values\n",
    "deltaGMax = pd.read_csv(os.path.join(DATADIR, 'b1-b21_random_virial_large_new.csv'))['A2_normalized'].values\n",
    "gibbs = pd.read_csv(os.path.join(DATADIR, 'b1-b21_random_deltaG.csv'))['deltaGmin'].values\n",
    "gibbs_max = pd.read_csv(os.path.join(DATADIR, 'b1-b21_random_virial_large_new.csv'))['deltaGmax'].values\n",
    "force_max = pd.read_csv(os.path.join(DATADIR, 'b1-b21_random_virial_large_fit2.csv'))['F_repel_max'].values\n",
    "rg = pd.read_csv(os.path.join(DATADIR, 'rg_results.csv'))['Rg'].values\n",
    "y = np.hstack([\n",
    "    rg.reshape(-1, 1),\n",
    "    gibbs.reshape(-1, 1),\n",
    "    gibbs_max.reshape(-1, 1),\n",
    "    force_max.reshape(-1, 1),\n",
    "    deltaGMax.reshape(-1, 1),\n",
    "    a2.reshape(-1, 1)\n",
    "])\n",
    "assert len(df_full_factorial_feat) == len(a2) == len(gibbs) == len(y)"
   ]
  },
  {
   "cell_type": "code",
   "execution_count": 236,
   "metadata": {},
   "outputs": [
    {
     "name": "stdout",
     "output_type": "stream",
     "text": [
      "max_[Ta]\n",
      "max_[W]\n",
      "max_[R]\n",
      "max_[Tr]\n",
      "[W]\n",
      "[Tr]\n",
      "[Ta]\n",
      "[R]\n",
      "length\n"
     ]
    }
   ],
   "source": [
    "lb = []\n",
    "ub = []\n",
    "\n",
    "for feat in FEATURES: \n",
    "    print(feat)\n",
    "    if 'head' in feat:\n",
    "        lb.append(0)\n",
    "        ub.append(2)\n",
    "    elif feat == 'length': \n",
    "        lb.append(16)\n",
    "        ub.append(30)\n",
    "    elif 'max' in feat: \n",
    "        lb.append(0)\n",
    "        ub.append(8)\n",
    "    else: \n",
    "        lb.append(0)\n",
    "        ub.append(1)"
   ]
  },
  {
   "cell_type": "code",
   "execution_count": 242,
   "metadata": {},
   "outputs": [],
   "source": [
    "def constrain_length(x): \n",
    "    w = x[FEAT_DICT['[W]']]\n",
    "    tr =x[FEAT_DICT['[Tr]']] \n",
    "    ta = x[FEAT_DICT['[Ta]']]\n",
    "    r = x[FEAT_DICT['[R]']] \n",
    "#     length = w + tr + ta + r\n",
    "#     if np.abs(length - 1) > 0.1:\n",
    "#         return -1\n",
    "    \n",
    "    feat_length = round(x[FEAT_DICT['length']])\n",
    "    if round(w*feat_length) + round(tr*feat_length) + round(ta*feat_length) + round(r*feat_length) != feat_length:\n",
    "        return -1\n",
    "    \n",
    "    return 1"
   ]
  },
  {
   "cell_type": "code",
   "execution_count": 243,
   "metadata": {},
   "outputs": [],
   "source": [
    "def constrain_even(x): \n",
    "    if x[FEAT_DICT['length']] %2 > 0.25: \n",
    "        return -1\n",
    "    return 1"
   ]
  },
  {
   "cell_type": "code",
   "execution_count": 244,
   "metadata": {},
   "outputs": [],
   "source": [
    "def constrain_head_tail(x): \n",
    "    if x[FEAT_DICT['head_tail_[W]']] > x[FEAT_DICT['[W]']]: \n",
    "        return -1\n",
    "    if x[FEAT_DICT['head_tail_[Ta]']] > x[FEAT_DICT['[Ta]']]: \n",
    "        return -1\n",
    "    if x[FEAT_DICT['head_tail_[Tr]']] > x[FEAT_DICT['[Tr]']]: \n",
    "        return -1\n",
    "    if x[FEAT_DICT['head_tail_[R]']] > x[FEAT_DICT['[R]']]: \n",
    "        return -1\n",
    "    return 1"
   ]
  },
  {
   "cell_type": "code",
   "execution_count": 245,
   "metadata": {},
   "outputs": [],
   "source": [
    "def constrain_cluster(x): \n",
    "    if x[FEAT_DICT['max_[W]']] > x[FEAT_DICT['[W]']] * x[FEAT_DICT['length']]: \n",
    "        return -1\n",
    "    if x[FEAT_DICT['max_[Ta]']] > x[FEAT_DICT['[Ta]']] * x[FEAT_DICT['length']]: \n",
    "        return -1\n",
    "    if x[FEAT_DICT['max_[Tr]']] > x[FEAT_DICT['[Tr]']] * x[FEAT_DICT['length']]: \n",
    "        return -1\n",
    "    if x[FEAT_DICT['max_[R]']] > x[FEAT_DICT['[R]']] * x[FEAT_DICT['length']]: \n",
    "        return -1\n",
    "    \n",
    "    return 1"
   ]
  },
  {
   "cell_type": "code",
   "execution_count": 246,
   "metadata": {},
   "outputs": [],
   "source": [
    "def constraints(x, *args):\n",
    "    a = constrain_length(x)\n",
    "    b = constrain_cluster(x)\n",
    "    #c = constrain_even(x)\n",
    "    return [a, b]"
   ]
  },
  {
   "cell_type": "code",
   "execution_count": 247,
   "metadata": {},
   "outputs": [],
   "source": [
    "target = y[:,1] * -1"
   ]
  },
  {
   "cell_type": "code",
   "execution_count": 220,
   "metadata": {},
   "outputs": [],
   "source": [
    "THRESHOLD = target.max() "
   ]
  },
  {
   "cell_type": "code",
   "execution_count": 85,
   "metadata": {},
   "outputs": [
    {
     "data": {
      "text/plain": [
       "20.673496088888907"
      ]
     },
     "execution_count": 85,
     "metadata": {},
     "output_type": "execute_result"
    }
   ],
   "source": [
    "THRESHOLD"
   ]
  },
  {
   "cell_type": "code",
   "execution_count": 190,
   "metadata": {},
   "outputs": [],
   "source": [
    "def objective(x):\n",
    "    y = MODEL.predict(x.reshape(1,-1))\n",
    "    \n",
    "    int_sum = np.array([round(i) for i in x[BEAD_INDICES]])\n",
    "    regularizer = np.linalg.norm(x[BEAD_INDICES]-int_sum)\n",
    "    regularizer_noverly = 1/ (np.min(np.linalg.norm(x - X_train, axis=1)))**2\n",
    "    \n",
    "    return - y + 4 * regularizer**2 +  regularizer_noverly"
   ]
  },
  {
   "cell_type": "code",
   "execution_count": 87,
   "metadata": {},
   "outputs": [],
   "source": [
    "# https://app.wandb.ai/kjappelbaum/dispersant_screener/runs/wog4qfb2/overview?workspace=user-kjappelbaum\n",
    "config_1 ={\n",
    "    \"max_depth\":  73,\n",
    "    \"reg_alpha\": 1.392732983015451,\n",
    "    \"subsample\":  0.5009306968568509,\n",
    "    \"num_leaves\":  6,\n",
    "    \"reg_lambda\": 1.0595847294980203,\n",
    "    \"n_estimators\":  461,\n",
    "    \"colsample_bytree\": 0.966043658485258,\n",
    "    \"min_child_weight\": 0.0039362945584385705\n",
    "}"
   ]
  },
  {
   "cell_type": "code",
   "execution_count": 18,
   "metadata": {},
   "outputs": [],
   "source": [
    "X_train, X_test, y_train, y_test = train_test_split(df_full_factorial_feat, target, train_size=0.8)\n"
   ]
  },
  {
   "cell_type": "code",
   "execution_count": 19,
   "metadata": {},
   "outputs": [],
   "source": [
    "lgbm_1 = LGBMRegressor(**config_1)"
   ]
  },
  {
   "cell_type": "code",
   "execution_count": 20,
   "metadata": {},
   "outputs": [
    {
     "data": {
      "text/plain": [
       "LGBMRegressor(boosting_type='gbdt', class_weight=None,\n",
       "              colsample_bytree=0.966043658485258, importance_type='split',\n",
       "              learning_rate=0.1, max_depth=73, min_child_samples=20,\n",
       "              min_child_weight=0.0039362945584385705, min_split_gain=0.0,\n",
       "              n_estimators=461, n_jobs=-1, num_leaves=6, objective=None,\n",
       "              random_state=None, reg_alpha=1.392732983015451,\n",
       "              reg_lambda=1.0595847294980203, silent=True,\n",
       "              subsample=0.5009306968568509, subsample_for_bin=200000,\n",
       "              subsample_freq=0)"
      ]
     },
     "execution_count": 20,
     "metadata": {},
     "output_type": "execute_result"
    }
   ],
   "source": [
    "lgbm_1.fit(X_train, y_train)"
   ]
  },
  {
   "cell_type": "code",
   "execution_count": 21,
   "metadata": {},
   "outputs": [],
   "source": [
    "train_1_predict = lgbm_1.predict(X_train)\n",
    "test_1_predict = lgbm_1.predict(X_test)"
   ]
  },
  {
   "cell_type": "code",
   "execution_count": 22,
   "metadata": {},
   "outputs": [
    {
     "name": "stderr",
     "output_type": "stream",
     "text": [
      "/Users/kevinmaikjablonka/Dropbox (LSMO)/dispersant_screening_PAL/dispersant_screener/utils.py:28: MatplotlibDeprecationWarning: \n",
      "The set_smart_bounds function was deprecated in Matplotlib 3.2 and will be removed two minor releases later.\n",
      "  a.spines['left'].set_smart_bounds(True)\n",
      "/Users/kevinmaikjablonka/Dropbox (LSMO)/dispersant_screening_PAL/dispersant_screener/utils.py:29: MatplotlibDeprecationWarning: \n",
      "The set_smart_bounds function was deprecated in Matplotlib 3.2 and will be removed two minor releases later.\n",
      "  a.spines['bottom'].set_smart_bounds(True)\n"
     ]
    },
    {
     "data": {
      "image/png": "[encoded data removed]",
      "text/plain": [
       "<Figure size 432x288 with 2 Axes>"
      ]
     },
     "metadata": {
      "needs_background": "light"
     },
     "output_type": "display_data"
    }
   ],
   "source": [
    "plot_parity([(y_train, train_1_predict, [0]*len(y_train)), (y_test, test_1_predict, [0]*len(y_test))],  titles=['train', 'test'])"
   ]
  },
  {
   "cell_type": "code",
   "execution_count": 23,
   "metadata": {},
   "outputs": [],
   "source": [
    "MODEL = lgbm_1 "
   ]
  },
  {
   "cell_type": "code",
   "execution_count": 248,
   "metadata": {},
   "outputs": [
    {
     "name": "stdout",
     "output_type": "stream",
     "text": [
      "Stopping search: Swarm best objective change less than 1e-08\n",
      "Stopping search: maximum iterations reached --> 100\n",
      "However, the optimization couldn't find a feasible design. Sorry\n",
      "Stopping search: maximum iterations reached --> 100\n",
      "Stopping search: maximum iterations reached --> 100\n",
      "Stopping search: maximum iterations reached --> 100\n",
      "Stopping search: maximum iterations reached --> 100\n",
      "However, the optimization couldn't find a feasible design. Sorry\n",
      "Stopping search: maximum iterations reached --> 100\n",
      "However, the optimization couldn't find a feasible design. Sorry\n",
      "Stopping search: maximum iterations reached --> 100\n",
      "Stopping search: Swarm best objective change less than 1e-08\n",
      "Stopping search: maximum iterations reached --> 100\n",
      "Stopping search: Swarm best position change less than 1e-08\n",
      "Stopping search: maximum iterations reached --> 100\n",
      "Stopping search: maximum iterations reached --> 100\n",
      "Stopping search: maximum iterations reached --> 100\n",
      "However, the optimization couldn't find a feasible design. Sorry\n",
      "Stopping search: maximum iterations reached --> 100\n",
      "However, the optimization couldn't find a feasible design. Sorry\n",
      "Stopping search: maximum iterations reached --> 100\n",
      "However, the optimization couldn't find a feasible design. Sorry\n",
      "Stopping search: maximum iterations reached --> 100\n",
      "Stopping search: maximum iterations reached --> 100\n",
      "Stopping search: maximum iterations reached --> 100\n",
      "However, the optimization couldn't find a feasible design. Sorry\n",
      "Stopping search: maximum iterations reached --> 100\n",
      "However, the optimization couldn't find a feasible design. Sorry\n",
      "Stopping search: maximum iterations reached --> 100\n",
      "However, the optimization couldn't find a feasible design. Sorry\n",
      "Stopping search: maximum iterations reached --> 100\n",
      "Stopping search: maximum iterations reached --> 100\n",
      "Stopping search: maximum iterations reached --> 100\n",
      "However, the optimization couldn't find a feasible design. Sorry\n",
      "Stopping search: maximum iterations reached --> 100\n",
      "Stopping search: maximum iterations reached --> 100\n",
      "However, the optimization couldn't find a feasible design. Sorry\n",
      "Stopping search: maximum iterations reached --> 100\n",
      "Stopping search: maximum iterations reached --> 100\n",
      "However, the optimization couldn't find a feasible design. Sorry\n",
      "Stopping search: maximum iterations reached --> 100\n",
      "Stopping search: maximum iterations reached --> 100\n",
      "However, the optimization couldn't find a feasible design. Sorry\n",
      "Stopping search: maximum iterations reached --> 100\n",
      "Stopping search: maximum iterations reached --> 100\n",
      "However, the optimization couldn't find a feasible design. Sorry\n",
      "Stopping search: maximum iterations reached --> 100\n",
      "However, the optimization couldn't find a feasible design. Sorry\n",
      "Stopping search: maximum iterations reached --> 100\n",
      "However, the optimization couldn't find a feasible design. Sorry\n",
      "Stopping search: maximum iterations reached --> 100\n",
      "Stopping search: maximum iterations reached --> 100\n",
      "Stopping search: maximum iterations reached --> 100\n",
      "However, the optimization couldn't find a feasible design. Sorry\n",
      "Stopping search: maximum iterations reached --> 100\n",
      "Stopping search: maximum iterations reached --> 100\n",
      "Stopping search: maximum iterations reached --> 100\n",
      "However, the optimization couldn't find a feasible design. Sorry\n",
      "Stopping search: maximum iterations reached --> 100\n",
      "However, the optimization couldn't find a feasible design. Sorry\n",
      "Stopping search: maximum iterations reached --> 100\n",
      "However, the optimization couldn't find a feasible design. Sorry\n",
      "Stopping search: maximum iterations reached --> 100\n",
      "Stopping search: maximum iterations reached --> 100\n",
      "Stopping search: Swarm best objective change less than 1e-08\n",
      "Stopping search: maximum iterations reached --> 100\n",
      "However, the optimization couldn't find a feasible design. Sorry\n",
      "Stopping search: maximum iterations reached --> 100\n",
      "Stopping search: maximum iterations reached --> 100\n",
      "However, the optimization couldn't find a feasible design. Sorry\n",
      "Stopping search: maximum iterations reached --> 100\n",
      "However, the optimization couldn't find a feasible design. Sorry\n",
      "Stopping search: maximum iterations reached --> 100\n",
      "However, the optimization couldn't find a feasible design. Sorry\n",
      "Stopping search: maximum iterations reached --> 100\n",
      "However, the optimization couldn't find a feasible design. Sorry\n",
      "Stopping search: maximum iterations reached --> 100\n",
      "Stopping search: maximum iterations reached --> 100\n",
      "However, the optimization couldn't find a feasible design. Sorry\n",
      "Stopping search: maximum iterations reached --> 100\n",
      "However, the optimization couldn't find a feasible design. Sorry\n",
      "Stopping search: maximum iterations reached --> 100\n",
      "Stopping search: maximum iterations reached --> 100\n",
      "Stopping search: maximum iterations reached --> 100\n",
      "However, the optimization couldn't find a feasible design. Sorry\n",
      "Stopping search: maximum iterations reached --> 100\n",
      "Stopping search: maximum iterations reached --> 100\n",
      "However, the optimization couldn't find a feasible design. Sorry\n",
      "Stopping search: maximum iterations reached --> 100\n",
      "Stopping search: Swarm best objective change less than 1e-08\n",
      "Stopping search: maximum iterations reached --> 100\n",
      "However, the optimization couldn't find a feasible design. Sorry\n",
      "Stopping search: maximum iterations reached --> 100\n",
      "However, the optimization couldn't find a feasible design. Sorry\n",
      "Stopping search: maximum iterations reached --> 100\n",
      "However, the optimization couldn't find a feasible design. Sorry\n",
      "Stopping search: maximum iterations reached --> 100\n",
      "However, the optimization couldn't find a feasible design. Sorry\n",
      "Stopping search: maximum iterations reached --> 100\n",
      "Stopping search: maximum iterations reached --> 100\n",
      "Stopping search: maximum iterations reached --> 100\n",
      "However, the optimization couldn't find a feasible design. Sorry\n",
      "Stopping search: maximum iterations reached --> 100\n",
      "Stopping search: maximum iterations reached --> 100\n",
      "Stopping search: maximum iterations reached --> 100\n",
      "Stopping search: maximum iterations reached --> 100\n",
      "Stopping search: maximum iterations reached --> 100\n",
      "However, the optimization couldn't find a feasible design. Sorry\n",
      "Stopping search: maximum iterations reached --> 100\n",
      "However, the optimization couldn't find a feasible design. Sorry\n",
      "Stopping search: maximum iterations reached --> 100\n",
      "Stopping search: maximum iterations reached --> 100\n",
      "However, the optimization couldn't find a feasible design. Sorry\n",
      "Stopping search: maximum iterations reached --> 100\n",
      "However, the optimization couldn't find a feasible design. Sorry\n",
      "Stopping search: maximum iterations reached --> 100\n",
      "However, the optimization couldn't find a feasible design. Sorry\n",
      "Stopping search: maximum iterations reached --> 100\n",
      "Stopping search: maximum iterations reached --> 100\n",
      "Stopping search: maximum iterations reached --> 100\n",
      "However, the optimization couldn't find a feasible design. Sorry\n",
      "Stopping search: maximum iterations reached --> 100\n",
      "However, the optimization couldn't find a feasible design. Sorry\n",
      "Stopping search: maximum iterations reached --> 100\n",
      "Stopping search: maximum iterations reached --> 100\n",
      "Stopping search: maximum iterations reached --> 100\n",
      "Stopping search: maximum iterations reached --> 100\n",
      "However, the optimization couldn't find a feasible design. Sorry\n",
      "Stopping search: maximum iterations reached --> 100\n",
      "Stopping search: maximum iterations reached --> 100\n",
      "However, the optimization couldn't find a feasible design. Sorry\n",
      "Stopping search: maximum iterations reached --> 100\n",
      "However, the optimization couldn't find a feasible design. Sorry\n",
      "Stopping search: maximum iterations reached --> 100\n",
      "However, the optimization couldn't find a feasible design. Sorry\n",
      "Stopping search: maximum iterations reached --> 100\n",
      "However, the optimization couldn't find a feasible design. Sorry\n",
      "Stopping search: Swarm best objective change less than 1e-08\n",
      "Stopping search: maximum iterations reached --> 100\n",
      "However, the optimization couldn't find a feasible design. Sorry\n",
      "Stopping search: maximum iterations reached --> 100\n",
      "However, the optimization couldn't find a feasible design. Sorry\n",
      "Stopping search: maximum iterations reached --> 100\n",
      "However, the optimization couldn't find a feasible design. Sorry\n",
      "Stopping search: maximum iterations reached --> 100\n",
      "Stopping search: maximum iterations reached --> 100\n",
      "However, the optimization couldn't find a feasible design. Sorry\n",
      "Stopping search: maximum iterations reached --> 100\n",
      "Stopping search: maximum iterations reached --> 100\n",
      "However, the optimization couldn't find a feasible design. Sorry\n",
      "Stopping search: maximum iterations reached --> 100\n",
      "However, the optimization couldn't find a feasible design. Sorry\n"
     ]
    }
   ],
   "source": [
    "xopts = []\n",
    "fopts = []\n",
    "for i in range(100):\n",
    "    xopt, fopt = pso(objective, lb, ub, f_ieqcons=constraints, swarmsize=250, omega=0.3, phip=0.8, phig=0.8, maxiter=100)\n",
    "    xopts.append(xopt)\n",
    "    fopts.append(fopt)"
   ]
  },
  {
   "cell_type": "code",
   "execution_count": 249,
   "metadata": {},
   "outputs": [
    {
     "name": "stderr",
     "output_type": "stream",
     "text": [
      "/Users/kevinmaikjablonka/opt/miniconda3/envs/dispersant_basf/lib/python3.7/site-packages/ipykernel_launcher.py:7: MatplotlibDeprecationWarning: \n",
      "The set_smart_bounds function was deprecated in Matplotlib 3.2 and will be removed two minor releases later.\n",
      "  import sys\n",
      "/Users/kevinmaikjablonka/opt/miniconda3/envs/dispersant_basf/lib/python3.7/site-packages/ipykernel_launcher.py:8: MatplotlibDeprecationWarning: \n",
      "The set_smart_bounds function was deprecated in Matplotlib 3.2 and will be removed two minor releases later.\n",
      "  \n"
     ]
    },
    {
     "data": {
      "image/png": "[encoded data removed]",
      "text/plain": [
       "<Figure size 432x288 with 1 Axes>"
      ]
     },
     "metadata": {
      "needs_background": "light"
     },
     "output_type": "display_data"
    }
   ],
   "source": [
    "import matplotlib.pyplot as plt\n",
    "%matplotlib inline\n",
    "\n",
    "fig, ax = plt.subplots(1,1)\n",
    "\n",
    "\n",
    "ax.spines['left'].set_smart_bounds(True)\n",
    "ax.spines['bottom'].set_smart_bounds(True)\n",
    "\n",
    "ax.hist(MODEL.predict(xopts), density=True,  label='PSO')\n",
    "ax.hist(y_train,density=True, alpha=.5, label='database')\n",
    "\n",
    "ax.set_xlabel('$-\\Delta G_\\mathrm{ads}$')\n",
    "ax.legend(loc ='upper left')\n",
    "fig.tight_layout()\n",
    "\n",
    "fig.savefig('deltagads_dist_pso.pdf', bbox_inches='tight')\n"
   ]
  },
  {
   "cell_type": "code",
   "execution_count": 250,
   "metadata": {},
   "outputs": [
    {
     "data": {
      "text/plain": [
       "18.42855344923848"
      ]
     },
     "execution_count": 250,
     "metadata": {},
     "output_type": "execute_result"
    }
   ],
   "source": [
    "MODEL.predict(xopts).max()"
   ]
  },
  {
   "cell_type": "code",
   "execution_count": 251,
   "metadata": {},
   "outputs": [
    {
     "data": {
      "text/plain": [
       "{'max_[Ta]': 4.661168445313891,\n",
       " 'max_[W]': 5.062605211625293,\n",
       " 'max_[R]': 4.099584520043475,\n",
       " 'max_[Tr]': 2.5552397094398973,\n",
       " '[W]': 0.22391349441290728,\n",
       " '[Tr]': 0.11607192918535714,\n",
       " '[Ta]': 0.3038606892475861,\n",
       " '[R]': 0.3550456165792838,\n",
       " 'length': 25.999961713737843}"
      ]
     },
     "execution_count": 251,
     "metadata": {},
     "output_type": "execute_result"
    }
   ],
   "source": [
    "dict(zip(FEATURES, xopts[30]))"
   ]
  },
  {
   "cell_type": "code",
   "execution_count": 252,
   "metadata": {},
   "outputs": [],
   "source": [
    "feat_dicts = []\n",
    "\n",
    "for xopt_ in xopts: \n",
    "    feat_dicts.append(dict(zip(FEATURES, xopt_)))"
   ]
  },
  {
   "cell_type": "code",
   "execution_count": 253,
   "metadata": {},
   "outputs": [],
   "source": [
    "import pickle\n",
    "\n",
    "with open('feat.pkl', 'wb') as fh: \n",
    "    pickle.dump(feat_dicts, fh)"
   ]
  },
  {
   "cell_type": "code",
   "execution_count": null,
   "metadata": {},
   "outputs": [],
   "source": []
  }
 ],
 "metadata": {
  "kernelspec": {
   "display_name": "Python 3",
   "language": "python",
   "name": "python3"
  },
  "language_info": {
   "codemirror_mode": {
    "name": "ipython",
    "version": 3
   },
   "file_extension": ".py",
   "mimetype": "text/x-python",
   "name": "python",
   "nbconvert_exporter": "python",
   "pygments_lexer": "ipython3",
   "version": "3.7.0"
  }
 },
 "nbformat": 4,
 "nbformat_minor": 4
}
