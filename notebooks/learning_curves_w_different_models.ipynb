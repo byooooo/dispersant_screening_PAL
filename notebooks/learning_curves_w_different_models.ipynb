{
 "cells": [
  {
   "cell_type": "markdown",
   "metadata": {},
   "source": [
    "# Create learning curves with different models"
   ]
  },
  {
   "cell_type": "code",
   "execution_count": 101,
   "metadata": {},
   "outputs": [],
   "source": [
    "import os\n",
    "import pandas as pd \n",
    "import numpy as np \n",
    "from sklearn.preprocessing import StandardScaler\n",
    "from sklearn.model_selection import train_test_split\n",
    "\n",
    "from pyepal.models.nt import build_dense_network\n",
    "from pyepal.models.gpr import build_model, build_coregionalized_model, predict_coregionalized, predict, get_matern_52_kernel\n",
    "from pyepal.pal.pal_neural_tangent import _set_one_infinite_width_model, _predict_one_infinite_width_model\n",
    "from pyepal import get_maxmin_samples\n",
    "\n",
    "\n",
    "import matplotlib.pyplot as plt"
   ]
  },
  {
   "cell_type": "code",
   "execution_count": 14,
   "metadata": {},
   "outputs": [],
   "source": [
    "DATADIR = '../data/'\n",
    "\n",
    "TARGETS = ['deltaGmin', 'A2_normalized']\n",
    "\n",
    "FEATURES = [\n",
    "    'num_[W]', 'max_[W]', 'num_[Tr]', 'max_[Tr]', 'num_[Ta]', 'max_[Ta]', 'num_[R]', 'max_[R]', '[W]', '[Tr]', '[Ta]',\n",
    "    '[R]', 'rel_shannon', 'length'\n",
    "]"
   ]
  },
  {
   "cell_type": "code",
   "execution_count": 15,
   "metadata": {},
   "outputs": [],
   "source": [
    "def load_data(n_samples, label_scaling: bool = False):\n",
    "    \"\"\"Take in Brian's data and spit out some numpy arrays for the PAL\"\"\"\n",
    "    df_full_factorial_feat = pd.read_csv(os.path.join(DATADIR, 'new_features_full_random.csv'))[FEATURES].values\n",
    "    a2 = pd.read_csv(os.path.join(DATADIR, 'b1-b21_random_virial_large_new.csv'))['A2_normalized'].values\n",
    "    deltaGMax = pd.read_csv(os.path.join(DATADIR, 'b1-b21_random_virial_large_new.csv'))['A2_normalized'].values  # pylint:disable=unused-variable\n",
    "    gibbs = pd.read_csv(os.path.join(DATADIR, 'b1-b21_random_deltaG.csv'))['deltaGmin'].values * (-1)\n",
    "    gibbs_max = pd.read_csv(os.path.join(DATADIR, 'b1-b21_random_virial_large_new.csv'))['deltaGmax'].values\n",
    "    force_max = pd.read_csv(os.path.join(DATADIR, 'b1-b21_random_virial_large_fit2.csv'))['F_repel_max'].values  # pylint:disable=unused-variable\n",
    "    rg = pd.read_csv(os.path.join(DATADIR, 'rg_results.csv'))['Rg'].values\n",
    "    y = np.hstack([rg.reshape(-1, 1), gibbs.reshape(-1, 1), gibbs_max.reshape(-1, 1)])\n",
    "    assert len(df_full_factorial_feat) == len(a2) == len(gibbs) == len(y)\n",
    "\n",
    "    feat_scaler = StandardScaler()\n",
    "    X = feat_scaler.fit_transform(df_full_factorial_feat)\n",
    "\n",
    "    if label_scaling:\n",
    "        label_scaler = MinMaxScaler()\n",
    "        y = label_scaler.fit_transform(y)\n",
    "\n",
    "    greedy_indices = get_maxmin_samples(X, n_samples)\n",
    "\n",
    "    return X, y, greedy_indices"
   ]
  },
  {
   "cell_type": "code",
   "execution_count": 16,
   "metadata": {},
   "outputs": [],
   "source": [
    "X, y, _ = load_data(10)"
   ]
  },
  {
   "cell_type": "code",
   "execution_count": 110,
   "metadata": {},
   "outputs": [],
   "source": [
    "X_train, X_test, y_train, y_test = train_test_split(X, y, train_size=0.4)\n",
    "\n",
    "X_scaler = StandardScaler()\n",
    "X_train = X_scaler.fit_transform(X_train)\n",
    "X_test = X_scaler.transform(X_test)\n",
    "\n",
    "y_scaler = StandardScaler()\n",
    "y_train = y_scaler.fit_transform(y_train)\n",
    "y_test = y_scaler.transform(y_test)"
   ]
  },
  {
   "cell_type": "markdown",
   "metadata": {},
   "source": [
    "## 1. Test building the models before we loop over them"
   ]
  },
  {
   "cell_type": "markdown",
   "metadata": {},
   "source": [
    "### 1.1. Neural tangent"
   ]
  },
  {
   "cell_type": "code",
   "execution_count": 111,
   "metadata": {},
   "outputs": [],
   "source": [
    "nt_models = [build_dense_network([8,8,8]), build_dense_network([8,8,8]), build_dense_network([8,8,8])]"
   ]
  },
  {
   "cell_type": "code",
   "execution_count": 112,
   "metadata": {},
   "outputs": [],
   "source": [
    "for i, model in enumerate(nt_models):\n",
    "    model.predict_fn = _set_one_infinite_width_model(i, nt_models, X_train, y_train, sampled = np.array([[True, True, True]]*len(y_train)))[0]"
   ]
  },
  {
   "cell_type": "code",
   "execution_count": 113,
   "metadata": {},
   "outputs": [],
   "source": [
    "nt_nngp_predictions = []\n",
    "nt_ntk_predictions = []\n",
    "\n",
    "for i, model in enumerate(nt_models):\n",
    "    nt_nngp_predictions.append(_predict_one_infinite_width_model(i, nt_models, X_test, 'nngp'))\n",
    "    nt_ntk_predictions.append(_predict_one_infinite_width_model(i, nt_models, X_test, 'ntk'))"
   ]
  },
  {
   "cell_type": "code",
   "execution_count": 114,
   "metadata": {},
   "outputs": [
    {
     "data": {
      "text/plain": [
       "<matplotlib.collections.PathCollection at 0x7fc5c71558d0>"
      ]
     },
     "execution_count": 114,
     "metadata": {},
     "output_type": "execute_result"
    },
    {
     "data": {
      "image/png": "[encoded data removed]",
      "text/plain": [
       "<Figure size 432x288 with 6 Axes>"
      ]
     },
     "metadata": {
      "needs_background": "light"
     },
     "output_type": "display_data"
    }
   ],
   "source": [
    "fig, ax = plt.subplots(3,2)\n",
    "\n",
    "ax[0,0].scatter(y_test[:,0], nt_ntk_predictions[0][0])\n",
    "ax[0,1].scatter(y_test[:,0], nt_nngp_predictions[0][0])\n",
    "\n",
    "ax[1,0].scatter(y_test[:,1], nt_ntk_predictions[1][0])\n",
    "ax[1,1].scatter(y_test[:,1], nt_nngp_predictions[1][0])\n",
    "\n",
    "ax[2,0].scatter(y_test[:,2], nt_ntk_predictions[2][0])\n",
    "ax[2,1].scatter(y_test[:,2], nt_nngp_predictions[2][0])"
   ]
  },
  {
   "cell_type": "markdown",
   "metadata": {},
   "source": [
    "## 1.2. Coregionalized GPR"
   ]
  },
  {
   "cell_type": "code",
   "execution_count": 115,
   "metadata": {},
   "outputs": [],
   "source": [
    "coregionalized_model_rank_1 = build_coregionalized_model(X_train, y_train, kernel=get_matern_52_kernel(X_train.shape[1], ARD=False), w_rank=1)\n",
    "coregionalized_model_rank_2 = build_coregionalized_model(X_train, y_train, kernel=get_matern_52_kernel(X_train.shape[1], ARD=False), w_rank=2)"
   ]
  },
  {
   "cell_type": "code",
   "execution_count": null,
   "metadata": {},
   "outputs": [
    {
     "name": "stdout",
     "output_type": "stream",
     "text": [
      "Optimization restart 1/20, f = -106.77820953843093\n",
      "Optimization restart 2/20, f = -106.77848065360786\n",
      "Optimization restart 3/20, f = -106.77817096132458\n",
      "Optimization restart 4/20, f = -106.77847009876791\n",
      "Optimization restart 5/20, f = -106.77849997440217\n",
      "Optimization restart 6/20, f = -106.77848179202101\n",
      "Optimization restart 7/20, f = -106.77846038389043\n",
      "Optimization restart 8/20, f = -106.77849380651696\n",
      "Optimization restart 9/20, f = -106.77845621520237\n",
      "Optimization restart 10/20, f = -106.7784750912208\n",
      "Optimization restart 11/20, f = -106.77850119824893\n",
      "Optimization restart 12/20, f = -106.77799963559755\n",
      "Optimization restart 13/20, f = -106.77847318105546\n",
      "Optimization restart 14/20, f = -106.77781303604434\n",
      "Optimization restart 15/20, f = -106.77839875182826\n",
      "Optimization restart 16/20, f = -106.77843386671839\n",
      "Optimization restart 17/20, f = -106.77848285070559\n",
      "Optimization restart 18/20, f = -106.77831407395956\n"
     ]
    }
   ],
   "source": [
    "coregionalized_model_rank_1.optimize_restarts(20)\n",
    "coregionalized_model_rank_2.optimize_restarts(20)"
   ]
  },
  {
   "cell_type": "code",
   "execution_count": null,
   "metadata": {},
   "outputs": [],
   "source": [
    "coregionalized_model_rank_2.ICM"
   ]
  },
  {
   "cell_type": "code",
   "execution_count": null,
   "metadata": {},
   "outputs": [],
   "source": [
    "coregionalized_model_rank_1.ICM"
   ]
  },
  {
   "cell_type": "code",
   "execution_count": 103,
   "metadata": {},
   "outputs": [],
   "source": [
    "coregionalized_rank_1_predictions = []\n",
    "coregionalized_rank_2_predictions = []\n",
    "\n",
    "for i in range(3):\n",
    "    coregionalized_rank_1_predictions.append(predict_coregionalized(coregionalized_model_rank_1, X_test, i))\n",
    "    coregionalized_rank_2_predictions.append(predict_coregionalized(coregionalized_model_rank_2, X_test, i))"
   ]
  },
  {
   "cell_type": "code",
   "execution_count": 105,
   "metadata": {},
   "outputs": [
    {
     "data": {
      "text/plain": [
       "<matplotlib.collections.PathCollection at 0x7fc5c5f99690>"
      ]
     },
     "execution_count": 105,
     "metadata": {},
     "output_type": "execute_result"
    },
    {
     "data": {
      "image/png": "[encoded data removed]",
      "text/plain": [
       "<Figure size 432x288 with 6 Axes>"
      ]
     },
     "metadata": {
      "needs_background": "light"
     },
     "output_type": "display_data"
    }
   ],
   "source": [
    "fig, ax = plt.subplots(3,2)\n",
    "\n",
    "ax[0,0].scatter(y_test[:,0], coregionalized_rank_1_predictions[0][0])\n",
    "ax[0,1].scatter(y_test[:,0], coregionalized_rank_2_predictions[0][0])\n",
    "\n",
    "ax[1,0].scatter(y_test[:,1], coregionalized_rank_1_predictions[1][0])\n",
    "ax[1,1].scatter(y_test[:,1], coregionalized_rank_2_predictions[1][0])\n",
    "\n",
    "ax[2,0].scatter(y_test[:,2], coregionalized_rank_1_predictions[2][0])\n",
    "ax[2,1].scatter(y_test[:,2], coregionalized_rank_2_predictions[2][0])"
   ]
  },
  {
   "cell_type": "markdown",
   "metadata": {},
   "source": [
    "## 1.3. Non-coregionalized GPR"
   ]
  },
  {
   "cell_type": "code",
   "execution_count": null,
   "metadata": {},
   "outputs": [],
   "source": []
  }
 ],
 "metadata": {
  "kernelspec": {
   "display_name": "Python 3",
   "language": "python",
   "name": "python3"
  },
  "language_info": {
   "codemirror_mode": {
    "name": "ipython",
    "version": 3
   },
   "file_extension": ".py",
   "mimetype": "text/x-python",
   "name": "python",
   "nbconvert_exporter": "python",
   "pygments_lexer": "ipython3",
   "version": "3.7.8"
  }
 },
 "nbformat": 4,
 "nbformat_minor": 4
}
