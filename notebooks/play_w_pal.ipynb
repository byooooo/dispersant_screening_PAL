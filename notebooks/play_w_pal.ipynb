{
 "cells": [
  {
   "cell_type": "markdown",
   "metadata": {},
   "source": [
    "# Playing with the PAL algorithm."
   ]
  },
  {
   "cell_type": "markdown",
   "metadata": {},
   "source": [
    "There's something interesting: https://github.com/VitoChan1/PAL-on-Adder-DSE/blob/master/PAL.py"
   ]
  },
  {
   "cell_type": "markdown",
   "metadata": {},
   "source": [
    "Summarizing the paper (PAL: An Active Learning Approach to the Multi-Objective Optimization Problem form the Puschel group at ETH)."
   ]
  },
  {
   "cell_type": "markdown",
   "metadata": {},
   "source": [
    "* error bounds based on hypervolume error\n",
    "* response surface methods for unevaluated designs. Best so far: PareEGO also uses GP\n",
    "* scalariztion: without assumptions like convexity not all solutions can be recovered\n",
    "\n",
    "* uncertainity captured with hyperparameter, there is some scaling parameter beta that determines which fraction of the variance is used. \n",
    "* then classified as pareto optimal if the pessimistic bound is not dominated by the optimistic outcome of any other point\n",
    "* if the optimisitc bound is dominated by the pessimistic bound of any other point, then not pareto optimal"
   ]
  },
  {
   "cell_type": "code",
   "execution_count": 1,
   "metadata": {},
   "outputs": [],
   "source": [
    "import numpy as np \n",
    "from tqdm import tqdm"
   ]
  },
  {
   "cell_type": "code",
   "execution_count": 2,
   "metadata": {},
   "outputs": [],
   "source": [
    "def _get_pareto_optimal(scores: np.array) -> np.array:\n",
    "    size = scores.shape[0]\n",
    "    ids = np.arange(size)\n",
    "    pareto_front = np.ones(size, dtype=bool)\n",
    "    for j in range(size):\n",
    "        # Check if our 'i' point is dominated by our 'j' point\n",
    "        if all(scores[j] >= scores[i]) and any(scores[j] > scores[i]):\n",
    "            # j dominates i. Label 'i' point as dominant\n",
    "            pareto_front[i] = 0\n",
    "            break\n",
    "    # Return ids of pareto front\n",
    "    return ids[pareto_front]"
   ]
  },
  {
   "cell_type": "markdown",
   "metadata": {},
   "source": [
    "Let's use PyGMO as they have spent more thought into how to implement this: \n",
    "\n",
    "https://esa.github.io/pygmo/documentation/hypervolume.html\n",
    "\n",
    "Implements, e.g., WFG (https://ieeexplore.ieee.org/document/5766730)"
   ]
  },
  {
   "cell_type": "code",
   "execution_count": 3,
   "metadata": {},
   "outputs": [],
   "source": [
    "import pygmo as pg \n",
    "from typing import Union, Iterable\n",
    "import logging"
   ]
  },
  {
   "cell_type": "code",
   "execution_count": 4,
   "metadata": {},
   "outputs": [],
   "source": [
    "def get_hypervolume(pareto_front: np.array, reference_vector: np.array) -> float: \n",
    "    hyp = pg.hypervolume(pareto_front) \n",
    "    volume = hyp.compute(reference_vector) # uses 'auto' algorithm\n",
    "    return volume"
   ]
  },
  {
   "cell_type": "code",
   "execution_count": 5,
   "metadata": {},
   "outputs": [],
   "source": [
    "def _get_gp_predictions(gps: Iterable, x_train: np.array, y_train: np.array, x_input: np.array) -> Union[np.array, np.array]: \n",
    "    # get the GP predictions, for generality, we will assume a list of GPs\n",
    "    # one GP per target\n",
    "    mus = []\n",
    "    stds = []\n",
    "    \n",
    "    # train one GP per target\n",
    "    for i, gp in enumerate(gps): \n",
    "        gp.fit(x_train, y_train[:,i])\n",
    "        mu, std = gp.predict(x_input, return_std=True)\n",
    "        mus.append(mu.reshape(-1,1))\n",
    "        stds.append(std.reshape(-1,1))\n",
    "    \n",
    "        \n",
    "    return np.hstack(mus), np.hstack(stds) "
   ]
  },
  {
   "cell_type": "code",
   "execution_count": 6,
   "metadata": {},
   "outputs": [],
   "source": [
    "def _get_uncertainity_region(mu: float, std: float, beta_sqrt: float): \n",
    "    low_lim, high_lim = mu -  beta_sqrt * std, mu +   beta_sqrt * std\n",
    "    return low_lim, high_lim "
   ]
  },
  {
   "cell_type": "code",
   "execution_count": 7,
   "metadata": {},
   "outputs": [],
   "source": [
    "def _get_uncertainity_regions(mus: np.array, stds: np.array, beta_sqrt: float): \n",
    "    low_lims, high_lims = [], []\n",
    "    for i in range(0, mus.shape[1]):\n",
    "        low_lim, high_lim = _get_uncertainity_region(mus[:,i], stds[:,i], beta_sqrt)\n",
    "        low_lims.append(low_lim.reshape(-1,1))\n",
    "        high_lims.append(high_lim.reshape(-1,1))\n",
    "        \n",
    "    return np.hstack(low_lims), np.hstack(high_lims)"
   ]
  },
  {
   "cell_type": "code",
   "execution_count": 8,
   "metadata": {},
   "outputs": [],
   "source": [
    "def _union_single_feat(lows: Iterable, ups: Iterable, new_lows: Iterable, new_ups: Iterable) -> Union[Iterable, Iterable]:\n",
    "    out_lows = []\n",
    "    out_ups = []\n",
    "    for i in range(0,len(lows)):\n",
    "        if (new_lows[i] > ups[i]) or (new_ups[i] < lows[i]) or (lows[i] + ups[i] == 0):\n",
    "            out_lows.append(0)\n",
    "            out_ups.append(0)\n",
    "        else:\n",
    "            out_lows.append(max(lows[i], new_lows[i]))\n",
    "            out_ups.append(min(ups[i],new_ups[i]))\n",
    "            \n",
    "    return np.array(out_lows), np.array(out_ups)"
   ]
  },
  {
   "cell_type": "code",
   "execution_count": 9,
   "metadata": {},
   "outputs": [],
   "source": [
    "def _union(lows: Iterable, ups: Iterable, new_lows: Iterable, new_ups: Iterable) -> Union[Iterable, Iterable]:\n",
    "    # iterative intersection, eq. 6 in paper, make uncertainity regions smaller\n",
    "    out_lows = []\n",
    "    out_ups = []\n",
    "    for i in range(0, lows.shape[1]):\n",
    "        l, u = _union_single_feat(lows[:,i], ups[:,i], new_lows[:,i], new_ups[:,i])\n",
    "        out_lows.append(l.reshape(-1,1))\n",
    "        out_ups.append(u.reshape(-1,1))\n",
    "    return np.hstack(out_lows), np.hstack(out_ups)"
   ]
  },
  {
   "cell_type": "code",
   "execution_count": 10,
   "metadata": {},
   "outputs": [],
   "source": [
    "def _update_sampled(mus, stds, sampled, y_input):\n",
    "    # this is kinda inefficient, better use some kind of indexing \n",
    "    for i in range(0,len(mus)):\n",
    "        if (sampled[i] == 1):\n",
    "            mus[i, :] = y_input[i, :]\n",
    "            \n",
    "            # ToDo: is this true? \n",
    "            stds[i, :] = 0\n",
    "            \n",
    "    return mus, stds"
   ]
  },
  {
   "cell_type": "code",
   "execution_count": 11,
   "metadata": {},
   "outputs": [],
   "source": [
    "def _pareto_classify(pareto_optimal_0: list, not_pareto_optimal_0: list, unclassified_0: list, rectangle_lows: np.array, rectangle_ups: np.array, x_input: np.array, epsilon: float) -> Union[list, list, list]:\n",
    "    pareto_optimal_t = pareto_optimal_0\n",
    "    not_pareto_optimal_t = not_pareto_optimal_0\n",
    "    unclassified_t = unclassified_0\n",
    "    \n",
    "    # loop over samples \n",
    "    for i in range(0, len(x_input)):\n",
    "        if (unclassified_t[i] == 1):\n",
    "            pareto = True\n",
    "            nonpareto = False\n",
    "            \n",
    "            # At iteration t, the points in Pt−1 and Nt−1 keep their classification. The only points x to be reclassified are those in Ut−1 , done as follows\n",
    "            \n",
    "            # If the pessimistic outcome min(Rt(x)) of x is not dominated by the optimistic outcome max(Rt(x )) of any other point (up to a shift of ε by both),\n",
    "            if all(rectangle_lows[i] * (1 + epsilon) <= rectangle_ups[i] * (1 - epsilon)):\n",
    "                pareto = False\n",
    "                \n",
    "            # If the optimistic outcome max(Rt(x)) of x is dominated by the pessimistic outcome min(Rt(x′)) of any x′ (up to a shift of ε by both),    \n",
    "            if any(rectangle_ups[i] * (1 - epsilon) <= rectangle_lows[i] * (1 + epsilon)): \n",
    "                nonpareto = True\n",
    "            \n",
    "            # All other points remain unclassified.\n",
    "            if pareto:\n",
    "                pareto_optimal_t[i] = 1\n",
    "                unclassified_t[i] = 0\n",
    "            elif nonpareto:\n",
    "                not_pareto_optimal_t[i] = 1\n",
    "                unclassified_t[i] = 0\n",
    "                \n",
    "    return pareto_optimal_t, not_pareto_optimal_t, unclassified_t"
   ]
  },
  {
   "cell_type": "code",
   "execution_count": 12,
   "metadata": {},
   "outputs": [],
   "source": [
    "def _sample(rectangle_lows, rectangle_ups, pareto_optimal_t, non_pareto_optimal_t, unclassified_t, sampled, x_input, y_input, x_train, y_train):\n",
    "    maxwt = 0\n",
    "    maxid = -1\n",
    "    \n",
    "    for i in range(0,len(x_input)):\n",
    "        # Among the points x ∈ Pt ∪ Ut, the one with the largest wt(x) is chosen as the next sample xt to be evaluated.\n",
    "        # Intuitively, this rule biases the sampling towards exploring, and thus improving the model for, the points most likely to be Pareto-optimal.\n",
    "        if ((unclassified_t[i] == 1) or (pareto_optimal_t[i] == 1)) and not(sampled[i] == 1):\n",
    "            # weight is the length of the diagonal of the uncertainity region\n",
    "            wt = np.linalg.norm(rectangle_ups[i,:] - rectangle_lows[i,:])\n",
    "            if maxid == -1:\n",
    "                maxwt = wt\n",
    "                maxid = i\n",
    "            # the point with the largest weight is chosen as the next sample\n",
    "            elif wt > maxwt:\n",
    "                maxwt = wt\n",
    "                maxid = i\n",
    "                \n",
    "    x_train = np.insert(x_train, x_train.shape[0], x_input[maxid], axis = 0)\n",
    "    y_train = np.insert(y_train, y_train.shape[0], y_input[maxid], axis = 0)\n",
    "    \n",
    "    sampled[maxid] = 1\n",
    "    \n",
    "    \n",
    "    return x_train, y_train, sampled\n"
   ]
  },
  {
   "cell_type": "code",
   "execution_count": 13,
   "metadata": {},
   "outputs": [],
   "source": [
    "# Here, I assume that we exhaustively sampled, so we can provide y directly as input. Otherwise, there will be a sampling function that can return y\n",
    "def pal(gps: list, x_train: np.array, y_train: np.array, x_input: np.array, y_input: np.array, hv_reference: Iterable = [10, 10], delta: float = 0.05, epsilon: float = 0.1, iterations: int = 100):\n",
    "    # x_input is the E set in the PAL paper \n",
    "    # the models for now assume the sklearn API, i.e., there should be a fit function \n",
    "    assert y_train.shape[1] == len(hv_reference)\n",
    "    \n",
    "    hypervolumes = []\n",
    "   \n",
    "    # initalize binary list to keep track of the different sets\n",
    "    # in the beginning, nothing is selected = everything is unclassified\n",
    "    pareto_optimal_0 = [0] * len(x_input)\n",
    "    not_pareto_optimal_0 = [0] * len(x_input)\n",
    "    unclassified_0 = [1] * len(x_input) \n",
    "    sampled = [0] * len(x_input)\n",
    "    \n",
    "    iteration = 0\n",
    "    \n",
    "    logger = logging.getLogger()\n",
    "    handler = logging.StreamHandler()\n",
    "    formatter = logging.Formatter(\n",
    "            '%(asctime)s %(name)-12s %(levelname)-8s %(message)s')\n",
    "    handler.setFormatter(formatter)\n",
    "    logger.addHandler(handler)\n",
    "    logger.setLevel(logging.INFO)\n",
    "    \n",
    "    \n",
    "    logger.info(\"Starting now the PAL loop\")\n",
    "    logger.debug(\"Will use the following settings\")\n",
    "    logger.debug(\"epsilon: {}, delta: {}, iterations: {}\".format(epsilon, delta, iterations))\n",
    "    logger.debug(\"x_train shape: {}, y_train shape: {}\".format(x_train.shape, y_train.shape))\n",
    "\n",
    "    # stop when all points are classified \n",
    "    while (np.sum(unclassified_0) > 0) and (iteration <= iterations):\n",
    "        iteration += 1\n",
    "        logger.debug(\"Starting iteration {}\".format(iteration))\n",
    "        \n",
    "        # STEP 1: modeling (train and predict using GPR, one GP per target)\n",
    "        logger.debug(\"Starting modeling step, fitting the GPs\")\n",
    "        mus, stds = _get_gp_predictions(gps, x_train, y_train, x_input)\n",
    "    \n",
    "        # update scaling parameter β\n",
    "        # which is achieved by choosing βt = 2 log(n|E|π2t2/(6δ)).\n",
    "        # n: number of objectives (y_input.shape[1])\n",
    "        beta = 2 * np.log(y_input.shape[1] * len(x_input) * np.square(np.pi) * np.square(iteration) / (6 * delta))\n",
    "        logger.debug(\"Scaling parameter beta at the current iteration is {}\".format(beta))\n",
    "        \n",
    "        logger.debug(\"mean array shape: {}, std array shape: {}\".format(mus.shape, stds.shape))\n",
    "        \n",
    "        # if point is sampled we know the mu and have no epistemic uncertainity    \n",
    "        mus, stds = _update_sampled(mus, stds, sampled, y_input)\n",
    "        \n",
    "        logger.debug(\"mean array shape: {}, std array shape: {}\".format(mus.shape, stds.shape))\n",
    "        \n",
    "        # get the uncertainity rectangles, sqrt only once here for efficiency\n",
    "        lows, ups = _get_uncertainity_regions(mus, stds, np.sqrt(beta))\n",
    "        \n",
    "        logger.debug(\"lows shape {}, ups shape {}\".format(lows.shape, ups.shape))\n",
    "        \n",
    "        \n",
    "        if iteration == 1: \n",
    "            # initialization\n",
    "            rectangle_lows, rectangle_ups = lows, ups\n",
    "        else:\n",
    "            rectangle_lows, rectangle_ups = _union(rectangle_lows, rectangle_ups, lows, ups)\n",
    "            \n",
    "        \n",
    "        logger.debug(\"rectangle lows shape {}, rectangle ups shape {}\".format(rectangle_lows.shape, rectangle_ups.shape))\n",
    "        # pareto classification\n",
    "        # update lists \n",
    "        pareto_optimal_t, not_pareto_optimal_t, unclassified_t = _pareto_classify(pareto_optimal_0, \n",
    "                                                                                  not_pareto_optimal_0, \n",
    "                                                                                  unclassified_0, \n",
    "                                                                                  rectangle_lows, \n",
    "                                                                                  rectangle_ups, x_input, epsilon)\n",
    "\n",
    "        \n",
    "        # sampling from x_input \n",
    "        # ToDo: sample multiple structures\n",
    "        x_train, y_train, sampled = _sample(rectangle_lows, rectangle_ups, pareto_optimal_t, not_pareto_optimal_t, unclassified_t, sampled, x_input, y_input, x_train, y_train)\n",
    "        pareto_optimal_0, not_pareto_optimal_0, unclassified_0 = pareto_optimal_t, not_pareto_optimal_t, unclassified_t\n",
    "          \n",
    "        \n",
    "        optimal_indices= np.where(np.array(pareto_optimal_0) == 1)[0]\n",
    "\n",
    "        if len(optimal_indices) > 0:\n",
    "            hypervolume = get_hypervolume(y_input[optimal_indices], hv_reference) \n",
    "        else: \n",
    "            hypervolume = np.nan\n",
    "        \n",
    "        logger.info('Iteration {} | Pareto optimal {}, not Pareto optimal {}, unclassified {}, hypervolume: {}'.format(iteration, np.array(pareto_optimal_0).sum(), \n",
    "                                                                                                                      np.array(not_pareto_optimal_0).sum(), \n",
    "                                                                                                                      np.array(unclassified_0).sum(), hypervolume))\n",
    "       \n",
    "\n",
    "        \n",
    "        hypervolumes.append(hypervolume)\n",
    "        \n",
    "    return pareto_optimal_t, hypervolumes"
   ]
  },
  {
   "cell_type": "code",
   "execution_count": 14,
   "metadata": {},
   "outputs": [],
   "source": [
    "import pandas as pd \n",
    "import os\n",
    "from sklearn.model_selection import train_test_split\n",
    "from sklearn.preprocessing import StandardScaler, MinMaxScaler\n",
    "from sklearn.gaussian_process import GaussianProcessRegressor\n",
    "from sklearn.gaussian_process.kernels import Matern, RBF\n",
    "import joblib\n",
    "import sys\n",
    "sys.path.append('..')\n",
    "from dispersant_screener.definitions import *"
   ]
  },
  {
   "cell_type": "code",
   "execution_count": 15,
   "metadata": {},
   "outputs": [],
   "source": [
    "DATADIR = '../data'\n",
    "TRAIN_SIZE = 0.01"
   ]
  },
  {
   "cell_type": "code",
   "execution_count": 16,
   "metadata": {},
   "outputs": [],
   "source": [
    "df_full_factorial = pd.read_csv(os.path.join(DATADIR, 'full_fact.csv'))"
   ]
  },
  {
   "cell_type": "code",
   "execution_count": 17,
   "metadata": {},
   "outputs": [],
   "source": [
    "X = df_full_factorial[FEATURES]\n",
    "y = df_full_factorial[TARGETS]\n",
    "\n",
    "X_train, X_test, y_train, y_test = train_test_split(X, y, train_size=TRAIN_SIZE)\n",
    "scaler = StandardScaler()\n",
    "X_train = scaler.fit_transform(X_train)\n",
    "X_test = scaler.transform(X_test)"
   ]
  },
  {
   "cell_type": "code",
   "execution_count": 18,
   "metadata": {},
   "outputs": [
    {
     "data": {
      "text/plain": [
       "321.2015694492044"
      ]
     },
     "execution_count": 18,
     "metadata": {},
     "output_type": "execute_result"
    }
   ],
   "source": [
    "get_hypervolume(y_test, [10, 10])"
   ]
  },
  {
   "cell_type": "markdown",
   "metadata": {},
   "source": [
    "We should get close to this ..."
   ]
  },
  {
   "cell_type": "code",
   "execution_count": 19,
   "metadata": {},
   "outputs": [],
   "source": [
    "virial_model = GaussianProcessRegressor(kernel=RBF(), normalize_y=True, n_restarts_optimizer=20)"
   ]
  },
  {
   "cell_type": "code",
   "execution_count": 26,
   "metadata": {},
   "outputs": [],
   "source": [
    "gibbs_model = GaussianProcessRegressor(kernel=RBF(), normalize_y=True, n_restarts_optimizer=20)"
   ]
  },
  {
   "cell_type": "code",
   "execution_count": 21,
   "metadata": {},
   "outputs": [],
   "source": [
    "gps = [virial_model, gibbs_model]"
   ]
  },
  {
   "cell_type": "code",
   "execution_count": 22,
   "metadata": {},
   "outputs": [
    {
     "data": {
      "text/plain": [
       "31"
      ]
     },
     "execution_count": 22,
     "metadata": {},
     "output_type": "execute_result"
    }
   ],
   "source": [
    "len(X_train)"
   ]
  },
  {
   "cell_type": "code",
   "execution_count": 23,
   "metadata": {},
   "outputs": [
    {
     "name": "stderr",
     "output_type": "stream",
     "text": [
      "2020-06-02 22:23:37,192 root         INFO     Starting now the PAL loop\n",
      "2020-06-02 22:23:37,339 root         INFO     Iteration 1 | Pareto optimal 0, not Pareto optimal 0, unclassified 3094, hypervolume: nan\n",
      "2020-06-02 22:23:37,487 root         INFO     Iteration 2 | Pareto optimal 0, not Pareto optimal 0, unclassified 3094, hypervolume: nan\n",
      "2020-06-02 22:23:37,660 root         INFO     Iteration 3 | Pareto optimal 1, not Pareto optimal 0, unclassified 3093, hypervolume: 218.20185385905503\n",
      "2020-06-02 22:23:37,808 root         INFO     Iteration 4 | Pareto optimal 1, not Pareto optimal 1, unclassified 3092, hypervolume: 218.20185385905503\n",
      "2020-06-02 22:23:37,971 root         INFO     Iteration 5 | Pareto optimal 1, not Pareto optimal 1, unclassified 3092, hypervolume: 218.20185385905503\n",
      "2020-06-02 22:23:38,126 root         INFO     Iteration 6 | Pareto optimal 2, not Pareto optimal 1, unclassified 3091, hypervolume: 218.20185385905503\n",
      "2020-06-02 22:23:38,262 root         INFO     Iteration 7 | Pareto optimal 3, not Pareto optimal 2, unclassified 3089, hypervolume: 218.20185385905503\n",
      "2020-06-02 22:23:38,460 root         INFO     Iteration 8 | Pareto optimal 4, not Pareto optimal 2, unclassified 3088, hypervolume: 239.15094171372334\n",
      "2020-06-02 22:23:38,611 root         INFO     Iteration 9 | Pareto optimal 4, not Pareto optimal 2, unclassified 3088, hypervolume: 239.15094171372334\n",
      "2020-06-02 22:23:38,744 root         INFO     Iteration 10 | Pareto optimal 5, not Pareto optimal 2, unclassified 3087, hypervolume: 239.15094171372334\n",
      "/Users/kevinmaikjablonka/opt/miniconda3/envs/dispersant_basf/lib/python3.7/site-packages/sklearn/gaussian_process/_gpr.py:494: ConvergenceWarning: lbfgs failed to converge (status=2):\n",
      "ABNORMAL_TERMINATION_IN_LNSRCH.\n",
      "\n",
      "Increase the number of iterations (max_iter) or scale the data as shown in:\n",
      "    https://scikit-learn.org/stable/modules/preprocessing.html\n",
      "  _check_optimize_result(\"lbfgs\", opt_res)\n",
      "2020-06-02 22:23:38,915 root         INFO     Iteration 11 | Pareto optimal 6, not Pareto optimal 2, unclassified 3086, hypervolume: 239.196803506262\n",
      "2020-06-02 22:23:39,055 root         INFO     Iteration 12 | Pareto optimal 7, not Pareto optimal 2, unclassified 3085, hypervolume: 239.196803506262\n",
      "2020-06-02 22:23:39,207 root         INFO     Iteration 13 | Pareto optimal 8, not Pareto optimal 2, unclassified 3084, hypervolume: 239.196803506262\n",
      "2020-06-02 22:23:39,351 root         INFO     Iteration 14 | Pareto optimal 9, not Pareto optimal 2, unclassified 3083, hypervolume: 239.19680350626194\n",
      "2020-06-02 22:23:39,526 root         INFO     Iteration 15 | Pareto optimal 10, not Pareto optimal 2, unclassified 3082, hypervolume: 239.19680350626194\n",
      "2020-06-02 22:23:39,690 root         INFO     Iteration 16 | Pareto optimal 11, not Pareto optimal 2, unclassified 3081, hypervolume: 239.20129160648122\n",
      "2020-06-02 22:23:39,851 root         INFO     Iteration 17 | Pareto optimal 11, not Pareto optimal 2, unclassified 3081, hypervolume: 239.20129160648122\n",
      "2020-06-02 22:23:40,004 root         INFO     Iteration 18 | Pareto optimal 12, not Pareto optimal 2, unclassified 3080, hypervolume: 240.51458345039083\n",
      "2020-06-02 22:23:40,169 root         INFO     Iteration 19 | Pareto optimal 13, not Pareto optimal 2, unclassified 3079, hypervolume: 241.6404448633067\n",
      "2020-06-02 22:23:40,321 root         INFO     Iteration 20 | Pareto optimal 13, not Pareto optimal 2, unclassified 3079, hypervolume: 241.6404448633067\n",
      "2020-06-02 22:23:40,500 root         INFO     Iteration 21 | Pareto optimal 14, not Pareto optimal 2, unclassified 3078, hypervolume: 242.41253040003616\n",
      "2020-06-02 22:23:40,668 root         INFO     Iteration 22 | Pareto optimal 14, not Pareto optimal 2, unclassified 3078, hypervolume: 242.41253040003616\n",
      "2020-06-02 22:23:40,853 root         INFO     Iteration 23 | Pareto optimal 15, not Pareto optimal 2, unclassified 3077, hypervolume: 254.7562608508268\n",
      "2020-06-02 22:23:41,030 root         INFO     Iteration 24 | Pareto optimal 15, not Pareto optimal 2, unclassified 3077, hypervolume: 254.7562608508268\n",
      "2020-06-02 22:23:41,184 root         INFO     Iteration 25 | Pareto optimal 15, not Pareto optimal 2, unclassified 3077, hypervolume: 254.7562608508268\n",
      "2020-06-02 22:23:41,331 root         INFO     Iteration 26 | Pareto optimal 16, not Pareto optimal 2, unclassified 3076, hypervolume: 254.7562608508268\n",
      "2020-06-02 22:23:41,488 root         INFO     Iteration 27 | Pareto optimal 17, not Pareto optimal 2, unclassified 3075, hypervolume: 254.7562608508268\n",
      "2020-06-02 22:23:41,686 root         INFO     Iteration 28 | Pareto optimal 17, not Pareto optimal 2, unclassified 3075, hypervolume: 254.7562608508268\n",
      "2020-06-02 22:23:41,857 root         INFO     Iteration 29 | Pareto optimal 18, not Pareto optimal 2, unclassified 3074, hypervolume: 254.7583663739088\n",
      "2020-06-02 22:23:42,054 root         INFO     Iteration 30 | Pareto optimal 19, not Pareto optimal 2, unclassified 3073, hypervolume: 254.7583663739088\n",
      "2020-06-02 22:23:42,214 root         INFO     Iteration 31 | Pareto optimal 20, not Pareto optimal 2, unclassified 3072, hypervolume: 254.7583663739088\n",
      "2020-06-02 22:23:42,406 root         INFO     Iteration 32 | Pareto optimal 20, not Pareto optimal 2, unclassified 3072, hypervolume: 254.7583663739088\n",
      "2020-06-02 22:23:42,585 root         INFO     Iteration 33 | Pareto optimal 21, not Pareto optimal 2, unclassified 3071, hypervolume: 254.83842210046808\n",
      "2020-06-02 22:23:42,755 root         INFO     Iteration 34 | Pareto optimal 21, not Pareto optimal 2, unclassified 3071, hypervolume: 254.83842210046808\n",
      "2020-06-02 22:23:42,976 root         INFO     Iteration 35 | Pareto optimal 22, not Pareto optimal 2, unclassified 3070, hypervolume: 254.83842210046808\n",
      "2020-06-02 22:23:43,240 root         INFO     Iteration 36 | Pareto optimal 23, not Pareto optimal 2, unclassified 3069, hypervolume: 254.83842210046805\n",
      "2020-06-02 22:23:43,402 root         INFO     Iteration 37 | Pareto optimal 24, not Pareto optimal 2, unclassified 3068, hypervolume: 254.83842210046805\n",
      "2020-06-02 22:23:43,598 root         INFO     Iteration 38 | Pareto optimal 24, not Pareto optimal 2, unclassified 3068, hypervolume: 254.83842210046805\n",
      "2020-06-02 22:23:43,788 root         INFO     Iteration 39 | Pareto optimal 25, not Pareto optimal 2, unclassified 3067, hypervolume: 254.83842210046805\n",
      "2020-06-02 22:23:44,006 root         INFO     Iteration 40 | Pareto optimal 25, not Pareto optimal 2, unclassified 3067, hypervolume: 254.83842210046805\n",
      "2020-06-02 22:23:44,180 root         INFO     Iteration 41 | Pareto optimal 26, not Pareto optimal 2, unclassified 3066, hypervolume: 254.83842210046805\n",
      "2020-06-02 22:23:44,469 root         INFO     Iteration 42 | Pareto optimal 26, not Pareto optimal 2, unclassified 3066, hypervolume: 254.83842210046805\n",
      "2020-06-02 22:23:44,754 root         INFO     Iteration 43 | Pareto optimal 26, not Pareto optimal 2, unclassified 3066, hypervolume: 254.83842210046805\n",
      "2020-06-02 22:23:45,017 root         INFO     Iteration 44 | Pareto optimal 27, not Pareto optimal 2, unclassified 3065, hypervolume: 254.83842210046805\n",
      "2020-06-02 22:23:45,233 root         INFO     Iteration 45 | Pareto optimal 27, not Pareto optimal 3, unclassified 3064, hypervolume: 254.83842210046805\n",
      "2020-06-02 22:23:45,431 root         INFO     Iteration 46 | Pareto optimal 28, not Pareto optimal 3, unclassified 3063, hypervolume: 254.83842210046805\n",
      "2020-06-02 22:23:45,695 root         INFO     Iteration 47 | Pareto optimal 29, not Pareto optimal 3, unclassified 3062, hypervolume: 254.83842210046805\n",
      "2020-06-02 22:23:45,956 root         INFO     Iteration 48 | Pareto optimal 30, not Pareto optimal 3, unclassified 3061, hypervolume: 254.83842210046805\n",
      "2020-06-02 22:23:46,177 root         INFO     Iteration 49 | Pareto optimal 31, not Pareto optimal 3, unclassified 3060, hypervolume: 262.0100819822078\n",
      "2020-06-02 22:23:46,395 root         INFO     Iteration 50 | Pareto optimal 31, not Pareto optimal 3, unclassified 3060, hypervolume: 262.0100819822078\n",
      "2020-06-02 22:23:46,598 root         INFO     Iteration 51 | Pareto optimal 32, not Pareto optimal 3, unclassified 3059, hypervolume: 262.0100819822078\n",
      "2020-06-02 22:23:46,882 root         INFO     Iteration 52 | Pareto optimal 33, not Pareto optimal 3, unclassified 3058, hypervolume: 262.01502655779484\n",
      "2020-06-02 22:23:47,096 root         INFO     Iteration 53 | Pareto optimal 33, not Pareto optimal 3, unclassified 3058, hypervolume: 262.01502655779484\n",
      "2020-06-02 22:23:47,323 root         INFO     Iteration 54 | Pareto optimal 34, not Pareto optimal 3, unclassified 3057, hypervolume: 262.01502655779484\n",
      "2020-06-02 22:23:47,522 root         INFO     Iteration 55 | Pareto optimal 35, not Pareto optimal 3, unclassified 3056, hypervolume: 262.01502655779484\n",
      "2020-06-02 22:23:47,774 root         INFO     Iteration 56 | Pareto optimal 36, not Pareto optimal 3, unclassified 3055, hypervolume: 262.4499647680025\n",
      "2020-06-02 22:23:48,062 root         INFO     Iteration 57 | Pareto optimal 37, not Pareto optimal 3, unclassified 3054, hypervolume: 262.4499647680025\n",
      "2020-06-02 22:23:48,312 root         INFO     Iteration 58 | Pareto optimal 37, not Pareto optimal 3, unclassified 3054, hypervolume: 262.4499647680025\n",
      "2020-06-02 22:23:48,518 root         INFO     Iteration 59 | Pareto optimal 37, not Pareto optimal 3, unclassified 3054, hypervolume: 262.4499647680025\n",
      "2020-06-02 22:23:48,726 root         INFO     Iteration 60 | Pareto optimal 38, not Pareto optimal 3, unclassified 3053, hypervolume: 262.4499647680025\n",
      "2020-06-02 22:23:48,959 root         INFO     Iteration 61 | Pareto optimal 38, not Pareto optimal 3, unclassified 3053, hypervolume: 262.4499647680025\n",
      "2020-06-02 22:23:49,269 root         INFO     Iteration 62 | Pareto optimal 38, not Pareto optimal 3, unclassified 3053, hypervolume: 262.4499647680025\n",
      "2020-06-02 22:23:49,492 root         INFO     Iteration 63 | Pareto optimal 38, not Pareto optimal 3, unclassified 3053, hypervolume: 262.4499647680025\n",
      "2020-06-02 22:23:49,708 root         INFO     Iteration 64 | Pareto optimal 39, not Pareto optimal 3, unclassified 3052, hypervolume: 262.4499647680025\n",
      "2020-06-02 22:23:49,948 root         INFO     Iteration 65 | Pareto optimal 40, not Pareto optimal 3, unclassified 3051, hypervolume: 262.4499647680025\n",
      "2020-06-02 22:23:50,132 root         INFO     Iteration 66 | Pareto optimal 41, not Pareto optimal 3, unclassified 3050, hypervolume: 262.4499647680025\n",
      "2020-06-02 22:23:50,340 root         INFO     Iteration 67 | Pareto optimal 41, not Pareto optimal 3, unclassified 3050, hypervolume: 262.4499647680025\n",
      "2020-06-02 22:23:50,584 root         INFO     Iteration 68 | Pareto optimal 41, not Pareto optimal 3, unclassified 3050, hypervolume: 262.4499647680025\n",
      "2020-06-02 22:23:50,814 root         INFO     Iteration 69 | Pareto optimal 41, not Pareto optimal 3, unclassified 3050, hypervolume: 262.4499647680025\n",
      "2020-06-02 22:23:51,074 root         INFO     Iteration 70 | Pareto optimal 42, not Pareto optimal 3, unclassified 3049, hypervolume: 262.45519524525616\n",
      "2020-06-02 22:23:51,303 root         INFO     Iteration 71 | Pareto optimal 43, not Pareto optimal 3, unclassified 3048, hypervolume: 262.45519524525616\n",
      "2020-06-02 22:23:51,615 root         INFO     Iteration 72 | Pareto optimal 44, not Pareto optimal 3, unclassified 3047, hypervolume: 282.32593023287933\n",
      "2020-06-02 22:23:51,897 root         INFO     Iteration 73 | Pareto optimal 45, not Pareto optimal 3, unclassified 3046, hypervolume: 282.32593023287933\n",
      "/Users/kevinmaikjablonka/opt/miniconda3/envs/dispersant_basf/lib/python3.7/site-packages/sklearn/gaussian_process/_gpr.py:494: ConvergenceWarning: lbfgs failed to converge (status=2):\n",
      "ABNORMAL_TERMINATION_IN_LNSRCH.\n",
      "\n",
      "Increase the number of iterations (max_iter) or scale the data as shown in:\n",
      "    https://scikit-learn.org/stable/modules/preprocessing.html\n",
      "  _check_optimize_result(\"lbfgs\", opt_res)\n",
      "2020-06-02 22:23:52,158 root         INFO     Iteration 74 | Pareto optimal 45, not Pareto optimal 3, unclassified 3046, hypervolume: 282.32593023287933\n",
      "2020-06-02 22:23:52,426 root         INFO     Iteration 75 | Pareto optimal 46, not Pareto optimal 3, unclassified 3045, hypervolume: 282.32593023287933\n",
      "2020-06-02 22:23:52,718 root         INFO     Iteration 76 | Pareto optimal 46, not Pareto optimal 3, unclassified 3045, hypervolume: 282.32593023287933\n",
      "2020-06-02 22:23:53,021 root         INFO     Iteration 77 | Pareto optimal 47, not Pareto optimal 3, unclassified 3044, hypervolume: 282.32593023287933\n",
      "2020-06-02 22:23:53,297 root         INFO     Iteration 78 | Pareto optimal 48, not Pareto optimal 3, unclassified 3043, hypervolume: 282.32593023287933\n",
      "2020-06-02 22:23:53,580 root         INFO     Iteration 79 | Pareto optimal 49, not Pareto optimal 3, unclassified 3042, hypervolume: 282.32593023287933\n",
      "2020-06-02 22:23:53,805 root         INFO     Iteration 80 | Pareto optimal 50, not Pareto optimal 3, unclassified 3041, hypervolume: 282.32593023287933\n",
      "2020-06-02 22:23:54,129 root         INFO     Iteration 81 | Pareto optimal 51, not Pareto optimal 3, unclassified 3040, hypervolume: 282.32593023287933\n",
      "2020-06-02 22:23:54,413 root         INFO     Iteration 82 | Pareto optimal 52, not Pareto optimal 3, unclassified 3039, hypervolume: 282.3259302328794\n",
      "2020-06-02 22:23:54,725 root         INFO     Iteration 83 | Pareto optimal 53, not Pareto optimal 3, unclassified 3038, hypervolume: 282.3259302328794\n",
      "2020-06-02 22:23:54,942 root         INFO     Iteration 84 | Pareto optimal 54, not Pareto optimal 3, unclassified 3037, hypervolume: 282.3259302328794\n",
      "2020-06-02 22:23:55,189 root         INFO     Iteration 85 | Pareto optimal 55, not Pareto optimal 3, unclassified 3036, hypervolume: 282.3259302328794\n",
      "2020-06-02 22:23:55,493 root         INFO     Iteration 86 | Pareto optimal 55, not Pareto optimal 3, unclassified 3036, hypervolume: 282.3259302328794\n",
      "2020-06-02 22:23:55,767 root         INFO     Iteration 87 | Pareto optimal 56, not Pareto optimal 3, unclassified 3035, hypervolume: 282.3259302328794\n",
      "2020-06-02 22:23:56,018 root         INFO     Iteration 88 | Pareto optimal 57, not Pareto optimal 3, unclassified 3034, hypervolume: 282.32593023287933\n",
      "2020-06-02 22:23:56,281 root         INFO     Iteration 89 | Pareto optimal 58, not Pareto optimal 3, unclassified 3033, hypervolume: 282.32593023287933\n",
      "2020-06-02 22:23:56,608 root         INFO     Iteration 90 | Pareto optimal 59, not Pareto optimal 3, unclassified 3032, hypervolume: 282.32593023287933\n",
      "2020-06-02 22:23:56,856 root         INFO     Iteration 91 | Pareto optimal 60, not Pareto optimal 3, unclassified 3031, hypervolume: 282.32593023287933\n",
      "2020-06-02 22:23:57,150 root         INFO     Iteration 92 | Pareto optimal 61, not Pareto optimal 3, unclassified 3030, hypervolume: 282.32593023287933\n",
      "2020-06-02 22:23:57,385 root         INFO     Iteration 93 | Pareto optimal 62, not Pareto optimal 3, unclassified 3029, hypervolume: 282.32593023287933\n",
      "2020-06-02 22:23:57,609 root         INFO     Iteration 94 | Pareto optimal 63, not Pareto optimal 3, unclassified 3028, hypervolume: 282.3565180569528\n",
      "2020-06-02 22:23:57,919 root         INFO     Iteration 95 | Pareto optimal 63, not Pareto optimal 3, unclassified 3028, hypervolume: 282.3565180569528\n",
      "2020-06-02 22:23:58,228 root         INFO     Iteration 96 | Pareto optimal 64, not Pareto optimal 3, unclassified 3027, hypervolume: 282.3565180569528\n",
      "2020-06-02 22:23:58,481 root         INFO     Iteration 97 | Pareto optimal 64, not Pareto optimal 3, unclassified 3027, hypervolume: 282.3565180569528\n",
      "2020-06-02 22:23:58,725 root         INFO     Iteration 98 | Pareto optimal 64, not Pareto optimal 3, unclassified 3027, hypervolume: 282.3565180569528\n",
      "2020-06-02 22:23:59,052 root         INFO     Iteration 99 | Pareto optimal 65, not Pareto optimal 3, unclassified 3026, hypervolume: 282.3565180569528\n",
      "2020-06-02 22:23:59,323 root         INFO     Iteration 100 | Pareto optimal 66, not Pareto optimal 3, unclassified 3025, hypervolume: 282.3565180569528\n",
      "2020-06-02 22:23:59,560 root         INFO     Iteration 101 | Pareto optimal 67, not Pareto optimal 3, unclassified 3024, hypervolume: 282.3565180569528\n"
     ]
    }
   ],
   "source": [
    "pareto, history = pal(gps, X_train, y_train.values, X_test, y_test.values)"
   ]
  },
  {
   "cell_type": "code",
   "execution_count": 24,
   "metadata": {},
   "outputs": [],
   "source": [
    "import matplotlib.pyplot as plt\n",
    "%matplotlib inline"
   ]
  },
  {
   "cell_type": "code",
   "execution_count": 25,
   "metadata": {},
   "outputs": [
    {
     "data": {
      "text/plain": [
       "Text(0, 0.5, 'hypervolume')"
      ]
     },
     "execution_count": 25,
     "metadata": {},
     "output_type": "execute_result"
    },
    {
     "data": {
      "image/png": "[encoded data removed]",
      "text/plain": [
       "<Figure size 432x288 with 1 Axes>"
      ]
     },
     "metadata": {
      "needs_background": "light"
     },
     "output_type": "display_data"
    }
   ],
   "source": [
    "plt.plot(history)\n",
    "plt.xlabel('points sampled')\n",
    "plt.ylabel('hypervolume')"
   ]
  },
  {
   "cell_type": "code",
   "execution_count": null,
   "metadata": {},
   "outputs": [],
   "source": []
  }
 ],
 "metadata": {
  "kernelspec": {
   "display_name": "Python [conda env:dispersant_basf] *",
   "language": "python",
   "name": "conda-env-dispersant_basf-py"
  },
  "language_info": {
   "codemirror_mode": {
    "name": "ipython",
    "version": 3
   },
   "file_extension": ".py",
   "mimetype": "text/x-python",
   "name": "python",
   "nbconvert_exporter": "python",
   "pygments_lexer": "ipython3",
   "version": "3.7.0"
  }
 },
 "nbformat": 4,
 "nbformat_minor": 4
}
