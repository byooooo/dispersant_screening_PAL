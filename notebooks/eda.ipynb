{
 "cells": [
  {
   "cell_type": "code",
   "execution_count": 4,
   "metadata": {},
   "outputs": [
    {
     "output_type": "stream",
     "name": "stdout",
     "text": "The autoreload extension is already loaded. To reload it, use:\n  %reload_ext autoreload\n"
    }
   ],
   "source": [
    "%load_ext autoreload\n",
    "%autoreload 2\n",
    "import os \n",
    "from pathlib import Path\n",
    "import numpy as np \n",
    "\n",
    "import pandas as pd \n",
    "from pandas_profiling import ProfileReport\n",
    "\n",
    "import matplotlib.pyplot as plt \n",
    "import holoviews as hv\n",
    "import seaborn as sns\n",
    "%matplotlib inline\n",
    "\n",
    "DATADIR = '../data'"
   ]
  },
  {
   "cell_type": "markdown",
   "metadata": {},
   "source": [
    "Started: May, 7 2020. \n",
    "\n",
    "For me to better understand the data and how the features relate to the results before we start modeling. "
   ]
  },
  {
   "cell_type": "code",
   "execution_count": 5,
   "metadata": {},
   "outputs": [],
   "source": [
    "df_full_factorial = pd.read_csv(os.path.join(DATADIR, 'X_full_random.csv'))"
   ]
  },
  {
   "cell_type": "code",
   "execution_count": 6,
   "metadata": {},
   "outputs": [
    {
     "output_type": "execute_result",
     "data": {
      "text/plain": "   Unnamed: 0  [W]  [Ta]  [Tr]  [R]  total_count sequence_type  \\\n0           0  4.0   4.0   4.0  4.0           16        random   \n1           1  4.0   4.0   4.0  4.0           16        random   \n2           2  4.0   4.0   4.0  4.0           16        random   \n3           3  4.0   4.0   4.0  4.0           16        random   \n4           4  4.0   4.0   4.0  4.0           16        random   \n\n   R_avg_cluster_size  Ta_avg_cluster_size  Tr_avg_cluster_size  ...  \\\n0                 2.0                  3.0                  2.0  ...   \n1                 2.0                  3.0                  3.0  ...   \n2                 0.0                  0.0                  2.0  ...   \n3                 2.0                  0.0                  3.0  ...   \n4                 2.0                  2.0                  2.0  ...   \n\n   max_cluster_size  R_no_of_cluster  Ta_no_of_cluster  Tr_no_of_cluster  \\\n0                 3                1                 1                 1   \n1                 3                1                 1                 1   \n2                 2                0                 0                 1   \n3                 3                1                 0                 1   \n4                 2                1                 1                 1   \n\n   W_no_of_cluster  R_max_cluster_size  Ta_max_cluster_size  \\\n0                1                   2                    3   \n1                2                   2                    3   \n2                0                   0                    0   \n3                0                   2                    0   \n4                0                   2                    2   \n\n   Tr_max_cluster_size  W_max_cluster_size  \\\n0                    2                   2   \n1                    3                   2   \n2                    2                   0   \n3                    3                   0   \n4                    2                   0   \n\n                                              smiles  \n0  [W][Ta][Tr][W][W][Ta][Ta][Ta][R][W][Tr][Tr][R]...  \n1  [R][W][W][R][R][Tr][Tr][Tr][Ta][Ta][Ta][W][W][...  \n2  [Ta][R][Ta][W][Tr][W][Ta][R][Tr][W][Ta][Tr][Tr...  \n3  [W][Ta][R][Ta][Tr][Tr][Tr][W][Ta][W][Tr][R][Ta...  \n4  [R][R][Tr][Tr][W][R][Ta][W][R][W][Ta][Tr][Ta][...  \n\n[5 rows x 22 columns]",
      "text/html": "<div>\n<style scoped>\n    .dataframe tbody tr th:only-of-type {\n        vertical-align: middle;\n    }\n\n    .dataframe tbody tr th {\n        vertical-align: top;\n    }\n\n    .dataframe thead th {\n        text-align: right;\n    }\n</style>\n<table border=\"1\" class=\"dataframe\">\n  <thead>\n    <tr style=\"text-align: right;\">\n      <th></th>\n      <th>Unnamed: 0</th>\n      <th>[W]</th>\n      <th>[Ta]</th>\n      <th>[Tr]</th>\n      <th>[R]</th>\n      <th>total_count</th>\n      <th>sequence_type</th>\n      <th>R_avg_cluster_size</th>\n      <th>Ta_avg_cluster_size</th>\n      <th>Tr_avg_cluster_size</th>\n      <th>...</th>\n      <th>max_cluster_size</th>\n      <th>R_no_of_cluster</th>\n      <th>Ta_no_of_cluster</th>\n      <th>Tr_no_of_cluster</th>\n      <th>W_no_of_cluster</th>\n      <th>R_max_cluster_size</th>\n      <th>Ta_max_cluster_size</th>\n      <th>Tr_max_cluster_size</th>\n      <th>W_max_cluster_size</th>\n      <th>smiles</th>\n    </tr>\n  </thead>\n  <tbody>\n    <tr>\n      <th>0</th>\n      <td>0</td>\n      <td>4.0</td>\n      <td>4.0</td>\n      <td>4.0</td>\n      <td>4.0</td>\n      <td>16</td>\n      <td>random</td>\n      <td>2.0</td>\n      <td>3.0</td>\n      <td>2.0</td>\n      <td>...</td>\n      <td>3</td>\n      <td>1</td>\n      <td>1</td>\n      <td>1</td>\n      <td>1</td>\n      <td>2</td>\n      <td>3</td>\n      <td>2</td>\n      <td>2</td>\n      <td>[W][Ta][Tr][W][W][Ta][Ta][Ta][R][W][Tr][Tr][R]...</td>\n    </tr>\n    <tr>\n      <th>1</th>\n      <td>1</td>\n      <td>4.0</td>\n      <td>4.0</td>\n      <td>4.0</td>\n      <td>4.0</td>\n      <td>16</td>\n      <td>random</td>\n      <td>2.0</td>\n      <td>3.0</td>\n      <td>3.0</td>\n      <td>...</td>\n      <td>3</td>\n      <td>1</td>\n      <td>1</td>\n      <td>1</td>\n      <td>2</td>\n      <td>2</td>\n      <td>3</td>\n      <td>3</td>\n      <td>2</td>\n      <td>[R][W][W][R][R][Tr][Tr][Tr][Ta][Ta][Ta][W][W][...</td>\n    </tr>\n    <tr>\n      <th>2</th>\n      <td>2</td>\n      <td>4.0</td>\n      <td>4.0</td>\n      <td>4.0</td>\n      <td>4.0</td>\n      <td>16</td>\n      <td>random</td>\n      <td>0.0</td>\n      <td>0.0</td>\n      <td>2.0</td>\n      <td>...</td>\n      <td>2</td>\n      <td>0</td>\n      <td>0</td>\n      <td>1</td>\n      <td>0</td>\n      <td>0</td>\n      <td>0</td>\n      <td>2</td>\n      <td>0</td>\n      <td>[Ta][R][Ta][W][Tr][W][Ta][R][Tr][W][Ta][Tr][Tr...</td>\n    </tr>\n    <tr>\n      <th>3</th>\n      <td>3</td>\n      <td>4.0</td>\n      <td>4.0</td>\n      <td>4.0</td>\n      <td>4.0</td>\n      <td>16</td>\n      <td>random</td>\n      <td>2.0</td>\n      <td>0.0</td>\n      <td>3.0</td>\n      <td>...</td>\n      <td>3</td>\n      <td>1</td>\n      <td>0</td>\n      <td>1</td>\n      <td>0</td>\n      <td>2</td>\n      <td>0</td>\n      <td>3</td>\n      <td>0</td>\n      <td>[W][Ta][R][Ta][Tr][Tr][Tr][W][Ta][W][Tr][R][Ta...</td>\n    </tr>\n    <tr>\n      <th>4</th>\n      <td>4</td>\n      <td>4.0</td>\n      <td>4.0</td>\n      <td>4.0</td>\n      <td>4.0</td>\n      <td>16</td>\n      <td>random</td>\n      <td>2.0</td>\n      <td>2.0</td>\n      <td>2.0</td>\n      <td>...</td>\n      <td>2</td>\n      <td>1</td>\n      <td>1</td>\n      <td>1</td>\n      <td>0</td>\n      <td>2</td>\n      <td>2</td>\n      <td>2</td>\n      <td>0</td>\n      <td>[R][R][Tr][Tr][W][R][Ta][W][R][W][Ta][Tr][Ta][...</td>\n    </tr>\n  </tbody>\n</table>\n<p>5 rows × 22 columns</p>\n</div>"
     },
     "metadata": {},
     "execution_count": 6
    }
   ],
   "source": [
    "df_full_factorial.head()"
   ]
  },
  {
   "cell_type": "code",
   "execution_count": null,
   "metadata": {},
   "outputs": [],
   "source": []
  }
 ],
 "metadata": {
  "language_info": {
   "codemirror_mode": {
    "name": "ipython",
    "version": 3
   },
   "file_extension": ".py",
   "mimetype": "text/x-python",
   "name": "python",
   "nbconvert_exporter": "python",
   "pygments_lexer": "ipython3",
   "version": "3.7.0-final"
  },
  "orig_nbformat": 2,
  "kernelspec": {
   "name": "python37064bitdispersantbasfconda8a8a739eee5942109c4038fd1349398b",
   "display_name": "Python 3.7.0 64-bit ('dispersant_basf': conda)"
  }
 },
 "nbformat": 4,
 "nbformat_minor": 2
}