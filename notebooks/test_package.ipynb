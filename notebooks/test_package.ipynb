{
 "cells": [
  {
   "cell_type": "code",
   "execution_count": 12,
   "metadata": {},
   "outputs": [],
   "source": [
    "import pygmo as pg\n",
    "import numpy as np\n",
    "def get_hypervolume(pareto_front: np.array, reference_vector: np.array) -> float:\n",
    "    \"\"\"Compute the hypervolume indicator of a Pareto front\"\"\"\n",
    "    hyp = pg.hypervolume(pareto_front)\n",
    "    volume = hyp.compute(reference_vector)  # uses 'auto' algorithm\n",
    "    return volume"
   ]
  },
  {
   "cell_type": "code",
   "execution_count": 14,
   "metadata": {},
   "outputs": [
    {
     "data": {
      "text/plain": [
       "1.0"
      ]
     },
     "execution_count": 14,
     "metadata": {},
     "output_type": "execute_result"
    }
   ],
   "source": [
    "get_hypervolume([[-1,-1]], [0,0])"
   ]
  },
  {
   "cell_type": "code",
   "execution_count": null,
   "metadata": {},
   "outputs": [],
   "source": []
  }
 ],
 "metadata": {
  "kernelspec": {
   "display_name": "Python [conda env:dispersant_basf] *",
   "language": "python",
   "name": "conda-env-dispersant_basf-py"
  },
  "language_info": {
   "codemirror_mode": {
    "name": "ipython",
    "version": 3
   },
   "file_extension": ".py",
   "mimetype": "text/x-python",
   "name": "python",
   "nbconvert_exporter": "python",
   "pygments_lexer": "ipython3",
   "version": "3.7.0"
  }
 },
 "nbformat": 4,
 "nbformat_minor": 4
}
