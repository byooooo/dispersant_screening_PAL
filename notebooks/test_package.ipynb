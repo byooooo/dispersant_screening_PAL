{
 "cells": [
  {
   "cell_type": "markdown",
   "metadata": {},
   "source": [
    "This is to develop some test cases for the PAL function. "
   ]
  },
  {
   "cell_type": "code",
   "execution_count": 61,
   "metadata": {},
   "outputs": [
    {
     "name": "stderr",
     "output_type": "stream",
     "text": [
      "2020-06-17 10:05:47,434 matplotlib.pyplot DEBUG    Loaded backend module://ipykernel.pylab.backend_inline version unknown.\n"
     ]
    }
   ],
   "source": [
    "import matplotlib.pyplot as plt \n",
    "%matplotlib inline \n",
    "\n",
    "%load_ext autoreload\n",
    "%autoreload 2"
   ]
  },
  {
   "cell_type": "code",
   "execution_count": 62,
   "metadata": {},
   "outputs": [],
   "source": [
    "from sklearn.datasets import make_regression"
   ]
  },
  {
   "cell_type": "code",
   "execution_count": 185,
   "metadata": {},
   "outputs": [],
   "source": [
    "X,y =  make_regression(n_samples=100, n_features=2, n_informative=1, n_targets=1, noise=10)"
   ]
  },
  {
   "cell_type": "code",
   "execution_count": 186,
   "metadata": {},
   "outputs": [
    {
     "data": {
      "text/plain": [
       "<matplotlib.collections.PathCollection at 0x7f8718af4240>"
      ]
     },
     "execution_count": 186,
     "metadata": {},
     "output_type": "execute_result"
    },
    {
     "data": {
      "image/png": "[encoded data removed]",
      "text/plain": [
       "<Figure size 432x288 with 1 Axes>"
      ]
     },
     "metadata": {
      "needs_background": "light"
     },
     "output_type": "display_data"
    }
   ],
   "source": [
    "plt.scatter(X[:,0], y)"
   ]
  },
  {
   "cell_type": "markdown",
   "metadata": {},
   "source": [
    "Here, there is one optimal point."
   ]
  },
  {
   "cell_type": "code",
   "execution_count": 187,
   "metadata": {},
   "outputs": [],
   "source": [
    "import sys"
   ]
  },
  {
   "cell_type": "code",
   "execution_count": 188,
   "metadata": {},
   "outputs": [],
   "source": [
    "sys.path.append('../')"
   ]
  },
  {
   "cell_type": "code",
   "execution_count": 253,
   "metadata": {},
   "outputs": [],
   "source": [
    "from dispersant_screener.pal import pal\n",
    "from sklearn.gaussian_process import GaussianProcessRegressor\n",
    "from sklearn.gaussian_process.kernels import RBF, RationalQuadratic, Matern, RationalQuadratic\n",
    "from sklearn.preprocessing import StandardScaler"
   ]
  },
  {
   "cell_type": "code",
   "execution_count": 298,
   "metadata": {},
   "outputs": [],
   "source": [
    "gpr = GaussianProcessRegressor(kernel = RationalQuadratic(), normalize_y=True, n_restarts_optimizer=10)"
   ]
  },
  {
   "cell_type": "code",
   "execution_count": 299,
   "metadata": {},
   "outputs": [],
   "source": [
    "from sklearn.model_selection import train_test_split"
   ]
  },
  {
   "cell_type": "code",
   "execution_count": 300,
   "metadata": {},
   "outputs": [],
   "source": [
    "y = y.reshape(-1,1)"
   ]
  },
  {
   "cell_type": "code",
   "execution_count": 301,
   "metadata": {},
   "outputs": [],
   "source": [
    "sc = StandardScaler()"
   ]
  },
  {
   "cell_type": "code",
   "execution_count": 302,
   "metadata": {},
   "outputs": [],
   "source": [
    "X_train, X_test, y_train, y_test = train_test_split(X, y, train_size=0.1)"
   ]
  },
  {
   "cell_type": "code",
   "execution_count": 303,
   "metadata": {},
   "outputs": [],
   "source": [
    "X_train = sc.fit_transform(X_train)\n",
    "X_test = sc.transform(X_test)"
   ]
  },
  {
   "cell_type": "code",
   "execution_count": 304,
   "metadata": {},
   "outputs": [
    {
     "name": "stderr",
     "output_type": "stream",
     "text": [
      "2020-06-17 11:15:10,787 root         INFO     Starting now the PAL loop\n",
      "2020-06-17 11:15:10,787 root         INFO     Starting now the PAL loop\n",
      "2020-06-17 11:15:10,787 root         INFO     Starting now the PAL loop\n",
      "2020-06-17 11:15:10,787 root         INFO     Starting now the PAL loop\n",
      "2020-06-17 11:15:10,787 root         INFO     Starting now the PAL loop\n",
      "2020-06-17 11:15:10,787 root         INFO     Starting now the PAL loop\n",
      "2020-06-17 11:15:10,787 root         INFO     Starting now the PAL loop\n",
      "2020-06-17 11:15:10,787 root         INFO     Starting now the PAL loop\n",
      "2020-06-17 11:15:10,787 root         INFO     Starting now the PAL loop\n",
      "2020-06-17 11:15:10,787 root         INFO     Starting now the PAL loop\n",
      "2020-06-17 11:15:10,787 root         INFO     Starting now the PAL loop\n",
      "2020-06-17 11:15:10,787 root         INFO     Starting now the PAL loop\n",
      "2020-06-17 11:15:10,787 root         INFO     Starting now the PAL loop\n",
      "2020-06-17 11:15:10,787 root         INFO     Starting now the PAL loop\n",
      "2020-06-17 11:15:10,796 root         DEBUG    Will use the following settings\n",
      "2020-06-17 11:15:10,796 root         DEBUG    Will use the following settings\n",
      "2020-06-17 11:15:10,796 root         DEBUG    Will use the following settings\n",
      "2020-06-17 11:15:10,796 root         DEBUG    Will use the following settings\n",
      "2020-06-17 11:15:10,796 root         DEBUG    Will use the following settings\n",
      "2020-06-17 11:15:10,796 root         DEBUG    Will use the following settings\n",
      "2020-06-17 11:15:10,796 root         DEBUG    Will use the following settings\n",
      "2020-06-17 11:15:10,796 root         DEBUG    Will use the following settings\n",
      "2020-06-17 11:15:10,796 root         DEBUG    Will use the following settings\n",
      "2020-06-17 11:15:10,796 root         DEBUG    Will use the following settings\n",
      "2020-06-17 11:15:10,796 root         DEBUG    Will use the following settings\n",
      "2020-06-17 11:15:10,796 root         DEBUG    Will use the following settings\n",
      "2020-06-17 11:15:10,796 root         DEBUG    Will use the following settings\n",
      "2020-06-17 11:15:10,796 root         DEBUG    Will use the following settings\n",
      "2020-06-17 11:15:10,806 root         DEBUG    epsilon: 0.05, delta: 0.05, iterations: 500\n",
      "2020-06-17 11:15:10,806 root         DEBUG    epsilon: 0.05, delta: 0.05, iterations: 500\n",
      "2020-06-17 11:15:10,806 root         DEBUG    epsilon: 0.05, delta: 0.05, iterations: 500\n",
      "2020-06-17 11:15:10,806 root         DEBUG    epsilon: 0.05, delta: 0.05, iterations: 500\n",
      "2020-06-17 11:15:10,806 root         DEBUG    epsilon: 0.05, delta: 0.05, iterations: 500\n",
      "2020-06-17 11:15:10,806 root         DEBUG    epsilon: 0.05, delta: 0.05, iterations: 500\n",
      "2020-06-17 11:15:10,806 root         DEBUG    epsilon: 0.05, delta: 0.05, iterations: 500\n",
      "2020-06-17 11:15:10,806 root         DEBUG    epsilon: 0.05, delta: 0.05, iterations: 500\n",
      "2020-06-17 11:15:10,806 root         DEBUG    epsilon: 0.05, delta: 0.05, iterations: 500\n",
      "2020-06-17 11:15:10,806 root         DEBUG    epsilon: 0.05, delta: 0.05, iterations: 500\n",
      "2020-06-17 11:15:10,806 root         DEBUG    epsilon: 0.05, delta: 0.05, iterations: 500\n",
      "2020-06-17 11:15:10,806 root         DEBUG    epsilon: 0.05, delta: 0.05, iterations: 500\n",
      "2020-06-17 11:15:10,806 root         DEBUG    epsilon: 0.05, delta: 0.05, iterations: 500\n",
      "2020-06-17 11:15:10,806 root         DEBUG    epsilon: 0.05, delta: 0.05, iterations: 500\n",
      "2020-06-17 11:15:10,817 root         DEBUG    x_train shape: (10, 2), y_train shape: (10, 1)\n",
      "2020-06-17 11:15:10,817 root         DEBUG    x_train shape: (10, 2), y_train shape: (10, 1)\n",
      "2020-06-17 11:15:10,817 root         DEBUG    x_train shape: (10, 2), y_train shape: (10, 1)\n",
      "2020-06-17 11:15:10,817 root         DEBUG    x_train shape: (10, 2), y_train shape: (10, 1)\n",
      "2020-06-17 11:15:10,817 root         DEBUG    x_train shape: (10, 2), y_train shape: (10, 1)\n",
      "2020-06-17 11:15:10,817 root         DEBUG    x_train shape: (10, 2), y_train shape: (10, 1)\n",
      "2020-06-17 11:15:10,817 root         DEBUG    x_train shape: (10, 2), y_train shape: (10, 1)\n",
      "2020-06-17 11:15:10,817 root         DEBUG    x_train shape: (10, 2), y_train shape: (10, 1)\n",
      "2020-06-17 11:15:10,817 root         DEBUG    x_train shape: (10, 2), y_train shape: (10, 1)\n",
      "2020-06-17 11:15:10,817 root         DEBUG    x_train shape: (10, 2), y_train shape: (10, 1)\n",
      "2020-06-17 11:15:10,817 root         DEBUG    x_train shape: (10, 2), y_train shape: (10, 1)\n",
      "2020-06-17 11:15:10,817 root         DEBUG    x_train shape: (10, 2), y_train shape: (10, 1)\n",
      "2020-06-17 11:15:10,817 root         DEBUG    x_train shape: (10, 2), y_train shape: (10, 1)\n",
      "2020-06-17 11:15:10,817 root         DEBUG    x_train shape: (10, 2), y_train shape: (10, 1)\n",
      "\n",
      "\n",
      "\n",
      "  0%|          | 0/500 [00:00<?, ?it/s]\u001b[A\u001b[A\u001b[A2020-06-17 11:15:10,828 root         DEBUG    Starting iteration 1\n",
      "2020-06-17 11:15:10,828 root         DEBUG    Starting iteration 1\n",
      "2020-06-17 11:15:10,828 root         DEBUG    Starting iteration 1\n",
      "2020-06-17 11:15:10,828 root         DEBUG    Starting iteration 1\n",
      "2020-06-17 11:15:10,828 root         DEBUG    Starting iteration 1\n",
      "2020-06-17 11:15:10,828 root         DEBUG    Starting iteration 1\n",
      "2020-06-17 11:15:10,828 root         DEBUG    Starting iteration 1\n",
      "2020-06-17 11:15:10,828 root         DEBUG    Starting iteration 1\n",
      "2020-06-17 11:15:10,828 root         DEBUG    Starting iteration 1\n",
      "2020-06-17 11:15:10,828 root         DEBUG    Starting iteration 1\n",
      "2020-06-17 11:15:10,828 root         DEBUG    Starting iteration 1\n",
      "2020-06-17 11:15:10,828 root         DEBUG    Starting iteration 1\n",
      "2020-06-17 11:15:10,828 root         DEBUG    Starting iteration 1\n",
      "2020-06-17 11:15:10,828 root         DEBUG    Starting iteration 1\n",
      "2020-06-17 11:15:10,837 root         DEBUG    Starting modeling step, fitting the GPs\n",
      "2020-06-17 11:15:10,837 root         DEBUG    Starting modeling step, fitting the GPs\n",
      "2020-06-17 11:15:10,837 root         DEBUG    Starting modeling step, fitting the GPs\n",
      "2020-06-17 11:15:10,837 root         DEBUG    Starting modeling step, fitting the GPs\n",
      "2020-06-17 11:15:10,837 root         DEBUG    Starting modeling step, fitting the GPs\n",
      "2020-06-17 11:15:10,837 root         DEBUG    Starting modeling step, fitting the GPs\n",
      "2020-06-17 11:15:10,837 root         DEBUG    Starting modeling step, fitting the GPs\n",
      "2020-06-17 11:15:10,837 root         DEBUG    Starting modeling step, fitting the GPs\n",
      "2020-06-17 11:15:10,837 root         DEBUG    Starting modeling step, fitting the GPs\n",
      "2020-06-17 11:15:10,837 root         DEBUG    Starting modeling step, fitting the GPs\n",
      "2020-06-17 11:15:10,837 root         DEBUG    Starting modeling step, fitting the GPs\n",
      "2020-06-17 11:15:10,837 root         DEBUG    Starting modeling step, fitting the GPs\n",
      "2020-06-17 11:15:10,837 root         DEBUG    Starting modeling step, fitting the GPs\n",
      "2020-06-17 11:15:10,837 root         DEBUG    Starting modeling step, fitting the GPs\n",
      "2020-06-17 11:15:10,984 root         DEBUG    Scaling parameter beta at the current iteration is 15.986484492710002\n",
      "2020-06-17 11:15:10,984 root         DEBUG    Scaling parameter beta at the current iteration is 15.986484492710002\n",
      "2020-06-17 11:15:10,984 root         DEBUG    Scaling parameter beta at the current iteration is 15.986484492710002\n",
      "2020-06-17 11:15:10,984 root         DEBUG    Scaling parameter beta at the current iteration is 15.986484492710002\n",
      "2020-06-17 11:15:10,984 root         DEBUG    Scaling parameter beta at the current iteration is 15.986484492710002\n",
      "2020-06-17 11:15:10,984 root         DEBUG    Scaling parameter beta at the current iteration is 15.986484492710002\n",
      "2020-06-17 11:15:10,984 root         DEBUG    Scaling parameter beta at the current iteration is 15.986484492710002\n",
      "2020-06-17 11:15:10,984 root         DEBUG    Scaling parameter beta at the current iteration is 15.986484492710002\n",
      "2020-06-17 11:15:10,984 root         DEBUG    Scaling parameter beta at the current iteration is 15.986484492710002\n",
      "2020-06-17 11:15:10,984 root         DEBUG    Scaling parameter beta at the current iteration is 15.986484492710002\n",
      "2020-06-17 11:15:10,984 root         DEBUG    Scaling parameter beta at the current iteration is 15.986484492710002\n",
      "2020-06-17 11:15:10,984 root         DEBUG    Scaling parameter beta at the current iteration is 15.986484492710002\n"
     ]
    },
    {
     "name": "stderr",
     "output_type": "stream",
     "text": [
      "2020-06-17 11:15:10,984 root         DEBUG    Scaling parameter beta at the current iteration is 15.986484492710002\n",
      "2020-06-17 11:15:10,984 root         DEBUG    Scaling parameter beta at the current iteration is 15.986484492710002\n",
      "2020-06-17 11:15:10,993 root         DEBUG    mean array shape: (90, 1), std array shape: (90, 1)\n",
      "2020-06-17 11:15:10,993 root         DEBUG    mean array shape: (90, 1), std array shape: (90, 1)\n",
      "2020-06-17 11:15:10,993 root         DEBUG    mean array shape: (90, 1), std array shape: (90, 1)\n",
      "2020-06-17 11:15:10,993 root         DEBUG    mean array shape: (90, 1), std array shape: (90, 1)\n",
      "2020-06-17 11:15:10,993 root         DEBUG    mean array shape: (90, 1), std array shape: (90, 1)\n",
      "2020-06-17 11:15:10,993 root         DEBUG    mean array shape: (90, 1), std array shape: (90, 1)\n",
      "2020-06-17 11:15:10,993 root         DEBUG    mean array shape: (90, 1), std array shape: (90, 1)\n",
      "2020-06-17 11:15:10,993 root         DEBUG    mean array shape: (90, 1), std array shape: (90, 1)\n",
      "2020-06-17 11:15:10,993 root         DEBUG    mean array shape: (90, 1), std array shape: (90, 1)\n",
      "2020-06-17 11:15:10,993 root         DEBUG    mean array shape: (90, 1), std array shape: (90, 1)\n",
      "2020-06-17 11:15:10,993 root         DEBUG    mean array shape: (90, 1), std array shape: (90, 1)\n",
      "2020-06-17 11:15:10,993 root         DEBUG    mean array shape: (90, 1), std array shape: (90, 1)\n",
      "2020-06-17 11:15:10,993 root         DEBUG    mean array shape: (90, 1), std array shape: (90, 1)\n",
      "2020-06-17 11:15:10,993 root         DEBUG    mean array shape: (90, 1), std array shape: (90, 1)\n",
      "2020-06-17 11:15:11,021 root         DEBUG    mean array shape: (90, 1), std array shape: (90, 1)\n",
      "2020-06-17 11:15:11,021 root         DEBUG    mean array shape: (90, 1), std array shape: (90, 1)\n",
      "2020-06-17 11:15:11,021 root         DEBUG    mean array shape: (90, 1), std array shape: (90, 1)\n",
      "2020-06-17 11:15:11,021 root         DEBUG    mean array shape: (90, 1), std array shape: (90, 1)\n",
      "2020-06-17 11:15:11,021 root         DEBUG    mean array shape: (90, 1), std array shape: (90, 1)\n",
      "2020-06-17 11:15:11,021 root         DEBUG    mean array shape: (90, 1), std array shape: (90, 1)\n",
      "2020-06-17 11:15:11,021 root         DEBUG    mean array shape: (90, 1), std array shape: (90, 1)\n",
      "2020-06-17 11:15:11,021 root         DEBUG    mean array shape: (90, 1), std array shape: (90, 1)\n",
      "2020-06-17 11:15:11,021 root         DEBUG    mean array shape: (90, 1), std array shape: (90, 1)\n",
      "2020-06-17 11:15:11,021 root         DEBUG    mean array shape: (90, 1), std array shape: (90, 1)\n",
      "2020-06-17 11:15:11,021 root         DEBUG    mean array shape: (90, 1), std array shape: (90, 1)\n",
      "2020-06-17 11:15:11,021 root         DEBUG    mean array shape: (90, 1), std array shape: (90, 1)\n",
      "2020-06-17 11:15:11,021 root         DEBUG    mean array shape: (90, 1), std array shape: (90, 1)\n",
      "2020-06-17 11:15:11,021 root         DEBUG    mean array shape: (90, 1), std array shape: (90, 1)\n",
      "2020-06-17 11:15:11,066 root         DEBUG    lows shape (90, 1), ups shape (90, 1)\n",
      "2020-06-17 11:15:11,066 root         DEBUG    lows shape (90, 1), ups shape (90, 1)\n",
      "2020-06-17 11:15:11,066 root         DEBUG    lows shape (90, 1), ups shape (90, 1)\n",
      "2020-06-17 11:15:11,066 root         DEBUG    lows shape (90, 1), ups shape (90, 1)\n",
      "2020-06-17 11:15:11,066 root         DEBUG    lows shape (90, 1), ups shape (90, 1)\n",
      "2020-06-17 11:15:11,066 root         DEBUG    lows shape (90, 1), ups shape (90, 1)\n",
      "2020-06-17 11:15:11,066 root         DEBUG    lows shape (90, 1), ups shape (90, 1)\n",
      "2020-06-17 11:15:11,066 root         DEBUG    lows shape (90, 1), ups shape (90, 1)\n",
      "2020-06-17 11:15:11,066 root         DEBUG    lows shape (90, 1), ups shape (90, 1)\n",
      "2020-06-17 11:15:11,066 root         DEBUG    lows shape (90, 1), ups shape (90, 1)\n",
      "2020-06-17 11:15:11,066 root         DEBUG    lows shape (90, 1), ups shape (90, 1)\n",
      "2020-06-17 11:15:11,066 root         DEBUG    lows shape (90, 1), ups shape (90, 1)\n",
      "2020-06-17 11:15:11,066 root         DEBUG    lows shape (90, 1), ups shape (90, 1)\n",
      "2020-06-17 11:15:11,066 root         DEBUG    lows shape (90, 1), ups shape (90, 1)\n",
      "2020-06-17 11:15:11,087 root         DEBUG    rectangle lows shape (90, 1), rectangle ups shape (90, 1)\n",
      "2020-06-17 11:15:11,087 root         DEBUG    rectangle lows shape (90, 1), rectangle ups shape (90, 1)\n",
      "2020-06-17 11:15:11,087 root         DEBUG    rectangle lows shape (90, 1), rectangle ups shape (90, 1)\n",
      "2020-06-17 11:15:11,087 root         DEBUG    rectangle lows shape (90, 1), rectangle ups shape (90, 1)\n",
      "2020-06-17 11:15:11,087 root         DEBUG    rectangle lows shape (90, 1), rectangle ups shape (90, 1)\n",
      "2020-06-17 11:15:11,087 root         DEBUG    rectangle lows shape (90, 1), rectangle ups shape (90, 1)\n",
      "2020-06-17 11:15:11,087 root         DEBUG    rectangle lows shape (90, 1), rectangle ups shape (90, 1)\n",
      "2020-06-17 11:15:11,087 root         DEBUG    rectangle lows shape (90, 1), rectangle ups shape (90, 1)\n",
      "2020-06-17 11:15:11,087 root         DEBUG    rectangle lows shape (90, 1), rectangle ups shape (90, 1)\n",
      "2020-06-17 11:15:11,087 root         DEBUG    rectangle lows shape (90, 1), rectangle ups shape (90, 1)\n",
      "2020-06-17 11:15:11,087 root         DEBUG    rectangle lows shape (90, 1), rectangle ups shape (90, 1)\n",
      "2020-06-17 11:15:11,087 root         DEBUG    rectangle lows shape (90, 1), rectangle ups shape (90, 1)\n",
      "2020-06-17 11:15:11,087 root         DEBUG    rectangle lows shape (90, 1), rectangle ups shape (90, 1)\n",
      "2020-06-17 11:15:11,087 root         DEBUG    rectangle lows shape (90, 1), rectangle ups shape (90, 1)\n",
      "2020-06-17 11:15:11,130 root         INFO     Iteration 1 | Pareto optimal 0, not Pareto optimal 88, unclassified 2, hypervolume: nan\n",
      "2020-06-17 11:15:11,130 root         INFO     Iteration 1 | Pareto optimal 0, not Pareto optimal 88, unclassified 2, hypervolume: nan\n",
      "2020-06-17 11:15:11,130 root         INFO     Iteration 1 | Pareto optimal 0, not Pareto optimal 88, unclassified 2, hypervolume: nan\n",
      "2020-06-17 11:15:11,130 root         INFO     Iteration 1 | Pareto optimal 0, not Pareto optimal 88, unclassified 2, hypervolume: nan\n",
      "2020-06-17 11:15:11,130 root         INFO     Iteration 1 | Pareto optimal 0, not Pareto optimal 88, unclassified 2, hypervolume: nan\n",
      "2020-06-17 11:15:11,130 root         INFO     Iteration 1 | Pareto optimal 0, not Pareto optimal 88, unclassified 2, hypervolume: nan\n",
      "2020-06-17 11:15:11,130 root         INFO     Iteration 1 | Pareto optimal 0, not Pareto optimal 88, unclassified 2, hypervolume: nan\n",
      "2020-06-17 11:15:11,130 root         INFO     Iteration 1 | Pareto optimal 0, not Pareto optimal 88, unclassified 2, hypervolume: nan\n",
      "2020-06-17 11:15:11,130 root         INFO     Iteration 1 | Pareto optimal 0, not Pareto optimal 88, unclassified 2, hypervolume: nan\n",
      "2020-06-17 11:15:11,130 root         INFO     Iteration 1 | Pareto optimal 0, not Pareto optimal 88, unclassified 2, hypervolume: nan\n",
      "2020-06-17 11:15:11,130 root         INFO     Iteration 1 | Pareto optimal 0, not Pareto optimal 88, unclassified 2, hypervolume: nan\n",
      "2020-06-17 11:15:11,130 root         INFO     Iteration 1 | Pareto optimal 0, not Pareto optimal 88, unclassified 2, hypervolume: nan\n",
      "2020-06-17 11:15:11,130 root         INFO     Iteration 1 | Pareto optimal 0, not Pareto optimal 88, unclassified 2, hypervolume: nan\n",
      "2020-06-17 11:15:11,130 root         INFO     Iteration 1 | Pareto optimal 0, not Pareto optimal 88, unclassified 2, hypervolume: nan\n",
      "\n",
      "\n",
      "\n",
      "  0%|          | 1/500 [00:00<02:59,  2.78it/s]\u001b[A\u001b[A\u001b[A2020-06-17 11:15:11,202 root         DEBUG    Starting iteration 2\n",
      "2020-06-17 11:15:11,202 root         DEBUG    Starting iteration 2\n",
      "2020-06-17 11:15:11,202 root         DEBUG    Starting iteration 2\n",
      "2020-06-17 11:15:11,202 root         DEBUG    Starting iteration 2\n",
      "2020-06-17 11:15:11,202 root         DEBUG    Starting iteration 2\n",
      "2020-06-17 11:15:11,202 root         DEBUG    Starting iteration 2\n",
      "2020-06-17 11:15:11,202 root         DEBUG    Starting iteration 2\n",
      "2020-06-17 11:15:11,202 root         DEBUG    Starting iteration 2\n",
      "2020-06-17 11:15:11,202 root         DEBUG    Starting iteration 2\n",
      "2020-06-17 11:15:11,202 root         DEBUG    Starting iteration 2\n"
     ]
    },
    {
     "name": "stderr",
     "output_type": "stream",
     "text": [
      "2020-06-17 11:15:11,202 root         DEBUG    Starting iteration 2\n",
      "2020-06-17 11:15:11,202 root         DEBUG    Starting iteration 2\n",
      "2020-06-17 11:15:11,202 root         DEBUG    Starting iteration 2\n",
      "2020-06-17 11:15:11,202 root         DEBUG    Starting iteration 2\n",
      "2020-06-17 11:15:11,234 root         DEBUG    Starting modeling step, fitting the GPs\n",
      "2020-06-17 11:15:11,234 root         DEBUG    Starting modeling step, fitting the GPs\n",
      "2020-06-17 11:15:11,234 root         DEBUG    Starting modeling step, fitting the GPs\n",
      "2020-06-17 11:15:11,234 root         DEBUG    Starting modeling step, fitting the GPs\n",
      "2020-06-17 11:15:11,234 root         DEBUG    Starting modeling step, fitting the GPs\n",
      "2020-06-17 11:15:11,234 root         DEBUG    Starting modeling step, fitting the GPs\n",
      "2020-06-17 11:15:11,234 root         DEBUG    Starting modeling step, fitting the GPs\n",
      "2020-06-17 11:15:11,234 root         DEBUG    Starting modeling step, fitting the GPs\n",
      "2020-06-17 11:15:11,234 root         DEBUG    Starting modeling step, fitting the GPs\n",
      "2020-06-17 11:15:11,234 root         DEBUG    Starting modeling step, fitting the GPs\n",
      "2020-06-17 11:15:11,234 root         DEBUG    Starting modeling step, fitting the GPs\n",
      "2020-06-17 11:15:11,234 root         DEBUG    Starting modeling step, fitting the GPs\n",
      "2020-06-17 11:15:11,234 root         DEBUG    Starting modeling step, fitting the GPs\n",
      "2020-06-17 11:15:11,234 root         DEBUG    Starting modeling step, fitting the GPs\n",
      "2020-06-17 11:15:11,422 root         DEBUG    Scaling parameter beta at the current iteration is 18.759073214949783\n",
      "2020-06-17 11:15:11,422 root         DEBUG    Scaling parameter beta at the current iteration is 18.759073214949783\n",
      "2020-06-17 11:15:11,422 root         DEBUG    Scaling parameter beta at the current iteration is 18.759073214949783\n",
      "2020-06-17 11:15:11,422 root         DEBUG    Scaling parameter beta at the current iteration is 18.759073214949783\n",
      "2020-06-17 11:15:11,422 root         DEBUG    Scaling parameter beta at the current iteration is 18.759073214949783\n",
      "2020-06-17 11:15:11,422 root         DEBUG    Scaling parameter beta at the current iteration is 18.759073214949783\n",
      "2020-06-17 11:15:11,422 root         DEBUG    Scaling parameter beta at the current iteration is 18.759073214949783\n",
      "2020-06-17 11:15:11,422 root         DEBUG    Scaling parameter beta at the current iteration is 18.759073214949783\n",
      "2020-06-17 11:15:11,422 root         DEBUG    Scaling parameter beta at the current iteration is 18.759073214949783\n",
      "2020-06-17 11:15:11,422 root         DEBUG    Scaling parameter beta at the current iteration is 18.759073214949783\n",
      "2020-06-17 11:15:11,422 root         DEBUG    Scaling parameter beta at the current iteration is 18.759073214949783\n",
      "2020-06-17 11:15:11,422 root         DEBUG    Scaling parameter beta at the current iteration is 18.759073214949783\n",
      "2020-06-17 11:15:11,422 root         DEBUG    Scaling parameter beta at the current iteration is 18.759073214949783\n",
      "2020-06-17 11:15:11,422 root         DEBUG    Scaling parameter beta at the current iteration is 18.759073214949783\n",
      "2020-06-17 11:15:11,501 root         DEBUG    mean array shape: (90, 1), std array shape: (90, 1)\n",
      "2020-06-17 11:15:11,501 root         DEBUG    mean array shape: (90, 1), std array shape: (90, 1)\n",
      "2020-06-17 11:15:11,501 root         DEBUG    mean array shape: (90, 1), std array shape: (90, 1)\n",
      "2020-06-17 11:15:11,501 root         DEBUG    mean array shape: (90, 1), std array shape: (90, 1)\n",
      "2020-06-17 11:15:11,501 root         DEBUG    mean array shape: (90, 1), std array shape: (90, 1)\n",
      "2020-06-17 11:15:11,501 root         DEBUG    mean array shape: (90, 1), std array shape: (90, 1)\n",
      "2020-06-17 11:15:11,501 root         DEBUG    mean array shape: (90, 1), std array shape: (90, 1)\n",
      "2020-06-17 11:15:11,501 root         DEBUG    mean array shape: (90, 1), std array shape: (90, 1)\n",
      "2020-06-17 11:15:11,501 root         DEBUG    mean array shape: (90, 1), std array shape: (90, 1)\n",
      "2020-06-17 11:15:11,501 root         DEBUG    mean array shape: (90, 1), std array shape: (90, 1)\n",
      "2020-06-17 11:15:11,501 root         DEBUG    mean array shape: (90, 1), std array shape: (90, 1)\n",
      "2020-06-17 11:15:11,501 root         DEBUG    mean array shape: (90, 1), std array shape: (90, 1)\n",
      "2020-06-17 11:15:11,501 root         DEBUG    mean array shape: (90, 1), std array shape: (90, 1)\n",
      "2020-06-17 11:15:11,501 root         DEBUG    mean array shape: (90, 1), std array shape: (90, 1)\n",
      "2020-06-17 11:15:11,544 root         DEBUG    mean array shape: (90, 1), std array shape: (90, 1)\n",
      "2020-06-17 11:15:11,544 root         DEBUG    mean array shape: (90, 1), std array shape: (90, 1)\n",
      "2020-06-17 11:15:11,544 root         DEBUG    mean array shape: (90, 1), std array shape: (90, 1)\n",
      "2020-06-17 11:15:11,544 root         DEBUG    mean array shape: (90, 1), std array shape: (90, 1)\n",
      "2020-06-17 11:15:11,544 root         DEBUG    mean array shape: (90, 1), std array shape: (90, 1)\n",
      "2020-06-17 11:15:11,544 root         DEBUG    mean array shape: (90, 1), std array shape: (90, 1)\n",
      "2020-06-17 11:15:11,544 root         DEBUG    mean array shape: (90, 1), std array shape: (90, 1)\n",
      "2020-06-17 11:15:11,544 root         DEBUG    mean array shape: (90, 1), std array shape: (90, 1)\n",
      "2020-06-17 11:15:11,544 root         DEBUG    mean array shape: (90, 1), std array shape: (90, 1)\n",
      "2020-06-17 11:15:11,544 root         DEBUG    mean array shape: (90, 1), std array shape: (90, 1)\n",
      "2020-06-17 11:15:11,544 root         DEBUG    mean array shape: (90, 1), std array shape: (90, 1)\n",
      "2020-06-17 11:15:11,544 root         DEBUG    mean array shape: (90, 1), std array shape: (90, 1)\n",
      "2020-06-17 11:15:11,544 root         DEBUG    mean array shape: (90, 1), std array shape: (90, 1)\n",
      "2020-06-17 11:15:11,544 root         DEBUG    mean array shape: (90, 1), std array shape: (90, 1)\n",
      "2020-06-17 11:15:11,586 root         DEBUG    lows shape (90, 1), ups shape (90, 1)\n",
      "2020-06-17 11:15:11,586 root         DEBUG    lows shape (90, 1), ups shape (90, 1)\n",
      "2020-06-17 11:15:11,586 root         DEBUG    lows shape (90, 1), ups shape (90, 1)\n",
      "2020-06-17 11:15:11,586 root         DEBUG    lows shape (90, 1), ups shape (90, 1)\n",
      "2020-06-17 11:15:11,586 root         DEBUG    lows shape (90, 1), ups shape (90, 1)\n",
      "2020-06-17 11:15:11,586 root         DEBUG    lows shape (90, 1), ups shape (90, 1)\n",
      "2020-06-17 11:15:11,586 root         DEBUG    lows shape (90, 1), ups shape (90, 1)\n",
      "2020-06-17 11:15:11,586 root         DEBUG    lows shape (90, 1), ups shape (90, 1)\n",
      "2020-06-17 11:15:11,586 root         DEBUG    lows shape (90, 1), ups shape (90, 1)\n",
      "2020-06-17 11:15:11,586 root         DEBUG    lows shape (90, 1), ups shape (90, 1)\n",
      "2020-06-17 11:15:11,586 root         DEBUG    lows shape (90, 1), ups shape (90, 1)\n",
      "2020-06-17 11:15:11,586 root         DEBUG    lows shape (90, 1), ups shape (90, 1)\n",
      "2020-06-17 11:15:11,586 root         DEBUG    lows shape (90, 1), ups shape (90, 1)\n",
      "2020-06-17 11:15:11,586 root         DEBUG    lows shape (90, 1), ups shape (90, 1)\n",
      "2020-06-17 11:15:11,616 root         DEBUG    first low: -15.525339432200724, first up: -10.028642283370106\n",
      "2020-06-17 11:15:11,616 root         DEBUG    first low: -15.525339432200724, first up: -10.028642283370106\n",
      "2020-06-17 11:15:11,616 root         DEBUG    first low: -15.525339432200724, first up: -10.028642283370106\n",
      "2020-06-17 11:15:11,616 root         DEBUG    first low: -15.525339432200724, first up: -10.028642283370106\n",
      "2020-06-17 11:15:11,616 root         DEBUG    first low: -15.525339432200724, first up: -10.028642283370106\n",
      "2020-06-17 11:15:11,616 root         DEBUG    first low: -15.525339432200724, first up: -10.028642283370106\n",
      "2020-06-17 11:15:11,616 root         DEBUG    first low: -15.525339432200724, first up: -10.028642283370106\n",
      "2020-06-17 11:15:11,616 root         DEBUG    first low: -15.525339432200724, first up: -10.028642283370106\n",
      "2020-06-17 11:15:11,616 root         DEBUG    first low: -15.525339432200724, first up: -10.028642283370106\n",
      "2020-06-17 11:15:11,616 root         DEBUG    first low: -15.525339432200724, first up: -10.028642283370106\n",
      "2020-06-17 11:15:11,616 root         DEBUG    first low: -15.525339432200724, first up: -10.028642283370106\n"
     ]
    },
    {
     "name": "stderr",
     "output_type": "stream",
     "text": [
      "2020-06-17 11:15:11,616 root         DEBUG    first low: -15.525339432200724, first up: -10.028642283370106\n",
      "2020-06-17 11:15:11,616 root         DEBUG    first low: -15.525339432200724, first up: -10.028642283370106\n",
      "2020-06-17 11:15:11,616 root         DEBUG    first low: -15.525339432200724, first up: -10.028642283370106\n",
      "2020-06-17 11:15:11,630 root         DEBUG    rectangle lows shape (90, 1), rectangle ups shape (90, 1)\n",
      "2020-06-17 11:15:11,630 root         DEBUG    rectangle lows shape (90, 1), rectangle ups shape (90, 1)\n",
      "2020-06-17 11:15:11,630 root         DEBUG    rectangle lows shape (90, 1), rectangle ups shape (90, 1)\n",
      "2020-06-17 11:15:11,630 root         DEBUG    rectangle lows shape (90, 1), rectangle ups shape (90, 1)\n",
      "2020-06-17 11:15:11,630 root         DEBUG    rectangle lows shape (90, 1), rectangle ups shape (90, 1)\n",
      "2020-06-17 11:15:11,630 root         DEBUG    rectangle lows shape (90, 1), rectangle ups shape (90, 1)\n",
      "2020-06-17 11:15:11,630 root         DEBUG    rectangle lows shape (90, 1), rectangle ups shape (90, 1)\n",
      "2020-06-17 11:15:11,630 root         DEBUG    rectangle lows shape (90, 1), rectangle ups shape (90, 1)\n",
      "2020-06-17 11:15:11,630 root         DEBUG    rectangle lows shape (90, 1), rectangle ups shape (90, 1)\n",
      "2020-06-17 11:15:11,630 root         DEBUG    rectangle lows shape (90, 1), rectangle ups shape (90, 1)\n",
      "2020-06-17 11:15:11,630 root         DEBUG    rectangle lows shape (90, 1), rectangle ups shape (90, 1)\n",
      "2020-06-17 11:15:11,630 root         DEBUG    rectangle lows shape (90, 1), rectangle ups shape (90, 1)\n",
      "2020-06-17 11:15:11,630 root         DEBUG    rectangle lows shape (90, 1), rectangle ups shape (90, 1)\n",
      "2020-06-17 11:15:11,630 root         DEBUG    rectangle lows shape (90, 1), rectangle ups shape (90, 1)\n",
      "2020-06-17 11:15:11,648 root         DEBUG    Upper limit Pareto: [56.15640011]\n",
      "2020-06-17 11:15:11,648 root         DEBUG    Upper limit Pareto: [56.15640011]\n",
      "2020-06-17 11:15:11,648 root         DEBUG    Upper limit Pareto: [56.15640011]\n",
      "2020-06-17 11:15:11,648 root         DEBUG    Upper limit Pareto: [56.15640011]\n",
      "2020-06-17 11:15:11,648 root         DEBUG    Upper limit Pareto: [56.15640011]\n",
      "2020-06-17 11:15:11,648 root         DEBUG    Upper limit Pareto: [56.15640011]\n",
      "2020-06-17 11:15:11,648 root         DEBUG    Upper limit Pareto: [56.15640011]\n",
      "2020-06-17 11:15:11,648 root         DEBUG    Upper limit Pareto: [56.15640011]\n",
      "2020-06-17 11:15:11,648 root         DEBUG    Upper limit Pareto: [56.15640011]\n",
      "2020-06-17 11:15:11,648 root         DEBUG    Upper limit Pareto: [56.15640011]\n",
      "2020-06-17 11:15:11,648 root         DEBUG    Upper limit Pareto: [56.15640011]\n",
      "2020-06-17 11:15:11,648 root         DEBUG    Upper limit Pareto: [56.15640011]\n",
      "2020-06-17 11:15:11,648 root         DEBUG    Upper limit Pareto: [56.15640011]\n",
      "2020-06-17 11:15:11,648 root         DEBUG    Upper limit Pareto: [56.15640011]\n",
      "2020-06-17 11:15:11,661 root         INFO     Iteration 2 | Pareto optimal 1, not Pareto optimal 89, unclassified 0, hypervolume: nan\n",
      "2020-06-17 11:15:11,661 root         INFO     Iteration 2 | Pareto optimal 1, not Pareto optimal 89, unclassified 0, hypervolume: nan\n",
      "2020-06-17 11:15:11,661 root         INFO     Iteration 2 | Pareto optimal 1, not Pareto optimal 89, unclassified 0, hypervolume: nan\n",
      "2020-06-17 11:15:11,661 root         INFO     Iteration 2 | Pareto optimal 1, not Pareto optimal 89, unclassified 0, hypervolume: nan\n",
      "2020-06-17 11:15:11,661 root         INFO     Iteration 2 | Pareto optimal 1, not Pareto optimal 89, unclassified 0, hypervolume: nan\n",
      "2020-06-17 11:15:11,661 root         INFO     Iteration 2 | Pareto optimal 1, not Pareto optimal 89, unclassified 0, hypervolume: nan\n",
      "2020-06-17 11:15:11,661 root         INFO     Iteration 2 | Pareto optimal 1, not Pareto optimal 89, unclassified 0, hypervolume: nan\n",
      "2020-06-17 11:15:11,661 root         INFO     Iteration 2 | Pareto optimal 1, not Pareto optimal 89, unclassified 0, hypervolume: nan\n",
      "2020-06-17 11:15:11,661 root         INFO     Iteration 2 | Pareto optimal 1, not Pareto optimal 89, unclassified 0, hypervolume: nan\n",
      "2020-06-17 11:15:11,661 root         INFO     Iteration 2 | Pareto optimal 1, not Pareto optimal 89, unclassified 0, hypervolume: nan\n",
      "2020-06-17 11:15:11,661 root         INFO     Iteration 2 | Pareto optimal 1, not Pareto optimal 89, unclassified 0, hypervolume: nan\n",
      "2020-06-17 11:15:11,661 root         INFO     Iteration 2 | Pareto optimal 1, not Pareto optimal 89, unclassified 0, hypervolume: nan\n",
      "2020-06-17 11:15:11,661 root         INFO     Iteration 2 | Pareto optimal 1, not Pareto optimal 89, unclassified 0, hypervolume: nan\n",
      "2020-06-17 11:15:11,661 root         INFO     Iteration 2 | Pareto optimal 1, not Pareto optimal 89, unclassified 0, hypervolume: nan\n",
      "\n",
      "\n",
      "\n",
      "  0%|          | 2/500 [00:00<03:31,  2.36it/s]\u001b[A\u001b[A\u001b[A\n"
     ]
    }
   ],
   "source": [
    "pareto_optimal, hypervolumes = pal([gpr], X_train, y_train, X_test, y_test, hv_reference=[10])"
   ]
  },
  {
   "cell_type": "code",
   "execution_count": 305,
   "metadata": {},
   "outputs": [
    {
     "data": {
      "text/plain": [
       "24"
      ]
     },
     "execution_count": 305,
     "metadata": {},
     "output_type": "execute_result"
    }
   ],
   "source": [
    "np.where(np.array(pareto_optimal)==1)[0][0]"
   ]
  },
  {
   "cell_type": "code",
   "execution_count": 306,
   "metadata": {},
   "outputs": [
    {
     "data": {
      "text/plain": [
       "array([88.03490442])"
      ]
     },
     "execution_count": 306,
     "metadata": {},
     "output_type": "execute_result"
    }
   ],
   "source": [
    "y_test[24]"
   ]
  },
  {
   "cell_type": "code",
   "execution_count": 307,
   "metadata": {},
   "outputs": [
    {
     "data": {
      "text/plain": [
       "160.82386849946823"
      ]
     },
     "execution_count": 307,
     "metadata": {},
     "output_type": "execute_result"
    }
   ],
   "source": [
    "np.max(y_test)"
   ]
  },
  {
   "cell_type": "code",
   "execution_count": 308,
   "metadata": {},
   "outputs": [
    {
     "data": {
      "text/plain": [
       "GaussianProcessRegressor(alpha=1e-10, copy_X_train=True,\n",
       "                         kernel=RationalQuadratic(alpha=1, length_scale=1),\n",
       "                         n_restarts_optimizer=10, normalize_y=True,\n",
       "                         optimizer='fmin_l_bfgs_b', random_state=None)"
      ]
     },
     "execution_count": 308,
     "metadata": {},
     "output_type": "execute_result"
    }
   ],
   "source": [
    "gpr.fit(X_train, y_train)"
   ]
  },
  {
   "cell_type": "code",
   "execution_count": 309,
   "metadata": {},
   "outputs": [],
   "source": [
    "y_pred = gpr.predict(X_test)"
   ]
  },
  {
   "cell_type": "code",
   "execution_count": 310,
   "metadata": {},
   "outputs": [
    {
     "data": {
      "text/plain": [
       "<matplotlib.collections.PathCollection at 0x7f871a39d4a8>"
      ]
     },
     "execution_count": 310,
     "metadata": {},
     "output_type": "execute_result"
    },
    {
     "data": {
      "image/png": "[encoded data removed]",
      "text/plain": [
       "<Figure size 432x288 with 1 Axes>"
      ]
     },
     "metadata": {
      "needs_background": "light"
     },
     "output_type": "display_data"
    }
   ],
   "source": [
    "plt.scatter(y_pred, y_test)"
   ]
  },
  {
   "cell_type": "code",
   "execution_count": null,
   "metadata": {},
   "outputs": [],
   "source": []
  }
 ],
 "metadata": {
  "kernelspec": {
   "display_name": "Python [conda env:dispersant_basf] *",
   "language": "python",
   "name": "conda-env-dispersant_basf-py"
  },
  "language_info": {
   "codemirror_mode": {
    "name": "ipython",
    "version": 3
   },
   "file_extension": ".py",
   "mimetype": "text/x-python",
   "name": "python",
   "nbconvert_exporter": "python",
   "pygments_lexer": "ipython3",
   "version": "3.7.0"
  }
 },
 "nbformat": 4,
 "nbformat_minor": 4
}
