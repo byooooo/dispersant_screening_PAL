{
 "cells": [
  {
   "cell_type": "markdown",
   "metadata": {},
   "source": [
    "# Run the search for dispersants using PyPAL"
   ]
  },
  {
   "cell_type": "code",
   "execution_count": 3,
   "metadata": {},
   "outputs": [],
   "source": [
    "from pypal import PALCoregionalized\n",
    "from pypal.models.gpr import build_coregionalized_model\n",
    "from pypal.pal.utils import get_maxmin_samples\n",
    "\n",
    "from sklearn.feature_selection import VarianceThreshold\n",
    "from sklearn.preprocessing import StandardScaler\n",
    "import pandas as pd\n",
    "import os\n",
    "import numpy as np \n",
    "\n",
    "DATADIR = '../data/'\n",
    "\n",
    "TARGETS = ['deltaGmin', 'A2_normalized']\n",
    "\n",
    "FEATURES = [\n",
    "    'num_[W]', 'max_[W]', 'num_[Tr]', 'max_[Tr]', 'num_[Ta]', 'max_[Ta]', 'num_[R]', 'max_[R]', '[W]', '[Tr]', '[Ta]',\n",
    "    '[R]', 'rel_shannon', 'length'\n",
    "]"
   ]
  },
  {
   "cell_type": "code",
   "execution_count": 4,
   "metadata": {},
   "outputs": [],
   "source": [
    "def load_data(n_samples, label_scaling: bool = False):\n",
    "    \"\"\"Take in Brian's data and spit out some numpy arrays for the PAL\"\"\"\n",
    "    df_full_factorial_feat = pd.read_csv(os.path.join(DATADIR, 'new_features_full_random.csv'))[FEATURES].values\n",
    "    a2 = pd.read_csv(os.path.join(DATADIR, 'b1-b21_random_virial_large_new.csv'))['A2_normalized'].values\n",
    "    deltaGMax = pd.read_csv(os.path.join(DATADIR, 'b1-b21_random_virial_large_new.csv'))['A2_normalized'].values  # pylint:disable=unused-variable\n",
    "    gibbs = pd.read_csv(os.path.join(DATADIR, 'b1-b21_random_deltaG.csv'))['deltaGmin'].values * (-1)\n",
    "    gibbs_max = pd.read_csv(os.path.join(DATADIR, 'b1-b21_random_virial_large_new.csv'))['deltaGmax'].values\n",
    "    force_max = pd.read_csv(os.path.join(DATADIR, 'b1-b21_random_virial_large_fit2.csv'))['F_repel_max'].values  # pylint:disable=unused-variable\n",
    "    rg = pd.read_csv(os.path.join(DATADIR, 'rg_results.csv'))['Rg'].values\n",
    "    y = np.hstack([rg.reshape(-1, 1), gibbs.reshape(-1, 1), gibbs_max.reshape(-1, 1)])\n",
    "    assert len(df_full_factorial_feat) == len(a2) == len(gibbs) == len(y)\n",
    "\n",
    "    vt = VarianceThreshold()\n",
    "    X = vt.fit_transform(df_full_factorial_feat)\n",
    "\n",
    "    feat_scaler = StandardScaler()\n",
    "    X = feat_scaler.fit_transform(X)\n",
    "\n",
    "    if label_scaling:\n",
    "        label_scaler = StandardScaler()\n",
    "        y = label_scaler.fit_transform(y)\n",
    "\n",
    "    X_train, y_train, greedy_indices = get_maxmin_samples(X, y, n_samples)\n",
    "\n",
    "    return X, y, greedy_indices"
   ]
  },
  {
   "cell_type": "code",
   "execution_count": 5,
   "metadata": {},
   "outputs": [],
   "source": [
    "n_samples = 100"
   ]
  },
  {
   "cell_type": "code",
   "execution_count": 6,
   "metadata": {},
   "outputs": [],
   "source": [
    "X, y, indices  = load_data(n_samples)\n",
    "\n",
    "\n",
    "m = [build_coregionalized_model(X, y)]"
   ]
  },
  {
   "cell_type": "code",
   "execution_count": 7,
   "metadata": {},
   "outputs": [],
   "source": [
    "pareto_optimal = []\n",
    "discarded = []"
   ]
  },
  {
   "cell_type": "code",
   "execution_count": 15,
   "metadata": {},
   "outputs": [
    {
     "name": "stderr",
     "output_type": "stream",
     "text": [
      " /Users/kevinmaikjablonka/Dropbox (LSMO)/Documents/open_source/PythonPAL/pypal/pal/validate_inputs.py:146: UserWarning:No goals provided,                 will assume that every dimension should be maximized\n"
     ]
    }
   ],
   "source": [
    "palinstance = PALCoregionalized(X, m, 3, beta_scale=1/6, epsilon=[0.05, 0.05, 0.05])"
   ]
  },
  {
   "cell_type": "code",
   "execution_count": 16,
   "metadata": {},
   "outputs": [],
   "source": [
    "palinstance.update_train_set(indices, y[indices])"
   ]
  },
  {
   "cell_type": "code",
   "execution_count": null,
   "metadata": {
    "collapsed": true,
    "jupyter": {
     "outputs_hidden": true
    }
   },
   "outputs": [
    {
     "name": "stderr",
     "output_type": "stream",
     "text": [
      " /Users/kevinmaikjablonka/opt/miniconda3/envs/PyPal/lib/python3.7/site-packages/paramz/transformations.py:111: RuntimeWarning:overflow encountered in expm1\n"
     ]
    },
    {
     "name": "stdout",
     "output_type": "stream",
     "text": [
      "Optimization restart 1/20, f = -432.85667668355785\n",
      "Optimization restart 2/20, f = -432.1124650375778\n",
      "Optimization restart 3/20, f = -431.9781724223013\n",
      "Optimization restart 4/20, f = -414.86786607593683\n",
      "Optimization restart 5/20, f = -430.58178219461905\n"
     ]
    },
    {
     "name": "stderr",
     "output_type": "stream",
     "text": [
      " /Users/kevinmaikjablonka/opt/miniconda3/envs/PyPal/lib/python3.7/site-packages/GPy/kern/src/stationary.py:166: RuntimeWarning:overflow encountered in true_divide\n",
      " /Users/kevinmaikjablonka/opt/miniconda3/envs/PyPal/lib/python3.7/site-packages/GPy/kern/src/stationary.py:137: RuntimeWarning:overflow encountered in square\n",
      " /Users/kevinmaikjablonka/opt/miniconda3/envs/PyPal/lib/python3.7/site-packages/GPy/kern/src/stationary.py:138: RuntimeWarning:invalid value encountered in add\n"
     ]
    },
    {
     "name": "stdout",
     "output_type": "stream",
     "text": [
      "Optimization restart 6/20, f = -431.5053118541259\n",
      "Optimization restart 7/20, f = -432.2799417444196\n"
     ]
    },
    {
     "name": "stderr",
     "output_type": "stream",
     "text": [
      " /Users/kevinmaikjablonka/opt/miniconda3/envs/PyPal/lib/python3.7/site-packages/GPy/kern/src/stationary.py:565: RuntimeWarning:invalid value encountered in multiply\n",
      " /Users/kevinmaikjablonka/opt/miniconda3/envs/PyPal/lib/python3.7/site-packages/GPy/kern/src/stationary.py:568: RuntimeWarning:invalid value encountered in subtract\n"
     ]
    },
    {
     "name": "stdout",
     "output_type": "stream",
     "text": [
      "Optimization restart 8/20, f = -431.25490093493437\n",
      "Optimization restart 9/20, f = -431.96362733989247\n",
      "Optimization restart 10/20, f = -432.4582432749563\n",
      "Optimization restart 11/20, f = -432.3338536415798\n",
      "Optimization restart 12/20, f = -430.91802818821895\n",
      "Optimization restart 13/20, f = -431.77048622140387\n",
      "Optimization restart 14/20, f = -430.9032897564181\n",
      "Optimization restart 15/20, f = -431.4934285883095\n",
      "Optimization restart 16/20, f = -432.1556886576966\n",
      "Optimization restart 17/20, f = -430.8031848468037\n",
      "Optimization restart 18/20, f = -429.6846573868791\n",
      "Optimization restart 19/20, f = -432.4438012139982\n",
      "Optimization restart 20/20, f = -432.3829362284903\n",
      "Optimization restart 1/20, f = -445.31930969878454\n",
      "Optimization restart 2/20, f = -444.203033908652\n",
      "Optimization restart 3/20, f = -444.5686632137766\n",
      "Optimization restart 4/20, f = -444.47521654334105\n",
      "Optimization restart 5/20, f = -402.67356292555655\n",
      "Optimization restart 6/20, f = -443.86567630671453\n",
      "Optimization restart 7/20, f = -444.9800512499738\n",
      "Optimization restart 8/20, f = -444.29964970668516\n",
      "Optimization restart 9/20, f = -444.75422860150246\n",
      "Optimization restart 10/20, f = -444.94471295202305\n",
      "Optimization restart 11/20, f = -444.68971360439133\n"
     ]
    },
    {
     "name": "stderr",
     "output_type": "stream",
     "text": [
      " /Users/kevinmaikjablonka/opt/miniconda3/envs/PyPal/lib/python3.7/site-packages/GPy/kern/src/stationary.py:243: RuntimeWarning:invalid value encountered in true_divide\n"
     ]
    },
    {
     "name": "stdout",
     "output_type": "stream",
     "text": [
      "Optimization restart 12/20, f = -431.91061890099127\n",
      "Optimization restart 13/20, f = -445.9064619375821\n",
      "Optimization restart 14/20, f = -444.59120471695803\n",
      "Optimization restart 15/20, f = -404.23094750968926\n",
      "Optimization restart 16/20, f = -405.4376568535362\n",
      "Optimization restart 17/20, f = -442.3270097097816\n",
      "Optimization restart 18/20, f = -443.7501822772981\n",
      "Optimization restart 19/20, f = -444.28709836466066\n",
      "Optimization restart 20/20, f = -395.5449359626949\n",
      "Optimization restart 1/20, f = -455.6943462323014\n",
      "Optimization restart 2/20, f = -454.3807804576156\n",
      "Optimization restart 3/20, f = -452.18931581700497\n",
      "Optimization restart 4/20, f = -452.54632790979264\n",
      "Optimization restart 5/20, f = -408.15169768267236\n",
      "Optimization restart 6/20, f = -454.4086646654191\n",
      "Optimization restart 7/20, f = -452.8610178355792\n",
      "Optimization restart 8/20, f = -433.7070084683705\n",
      "Optimization restart 9/20, f = -453.936270309805\n",
      "Optimization restart 10/20, f = -407.78108156884196\n",
      "Optimization restart 11/20, f = -454.62138182190665\n",
      "Optimization restart 12/20, f = -428.4126405182369\n",
      "Optimization restart 13/20, f = -455.02924187959405\n",
      "Optimization restart 14/20, f = -454.67587618330134\n",
      "Optimization restart 15/20, f = -454.6919507017027\n",
      "Optimization restart 16/20, f = -454.49654104774686\n",
      "Optimization restart 17/20, f = -454.4594528527721\n",
      "Optimization restart 18/20, f = -454.23613689359667\n",
      "Optimization restart 19/20, f = -454.4429716371203\n",
      "Optimization restart 20/20, f = -452.0206775987393\n",
      "Optimization restart 1/20, f = -477.9109786297562\n",
      "Optimization restart 2/20, f = -475.93329106270676\n",
      "Optimization restart 3/20, f = -477.31265408834935\n",
      "Optimization restart 4/20, f = -372.87881427440595\n",
      "Optimization restart 5/20, f = -476.2606485106196\n",
      "Optimization restart 6/20, f = -415.3907693128175\n",
      "Optimization restart 7/20, f = -476.2508191799173\n",
      "Optimization restart 8/20, f = -476.2583307466242\n",
      "Optimization restart 9/20, f = -478.3693817602435\n",
      "Optimization restart 10/20, f = -344.5222156723186\n",
      "Optimization restart 11/20, f = -476.46809038792014\n",
      "Optimization restart 12/20, f = -379.17632862619064\n",
      "Optimization restart 13/20, f = -477.2724892222759\n",
      "Optimization restart 14/20, f = -475.76176446711315\n",
      "Optimization restart 15/20, f = -476.9322930135012\n",
      "Optimization restart 16/20, f = -411.5265264154163\n",
      "Optimization restart 17/20, f = -478.16310300114435\n",
      "Optimization restart 18/20, f = -476.7243709445405\n",
      "Optimization restart 19/20, f = -475.4899892172136\n",
      "Optimization restart 20/20, f = -475.7227382701889\n",
      "Optimization restart 1/20, f = -524.6828049187079\n",
      "Optimization restart 2/20, f = -522.1386988309378\n",
      "Optimization restart 3/20, f = -522.6404889347697\n",
      "Optimization restart 4/20, f = -522.4784563918204\n",
      "Optimization restart 5/20, f = -518.7462340986569\n",
      "Optimization restart 6/20, f = -522.6599385624895\n",
      "Optimization restart 7/20, f = -521.7862559907874\n",
      "Optimization restart 8/20, f = -498.1317289221848\n",
      "Optimization restart 9/20, f = -522.1713649636606\n",
      "Optimization restart 10/20, f = -522.4392062894384\n",
      "Optimization restart 11/20, f = -522.5541479516316\n",
      "Optimization restart 12/20, f = -523.5684928906209\n",
      "Optimization restart 13/20, f = -518.542937390204\n",
      "Optimization restart 14/20, f = -442.507664527126\n",
      "Optimization restart 15/20, f = -522.9708817754267\n",
      "Optimization restart 16/20, f = -522.8651991321855\n",
      "Optimization restart 17/20, f = -522.3390063519395\n",
      "Optimization restart 18/20, f = -522.0209930592221\n",
      "Optimization restart 19/20, f = -522.2613941196266\n",
      "Optimization restart 20/20, f = -490.38189637696985\n",
      "Optimization restart 1/20, f = -610.7397383684165\n",
      "Optimization restart 2/20, f = -597.5464365421153\n",
      "Optimization restart 3/20, f = -604.9343264818287\n",
      "Optimization restart 4/20, f = -606.7257231664348\n",
      "Optimization restart 5/20, f = -608.9806752695229\n",
      "Optimization restart 6/20, f = -608.7328789636135\n",
      "Optimization restart 7/20, f = -603.153789477137\n",
      "Optimization restart 8/20, f = -607.0863178282955\n",
      "Optimization restart 9/20, f = -523.7971711357818\n",
      "Optimization restart 10/20, f = -605.2043351207675\n",
      "Optimization restart 11/20, f = -609.3542739653545\n",
      "Optimization restart 12/20, f = -609.5342311321396\n",
      "Optimization restart 13/20, f = -602.8238002479742\n",
      "Optimization restart 14/20, f = -607.2548543014069\n",
      "Optimization restart 15/20, f = -607.2730357700827\n",
      "Optimization restart 16/20, f = -542.6779319352595\n",
      "Optimization restart 17/20, f = -608.3900403082101\n",
      "Optimization restart 18/20, f = -607.0849267663245\n",
      "Optimization restart 19/20, f = -605.7853871812374\n",
      "Optimization restart 20/20, f = -569.0108105694749\n",
      "Optimization restart 1/20, f = -758.8801791264437\n",
      "Optimization restart 2/20, f = -750.5519133504324\n",
      "Optimization restart 3/20, f = -757.1080216620045\n",
      "Optimization restart 4/20, f = -754.7404302597083\n",
      "Optimization restart 5/20, f = -752.4327665474597\n",
      "Optimization restart 6/20, f = -744.0158800908656\n",
      "Optimization restart 7/20, f = -752.6673267301596\n",
      "Optimization restart 8/20, f = -755.152172501321\n",
      "Optimization restart 9/20, f = -640.9129976720307\n",
      "Optimization restart 10/20, f = -696.2561890049203\n",
      "Optimization restart 11/20, f = -723.5622574917977\n",
      "Optimization restart 12/20, f = -731.1998315217035\n",
      "Optimization restart 13/20, f = -746.9394427509278\n",
      "Optimization restart 14/20, f = -753.246126995841\n",
      "Optimization restart 15/20, f = -755.9969438222504\n",
      "Optimization restart 16/20, f = -757.0448682609745\n",
      "Optimization restart 17/20, f = -726.7830809400957\n",
      "Optimization restart 18/20, f = -754.8519806942115\n",
      "Optimization restart 19/20, f = -754.188694807968\n",
      "Optimization restart 20/20, f = -753.6045389955572\n",
      "Optimization restart 1/20, f = -999.4558017903084\n",
      "Optimization restart 2/20, f = -996.1961339724178\n",
      "Optimization restart 3/20, f = -971.6926048620785\n",
      "Optimization restart 4/20, f = -965.7668532308887\n",
      "Optimization restart 5/20, f = -994.8857549072918\n",
      "Optimization restart 6/20, f = -998.8060138007097\n",
      "Optimization restart 7/20, f = -988.8418434802567\n",
      "Optimization restart 8/20, f = -989.6406352592838\n",
      "Optimization restart 9/20, f = -996.222741744921\n",
      "Optimization restart 10/20, f = -989.897194257603\n",
      "Optimization restart 11/20, f = -994.822334172251\n",
      "Optimization restart 12/20, f = -996.6058489439396\n",
      "Optimization restart 13/20, f = -995.9332607933758\n",
      "Optimization restart 14/20, f = -996.692265597355\n"
     ]
    },
    {
     "name": "stderr",
     "output_type": "stream",
     "text": [
      " /Users/kevinmaikjablonka/opt/miniconda3/envs/PyPal/lib/python3.7/site-packages/GPy/kern/src/stationary.py:138: RuntimeWarning:overflow encountered in multiply\n",
      " /Users/kevinmaikjablonka/opt/miniconda3/envs/PyPal/lib/python3.7/site-packages/GPy/kern/src/stationary.py:138: RuntimeWarning:overflow encountered in add\n",
      " /Users/kevinmaikjablonka/opt/miniconda3/envs/PyPal/lib/python3.7/site-packages/GPy/kern/src/stationary.py:565: RuntimeWarning:overflow encountered in multiply\n",
      " /Users/kevinmaikjablonka/opt/miniconda3/envs/PyPal/lib/python3.7/site-packages/GPy/kern/src/stationary.py:568: RuntimeWarning:overflow encountered in multiply\n",
      " /Users/kevinmaikjablonka/opt/miniconda3/envs/PyPal/lib/python3.7/site-packages/GPy/kern/src/stationary.py:568: RuntimeWarning:invalid value encountered in multiply\n"
     ]
    },
    {
     "name": "stdout",
     "output_type": "stream",
     "text": [
      "Optimization restart 15/20, f = -995.0358983395002\n",
      "Optimization restart 16/20, f = -993.5916449412346\n",
      "Optimization restart 17/20, f = -974.1579406875023\n",
      "Optimization restart 18/20, f = -999.6480281326417\n",
      "Optimization restart 19/20, f = -987.8139846387792\n",
      "Optimization restart 20/20, f = -988.905233237075\n",
      "Optimization restart 1/20, f = -1460.8799751314214\n",
      "Optimization restart 2/20, f = -1457.3842480123656\n",
      "Optimization restart 3/20, f = -1457.470467523227\n",
      "Optimization restart 4/20, f = -1457.7045747178495\n",
      "Optimization restart 5/20, f = -1454.1892942012782\n",
      "Optimization restart 6/20, f = -1455.3081981286207\n",
      "Optimization restart 7/20, f = -1446.6898143484257\n",
      "Optimization restart 8/20, f = -1457.9722779585627\n",
      "Optimization restart 9/20, f = -1405.6289559547995\n",
      "Optimization restart 10/20, f = -1457.6571327853703\n",
      "Optimization restart 11/20, f = -1424.475961780121\n",
      "Optimization restart 12/20, f = -1455.532172429555\n",
      "Optimization restart 13/20, f = -1455.554922061876\n",
      "Optimization restart 14/20, f = -1458.5148022352441\n",
      "Optimization restart 15/20, f = -1453.212413765183\n",
      "Optimization restart 16/20, f = -1451.9351249471379\n",
      "Optimization restart 17/20, f = -1428.5591009455861\n",
      "Optimization restart 18/20, f = -1443.7001334095896\n",
      "Optimization restart 19/20, f = -1457.117582257777\n",
      "Optimization restart 20/20, f = -1459.6946267794006\n",
      "Optimization restart 1/20, f = -2337.821007937435\n",
      "Optimization restart 2/20, f = -2332.6478161073314\n",
      "Optimization restart 3/20, f = -2329.6366292481935\n",
      "Optimization restart 4/20, f = -2327.9035436771705\n",
      "Optimization restart 5/20, f = -2329.005650207881\n",
      "Optimization restart 6/20, f = -2321.27955777462\n",
      "Optimization restart 7/20, f = -2325.844052369397\n",
      "Optimization restart 8/20, f = -2325.49176100333\n",
      "Optimization restart 9/20, f = -2326.268814577422\n"
     ]
    }
   ],
   "source": [
    "while sum(palinstance.unclassified):\n",
    "    idx = palinstance.run_one_step()\n",
    "    pareto_optimal.append(palinstance.pareto_optimal_indices)\n",
    "    discarded.append(palinstance.discarded_indices)\n",
    "    if idx is not None:\n",
    "        palinstance.update_train_set(np.array([idx]), y[idx : idx + 1, :])\n",
    "    "
   ]
  },
  {
   "cell_type": "code",
   "execution_count": null,
   "metadata": {},
   "outputs": [],
   "source": []
  }
 ],
 "metadata": {
  "kernelspec": {
   "display_name": "Python 3",
   "language": "python",
   "name": "python3"
  },
  "language_info": {
   "codemirror_mode": {
    "name": "ipython",
    "version": 3
   },
   "file_extension": ".py",
   "mimetype": "text/x-python",
   "name": "python",
   "nbconvert_exporter": "python",
   "pygments_lexer": "ipython3",
   "version": "3.7.8"
  }
 },
 "nbformat": 4,
 "nbformat_minor": 4
}
